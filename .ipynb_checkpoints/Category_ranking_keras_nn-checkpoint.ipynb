{
 "cells": [
  {
   "cell_type": "code",
   "execution_count": 1,
   "metadata": {},
   "outputs": [],
   "source": [
    "data_folder = './reuters21578/'\n",
    "\n",
    "sgml_number_of_files = 21\n",
    "sgml_file_name_template = 'reut2-NNN.sgm'\n",
    "\n",
    "# Category files\n",
    "category_files = {\n",
    "    'to_': ('Topics', 'all-topics-strings.lc.txt'),\n",
    "    'pl_': ('Places', 'all-places-strings.lc.txt'),\n",
    "    'pe_': ('People', 'all-people-strings.lc.txt'),\n",
    "    'or_': ('Organizations', 'all-orgs-strings.lc.txt'),\n",
    "    'ex_': ('Exchanges', 'all-exchanges-strings.lc.txt')\n",
    "}\n"
   ]
  },
  {
   "cell_type": "code",
   "execution_count": 2,
   "metadata": {},
   "outputs": [],
   "source": [
    "import pandas as pd\n",
    "from nltk.corpus import stopwords\n",
    "from nltk.tokenize import word_tokenize\n",
    "from nltk.stem import WordNetLemmatizer"
   ]
  },
  {
   "cell_type": "code",
   "execution_count": 4,
   "metadata": {},
   "outputs": [],
   "source": [
    "\n",
    "\n",
    "# Read all categories\n",
    "category_data = []\n",
    "category_dictionary={'Topics':[],'Places':[],'People':[],'Organizations':[],'Exchanges':[]}\n",
    "for category_prefix in category_files.keys():\n",
    "    with open(data_folder + category_files[category_prefix][1], 'r') as file:\n",
    "        for category in file.readlines():\n",
    "            category_data.append([category_prefix + category.strip().lower(), \n",
    "                                  category_files[category_prefix][0]])\n",
    "\n",
    "# Create category dataframe\n",
    "for i in category_data:\n",
    "#     print(i[1])\n",
    "    category_dictionary[i[1]].append(i[0].split('_')[1])\n",
    "news_categories = pd.DataFrame(data=category_data)\n",
    "\n",
    "# print \"category_data: \", category_data\n",
    "#(news_categories.values).tolist()"
   ]
  },
  {
   "cell_type": "code",
   "execution_count": 5,
   "metadata": {},
   "outputs": [
    {
     "name": "stderr",
     "output_type": "stream",
     "text": [
      "Using TensorFlow backend.\n",
      "[nltk_data] Downloading package stopwords to /home/prabha/nltk_data...\n",
      "[nltk_data]   Package stopwords is already up-to-date!\n"
     ]
    },
    {
     "data": {
      "text/plain": [
       "True"
      ]
     },
     "execution_count": 5,
     "metadata": {},
     "output_type": "execute_result"
    }
   ],
   "source": [
    "import re\n",
    "import xml.sax.saxutils as saxutils\n",
    "from bs4 import BeautifulSoup\n",
    "from keras.preprocessing.text import Tokenizer\n",
    "from keras.preprocessing.sequence import pad_sequences\n",
    "import nltk\n",
    "nltk.download('stopwords')"
   ]
  },
  {
   "cell_type": "code",
   "execution_count": 6,
   "metadata": {},
   "outputs": [],
   "source": [
    "lemmatizer = WordNetLemmatizer()\n",
    "\n",
    "REPLACE_BY_SPACE_RE = re.compile('[/(){}\\[\\]\\|@,;\\\\n]')\n",
    "BAD_SYMBOLS_RE = re.compile('[^0-9a-z #+_]')\n",
    "STOPWORDS = set(stopwords.words('english'))\n",
    "\n",
    "def cleanUpSentence(r):#, stop_words = None#\n",
    "    r = r.lower().replace(\"<br />\", \" \")\n",
    "    r = REPLACE_BY_SPACE_RE.sub(' ', r)\n",
    "    r = BAD_SYMBOLS_RE.sub('', r)\n",
    "\n",
    "    r = ' '.join(word for word in r.split() if word not in STOPWORDS)\n",
    "\n",
    "    words = word_tokenize(r)\n",
    "\n",
    "    for w in words:\n",
    "        w = lemmatizer.lemmatize(w)\n",
    "\n",
    "    return r"
   ]
  },
  {
   "cell_type": "code",
   "execution_count": 7,
   "metadata": {},
   "outputs": [],
   "source": [
    "# Parse SGML files\n",
    "def strip_tags(text):\n",
    "    return re.sub('<[^<]+?>', '', text).strip()\n",
    "\n",
    "def unescape(text):\n",
    "    return saxutils.unescape(text)\n",
    "  \n",
    "def makeDict(filename, document_X, document_Y):\n",
    "  with open(filename, 'rb') as file:\n",
    "\n",
    "    content = BeautifulSoup(file.read().lower(),'html.parser')\n",
    "\n",
    "    for newsline in content('reuters'):\n",
    "      document_categories = []\n",
    "\n",
    "      document_id = newsline['newid']\n",
    "\n",
    "\n",
    "\n",
    "      document_body = strip_tags(str(newsline('text')[0].body)).replace('reuter\\n&#3;', '')\n",
    "      if document_body == 'None':\n",
    "        continue\n",
    "\n",
    "      doc_categories = strip_tags(str(newsline('topics')[0].body))\n",
    "      doc_categories = unescape(doc_categories)\n",
    "\n",
    "      document_body = unescape(document_body)\n",
    "\n",
    "      topics = newsline.topics.contents\n",
    "      places = newsline.places.contents\n",
    "      people = newsline.people.contents\n",
    "      orgs = newsline.orgs.contents\n",
    "      exchanges = newsline.exchanges.contents\n",
    "\n",
    "      for topic in topics:\n",
    "          document_categories.append('to_' + strip_tags(str(topic)))\n",
    "\n",
    "      for place in places:\n",
    "          document_categories.append('pl_' + strip_tags(str(place)))\n",
    "\n",
    "      for person in people:\n",
    "          document_categories.append('pe_' + strip_tags(str(person)))\n",
    "\n",
    "      for org in orgs:\n",
    "          document_categories.append('or_' + strip_tags(str(org)))\n",
    "\n",
    "      for exchange in exchanges:\n",
    "          document_categories.append('ex_' + strip_tags(str(exchange)))\n",
    "\n",
    "      document_X[document_id] = document_body\n",
    "      document_Y[document_id] = document_categories\n",
    "\n",
    "def readFiles(test_data = False):\n",
    "  document_X = {}\n",
    "  document_Y = {}\n",
    "  if test_data == True:\n",
    "    file_name = sgml_file_name_template.replace('NNN', '021')\n",
    "    filename = data_folder + file_name\n",
    "    makeDict(filename, document_X, document_Y)\n",
    "  else:\n",
    "    for i in range(sgml_number_of_files):\n",
    "      if i < 10:\n",
    "        seq = '00' + str(i)\n",
    "      else:\n",
    "        seq = '0' + str(i)\n",
    "\n",
    "      file_name = sgml_file_name_template.replace('NNN', seq)\n",
    "      print('Reading file: %s' % file_name)\n",
    "      filename = data_folder + file_name\n",
    "      makeDict(filename, document_X, document_Y)\n",
    "  return document_X, document_Y\n",
    "\n"
   ]
  },
  {
   "cell_type": "code",
   "execution_count": 8,
   "metadata": {},
   "outputs": [
    {
     "name": "stdout",
     "output_type": "stream",
     "text": [
      "Reading file: reut2-000.sgm\n",
      "Reading file: reut2-001.sgm\n",
      "Reading file: reut2-002.sgm\n",
      "Reading file: reut2-003.sgm\n",
      "Reading file: reut2-004.sgm\n",
      "Reading file: reut2-005.sgm\n",
      "Reading file: reut2-006.sgm\n",
      "Reading file: reut2-007.sgm\n",
      "Reading file: reut2-008.sgm\n",
      "Reading file: reut2-009.sgm\n",
      "Reading file: reut2-010.sgm\n",
      "Reading file: reut2-011.sgm\n",
      "Reading file: reut2-012.sgm\n",
      "Reading file: reut2-013.sgm\n",
      "Reading file: reut2-014.sgm\n",
      "Reading file: reut2-015.sgm\n",
      "Reading file: reut2-016.sgm\n",
      "Reading file: reut2-017.sgm\n",
      "Reading file: reut2-018.sgm\n",
      "Reading file: reut2-019.sgm\n",
      "Reading file: reut2-020.sgm\n"
     ]
    }
   ],
   "source": [
    "document_X, document_Y = readFiles()"
   ]
  },
  {
   "cell_type": "code",
   "execution_count": 9,
   "metadata": {},
   "outputs": [
    {
     "name": "stderr",
     "output_type": "stream",
     "text": [
      "[nltk_data] Downloading package punkt to /home/prabha/nltk_data...\n",
      "[nltk_data]   Package punkt is already up-to-date!\n",
      "[nltk_data] Downloading package wordnet to /home/prabha/nltk_data...\n",
      "[nltk_data]   Package wordnet is already up-to-date!\n"
     ]
    }
   ],
   "source": [
    "# data preprocessing\n",
    "import numpy as np\n",
    "\n",
    "nltk.download('punkt')\n",
    "nltk.download('wordnet')\n",
    "\n",
    "def create_x_matrix(document_X):\n",
    "    totalX = []\n",
    "    for i, doc in document_X.items():\n",
    "        totalX.append(cleanUpSentence(doc))\n",
    "    max_vocab_size = 200\n",
    "    input_tokenizer = Tokenizer(200)\n",
    "    input_tokenizer.fit_on_texts(totalX)\n",
    "    encoded_docs = input_tokenizer.texts_to_matrix(totalX, mode='count')\n",
    "    return totalX,encoded_docs"
   ]
  },
  {
   "cell_type": "code",
   "execution_count": 10,
   "metadata": {},
   "outputs": [],
   "source": [
    "totalX,encoded_docs=create_x_matrix(document_X)"
   ]
  },
  {
   "cell_type": "code",
   "execution_count": 11,
   "metadata": {},
   "outputs": [
    {
     "name": "stdout",
     "output_type": "stream",
     "text": [
      "showers continued throughout week bahia cocoa zone alleviating drought since early january improving prospects coming temporao although normal humidity levels restored comissaria smith said weekly review dry period means temporao late year arrivals week ended february 22 155 221 bags 60 kilos making cumulative total season 593 mln 581 stage last year seems cocoa delivered earlier consignment included arrivals figures comissaria smith said still doubt much old crop cocoa still available harvesting practically come end total bahia crop estimates around 64 mln bags sales standing almost 62 mln hundred thousand bags still hands farmers middlemen exporters processors doubts much cocoa would fit export shippers experiencing dificulties obtaining +bahia superior+ certificates view lower quality recent weeks farmers sold good part cocoa held consignment comissaria smith said spot bean prices rose 340 350 cruzados per arroba 15 kilos bean shippers reluctant offer nearby shipment limited sales booked march shipment 1 750 1 780 dlrs per tonne ports named new crop sales also light open ports june july going 1 850 1 880 dlrs 35 45 dlrs new york july aug sept 1 870 1 875 1 880 dlrs per tonne fob routine sales butter made march april sold 4 340 4 345 4 350 dlrs april may butter went 227 times new york may june july 4 400 4 415 dlrs aug sept 4 351 4 450 dlrs 227 228 times new york sept oct dec 4 480 dlrs 227 times new york dec comissaria smith said destinations us covertible currency areas uruguay open ports cake sales registered 785 995 dlrs march april 785 dlrs may 753 dlrs aug 039 times new york dec oct dec buyers us argentina uruguay convertible currency areas liquor sales limited march april selling 2 325 2 380 dlrs june july 2 375 dlrs 125 times new york july aug sept 2 400 dlrs 125 times new york sept oct dec 125 times new york dec comissaria smith said total bahia sales currently estimated 613 mln bags 1986 87 crop 106 mln bags 1987 88 crop final figures period february 28 expected published brazilian cocoa trade commission carnival ends midday february 27 reuter\n"
     ]
    }
   ],
   "source": [
    "print(totalX[0])"
   ]
  },
  {
   "cell_type": "code",
   "execution_count": 13,
   "metadata": {},
   "outputs": [],
   "source": [
    "words_in_body={}\n",
    "\n",
    "for i in range(len(totalX)):\n",
    "    words=totalX[i].split(' ')\n",
    "    words_in_body[i]=words    \n",
    "\n",
    "one_hot_label=[]\n",
    "for key,v in words_in_body.items():\n",
    "    dict_temp={'Topics':0,'Places':0,'People':0,'Exchanges':0,'Organizations':0}\n",
    "    for i in v:\n",
    "        if i in category_dictionary['Topics']:\n",
    "            dict_temp['Topics']+=1\n",
    "        if i in category_dictionary['Places']:\n",
    "            dict_temp['Places']+=1\n",
    "        if i in category_dictionary['People']:\n",
    "            dict_temp['People']+=1\n",
    "        if i in category_dictionary['Exchanges']:\n",
    "            dict_temp['Exchanges']+=1\n",
    "        if i in category_dictionary['Organizations']:\n",
    "            dict_temp['Organizations']+=1\n",
    "            \n",
    "    one_hot_label.append(dict_temp)\n",
    "    \n",
    "\n",
    "\n",
    "one_hot_label_list = []\n",
    "for i in one_hot_label:\n",
    "\n",
    "    one_hot_label_list.append(list(i.values()))\n",
    "\n"
   ]
  },
  {
   "cell_type": "code",
   "execution_count": 15,
   "metadata": {},
   "outputs": [
    {
     "name": "stdout",
     "output_type": "stream",
     "text": [
      "WARNING:tensorflow:From /home/prabha/.local/lib/python3.6/site-packages/tensorflow/python/framework/op_def_library.py:263: colocate_with (from tensorflow.python.framework.ops) is deprecated and will be removed in a future version.\n",
      "Instructions for updating:\n",
      "Colocations handled automatically by placer.\n",
      "WARNING:tensorflow:From /usr/local/lib/python3.6/dist-packages/keras/backend/tensorflow_backend.py:3445: calling dropout (from tensorflow.python.ops.nn_ops) with keep_prob is deprecated and will be removed in a future version.\n",
      "Instructions for updating:\n",
      "Please use `rate` instead of `keep_prob`. Rate should be set to `rate = 1 - keep_prob`.\n",
      "WARNING:tensorflow:From /home/prabha/.local/lib/python3.6/site-packages/tensorflow/python/ops/math_ops.py:3066: to_int32 (from tensorflow.python.ops.math_ops) is deprecated and will be removed in a future version.\n",
      "Instructions for updating:\n",
      "Use tf.cast instead.\n",
      "Train on 14866 samples, validate on 3717 samples\n",
      "Epoch 1/5\n",
      "14866/14866 [==============================] - 5s 314us/step - loss: 3.0898 - acc: 0.8015 - val_loss: 3.1661 - val_acc: 0.7791\n",
      "Epoch 2/5\n",
      "14866/14866 [==============================] - 4s 279us/step - loss: 2.7988 - acc: 0.8106 - val_loss: 3.2942 - val_acc: 0.7931\n",
      "Epoch 3/5\n",
      "14866/14866 [==============================] - 4s 276us/step - loss: 2.7401 - acc: 0.8128 - val_loss: 3.0871 - val_acc: 0.7858\n",
      "Epoch 4/5\n",
      "14866/14866 [==============================] - 4s 291us/step - loss: 2.6996 - acc: 0.8121 - val_loss: 3.0885 - val_acc: 0.7840\n",
      "Epoch 5/5\n",
      "14866/14866 [==============================] - 4s 289us/step - loss: 2.6630 - acc: 0.8151 - val_loss: 3.0936 - val_acc: 0.7920\n"
     ]
    },
    {
     "data": {
      "text/plain": [
       "<keras.callbacks.History at 0x7fc6dc3b08d0>"
      ]
     },
     "execution_count": 15,
     "metadata": {},
     "output_type": "execute_result"
    }
   ],
   "source": [
    "from keras.models import Sequential\n",
    "from keras.layers import Dense,Flatten, Dropout,Embedding\n",
    "nn = Sequential()\n",
    "max_vocab_size = 200\n",
    "nn.add(Embedding(200, 20, input_length=max_vocab_size))\n",
    "nn.add(Dense(10, activation=\"relu\", input_shape=(max_vocab_size,)))\n",
    "nn.add(Dropout(0.15))\n",
    "nn.add(Flatten())\n",
    "nn.add(Dense(5,activation=\"softmax\"))\n",
    "nn.compile(optimizer='adam', loss='categorical_crossentropy', metrics=['accuracy'])\n",
    "nn.fit(np.array(encoded_docs), np.array(one_hot_label_list), batch_size=16, epochs=5,\n",
    "          verbose=1, validation_split=0.2)"
   ]
  },
  {
   "cell_type": "code",
   "execution_count": 16,
   "metadata": {},
   "outputs": [
    {
     "name": "stdout",
     "output_type": "stream",
     "text": [
      "460\n"
     ]
    }
   ],
   "source": [
    "test_document_X, test_document_Y = readFiles(test_data=True)\n",
    "print(len(test_document_X))"
   ]
  },
  {
   "cell_type": "code",
   "execution_count": 17,
   "metadata": {},
   "outputs": [
    {
     "name": "stdout",
     "output_type": "stream",
     "text": [
      "[[0.5289742  0.3740299  0.08879944 0.00473904 0.00345753]\n",
      " [0.20531686 0.5939638  0.0498695  0.02645294 0.12439684]\n",
      " [0.55812854 0.21492183 0.04410257 0.14801714 0.03482986]\n",
      " ...\n",
      " [0.5380339  0.29014495 0.0777038  0.05469109 0.03942615]\n",
      " [0.43582794 0.18511991 0.28701806 0.05089775 0.0411363 ]\n",
      " [0.6868691  0.20857769 0.07307403 0.00896654 0.02251259]]\n"
     ]
    }
   ],
   "source": [
    "test_total_X,test_encoded_X= create_x_matrix(test_document_X)\n",
    "y = nn.predict(test_encoded_X)\n",
    "print (y)"
   ]
  },
  {
   "cell_type": "code",
   "execution_count": 18,
   "metadata": {},
   "outputs": [
    {
     "name": "stdout",
     "output_type": "stream",
     "text": [
      "[[('Topics', 0.5289742), ('Places', 0.3740299), ('Peoples', 0.08879944), ('Exchanges', 0.0047390447), ('Organizations', 0.003457532)], [('Places', 0.5939638), ('Topics', 0.20531686), ('Organizations', 0.12439684), ('Peoples', 0.049869496), ('Exchanges', 0.026452936)], [('Topics', 0.55812854), ('Places', 0.21492183), ('Exchanges', 0.14801714), ('Peoples', 0.044102572), ('Organizations', 0.034829862)], [('Topics', 0.38989785), ('Places', 0.38512734), ('Peoples', 0.18559949), ('Organizations', 0.033149447), ('Exchanges', 0.006225789)], [('Topics', 0.45054713), ('Exchanges', 0.2773328), ('Places', 0.19276984), ('Peoples', 0.040791314), ('Organizations', 0.03855897)], [('Topics', 0.53049135), ('Places', 0.33333418), ('Peoples', 0.07047834), ('Organizations', 0.03781279), ('Exchanges', 0.027883371)], [('Topics', 0.73232055), ('Places', 0.18433173), ('Organizations', 0.03916017), ('Peoples', 0.023246411), ('Exchanges', 0.020941123)], [('Topics', 0.681673), ('Places', 0.18715234), ('Organizations', 0.05287627), ('Peoples', 0.041046057), ('Exchanges', 0.037252367)], [('Topics', 0.8586176), ('Places', 0.10390334), ('Peoples', 0.017893696), ('Organizations', 0.009983351), ('Exchanges', 0.00960204)], [('Topics', 0.55806917), ('Places', 0.30065838), ('Peoples', 0.093809314), ('Organizations', 0.039531488), ('Exchanges', 0.007931614)], [('Topics', 0.8891937), ('Places', 0.078705706), ('Peoples', 0.014820156), ('Organizations', 0.01065025), ('Exchanges', 0.00663014)], [('Topics', 0.3589807), ('Exchanges', 0.33666626), ('Places', 0.21455954), ('Organizations', 0.045520756), ('Peoples', 0.04427283)], [('Topics', 0.8706562), ('Places', 0.09555245), ('Peoples', 0.014706551), ('Organizations', 0.0127493935), ('Exchanges', 0.0063354024)], [('Topics', 0.95018464), ('Places', 0.031955272), ('Peoples', 0.011018814), ('Exchanges', 0.0053847204), ('Organizations', 0.0014566607)], [('Topics', 0.69102806), ('Places', 0.22564723), ('Exchanges', 0.030303264), ('Peoples', 0.026879573), ('Organizations', 0.026141863)], [('Topics', 0.69690776), ('Places', 0.18998516), ('Peoples', 0.06570111), ('Exchanges', 0.03356629), ('Organizations', 0.013839655)], [('Topics', 0.55381656), ('Places', 0.2907433), ('Peoples', 0.10158818), ('Exchanges', 0.03387478), ('Organizations', 0.019977117)], [('Topics', 0.87328416), ('Places', 0.10351248), ('Organizations', 0.009498236), ('Exchanges', 0.0069946363), ('Peoples', 0.006710545)], [('Topics', 0.5246436), ('Places', 0.35105854), ('Organizations', 0.05363179), ('Exchanges', 0.03702147), ('Peoples', 0.03364459)], [('Topics', 0.65990704), ('Places', 0.22467825), ('Peoples', 0.05920254), ('Organizations', 0.03567818), ('Exchanges', 0.020533876)], [('Topics', 0.74325734), ('Places', 0.13998976), ('Peoples', 0.061223835), ('Exchanges', 0.032257173), ('Organizations', 0.023271991)], [('Topics', 0.4636497), ('Places', 0.3264452), ('Peoples', 0.15823244), ('Exchanges', 0.026972642), ('Organizations', 0.02469997)], [('Topics', 0.861572), ('Places', 0.1003318), ('Peoples', 0.016923789), ('Organizations', 0.010910866), ('Exchanges', 0.010261464)], [('Topics', 0.7504008), ('Places', 0.21359004), ('Exchanges', 0.0141098155), ('Peoples', 0.013989629), ('Organizations', 0.007909754)], [('Topics', 0.61672384), ('Places', 0.22213227), ('Organizations', 0.08005051), ('Peoples', 0.06705055), ('Exchanges', 0.014042828)], [('Topics', 0.41944146), ('Places', 0.41295478), ('Organizations', 0.08149728), ('Peoples', 0.05542025), ('Exchanges', 0.030686187)], [('Topics', 0.84625655), ('Places', 0.09355071), ('Organizations', 0.028735852), ('Peoples', 0.016996348), ('Exchanges', 0.014460611)], [('Topics', 0.62384546), ('Places', 0.23239213), ('Peoples', 0.073356956), ('Exchanges', 0.036386587), ('Organizations', 0.034018822)], [('Topics', 0.8722516), ('Places', 0.10899498), ('Peoples', 0.013313503), ('Exchanges', 0.004134501), ('Organizations', 0.0013056163)], [('Topics', 0.4671654), ('Places', 0.3443893), ('Peoples', 0.10671353), ('Exchanges', 0.042716987), ('Organizations', 0.039014697)], [('Topics', 0.64837533), ('Places', 0.27202237), ('Peoples', 0.053967834), ('Organizations', 0.015152904), ('Exchanges', 0.010481561)], [('Topics', 0.9376647), ('Places', 0.038345702), ('Organizations', 0.013039586), ('Peoples', 0.0069197696), ('Exchanges', 0.0040303194)], [('Topics', 0.89033604), ('Places', 0.07879501), ('Peoples', 0.015785903), ('Exchanges', 0.008966389), ('Organizations', 0.006116745)], [('Topics', 0.55473155), ('Places', 0.29408208), ('Peoples', 0.06540095), ('Organizations', 0.044684015), ('Exchanges', 0.04110148)], [('Topics', 0.80486083), ('Places', 0.1432328), ('Peoples', 0.03392834), ('Organizations', 0.00980588), ('Exchanges', 0.008172159)], [('Topics', 0.8000376), ('Places', 0.15796576), ('Peoples', 0.023901653), ('Exchanges', 0.012015738), ('Organizations', 0.0060792817)], [('Topics', 0.8385155), ('Places', 0.12519966), ('Peoples', 0.018847708), ('Exchanges', 0.011574532), ('Organizations', 0.005862603)], [('Topics', 0.80411077), ('Places', 0.12628275), ('Organizations', 0.03379866), ('Peoples', 0.028102875), ('Exchanges', 0.007704951)], [('Topics', 0.7980346), ('Places', 0.16265264), ('Peoples', 0.018521966), ('Organizations', 0.013452349), ('Exchanges', 0.007338466)], [('Topics', 0.9157343), ('Places', 0.066322915), ('Peoples', 0.0077630314), ('Exchanges', 0.005417387), ('Organizations', 0.0047624246)], [('Topics', 0.7328524), ('Places', 0.17358735), ('Peoples', 0.07049875), ('Exchanges', 0.016227892), ('Organizations', 0.006833629)], [('Topics', 0.7603569), ('Places', 0.17201705), ('Peoples', 0.038241167), ('Exchanges', 0.024668874), ('Organizations', 0.0047161025)], [('Topics', 0.49854234), ('Places', 0.31366554), ('Peoples', 0.08488396), ('Organizations', 0.053122837), ('Exchanges', 0.049785316)], [('Topics', 0.9037667), ('Places', 0.07888684), ('Peoples', 0.010699817), ('Exchanges', 0.003675606), ('Organizations', 0.002971049)], [('Topics', 0.42703927), ('Places', 0.29015625), ('Exchanges', 0.21047188), ('Peoples', 0.043891083), ('Organizations', 0.028441595)], [('Topics', 0.71105087), ('Places', 0.22306256), ('Peoples', 0.032765817), ('Exchanges', 0.024952052), ('Organizations', 0.008168706)], [('Topics', 0.7649178), ('Peoples', 0.121099226), ('Places', 0.065472074), ('Exchanges', 0.04136812), ('Organizations', 0.007142775)], [('Topics', 0.9464756), ('Places', 0.04330354), ('Peoples', 0.005901138), ('Exchanges', 0.0040281564), ('Organizations', 0.00029143822)], [('Topics', 0.60096073), ('Places', 0.2551854), ('Peoples', 0.070890374), ('Organizations', 0.039074764), ('Exchanges', 0.033888813)], [('Topics', 0.911631), ('Places', 0.062454525), ('Peoples', 0.011823754), ('Organizations', 0.008197792), ('Exchanges', 0.005892969)], [('Topics', 0.61909896), ('Places', 0.35673043), ('Peoples', 0.015338596), ('Organizations', 0.0072557265), ('Exchanges', 0.0015763731)], [('Topics', 0.7668189), ('Places', 0.19675599), ('Peoples', 0.016552502), ('Exchanges', 0.0113483835), ('Organizations', 0.008524293)], [('Topics', 0.7355302), ('Places', 0.1383486), ('Exchanges', 0.047811408), ('Peoples', 0.04037667), ('Organizations', 0.03793308)], [('Topics', 0.5168268), ('Places', 0.34133908), ('Peoples', 0.061037116), ('Exchanges', 0.04752465), ('Organizations', 0.033272292)], [('Topics', 0.5593362), ('Places', 0.27138484), ('Peoples', 0.09815174), ('Organizations', 0.047232874), ('Exchanges', 0.0238944)], [('Topics', 0.7560321), ('Places', 0.15936561), ('Peoples', 0.051166035), ('Exchanges', 0.020310657), ('Organizations', 0.013125682)], [('Topics', 0.7628817), ('Places', 0.16838346), ('Organizations', 0.030116007), ('Peoples', 0.021785095), ('Exchanges', 0.016833756)], [('Topics', 0.6420077), ('Places', 0.1942667), ('Peoples', 0.09513818), ('Organizations', 0.050352897), ('Exchanges', 0.018234406)], [('Topics', 0.81891394), ('Places', 0.12938763), ('Exchanges', 0.022551898), ('Peoples', 0.021411741), ('Organizations', 0.0077348463)], [('Peoples', 0.45282385), ('Topics', 0.30192056), ('Places', 0.17783846), ('Organizations', 0.04630402), ('Exchanges', 0.021113232)], [('Topics', 0.80963963), ('Places', 0.15075622), ('Peoples', 0.023605432), ('Organizations', 0.011157007), ('Exchanges', 0.0048417444)], [('Topics', 0.5709019), ('Places', 0.23457977), ('Peoples', 0.10327865), ('Organizations', 0.046921305), ('Exchanges', 0.044318378)], [('Topics', 0.6680257), ('Places', 0.21855761), ('Peoples', 0.05803033), ('Organizations', 0.031540517), ('Exchanges', 0.023845969)], [('Topics', 0.45517388), ('Places', 0.39937836), ('Peoples', 0.07608116), ('Exchanges', 0.037212297), ('Organizations', 0.03215428)], [('Topics', 0.73625183), ('Places', 0.18924588), ('Peoples', 0.03390216), ('Organizations', 0.024551282), ('Exchanges', 0.016048899)], [('Topics', 0.6789602), ('Places', 0.25226846), ('Peoples', 0.0572673), ('Exchanges', 0.00842053), ('Organizations', 0.003083601)], [('Topics', 0.6871768), ('Places', 0.22576071), ('Organizations', 0.040700193), ('Exchanges', 0.027346663), ('Peoples', 0.019015603)], [('Topics', 0.7255607), ('Places', 0.19674288), ('Peoples', 0.04308716), ('Exchanges', 0.024466017), ('Organizations', 0.010143235)], [('Topics', 0.8713771), ('Places', 0.10371635), ('Exchanges', 0.0094512515), ('Peoples', 0.009438106), ('Organizations', 0.006017168)], [('Topics', 0.64875084), ('Places', 0.25993615), ('Peoples', 0.048395857), ('Organizations', 0.025221964), ('Exchanges', 0.017695233)], [('Topics', 0.8269585), ('Places', 0.09976885), ('Exchanges', 0.02830458), ('Peoples', 0.027458265), ('Organizations', 0.017509783)], [('Topics', 0.7525075), ('Places', 0.1372489), ('Peoples', 0.041094292), ('Exchanges', 0.034877434), ('Organizations', 0.034271855)], [('Topics', 0.7223482), ('Places', 0.15621264), ('Exchanges', 0.043014377), ('Organizations', 0.04076058), ('Peoples', 0.037664223)], [('Topics', 0.77062404), ('Places', 0.12073403), ('Peoples', 0.042321533), ('Exchanges', 0.040559646), ('Organizations', 0.025760746)], [('Topics', 0.7775868), ('Places', 0.11354695), ('Peoples', 0.04951426), ('Exchanges', 0.030994358), ('Organizations', 0.028357638)], [('Topics', 0.6031106), ('Places', 0.29155356), ('Peoples', 0.07465548), ('Organizations', 0.020221567), ('Exchanges', 0.010458869)], [('Topics', 0.54546463), ('Places', 0.21658497), ('Exchanges', 0.15479931), ('Peoples', 0.050902236), ('Organizations', 0.032248836)], [('Topics', 0.72325397), ('Places', 0.14134218), ('Exchanges', 0.05213401), ('Peoples', 0.04260889), ('Organizations', 0.040660948)], [('Topics', 0.55546093), ('Places', 0.26159045), ('Organizations', 0.08545092), ('Peoples', 0.049531657), ('Exchanges', 0.047966085)], [('Topics', 0.7953308), ('Places', 0.09383693), ('Exchanges', 0.062087495), ('Peoples', 0.028663326), ('Organizations', 0.020081408)], [('Topics', 0.82892925), ('Places', 0.1361509), ('Peoples', 0.0141493445), ('Organizations', 0.012727805), ('Exchanges', 0.008042598)], [('Topics', 0.7503104), ('Places', 0.20066021), ('Peoples', 0.028363343), ('Exchanges', 0.0167954), ('Organizations', 0.003870567)], [('Topics', 0.4662357), ('Places', 0.31194305), ('Peoples', 0.09938096), ('Exchanges', 0.071823314), ('Organizations', 0.050616946)], [('Places', 0.43541235), ('Topics', 0.37259808), ('Peoples', 0.089922085), ('Organizations', 0.060231548), ('Exchanges', 0.041836005)], [('Topics', 0.7571291), ('Places', 0.1927377), ('Peoples', 0.032552693), ('Exchanges', 0.011065418), ('Organizations', 0.006515228)], [('Topics', 0.61573476), ('Places', 0.33513522), ('Peoples', 0.031281676), ('Organizations', 0.009387186), ('Exchanges', 0.008461219)], [('Topics', 0.5225755), ('Places', 0.3301061), ('Peoples', 0.11259792), ('Organizations', 0.022288496), ('Exchanges', 0.0124320155)], [('Topics', 0.9792357), ('Places', 0.014892687), ('Peoples', 0.0035116822), ('Exchanges', 0.0022549306), ('Organizations', 0.000104926374)], [('Topics', 0.63714194), ('Places', 0.19487295), ('Peoples', 0.06631802), ('Exchanges', 0.054573037), ('Organizations', 0.047094118)], [('Topics', 0.82955885), ('Places', 0.11425539), ('Peoples', 0.028692864), ('Organizations', 0.016226266), ('Exchanges', 0.01126657)], [('Topics', 0.85850763), ('Places', 0.11607037), ('Peoples', 0.014464219), ('Exchanges', 0.009001656), ('Organizations', 0.0019560908)], [('Topics', 0.46785784), ('Places', 0.38491872), ('Peoples', 0.084293455), ('Exchanges', 0.034605168), ('Organizations', 0.028324923)], [('Topics', 0.7634135), ('Places', 0.15137292), ('Peoples', 0.044401724), ('Exchanges', 0.023947595), ('Organizations', 0.016864244)], [('Topics', 0.892406), ('Places', 0.08555064), ('Peoples', 0.00997949), ('Organizations', 0.0064685447), ('Exchanges', 0.0055954675)], [('Topics', 0.6158136), ('Places', 0.2691375), ('Peoples', 0.07442026), ('Organizations', 0.02282129), ('Exchanges', 0.017807392)], [('Topics', 0.9179718), ('Places', 0.065864675), ('Peoples', 0.008253568), ('Exchanges', 0.007075105), ('Organizations', 0.0008347975)], [('Topics', 0.7089844), ('Places', 0.20630686), ('Peoples', 0.045102894), ('Organizations', 0.027937574), ('Exchanges', 0.011668325)], [('Topics', 0.93452704), ('Places', 0.05445788), ('Exchanges', 0.0068924227), ('Peoples', 0.0029253797), ('Organizations', 0.001197269)], [('Peoples', 0.61444), ('Places', 0.19402638), ('Topics', 0.15878509), ('Organizations', 0.02683777), ('Exchanges', 0.0059107416)], [('Topics', 0.7991116), ('Places', 0.1105091), ('Peoples', 0.070680715), ('Exchanges', 0.013301372), ('Organizations', 0.0063971556)], [('Topics', 0.8520731), ('Places', 0.10946287), ('Organizations', 0.0218689), ('Peoples', 0.011714821), ('Exchanges', 0.004880409)], [('Topics', 0.34632078), ('Places', 0.29748836), ('Organizations', 0.24280417), ('Peoples', 0.09382911), ('Exchanges', 0.019557577)], [('Topics', 0.47107163), ('Places', 0.29962915), ('Peoples', 0.104815096), ('Organizations', 0.076989904), ('Exchanges', 0.0474942)], [('Topics', 0.6715103), ('Places', 0.26655516), ('Peoples', 0.03262589), ('Exchanges', 0.017238533), ('Organizations', 0.0120701585)], [('Topics', 0.5777825), ('Places', 0.22041938), ('Peoples', 0.088593714), ('Organizations', 0.07313939), ('Exchanges', 0.04006507)], [('Topics', 0.54663575), ('Places', 0.28424367), ('Peoples', 0.12535757), ('Exchanges', 0.029645365), ('Organizations', 0.014117681)], [('Topics', 0.60773164), ('Places', 0.24712878), ('Peoples', 0.0855259), ('Organizations', 0.03233376), ('Exchanges', 0.02727997)], [('Topics', 0.78138953), ('Places', 0.11668555), ('Peoples', 0.061904524), ('Organizations', 0.02480013), ('Exchanges', 0.015220229)], [('Topics', 0.76832354), ('Places', 0.16338071), ('Exchanges', 0.02920415), ('Peoples', 0.024342924), ('Organizations', 0.0147486245)], [('Topics', 0.7449598), ('Places', 0.19431251), ('Peoples', 0.024225214), ('Organizations', 0.023454094), ('Exchanges', 0.013048478)], [('Topics', 0.6853228), ('Places', 0.19478513), ('Peoples', 0.107523076), ('Organizations', 0.0102702), ('Exchanges', 0.0020988241)], [('Topics', 0.8445875), ('Places', 0.07448989), ('Peoples', 0.034181908), ('Organizations', 0.026680266), ('Exchanges', 0.020060463)], [('Topics', 0.6040637), ('Places', 0.23150831), ('Peoples', 0.073968336), ('Organizations', 0.05399049), ('Exchanges', 0.036469154)], [('Topics', 0.57800794), ('Places', 0.28780195), ('Organizations', 0.055106726), ('Peoples', 0.048528284), ('Exchanges', 0.030555155)], [('Topics', 0.9013238), ('Places', 0.075121954), ('Organizations', 0.015133949), ('Exchanges', 0.004410718), ('Peoples', 0.004009648)], [('Topics', 0.8504249), ('Places', 0.11964725), ('Organizations', 0.012224659), ('Peoples', 0.0104660615), ('Exchanges', 0.007237202)], [('Topics', 0.56698114), ('Places', 0.29277033), ('Peoples', 0.060079593), ('Exchanges', 0.045210082), ('Organizations', 0.03495897)], [('Topics', 0.49781466), ('Places', 0.3984372), ('Peoples', 0.046831187), ('Organizations', 0.044197522), ('Exchanges', 0.012719382)], [('Topics', 0.43046945), ('Exchanges', 0.29690686), ('Places', 0.204778), ('Peoples', 0.04018668), ('Organizations', 0.027659077)], [('Topics', 0.7142062), ('Places', 0.19515073), ('Peoples', 0.038967103), ('Exchanges', 0.028709862), ('Organizations', 0.022966005)], [('Topics', 0.8614849), ('Places', 0.13008265), ('Peoples', 0.0047059567), ('Organizations', 0.0020484845), ('Exchanges', 0.0016779383)], [('Topics', 0.81394064), ('Places', 0.13909188), ('Exchanges', 0.015971035), ('Peoples', 0.015776427), ('Organizations', 0.01522012)], [('Topics', 0.5872423), ('Places', 0.26522708), ('Peoples', 0.057288736), ('Organizations', 0.055953775), ('Exchanges', 0.034288038)], [('Topics', 0.8476151), ('Places', 0.12719876), ('Peoples', 0.015717989), ('Exchanges', 0.004914739), ('Organizations', 0.0045534153)], [('Topics', 0.83854645), ('Places', 0.10525613), ('Peoples', 0.047922615), ('Exchanges', 0.007526491), ('Organizations', 0.00074829184)], [('Topics', 0.96007466), ('Places', 0.02608315), ('Peoples', 0.009016211), ('Organizations', 0.003718705), ('Exchanges', 0.0011072982)], [('Topics', 0.9375489), ('Places', 0.042276334), ('Peoples', 0.009354286), ('Exchanges', 0.007062191), ('Organizations', 0.003758389)], [('Topics', 0.4053765), ('Places', 0.37234256), ('Peoples', 0.1740178), ('Organizations', 0.029782603), ('Exchanges', 0.018480578)], [('Topics', 0.37541935), ('Places', 0.2608436), ('Exchanges', 0.23568276), ('Peoples', 0.08524388), ('Organizations', 0.04281036)], [('Topics', 0.49685925), ('Places', 0.38452893), ('Organizations', 0.054631993), ('Peoples', 0.04963363), ('Exchanges', 0.014346226)], [('Exchanges', 0.5741186), ('Topics', 0.19529235), ('Places', 0.1889585), ('Organizations', 0.022449277), ('Peoples', 0.01918122)], [('Topics', 0.5123766), ('Places', 0.3231528), ('Peoples', 0.08369794), ('Organizations', 0.056292225), ('Exchanges', 0.024480453)], [('Topics', 0.62286544), ('Places', 0.2895564), ('Peoples', 0.039168652), ('Organizations', 0.029003745), ('Exchanges', 0.019405771)], [('Topics', 0.464094), ('Places', 0.3178485), ('Peoples', 0.10141453), ('Exchanges', 0.06292559), ('Organizations', 0.0537174)], [('Topics', 0.54633373), ('Places', 0.22490819), ('Organizations', 0.11744456), ('Peoples', 0.10034191), ('Exchanges', 0.010971661)], [('Topics', 0.5031715), ('Places', 0.19276448), ('Exchanges', 0.14412032), ('Peoples', 0.12309957), ('Organizations', 0.036844034)], [('Topics', 0.5400959), ('Places', 0.28748956), ('Peoples', 0.07932822), ('Organizations', 0.051869817), ('Exchanges', 0.041216448)], [('Topics', 0.48506537), ('Places', 0.23901232), ('Exchanges', 0.19035266), ('Peoples', 0.06013485), ('Organizations', 0.025434835)], [('Topics', 0.94306535), ('Places', 0.043482907), ('Peoples', 0.00506395), ('Organizations', 0.005042192), ('Exchanges', 0.003345592)], [('Topics', 0.8869016), ('Places', 0.08131984), ('Peoples', 0.013743021), ('Organizations', 0.009090051), ('Exchanges', 0.008945424)], [('Topics', 0.8080959), ('Places', 0.14885539), ('Peoples', 0.017719848), ('Organizations', 0.013348315), ('Exchanges', 0.01198055)], [('Topics', 0.5454724), ('Places', 0.3219826), ('Peoples', 0.06685479), ('Exchanges', 0.038115114), ('Organizations', 0.027574986)], [('Topics', 0.5068712), ('Places', 0.44230965), ('Peoples', 0.02707827), ('Organizations', 0.013908351), ('Exchanges', 0.009832586)], [('Topics', 0.9351684), ('Places', 0.05291544), ('Peoples', 0.00495691), ('Exchanges', 0.003891872), ('Organizations', 0.0030673796)], [('Topics', 0.45408282), ('Places', 0.38796306), ('Peoples', 0.07588951), ('Organizations', 0.05489733), ('Exchanges', 0.027167337)], [('Topics', 0.901491), ('Places', 0.05693224), ('Peoples', 0.038607933), ('Exchanges', 0.0025791188), ('Organizations', 0.00038979016)], [('Topics', 0.8509266), ('Places', 0.10390199), ('Peoples', 0.030657927), ('Exchanges', 0.0116438605), ('Organizations', 0.002869628)], [('Topics', 0.51970065), ('Places', 0.3078326), ('Peoples', 0.07375449), ('Exchanges', 0.05202811), ('Organizations', 0.04668411)], [('Topics', 0.7788118), ('Places', 0.15203597), ('Peoples', 0.05055372), ('Exchanges', 0.017804446), ('Organizations', 0.0007940342)], [('Topics', 0.8452065), ('Places', 0.108497865), ('Peoples', 0.034307305), ('Organizations', 0.007547175), ('Exchanges', 0.0044411477)], [('Topics', 0.6004809), ('Places', 0.2675225), ('Peoples', 0.059272643), ('Exchanges', 0.051330943), ('Organizations', 0.021392968)], [('Topics', 0.81361634), ('Places', 0.09184052), ('Peoples', 0.049446993), ('Exchanges', 0.025372572), ('Organizations', 0.019723635)], [('Topics', 0.8412562), ('Places', 0.09395167), ('Peoples', 0.027506229), ('Exchanges', 0.022028502), ('Organizations', 0.015257302)], [('Topics', 0.6250447), ('Places', 0.25580242), ('Peoples', 0.0637866), ('Organizations', 0.039171897), ('Exchanges', 0.016194422)], [('Places', 0.44803855), ('Topics', 0.32900587), ('Peoples', 0.14833386), ('Organizations', 0.049713053), ('Exchanges', 0.024908638)], [('Topics', 0.5682687), ('Places', 0.2755454), ('Peoples', 0.09181559), ('Organizations', 0.03700055), ('Exchanges', 0.027369661)], [('Topics', 0.5101695), ('Places', 0.2652195), ('Organizations', 0.10587695), ('Peoples', 0.10005734), ('Exchanges', 0.018676668)], [('Topics', 0.65005386), ('Places', 0.20749633), ('Peoples', 0.05449389), ('Organizations', 0.047422435), ('Exchanges', 0.04053355)], [('Places', 0.46602952), ('Topics', 0.3225649), ('Peoples', 0.13337728), ('Exchanges', 0.06007692), ('Organizations', 0.017951367)], [('Topics', 0.89809155), ('Places', 0.07901829), ('Peoples', 0.013816422), ('Exchanges', 0.005292493), ('Organizations', 0.0037813138)], [('Topics', 0.87308913), ('Places', 0.09086893), ('Exchanges', 0.01490521), ('Peoples', 0.013493045), ('Organizations', 0.007643657)], [('Topics', 0.87372077), ('Places', 0.095831215), ('Peoples', 0.0144790355), ('Exchanges', 0.010668593), ('Organizations', 0.0053005163)], [('Topics', 0.7555298), ('Places', 0.1397914), ('Peoples', 0.09372067), ('Exchanges', 0.0090777995), ('Organizations', 0.0018802929)], [('Topics', 0.9696354), ('Places', 0.022473436), ('Peoples', 0.0044791014), ('Exchanges', 0.0031258524), ('Organizations', 0.00028619578)], [('Topics', 0.81322414), ('Places', 0.14613937), ('Peoples', 0.02221418), ('Exchanges', 0.010047705), ('Organizations', 0.00837451)], [('Topics', 0.853012), ('Places', 0.12647411), ('Peoples', 0.011381235), ('Exchanges', 0.0052934317), ('Organizations', 0.0038392367)], [('Topics', 0.8833169), ('Places', 0.07980925), ('Peoples', 0.023042839), ('Exchanges', 0.011693139), ('Organizations', 0.002137856)], [('Topics', 0.3790152), ('Places', 0.33274233), ('Organizations', 0.1635265), ('Peoples', 0.062437017), ('Exchanges', 0.062278856)], [('Topics', 0.84219843), ('Places', 0.1297237), ('Organizations', 0.011259745), ('Peoples', 0.009750447), ('Exchanges', 0.007067731)], [('Topics', 0.49467975), ('Places', 0.3449587), ('Peoples', 0.09080598), ('Exchanges', 0.035532918), ('Organizations', 0.03402269)], [('Topics', 0.74392605), ('Places', 0.11736206), ('Exchanges', 0.11636261), ('Organizations', 0.011563752), ('Peoples', 0.010785635)], [('Topics', 0.58285844), ('Places', 0.27015242), ('Peoples', 0.11255058), ('Exchanges', 0.017621381), ('Organizations', 0.016817218)], [('Topics', 0.80469686), ('Places', 0.11004346), ('Peoples', 0.06898406), ('Exchanges', 0.010167471), ('Organizations', 0.006108243)], [('Topics', 0.82609594), ('Places', 0.13085243), ('Exchanges', 0.016590573), ('Peoples', 0.015377974), ('Organizations', 0.011083092)], [('Topics', 0.80134636), ('Places', 0.14277086), ('Peoples', 0.025999414), ('Exchanges', 0.017400242), ('Organizations', 0.012483158)], [('Topics', 0.89264214), ('Places', 0.06776922), ('Peoples', 0.022086984), ('Exchanges', 0.015640002), ('Organizations', 0.0018615449)], [('Topics', 0.8868819), ('Places', 0.09170105), ('Peoples', 0.010628498), ('Exchanges', 0.009173823), ('Organizations', 0.001614773)], [('Topics', 0.5670236), ('Places', 0.2939131), ('Organizations', 0.07774538), ('Peoples', 0.035679135), ('Exchanges', 0.025638884)], [('Topics', 0.8391148), ('Places', 0.113705166), ('Peoples', 0.019710511), ('Organizations', 0.016014112), ('Exchanges', 0.011455363)], [('Places', 0.38459906), ('Topics', 0.35331607), ('Organizations', 0.22069883), ('Peoples', 0.03537352), ('Exchanges', 0.006012499)], [('Topics', 0.7823085), ('Places', 0.1740652), ('Peoples', 0.021390611), ('Exchanges', 0.021313498), ('Organizations', 0.000922274)], [('Topics', 0.9064577), ('Places', 0.07039631), ('Peoples', 0.014290526), ('Organizations', 0.0053241774), ('Exchanges', 0.0035313205)], [('Places', 0.42815232), ('Topics', 0.42222866), ('Peoples', 0.09085181), ('Organizations', 0.036985233), ('Exchanges', 0.02178196)], [('Topics', 0.6629598), ('Places', 0.22568949), ('Organizations', 0.04397606), ('Peoples', 0.04358586), ('Exchanges', 0.023788711)], [('Topics', 0.8902356), ('Places', 0.099236794), ('Exchanges', 0.0052094683), ('Peoples', 0.0032788343), ('Organizations', 0.002039386)], [('Topics', 0.90276724), ('Places', 0.07618961), ('Peoples', 0.008796087), ('Organizations', 0.007887536), ('Exchanges', 0.004359539)], [('Topics', 0.67502207), ('Places', 0.2288428), ('Peoples', 0.038385507), ('Organizations', 0.02971491), ('Exchanges', 0.028034749)], [('Topics', 0.76045537), ('Places', 0.09521849), ('Peoples', 0.07076561), ('Organizations', 0.05593432), ('Exchanges', 0.017626252)], [('Topics', 0.8564234), ('Places', 0.097563125), ('Peoples', 0.019408375), ('Exchanges', 0.018494228), ('Organizations', 0.00811087)], [('Topics', 0.7941355), ('Places', 0.15392388), ('Peoples', 0.028824702), ('Organizations', 0.018468715), ('Exchanges', 0.0046471287)], [('Topics', 0.89259803), ('Places', 0.07028715), ('Peoples', 0.022560788), ('Exchanges', 0.012489346), ('Organizations', 0.002064703)], [('Topics', 0.7405652), ('Places', 0.18070942), ('Organizations', 0.03306111), ('Exchanges', 0.025833577), ('Peoples', 0.019830698)], [('Topics', 0.89359665), ('Places', 0.07241487), ('Peoples', 0.020564312), ('Organizations', 0.007834617), ('Exchanges', 0.005589588)], [('Topics', 0.725199), ('Places', 0.18984252), ('Peoples', 0.056562826), ('Organizations', 0.014911433), ('Exchanges', 0.013484249)], [('Topics', 0.5575211), ('Places', 0.35567656), ('Peoples', 0.05516462), ('Organizations', 0.023535585), ('Exchanges', 0.008102146)], [('Topics', 0.9238464), ('Places', 0.05754194), ('Peoples', 0.012313682), ('Exchanges', 0.003644233), ('Organizations', 0.0026537643)], [('Topics', 0.85117507), ('Places', 0.11627393), ('Peoples', 0.02133869), ('Exchanges', 0.009486935), ('Organizations', 0.001725302)], [('Topics', 0.91471034), ('Places', 0.063974455), ('Organizations', 0.01238025), ('Exchanges', 0.0050433753), ('Peoples', 0.0038914413)], [('Topics', 0.7259693), ('Places', 0.17635404), ('Peoples', 0.07382475), ('Exchanges', 0.015689844), ('Organizations', 0.008162066)], [('Topics', 0.8919448), ('Places', 0.06746266), ('Peoples', 0.02101215), ('Organizations', 0.013569666), ('Exchanges', 0.006010777)], [('Topics', 0.8333278), ('Places', 0.1494699), ('Organizations', 0.009007465), ('Peoples', 0.005274368), ('Exchanges', 0.002920536)], [('Topics', 0.89746153), ('Places', 0.08694467), ('Organizations', 0.0059919897), ('Peoples', 0.0058555477), ('Exchanges', 0.0037463459)], [('Topics', 0.61931384), ('Places', 0.2646262), ('Peoples', 0.04248417), ('Exchanges', 0.037249517), ('Organizations', 0.036326338)], [('Topics', 0.84625655), ('Places', 0.09355071), ('Organizations', 0.028735852), ('Peoples', 0.016996348), ('Exchanges', 0.014460611)], [('Topics', 0.48348725), ('Exchanges', 0.34806743), ('Places', 0.12952675), ('Organizations', 0.020687956), ('Peoples', 0.01823075)], [('Topics', 0.9111869), ('Places', 0.077394746), ('Peoples', 0.007918136), ('Exchanges', 0.003233827), ('Organizations', 0.0002664792)], [('Places', 0.57700676), ('Topics', 0.3633444), ('Peoples', 0.02853799), ('Organizations', 0.02151827), ('Exchanges', 0.009592529)], [('Topics', 0.9576023), ('Places', 0.037150823), ('Peoples', 0.003171406), ('Exchanges', 0.0018271297), ('Organizations', 0.00024815605)], [('Topics', 0.6092025), ('Places', 0.29416734), ('Peoples', 0.047271103), ('Organizations', 0.030420404), ('Exchanges', 0.018938696)], [('Topics', 0.7981629), ('Places', 0.12836349), ('Peoples', 0.045812175), ('Exchanges', 0.016253965), ('Organizations', 0.011407544)], [('Topics', 0.9025754), ('Places', 0.085119925), ('Peoples', 0.00617602), ('Exchanges', 0.005309763), ('Organizations', 0.0008189622)], [('Topics', 0.61596173), ('Places', 0.28732905), ('Peoples', 0.052972328), ('Organizations', 0.025080165), ('Exchanges', 0.018656695)], [('Topics', 0.5629775), ('Places', 0.18481436), ('Peoples', 0.17333527), ('Organizations', 0.04774917), ('Exchanges', 0.03112381)], [('Topics', 0.8208909), ('Places', 0.14017655), ('Peoples', 0.021038085), ('Organizations', 0.01742306), ('Exchanges', 0.0004713923)], [('Topics', 0.8184951), ('Places', 0.10369536), ('Organizations', 0.04177186), ('Peoples', 0.022416266), ('Exchanges', 0.013621517)], [('Topics', 0.5291667), ('Places', 0.2873311), ('Organizations', 0.0699521), ('Peoples', 0.06884044), ('Exchanges', 0.044709627)], [('Topics', 0.91867703), ('Places', 0.0587526), ('Organizations', 0.009596155), ('Exchanges', 0.008193492), ('Peoples', 0.004780778)], [('Topics', 0.803203), ('Places', 0.13584323), ('Peoples', 0.02783614), ('Organizations', 0.02034764), ('Exchanges', 0.012769972)], [('Topics', 0.8591295), ('Places', 0.11563591), ('Peoples', 0.011040334), ('Exchanges', 0.007734813), ('Organizations', 0.0064595323)], [('Topics', 0.77911144), ('Places', 0.12392058), ('Peoples', 0.044280127), ('Organizations', 0.029360903), ('Exchanges', 0.023326986)], [('Topics', 0.7176901), ('Places', 0.25022358), ('Peoples', 0.019240389), ('Organizations', 0.0075240107), ('Exchanges', 0.005321929)], [('Topics', 0.91293526), ('Places', 0.05653151), ('Peoples', 0.014587752), ('Organizations', 0.011916871), ('Exchanges', 0.004028533)], [('Topics', 0.9398525), ('Places', 0.05531057), ('Peoples', 0.002600879), ('Exchanges', 0.0015426945), ('Organizations', 0.00069337554)], [('Topics', 0.55746704), ('Places', 0.2595138), ('Exchanges', 0.0933885), ('Peoples', 0.06707194), ('Organizations', 0.022558691)], [('Topics', 0.9193021), ('Places', 0.060950138), ('Peoples', 0.009543084), ('Exchanges', 0.0055519687), ('Organizations', 0.0046527223)], [('Topics', 0.6785293), ('Places', 0.26347533), ('Peoples', 0.02967822), ('Organizations', 0.016851798), ('Exchanges', 0.011465229)], [('Topics', 0.9396112), ('Places', 0.044337574), ('Peoples', 0.0063557294), ('Organizations', 0.0050220955), ('Exchanges', 0.0046735737)], [('Topics', 0.89442337), ('Places', 0.0735862), ('Organizations', 0.014189389), ('Peoples', 0.011523498), ('Exchanges', 0.006277529)], [('Topics', 0.9334273), ('Places', 0.0451183), ('Peoples', 0.009827148), ('Exchanges', 0.0078947125), ('Organizations', 0.0037326869)], [('Topics', 0.51141095), ('Places', 0.44877478), ('Peoples', 0.02616999), ('Organizations', 0.010826035), ('Exchanges', 0.0028182066)], [('Topics', 0.6773407), ('Places', 0.22240296), ('Peoples', 0.04088182), ('Exchanges', 0.031849027), ('Organizations', 0.027525518)], [('Topics', 0.84903944), ('Places', 0.08255847), ('Peoples', 0.029485598), ('Organizations', 0.02943918), ('Exchanges', 0.009477348)], [('Topics', 0.89540994), ('Places', 0.07687968), ('Peoples', 0.010884746), ('Exchanges', 0.008721572), ('Organizations', 0.008104029)], [('Topics', 0.5289909), ('Places', 0.38604477), ('Peoples', 0.066144235), ('Organizations', 0.010309236), ('Exchanges', 0.008510833)], [('Topics', 0.9000573), ('Places', 0.07148462), ('Organizations', 0.013028991), ('Peoples', 0.008456937), ('Exchanges', 0.0069722077)], [('Topics', 0.60422564), ('Places', 0.20254917), ('Peoples', 0.08052749), ('Exchanges', 0.066542275), ('Organizations', 0.046155464)], [('Places', 0.54440033), ('Topics', 0.4240077), ('Peoples', 0.0211477), ('Organizations', 0.009132779), ('Exchanges', 0.0013115456)], [('Topics', 0.5949725), ('Places', 0.28327993), ('Peoples', 0.068671025), ('Exchanges', 0.027002627), ('Organizations', 0.026073992)], [('Topics', 0.6712499), ('Places', 0.23825788), ('Organizations', 0.044527072), ('Peoples', 0.025459277), ('Exchanges', 0.020505775)], [('Places', 0.47165942), ('Topics', 0.33954257), ('Organizations', 0.08990637), ('Peoples', 0.0658773), ('Exchanges', 0.033014406)], [('Topics', 0.9177383), ('Places', 0.0628805), ('Organizations', 0.008117659), ('Exchanges', 0.0063664517), ('Peoples', 0.004896994)], [('Topics', 0.75648373), ('Places', 0.22786221), ('Peoples', 0.007992354), ('Exchanges', 0.006067137), ('Organizations', 0.001594541)], [('Topics', 0.48847353), ('Places', 0.29830083), ('Organizations', 0.08539478), ('Peoples', 0.084637165), ('Exchanges', 0.043193713)], [('Topics', 0.845504), ('Places', 0.11231406), ('Peoples', 0.024102548), ('Exchanges', 0.017614342), ('Organizations', 0.00046508326)], [('Places', 0.5686557), ('Topics', 0.41429812), ('Peoples', 0.008845019), ('Exchanges', 0.0056090886), ('Organizations', 0.0025920672)], [('Topics', 0.58979625), ('Places', 0.25242466), ('Peoples', 0.068045095), ('Organizations', 0.052504636), ('Exchanges', 0.03722944)], [('Topics', 0.38458464), ('Exchanges', 0.28448105), ('Places', 0.2264905), ('Peoples', 0.07184851), ('Organizations', 0.032595288)], [('Topics', 0.70237195), ('Places', 0.18506493), ('Peoples', 0.062028352), ('Organizations', 0.03406115), ('Exchanges', 0.016473617)], [('Topics', 0.6009451), ('Places', 0.2578762), ('Peoples', 0.06627637), ('Exchanges', 0.040771812), ('Organizations', 0.034130447)], [('Topics', 0.5369909), ('Places', 0.3711939), ('Exchanges', 0.034618713), ('Peoples', 0.03086174), ('Organizations', 0.026334822)], [('Topics', 0.645007), ('Places', 0.19627126), ('Peoples', 0.080214605), ('Organizations', 0.044335626), ('Exchanges', 0.034171514)], [('Topics', 0.89176834), ('Places', 0.07553339), ('Peoples', 0.018598229), ('Exchanges', 0.012914512), ('Organizations', 0.0011855097)], [('Topics', 0.74380946), ('Places', 0.14472106), ('Peoples', 0.048167605), ('Exchanges', 0.031926263), ('Organizations', 0.03137562)], [('Topics', 0.56004673), ('Places', 0.34610063), ('Peoples', 0.048602257), ('Organizations', 0.025839988), ('Exchanges', 0.019410433)], [('Topics', 0.8295424), ('Places', 0.115476035), ('Peoples', 0.03372254), ('Organizations', 0.0123310285), ('Exchanges', 0.008928058)], [('Topics', 0.5147375), ('Places', 0.3277829), ('Organizations', 0.11693381), ('Peoples', 0.020903427), ('Exchanges', 0.019642346)], [('Topics', 0.9166232), ('Places', 0.06840563), ('Peoples', 0.0097759), ('Exchanges', 0.0050218278), ('Organizations', 0.00017345614)], [('Topics', 0.6666297), ('Places', 0.254936), ('Peoples', 0.029821314), ('Organizations', 0.029139401), ('Exchanges', 0.0194736)], [('Topics', 0.9651222), ('Places', 0.029956842), ('Exchanges', 0.0029929185), ('Peoples', 0.0011122433), ('Organizations', 0.0008157264)], [('Topics', 0.5808807), ('Places', 0.34548882), ('Peoples', 0.04787645), ('Organizations', 0.019262385), ('Exchanges', 0.006491551)], [('Topics', 0.9183907), ('Places', 0.04987538), ('Peoples', 0.012941698), ('Organizations', 0.009722955), ('Exchanges', 0.009069279)], [('Topics', 0.81992173), ('Places', 0.0898036), ('Peoples', 0.06962394), ('Exchanges', 0.011008773), ('Organizations', 0.009641848)], [('Topics', 0.50908357), ('Places', 0.33482763), ('Peoples', 0.06591814), ('Exchanges', 0.06356015), ('Organizations', 0.026610537)], [('Topics', 0.7492604), ('Places', 0.1924517), ('Peoples', 0.032211207), ('Exchanges', 0.019929152), ('Organizations', 0.0061475094)], [('Topics', 0.87811464), ('Places', 0.08758579), ('Peoples', 0.023883963), ('Exchanges', 0.006421995), ('Organizations', 0.003993608)], [('Topics', 0.76778805), ('Places', 0.15391392), ('Organizations', 0.043124873), ('Peoples', 0.025970282), ('Exchanges', 0.009202914)], [('Topics', 0.73112875), ('Places', 0.15530992), ('Peoples', 0.057083927), ('Organizations', 0.028961245), ('Exchanges', 0.027516106)], [('Topics', 0.9262357), ('Places', 0.05577835), ('Peoples', 0.00994614), ('Exchanges', 0.0045557255), ('Organizations', 0.0034840829)], [('Topics', 0.5917072), ('Places', 0.289908), ('Peoples', 0.065644234), ('Organizations', 0.029292371), ('Exchanges', 0.023448197)], [('Topics', 0.47256994), ('Exchanges', 0.2564174), ('Places', 0.21369542), ('Organizations', 0.033213817), ('Peoples', 0.02410341)], [('Topics', 0.807315), ('Places', 0.15666081), ('Organizations', 0.016836505), ('Peoples', 0.012830215), ('Exchanges', 0.00635751)], [('Topics', 0.44793463), ('Peoples', 0.3517659), ('Places', 0.16804293), ('Organizations', 0.016848333), ('Exchanges', 0.015408216)], [('Topics', 0.8981078), ('Places', 0.08921743), ('Peoples', 0.0073601264), ('Exchanges', 0.0037700776), ('Organizations', 0.0015444931)], [('Topics', 0.88794535), ('Places', 0.06920691), ('Peoples', 0.036020353), ('Exchanges', 0.004743476), ('Organizations', 0.0020838596)], [('Topics', 0.81334746), ('Places', 0.1398993), ('Peoples', 0.021000044), ('Organizations', 0.014380477), ('Exchanges', 0.011372704)], [('Topics', 0.6634486), ('Places', 0.24904805), ('Peoples', 0.034653187), ('Organizations', 0.029775428), ('Exchanges', 0.023074733)], [('Topics', 0.91613257), ('Places', 0.07563067), ('Peoples', 0.0041569415), ('Organizations', 0.0039187823), ('Exchanges', 0.00016100536)], [('Topics', 0.7843003), ('Places', 0.1352615), ('Peoples', 0.030510437), ('Exchanges', 0.026046574), ('Organizations', 0.023881225)], [('Topics', 0.6491176), ('Places', 0.27353677), ('Peoples', 0.046480805), ('Organizations', 0.02050946), ('Exchanges', 0.010355235)], [('Topics', 0.93598807), ('Places', 0.053817015), ('Organizations', 0.004708297), ('Exchanges', 0.0027684579), ('Peoples', 0.0027181131)], [('Topics', 0.4029408), ('Places', 0.37682232), ('Peoples', 0.14802471), ('Organizations', 0.05547589), ('Exchanges', 0.016736258)], [('Topics', 0.52236927), ('Places', 0.23114058), ('Exchanges', 0.1765577), ('Organizations', 0.037613776), ('Peoples', 0.03231869)], [('Topics', 0.91190803), ('Places', 0.074013725), ('Peoples', 0.009477017), ('Exchanges', 0.0034985251), ('Organizations', 0.0011026529)], [('Topics', 0.86708933), ('Places', 0.1073152), ('Peoples', 0.017693091), ('Exchanges', 0.0067837453), ('Organizations', 0.0011186441)], [('Topics', 0.55555993), ('Places', 0.25780144), ('Organizations', 0.11130999), ('Peoples', 0.0469848), ('Exchanges', 0.028343912)], [('Topics', 0.64553374), ('Places', 0.32248515), ('Peoples', 0.013249446), ('Organizations', 0.012594784), ('Exchanges', 0.0061369254)], [('Topics', 0.9368311), ('Places', 0.05847251), ('Exchanges', 0.0030931882), ('Peoples', 0.0013058657), ('Organizations', 0.00029724793)], [('Topics', 0.48670948), ('Places', 0.2967816), ('Organizations', 0.124707885), ('Peoples', 0.051058024), ('Exchanges', 0.040743046)], [('Places', 0.51933056), ('Topics', 0.32506838), ('Peoples', 0.06946608), ('Organizations', 0.06719486), ('Exchanges', 0.01894008)], [('Topics', 0.5229333), ('Places', 0.33348608), ('Peoples', 0.06636074), ('Organizations', 0.049253948), ('Exchanges', 0.027965907)], [('Topics', 0.5700002), ('Places', 0.27099183), ('Peoples', 0.07341006), ('Organizations', 0.047286004), ('Exchanges', 0.038311854)], [('Topics', 0.88156235), ('Places', 0.086195074), ('Organizations', 0.014619506), ('Peoples', 0.010380484), ('Exchanges', 0.0072425143)], [('Topics', 0.524568), ('Places', 0.46015695), ('Peoples', 0.011882879), ('Organizations', 0.0028982481), ('Exchanges', 0.00049389375)], [('Topics', 0.55887735), ('Places', 0.30453333), ('Peoples', 0.075516954), ('Exchanges', 0.03239039), ('Organizations', 0.028682055)], [('Topics', 0.90402615), ('Places', 0.07031452), ('Peoples', 0.0156016275), ('Exchanges', 0.0053923205), ('Organizations', 0.004665445)], [('Topics', 0.87993115), ('Places', 0.09165816), ('Organizations', 0.012970032), ('Peoples', 0.008373069), ('Exchanges', 0.007067418)], [('Topics', 0.9004042), ('Places', 0.07551939), ('Exchanges', 0.01371456), ('Peoples', 0.005483292), ('Organizations', 0.0048784693)], [('Topics', 0.8646853), ('Places', 0.112222716), ('Peoples', 0.013211673), ('Exchanges', 0.005764634), ('Organizations', 0.004115636)], [('Topics', 0.78810954), ('Places', 0.16108382), ('Peoples', 0.02815084), ('Organizations', 0.018803801), ('Exchanges', 0.0038519986)], [('Topics', 0.612512), ('Places', 0.28100917), ('Peoples', 0.04604047), ('Organizations', 0.04044663), ('Exchanges', 0.019991621)], [('Topics', 0.8979807), ('Places', 0.092982024), ('Peoples', 0.0061671706), ('Exchanges', 0.0017918964), ('Organizations', 0.0010783338)], [('Topics', 0.87796426), ('Places', 0.09645991), ('Organizations', 0.01144628), ('Peoples', 0.008087815), ('Exchanges', 0.0060417172)], [('Topics', 0.7873022), ('Places', 0.15485175), ('Exchanges', 0.023729729), ('Peoples', 0.018945644), ('Organizations', 0.015170738)], [('Topics', 0.8513216), ('Places', 0.081645414), ('Peoples', 0.036487967), ('Organizations', 0.02296629), ('Exchanges', 0.0075786808)], [('Topics', 0.86855966), ('Places', 0.08544332), ('Peoples', 0.019085692), ('Exchanges', 0.0146401245), ('Organizations', 0.01227129)], [('Peoples', 0.42478827), ('Topics', 0.369491), ('Places', 0.14198604), ('Exchanges', 0.039044484), ('Organizations', 0.02469018)], [('Topics', 0.4682808), ('Places', 0.45908645), ('Organizations', 0.04118989), ('Exchanges', 0.025289308), ('Peoples', 0.00615358)], [('Topics', 0.46478125), ('Places', 0.3213153), ('Peoples', 0.13165164), ('Exchanges', 0.045014765), ('Organizations', 0.037236996)], [('Places', 0.4360946), ('Topics', 0.38471988), ('Peoples', 0.09180049), ('Organizations', 0.0587835), ('Exchanges', 0.028601581)], [('Topics', 0.43014386), ('Places', 0.3986733), ('Organizations', 0.08020777), ('Peoples', 0.053802453), ('Exchanges', 0.037172597)], [('Topics', 0.7883181), ('Places', 0.109914735), ('Exchanges', 0.058948927), ('Peoples', 0.030415218), ('Organizations', 0.012403)], [('Topics', 0.8696981), ('Places', 0.090686), ('Organizations', 0.016883826), ('Peoples', 0.016377233), ('Exchanges', 0.0063547874)], [('Topics', 0.599639), ('Places', 0.2926091), ('Peoples', 0.05595327), ('Organizations', 0.04303527), ('Exchanges', 0.008763313)], [('Topics', 0.81620604), ('Places', 0.1303337), ('Peoples', 0.03784437), ('Organizations', 0.008148507), ('Exchanges', 0.007467343)], [('Topics', 0.8520688), ('Places', 0.106554925), ('Peoples', 0.022114998), ('Organizations', 0.010977914), ('Exchanges', 0.008283423)], [('Places', 0.53907055), ('Topics', 0.4459869), ('Peoples', 0.008146129), ('Exchanges', 0.004008384), ('Organizations', 0.0027881179)], [('Places', 0.6616701), ('Topics', 0.28424078), ('Peoples', 0.048102573), ('Organizations', 0.005404278), ('Exchanges', 0.0005822652)], [('Topics', 0.6395237), ('Places', 0.20246078), ('Organizations', 0.13388048), ('Peoples', 0.018375967), ('Exchanges', 0.005759084)], [('Topics', 0.87390435), ('Places', 0.087988704), ('Organizations', 0.01784065), ('Peoples', 0.013993027), ('Exchanges', 0.0062732943)], [('Topics', 0.9565857), ('Places', 0.035814356), ('Exchanges', 0.0046592085), ('Peoples', 0.0028233882), ('Organizations', 0.00011733774)], [('Topics', 0.64852995), ('Places', 0.23205438), ('Peoples', 0.07084292), ('Exchanges', 0.024987346), ('Organizations', 0.02358547)], [('Topics', 0.83952534), ('Places', 0.1271908), ('Peoples', 0.022852547), ('Exchanges', 0.008775155), ('Organizations', 0.0016561119)], [('Places', 0.7051779), ('Topics', 0.21927404), ('Organizations', 0.039210077), ('Peoples', 0.018718777), ('Exchanges', 0.017619094)], [('Topics', 0.6300875), ('Places', 0.28717932), ('Peoples', 0.045077875), ('Organizations', 0.020215476), ('Exchanges', 0.01743977)], [('Topics', 0.608152), ('Places', 0.26045915), ('Peoples', 0.04882178), ('Organizations', 0.04303655), ('Exchanges', 0.03953058)], [('Topics', 0.612512), ('Places', 0.28100917), ('Peoples', 0.04604047), ('Organizations', 0.04044663), ('Exchanges', 0.019991621)], [('Topics', 0.48087603), ('Places', 0.41476902), ('Exchanges', 0.04133536), ('Peoples', 0.03923903), ('Organizations', 0.023780502)], [('Topics', 0.60498416), ('Places', 0.24275997), ('Peoples', 0.08340704), ('Organizations', 0.040085286), ('Exchanges', 0.028763518)], [('Topics', 0.54193205), ('Places', 0.3449928), ('Peoples', 0.053337183), ('Organizations', 0.035053205), ('Exchanges', 0.024684882)], [('Topics', 0.727269), ('Places', 0.20098852), ('Organizations', 0.03681857), ('Peoples', 0.031781234), ('Exchanges', 0.0031426842)], [('Topics', 0.6995899), ('Places', 0.23164237), ('Peoples', 0.032631125), ('Exchanges', 0.022718728), ('Organizations', 0.013417779)], [('Topics', 0.71489644), ('Places', 0.14766975), ('Peoples', 0.099947944), ('Organizations', 0.032405853), ('Exchanges', 0.005079932)], [('Topics', 0.6039585), ('Places', 0.29705414), ('Organizations', 0.03881659), ('Peoples', 0.032197244), ('Exchanges', 0.027973508)], [('Topics', 0.5275455), ('Places', 0.3132589), ('Peoples', 0.08572866), ('Organizations', 0.03836022), ('Exchanges', 0.0351067)], [('Topics', 0.9094879), ('Places', 0.06928562), ('Peoples', 0.0103697525), ('Exchanges', 0.0064314995), ('Organizations', 0.0044251024)], [('Topics', 0.43136328), ('Places', 0.3063396), ('Exchanges', 0.18576181), ('Peoples', 0.056919456), ('Organizations', 0.019615866)], [('Topics', 0.9318196), ('Places', 0.05483051), ('Peoples', 0.008123724), ('Exchanges', 0.004816274), ('Organizations', 0.00040987003)], [('Topics', 0.87614936), ('Places', 0.0887416), ('Peoples', 0.022319643), ('Exchanges', 0.010777087), ('Organizations', 0.0020123338)], [('Topics', 0.6869518), ('Places', 0.23815662), ('Peoples', 0.060038548), ('Organizations', 0.008102407), ('Exchanges', 0.0067504984)], [('Topics', 0.7995463), ('Places', 0.17464434), ('Peoples', 0.011767608), ('Exchanges', 0.00871432), ('Organizations', 0.0053274394)], [('Topics', 0.7091752), ('Places', 0.17040072), ('Exchanges', 0.0597462), ('Peoples', 0.042584877), ('Organizations', 0.018092975)], [('Topics', 0.9194919), ('Places', 0.069626875), ('Exchanges', 0.005305729), ('Peoples', 0.0037610515), ('Organizations', 0.0018145556)], [('Topics', 0.7984115), ('Places', 0.13441902), ('Organizations', 0.028646281), ('Peoples', 0.02275963), ('Exchanges', 0.015763458)], [('Topics', 0.69314915), ('Places', 0.21931496), ('Peoples', 0.049073998), ('Organizations', 0.026692765), ('Exchanges', 0.011769096)], [('Topics', 0.7920993), ('Places', 0.15011661), ('Exchanges', 0.024521073), ('Peoples', 0.022786768), ('Organizations', 0.010476261)], [('Topics', 0.882303), ('Places', 0.08680432), ('Organizations', 0.016099175), ('Exchanges', 0.007550135), ('Peoples', 0.0072433646)], [('Topics', 0.62638104), ('Places', 0.214675), ('Organizations', 0.103377156), ('Peoples', 0.04169874), ('Exchanges', 0.013868105)], [('Topics', 0.5064297), ('Places', 0.33799344), ('Organizations', 0.0824896), ('Peoples', 0.038458753), ('Exchanges', 0.034628596)], [('Peoples', 0.35668868), ('Topics', 0.29985398), ('Places', 0.27726603), ('Organizations', 0.052707266), ('Exchanges', 0.013484079)], [('Topics', 0.61589384), ('Places', 0.32264602), ('Organizations', 0.033492688), ('Exchanges', 0.022994738), ('Peoples', 0.0049727843)], [('Topics', 0.63481236), ('Places', 0.22154471), ('Organizations', 0.06403838), ('Peoples', 0.05604735), ('Exchanges', 0.023557207)], [('Topics', 0.6600039), ('Places', 0.2656607), ('Peoples', 0.03397104), ('Exchanges', 0.0204813), ('Organizations', 0.019883001)], [('Topics', 0.7217468), ('Places', 0.18041095), ('Peoples', 0.05112281), ('Exchanges', 0.03529262), ('Organizations', 0.011426845)], [('Topics', 0.8676999), ('Places', 0.08486194), ('Peoples', 0.029566972), ('Exchanges', 0.010244343), ('Organizations', 0.0076267417)], [('Topics', 0.6111879), ('Places', 0.28013515), ('Organizations', 0.06245339), ('Peoples', 0.032251444), ('Exchanges', 0.013972175)], [('Topics', 0.66647804), ('Places', 0.21953943), ('Peoples', 0.050160557), ('Exchanges', 0.037289005), ('Organizations', 0.02653296)], [('Topics', 0.4669854), ('Places', 0.34875515), ('Peoples', 0.0893136), ('Organizations', 0.054535847), ('Exchanges', 0.040410083)], [('Topics', 0.80438346), ('Places', 0.15525597), ('Peoples', 0.01829051), ('Organizations', 0.016456699), ('Exchanges', 0.0056132735)], [('Topics', 0.86423635), ('Places', 0.10864244), ('Peoples', 0.013077747), ('Exchanges', 0.0077960766), ('Organizations', 0.0062473053)], [('Topics', 0.8878522), ('Places', 0.08451585), ('Exchanges', 0.013702285), ('Peoples', 0.009430726), ('Organizations', 0.0044989134)], [('Topics', 0.85434324), ('Places', 0.08235083), ('Organizations', 0.024507042), ('Peoples', 0.02293417), ('Exchanges', 0.015864687)], [('Topics', 0.9077969), ('Places', 0.07220016), ('Organizations', 0.009478609), ('Peoples', 0.006978219), ('Exchanges', 0.003546222)], [('Topics', 0.44052467), ('Places', 0.42555776), ('Peoples', 0.099139825), ('Exchanges', 0.019711344), ('Organizations', 0.015066297)], [('Topics', 0.7637605), ('Places', 0.17728473), ('Peoples', 0.052710395), ('Exchanges', 0.0055882544), ('Organizations', 0.00065611635)], [('Topics', 0.90280044), ('Places', 0.08689476), ('Peoples', 0.007905162), ('Exchanges', 0.0016114928), ('Organizations', 0.00078804535)], [('Topics', 0.530242), ('Peoples', 0.2443784), ('Places', 0.13076183), ('Organizations', 0.057774976), ('Exchanges', 0.036842704)], [('Topics', 0.8259642), ('Places', 0.11078883), ('Organizations', 0.025276514), ('Peoples', 0.024128884), ('Exchanges', 0.013841559)], [('Topics', 0.9633491), ('Places', 0.030082338), ('Peoples', 0.0025915492), ('Exchanges', 0.0025542134), ('Organizations', 0.0014227392)], [('Topics', 0.7046423), ('Places', 0.2456847), ('Organizations', 0.017449487), ('Peoples', 0.016857926), ('Exchanges', 0.015365595)], [('Topics', 0.79267097), ('Places', 0.13132046), ('Peoples', 0.037479572), ('Organizations', 0.022932079), ('Exchanges', 0.015596861)], [('Topics', 0.3751268), ('Places', 0.23046285), ('Exchanges', 0.23035942), ('Peoples', 0.09094932), ('Organizations', 0.07310168)], [('Topics', 0.51903975), ('Places', 0.37223658), ('Peoples', 0.062946625), ('Organizations', 0.02667135), ('Exchanges', 0.019105688)], [('Topics', 0.96303123), ('Places', 0.02209873), ('Peoples', 0.012991247), ('Exchanges', 0.0013075875), ('Organizations', 0.0005711125)], [('Topics', 0.80358434), ('Places', 0.14765738), ('Organizations', 0.020354118), ('Peoples', 0.018602295), ('Exchanges', 0.009801954)], [('Topics', 0.7046423), ('Places', 0.2456847), ('Organizations', 0.017449487), ('Peoples', 0.016857926), ('Exchanges', 0.015365595)], [('Topics', 0.8147332), ('Places', 0.09495502), ('Peoples', 0.063267305), ('Exchanges', 0.020211507), ('Organizations', 0.006832912)], [('Topics', 0.41019493), ('Places', 0.30924428), ('Organizations', 0.21954802), ('Peoples', 0.04290552), ('Exchanges', 0.018107194)], [('Places', 0.39408717), ('Topics', 0.3864726), ('Peoples', 0.16794309), ('Organizations', 0.03701785), ('Exchanges', 0.014479375)], [('Topics', 0.60949004), ('Places', 0.25903034), ('Peoples', 0.07813362), ('Organizations', 0.035743605), ('Exchanges', 0.017602375)], [('Topics', 0.70256954), ('Places', 0.15831973), ('Peoples', 0.11741129), ('Exchanges', 0.013690778), ('Organizations', 0.0080086775)], [('Topics', 0.94468147), ('Places', 0.045738306), ('Peoples', 0.004274886), ('Organizations', 0.003803437), ('Exchanges', 0.0015018925)], [('Topics', 0.37887406), ('Places', 0.29846215), ('Peoples', 0.262876), ('Exchanges', 0.03298316), ('Organizations', 0.026804676)], [('Topics', 0.4884588), ('Places', 0.43159863), ('Organizations', 0.028551744), ('Peoples', 0.026593855), ('Exchanges', 0.024797019)], [('Topics', 0.84759927), ('Places', 0.1253843), ('Exchanges', 0.011323768), ('Peoples', 0.010482635), ('Organizations', 0.005210009)], [('Topics', 0.95135295), ('Places', 0.026060073), ('Peoples', 0.011044442), ('Exchanges', 0.0062407935), ('Organizations', 0.005301688)], [('Topics', 0.5618075), ('Places', 0.27311614), ('Peoples', 0.0614619), ('Exchanges', 0.055832796), ('Organizations', 0.047781672)], [('Topics', 0.47292182), ('Places', 0.3339708), ('Peoples', 0.12091877), ('Exchanges', 0.03741426), ('Organizations', 0.034774344)], [('Topics', 0.48629737), ('Places', 0.337858), ('Peoples', 0.105538875), ('Organizations', 0.042336732), ('Exchanges', 0.02796901)], [('Topics', 0.96613556), ('Places', 0.022228852), ('Peoples', 0.008745922), ('Organizations', 0.0024320662), ('Exchanges', 0.0004575716)], [('Topics', 0.4969417), ('Places', 0.33519965), ('Peoples', 0.070558034), ('Organizations', 0.05839413), ('Exchanges', 0.0389065)], [('Topics', 0.87370294), ('Places', 0.09712044), ('Peoples', 0.0142403), ('Exchanges', 0.011390844), ('Organizations', 0.0035455176)], [('Topics', 0.8974387), ('Places', 0.084108226), ('Peoples', 0.010693082), ('Organizations', 0.005722003), ('Exchanges', 0.0020380397)], [('Topics', 0.8395752), ('Places', 0.13482112), ('Peoples', 0.013881662), ('Exchanges', 0.006830692), ('Organizations', 0.004891357)], [('Topics', 0.6593853), ('Places', 0.28608108), ('Peoples', 0.03507377), ('Organizations', 0.0133845275), ('Exchanges', 0.0060752374)], [('Places', 0.42415887), ('Topics', 0.31787676), ('Peoples', 0.19981468), ('Exchanges', 0.029347964), ('Organizations', 0.028801706)], [('Topics', 0.71274346), ('Places', 0.15966003), ('Organizations', 0.07403786), ('Peoples', 0.028023161), ('Exchanges', 0.025535444)], [('Topics', 0.57516855), ('Places', 0.34905878), ('Organizations', 0.058934495), ('Peoples', 0.008896761), ('Exchanges', 0.007941406)], [('Topics', 0.6295302), ('Places', 0.19710039), ('Peoples', 0.10433903), ('Exchanges', 0.03454853), ('Organizations', 0.034481872)], [('Topics', 0.78232914), ('Places', 0.1771574), ('Organizations', 0.024431104), ('Exchanges', 0.011394524), ('Peoples', 0.004687884)], [('Topics', 0.42157683), ('Places', 0.2998596), ('Peoples', 0.16908644), ('Organizations', 0.07394568), ('Exchanges', 0.035531536)], [('Topics', 0.565427), ('Places', 0.29879537), ('Peoples', 0.06895253), ('Organizations', 0.04154967), ('Exchanges', 0.025275415)], [('Topics', 0.5511277), ('Places', 0.37539625), ('Peoples', 0.03213613), ('Organizations', 0.031616613), ('Exchanges', 0.009723344)], [('Topics', 0.5119855), ('Places', 0.31977412), ('Peoples', 0.14989099), ('Organizations', 0.015111687), ('Exchanges', 0.0032376412)], [('Topics', 0.53676814), ('Places', 0.24188967), ('Peoples', 0.18121448), ('Organizations', 0.020307973), ('Exchanges', 0.019819727)], [('Topics', 0.68417513), ('Places', 0.22515169), ('Peoples', 0.059525643), ('Exchanges', 0.021737726), ('Organizations', 0.009409813)], [('Topics', 0.74199516), ('Places', 0.23715533), ('Peoples', 0.01803989), ('Exchanges', 0.0020808587), ('Organizations', 0.00072866684)], [('Topics', 0.74319226), ('Places', 0.1929322), ('Peoples', 0.030876733), ('Organizations', 0.023702778), ('Exchanges', 0.0092959255)], [('Topics', 0.4759893), ('Places', 0.3751441), ('Peoples', 0.08426306), ('Organizations', 0.047399614), ('Exchanges', 0.017203936)], [('Topics', 0.56302917), ('Places', 0.38075316), ('Peoples', 0.023826739), ('Exchanges', 0.01761288), ('Organizations', 0.014778053)], [('Places', 0.42833358), ('Topics', 0.42427576), ('Exchanges', 0.10785237), ('Organizations', 0.021658935), ('Peoples', 0.017879395)], [('Topics', 0.530148), ('Places', 0.30510145), ('Organizations', 0.07667626), ('Peoples', 0.062096987), ('Exchanges', 0.025977204)], [('Topics', 0.4731893), ('Places', 0.30447513), ('Peoples', 0.15801394), ('Organizations', 0.043689974), ('Exchanges', 0.02063166)], [('Topics', 0.47729915), ('Places', 0.26332715), ('Peoples', 0.16680814), ('Exchanges', 0.050051108), ('Organizations', 0.04251443)], [('Topics', 0.34000832), ('Places', 0.3158461), ('Peoples', 0.24967125), ('Organizations', 0.07296302), ('Exchanges', 0.021511208)], [('Topics', 0.5773805), ('Places', 0.29326028), ('Peoples', 0.070995845), ('Exchanges', 0.03357013), ('Organizations', 0.024793271)], [('Topics', 0.48155), ('Places', 0.47012013), ('Peoples', 0.02311974), ('Organizations', 0.018211871), ('Exchanges', 0.0069981767)], [('Topics', 0.51306236), ('Places', 0.30646908), ('Peoples', 0.09313549), ('Organizations', 0.05963901), ('Exchanges', 0.027694127)], [('Topics', 0.65618944), ('Places', 0.22645457), ('Peoples', 0.06985272), ('Exchanges', 0.030035328), ('Organizations', 0.017467989)], [('Peoples', 0.6629633), ('Topics', 0.18717988), ('Places', 0.14116284), ('Exchanges', 0.004374427), ('Organizations', 0.004319556)], [('Topics', 0.84294343), ('Places', 0.090619765), ('Peoples', 0.05379687), ('Organizations', 0.009255044), ('Exchanges', 0.003384875)], [('Topics', 0.609199), ('Places', 0.2266955), ('Peoples', 0.06884206), ('Exchanges', 0.04934232), ('Organizations', 0.045921095)], [('Topics', 0.55289596), ('Places', 0.25043425), ('Peoples', 0.097305834), ('Organizations', 0.056853417), ('Exchanges', 0.042510558)], [('Topics', 0.8486437), ('Places', 0.09663799), ('Peoples', 0.033413667), ('Organizations', 0.0173001), ('Exchanges', 0.0040045003)], [('Topics', 0.90748006), ('Places', 0.07523866), ('Peoples', 0.009363633), ('Organizations', 0.006550043), ('Exchanges', 0.0013674668)], [('Topics', 0.5774061), ('Places', 0.37241277), ('Peoples', 0.038949057), ('Organizations', 0.005898476), ('Exchanges', 0.0053335954)], [('Topics', 0.59482694), ('Places', 0.2784365), ('Peoples', 0.059766352), ('Organizations', 0.046206348), ('Exchanges', 0.02076382)], [('Topics', 0.593972), ('Places', 0.32484522), ('Organizations', 0.0347608), ('Peoples', 0.027811151), ('Exchanges', 0.018610803)], [('Topics', 0.7556204), ('Places', 0.1869233), ('Peoples', 0.036223784), ('Organizations', 0.012475896), ('Exchanges', 0.008756456)], [('Topics', 0.4791785), ('Places', 0.2835624), ('Peoples', 0.1223027), ('Exchanges', 0.06169343), ('Organizations', 0.053262975)], [('Places', 0.46795756), ('Topics', 0.36741698), ('Peoples', 0.08743175), ('Organizations', 0.044416994), ('Exchanges', 0.032776598)], [('Topics', 0.66109616), ('Places', 0.16372941), ('Exchanges', 0.13715996), ('Peoples', 0.03185066), ('Organizations', 0.0061638393)], [('Places', 0.72660667), ('Topics', 0.24816845), ('Peoples', 0.011660938), ('Organizations', 0.01144181), ('Exchanges', 0.0021221682)], [('Places', 0.44102493), ('Topics', 0.3045752), ('Peoples', 0.135833), ('Organizations', 0.088101864), ('Exchanges', 0.030465053)], [('Topics', 0.7980944), ('Places', 0.12592168), ('Peoples', 0.03805787), ('Exchanges', 0.027720775), ('Organizations', 0.010205286)], [('Topics', 0.6730416), ('Places', 0.23085018), ('Peoples', 0.057929233), ('Organizations', 0.032939047), ('Exchanges', 0.005239968)], [('Topics', 0.5188094), ('Places', 0.2509738), ('Peoples', 0.19580294), ('Exchanges', 0.018660227), ('Organizations', 0.01575364)], [('Topics', 0.6542004), ('Places', 0.16618393), ('Peoples', 0.09852225), ('Organizations', 0.058052536), ('Exchanges', 0.023040885)], [('Topics', 0.6147535), ('Places', 0.26551712), ('Peoples', 0.058188938), ('Exchanges', 0.037852928), ('Organizations', 0.02368752)], [('Topics', 0.46812457), ('Places', 0.40208444), ('Peoples', 0.077856645), ('Exchanges', 0.029008513), ('Organizations', 0.022925708)], [('Topics', 0.56302917), ('Places', 0.38075316), ('Peoples', 0.023826739), ('Exchanges', 0.01761288), ('Organizations', 0.014778053)], [('Topics', 0.9222164), ('Places', 0.06138293), ('Organizations', 0.006594939), ('Peoples', 0.0060213534), ('Exchanges', 0.003784355)], [('Topics', 0.47125348), ('Places', 0.43154147), ('Peoples', 0.047123548), ('Exchanges', 0.02888934), ('Organizations', 0.021192122)], [('Topics', 0.64613956), ('Places', 0.22381116), ('Peoples', 0.05265236), ('Organizations', 0.039431855), ('Exchanges', 0.03796501)], [('Topics', 0.85471964), ('Places', 0.07943278), ('Organizations', 0.04032913), ('Peoples', 0.01794797), ('Exchanges', 0.007570508)], [('Topics', 0.46033853), ('Places', 0.2850922), ('Peoples', 0.17585325), ('Organizations', 0.04266898), ('Exchanges', 0.03604702)], [('Topics', 0.4429167), ('Places', 0.43345636), ('Peoples', 0.07599877), ('Organizations', 0.03500653), ('Exchanges', 0.012621668)], [('Topics', 0.71149945), ('Places', 0.21402389), ('Peoples', 0.039107993), ('Organizations', 0.025722532), ('Exchanges', 0.009646143)], [('Topics', 0.67244565), ('Places', 0.29417664), ('Organizations', 0.014477463), ('Peoples', 0.009707386), ('Exchanges', 0.009192925)], [('Topics', 0.50803614), ('Places', 0.36921915), ('Organizations', 0.08606545), ('Peoples', 0.026042921), ('Exchanges', 0.01063638)], [('Topics', 0.6934084), ('Places', 0.2121679), ('Peoples', 0.06862387), ('Exchanges', 0.019617746), ('Organizations', 0.006182065)], [('Topics', 0.64618665), ('Places', 0.20235442), ('Peoples', 0.08747353), ('Exchanges', 0.04664347), ('Organizations', 0.017341908)], [('Topics', 0.66631967), ('Places', 0.24051535), ('Peoples', 0.055943944), ('Organizations', 0.019603945), ('Exchanges', 0.017617105)], [('Topics', 0.6103678), ('Places', 0.21102634), ('Peoples', 0.15348728), ('Exchanges', 0.014446082), ('Organizations', 0.010672479)], [('Topics', 0.7838121), ('Peoples', 0.10859729), ('Places', 0.106184416), ('Exchanges', 0.00076048606), ('Organizations', 0.00064562605)], [('Topics', 0.56549865), ('Places', 0.3614367), ('Peoples', 0.06093928), ('Exchanges', 0.008240395), ('Organizations', 0.0038850475)], [('Topics', 0.4470426), ('Places', 0.277691), ('Peoples', 0.152986), ('Organizations', 0.068069704), ('Exchanges', 0.054210704)], [('Topics', 0.94537795), ('Places', 0.0428692), ('Peoples', 0.006193681), ('Organizations', 0.0030935227), ('Exchanges', 0.0024655482)], [('Topics', 0.5380339), ('Places', 0.29014495), ('Peoples', 0.077703804), ('Exchanges', 0.05469109), ('Organizations', 0.03942615)], [('Topics', 0.43582794), ('Peoples', 0.28701806), ('Places', 0.18511991), ('Exchanges', 0.05089775), ('Organizations', 0.041136302)], [('Topics', 0.6868691), ('Places', 0.20857769), ('Peoples', 0.07307403), ('Organizations', 0.022512592), ('Exchanges', 0.008966538)]]\n"
     ]
    }
   ],
   "source": [
    "def getRankedOutput2(predicted_y):\n",
    "    all_sorted_x = []\n",
    "    for i in predicted_y:\n",
    "        dict_temp={'Topics':i[0],'Places':i[1],'Peoples':i[2],'Exchanges':i[3],'Organizations':i[4]}\n",
    "        sorted_x = sorted(dict_temp.items(), key=lambda kv: kv[1], reverse=True) \n",
    "        all_sorted_x.append(sorted_x)\n",
    "    return all_sorted_x\n",
    "   \n",
    "ranked_output = getRankedOutput2(y)\n",
    "print((ranked_output)) "
   ]
  }
 ],
 "metadata": {
  "kernelspec": {
   "display_name": "Python 3",
   "language": "python",
   "name": "python3"
  },
  "language_info": {
   "codemirror_mode": {
    "name": "ipython",
    "version": 3
   },
   "file_extension": ".py",
   "mimetype": "text/x-python",
   "name": "python",
   "nbconvert_exporter": "python",
   "pygments_lexer": "ipython3",
   "version": "3.6.7"
  }
 },
 "nbformat": 4,
 "nbformat_minor": 2
}
