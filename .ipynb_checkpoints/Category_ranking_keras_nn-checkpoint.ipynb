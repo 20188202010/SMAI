{
 "cells": [
  {
   "cell_type": "code",
   "execution_count": 17,
   "metadata": {
    "colab": {
     "base_uri": "https://localhost:8080/",
     "height": 34
    },
    "colab_type": "code",
    "id": "4vNE_mnM0jaI",
    "outputId": "32801f0b-8a20-43f9-f44a-9015dfb4fca8"
   },
   "outputs": [
    {
     "name": "stdout",
     "output_type": "stream",
     "text": [
      "Drive already mounted at /content/drive; to attempt to forcibly remount, call drive.mount(\"/content/drive\", force_remount=True).\n"
     ]
    }
   ],
   "source": [
    "#read datafolder from Google Drive\n",
    "from google.colab import drive\n",
    "drive.mount('/content/drive')\n",
    "data_folder = '/content/drive/My Drive/pg2k18/sem2/smai/smai_proj/reuters21578/'\n",
    "\n",
    "\n",
    "sgml_number_of_files = 21\n",
    "sgml_file_name_template = 'reut2-NNN.sgm'\n",
    "\n",
    "# Category files\n",
    "category_files = {\n",
    "    'to_': ('Topics', 'all-topics-strings.lc.txt'),\n",
    "    'pl_': ('Places', 'all-places-strings.lc.txt'),\n",
    "    'pe_': ('People', 'all-people-strings.lc.txt'),\n",
    "    'or_': ('Organizations', 'all-orgs-strings.lc.txt'),\n",
    "    'ex_': ('Exchanges', 'all-exchanges-strings.lc.txt')\n",
    "}"
   ]
  },
  {
   "cell_type": "code",
   "execution_count": 0,
   "metadata": {
    "colab": {},
    "colab_type": "code",
    "id": "2phRP_vL0jae"
   },
   "outputs": [],
   "source": [
    "import pandas as pd\n",
    "from nltk.corpus import stopwords\n",
    "from nltk.tokenize import word_tokenize\n",
    "from nltk.stem import WordNetLemmatizer"
   ]
  },
  {
   "cell_type": "code",
   "execution_count": 0,
   "metadata": {
    "colab": {},
    "colab_type": "code",
    "id": "MsF3Uk8S0jaq"
   },
   "outputs": [],
   "source": [
    "# Read all categories\n",
    "category_data = []\n",
    "category_dictionary={'Topics':[],'Places':[],'People':[],'Organizations':[],'Exchanges':[]}\n",
    "for category_prefix in category_files.keys():\n",
    "    with open(data_folder + category_files[category_prefix][1], 'r') as file:\n",
    "        for category in file.readlines():\n",
    "            category_data.append([category_prefix + category.strip().lower(), \n",
    "                                  category_files[category_prefix][0]])\n",
    "\n",
    "# Create category dataframe\n",
    "for i in category_data:\n",
    "    category_dictionary[i[1]].append(i[0].split('_')[1])\n",
    "news_categories = pd.DataFrame(data=category_data)\n"
   ]
  },
  {
   "cell_type": "code",
   "execution_count": 20,
   "metadata": {
    "colab": {
     "base_uri": "https://localhost:8080/",
     "height": 69
    },
    "colab_type": "code",
    "id": "aFMZnuLj0ja6",
    "outputId": "6645cc8b-e0e8-4125-d534-bc8cfe232e7e"
   },
   "outputs": [
    {
     "name": "stdout",
     "output_type": "stream",
     "text": [
      "[nltk_data] Downloading package stopwords to /root/nltk_data...\n",
      "[nltk_data]   Package stopwords is already up-to-date!\n"
     ]
    },
    {
     "data": {
      "text/plain": [
       "True"
      ]
     },
     "execution_count": 20,
     "metadata": {
      "tags": []
     },
     "output_type": "execute_result"
    }
   ],
   "source": [
    "import re\n",
    "import xml.sax.saxutils as saxutils\n",
    "from bs4 import BeautifulSoup\n",
    "from keras.preprocessing.text import Tokenizer\n",
    "from keras.preprocessing.sequence import pad_sequences\n",
    "import nltk\n",
    "nltk.download('stopwords')"
   ]
  },
  {
   "cell_type": "code",
   "execution_count": 0,
   "metadata": {
    "colab": {},
    "colab_type": "code",
    "id": "K-9WCTJj0jbK"
   },
   "outputs": [],
   "source": [
    "lemmatizer = WordNetLemmatizer()\n",
    "\n",
    "REPLACE_BY_SPACE_RE = re.compile('[/(){}\\[\\]\\|@,;\\\\n]')\n",
    "BAD_SYMBOLS_RE = re.compile('[^0-9a-z #+_]')\n",
    "STOPWORDS = set(stopwords.words('english'))\n",
    "\n",
    "def cleanUpSentence(r):#, stop_words = None#\n",
    "    r = r.lower().replace(\"<br />\", \" \")\n",
    "    r = REPLACE_BY_SPACE_RE.sub(' ', r)\n",
    "    r = BAD_SYMBOLS_RE.sub('', r)\n",
    "\n",
    "    r = ' '.join(word for word in r.split() if word not in STOPWORDS)\n",
    "\n",
    "    words = word_tokenize(r)\n",
    "\n",
    "    for w in words:\n",
    "        w = lemmatizer.lemmatize(w)\n",
    "\n",
    "    return r"
   ]
  },
  {
   "cell_type": "code",
   "execution_count": 0,
   "metadata": {
    "colab": {},
    "colab_type": "code",
    "id": "d8FTMDUo0jbX"
   },
   "outputs": [],
   "source": [
    "# Parse SGML files\n",
    "def strip_tags(text):\n",
    "    return re.sub('<[^<]+?>', '', text).strip()\n",
    "\n",
    "def unescape(text):\n",
    "    return saxutils.unescape(text)\n",
    "  \n",
    "def makeDict(filename, document_X, document_Y):\n",
    "  with open(filename, 'rb') as file:\n",
    "\n",
    "    content = BeautifulSoup(file.read().lower(),'html.parser')\n",
    "\n",
    "    for newsline in content('reuters'):\n",
    "      document_categories = []\n",
    "\n",
    "      document_id = newsline['newid']\n",
    "\n",
    "\n",
    "\n",
    "      document_body = strip_tags(str(newsline('text')[0].body)).replace('reuter\\n&#3;', '')\n",
    "      if document_body == 'None':\n",
    "        continue\n",
    "\n",
    "      doc_categories = strip_tags(str(newsline('topics')[0].body))\n",
    "      doc_categories = unescape(doc_categories)\n",
    "\n",
    "      document_body = unescape(document_body)\n",
    "\n",
    "      topics = newsline.topics.contents\n",
    "      places = newsline.places.contents\n",
    "      people = newsline.people.contents\n",
    "      orgs = newsline.orgs.contents\n",
    "      exchanges = newsline.exchanges.contents\n",
    "\n",
    "      for topic in topics:\n",
    "          document_categories.append('to_' + strip_tags(str(topic)))\n",
    "\n",
    "      for place in places:\n",
    "          document_categories.append('pl_' + strip_tags(str(place)))\n",
    "\n",
    "      for person in people:\n",
    "          document_categories.append('pe_' + strip_tags(str(person)))\n",
    "\n",
    "      for org in orgs:\n",
    "          document_categories.append('or_' + strip_tags(str(org)))\n",
    "\n",
    "      for exchange in exchanges:\n",
    "          document_categories.append('ex_' + strip_tags(str(exchange)))\n",
    "\n",
    "      document_X[document_id] = document_body\n",
    "      document_Y[document_id] = document_categories\n",
    "\n",
    "def readFiles(test_data = False):\n",
    "  document_X = {}\n",
    "  document_Y = {}\n",
    "  if test_data == True:\n",
    "    file_name = sgml_file_name_template.replace('NNN', '021')\n",
    "    filename = data_folder + file_name\n",
    "    makeDict(filename, document_X, document_Y)\n",
    "  else:\n",
    "    for i in range(sgml_number_of_files):\n",
    "      if i < 10:\n",
    "        seq = '00' + str(i)\n",
    "      else:\n",
    "        seq = '0' + str(i)\n",
    "\n",
    "      file_name = sgml_file_name_template.replace('NNN', seq)\n",
    "      print('Reading file: %s' % file_name)\n",
    "      filename = data_folder + file_name\n",
    "      makeDict(filename, document_X, document_Y)\n",
    "  return document_X, document_Y\n",
    "\n"
   ]
  },
  {
   "cell_type": "code",
   "execution_count": 23,
   "metadata": {
    "colab": {
     "base_uri": "https://localhost:8080/",
     "height": 382
    },
    "colab_type": "code",
    "id": "KdM_aruT0jbf",
    "outputId": "93ba734e-ce95-45d3-c435-33bd5c5bf2fc"
   },
   "outputs": [
    {
     "name": "stdout",
     "output_type": "stream",
     "text": [
      "Reading file: reut2-000.sgm\n",
      "Reading file: reut2-001.sgm\n",
      "Reading file: reut2-002.sgm\n",
      "Reading file: reut2-003.sgm\n",
      "Reading file: reut2-004.sgm\n",
      "Reading file: reut2-005.sgm\n",
      "Reading file: reut2-006.sgm\n",
      "Reading file: reut2-007.sgm\n",
      "Reading file: reut2-008.sgm\n",
      "Reading file: reut2-009.sgm\n",
      "Reading file: reut2-010.sgm\n",
      "Reading file: reut2-011.sgm\n",
      "Reading file: reut2-012.sgm\n",
      "Reading file: reut2-013.sgm\n",
      "Reading file: reut2-014.sgm\n",
      "Reading file: reut2-015.sgm\n",
      "Reading file: reut2-016.sgm\n",
      "Reading file: reut2-017.sgm\n",
      "Reading file: reut2-018.sgm\n",
      "Reading file: reut2-019.sgm\n",
      "Reading file: reut2-020.sgm\n"
     ]
    }
   ],
   "source": [
    "document_X, document_Y = readFiles()"
   ]
  },
  {
   "cell_type": "code",
   "execution_count": 24,
   "metadata": {
    "colab": {
     "base_uri": "https://localhost:8080/",
     "height": 86
    },
    "colab_type": "code",
    "id": "smE_sFwt0jb6",
    "outputId": "86dfa167-291d-4e22-a573-536c2c5afa22"
   },
   "outputs": [
    {
     "name": "stdout",
     "output_type": "stream",
     "text": [
      "[nltk_data] Downloading package punkt to /root/nltk_data...\n",
      "[nltk_data]   Package punkt is already up-to-date!\n",
      "[nltk_data] Downloading package wordnet to /root/nltk_data...\n",
      "[nltk_data]   Package wordnet is already up-to-date!\n"
     ]
    }
   ],
   "source": [
    "# data preprocessing\n",
    "import numpy as np\n",
    "\n",
    "nltk.download('punkt')\n",
    "nltk.download('wordnet')\n",
    "\n",
    "def create_x_matrix(document_X):\n",
    "    totalX = []\n",
    "    for i, doc in document_X.items():\n",
    "        totalX.append(cleanUpSentence(doc))\n",
    "    max_vocab_size = 200\n",
    "    input_tokenizer = Tokenizer(200)\n",
    "    input_tokenizer.fit_on_texts(totalX)\n",
    "    encoded_docs = input_tokenizer.texts_to_matrix(totalX, mode='count')\n",
    "    return totalX,encoded_docs"
   ]
  },
  {
   "cell_type": "code",
   "execution_count": 0,
   "metadata": {
    "colab": {},
    "colab_type": "code",
    "id": "pmuFLyEf0jcM"
   },
   "outputs": [],
   "source": [
    "totalX,encoded_docs=create_x_matrix(document_X)"
   ]
  },
  {
   "cell_type": "code",
   "execution_count": 26,
   "metadata": {
    "colab": {
     "base_uri": "https://localhost:8080/",
     "height": 54
    },
    "colab_type": "code",
    "id": "m2q8qpYx0jcd",
    "outputId": "75bad545-9cea-450f-fdf7-7b2cf93e2d5d"
   },
   "outputs": [
    {
     "name": "stdout",
     "output_type": "stream",
     "text": [
      "showers continued throughout week bahia cocoa zone alleviating drought since early january improving prospects coming temporao although normal humidity levels restored comissaria smith said weekly review dry period means temporao late year arrivals week ended february 22 155 221 bags 60 kilos making cumulative total season 593 mln 581 stage last year seems cocoa delivered earlier consignment included arrivals figures comissaria smith said still doubt much old crop cocoa still available harvesting practically come end total bahia crop estimates around 64 mln bags sales standing almost 62 mln hundred thousand bags still hands farmers middlemen exporters processors doubts much cocoa would fit export shippers experiencing dificulties obtaining +bahia superior+ certificates view lower quality recent weeks farmers sold good part cocoa held consignment comissaria smith said spot bean prices rose 340 350 cruzados per arroba 15 kilos bean shippers reluctant offer nearby shipment limited sales booked march shipment 1 750 1 780 dlrs per tonne ports named new crop sales also light open ports june july going 1 850 1 880 dlrs 35 45 dlrs new york july aug sept 1 870 1 875 1 880 dlrs per tonne fob routine sales butter made march april sold 4 340 4 345 4 350 dlrs april may butter went 227 times new york may june july 4 400 4 415 dlrs aug sept 4 351 4 450 dlrs 227 228 times new york sept oct dec 4 480 dlrs 227 times new york dec comissaria smith said destinations us covertible currency areas uruguay open ports cake sales registered 785 995 dlrs march april 785 dlrs may 753 dlrs aug 039 times new york dec oct dec buyers us argentina uruguay convertible currency areas liquor sales limited march april selling 2 325 2 380 dlrs june july 2 375 dlrs 125 times new york july aug sept 2 400 dlrs 125 times new york sept oct dec 125 times new york dec comissaria smith said total bahia sales currently estimated 613 mln bags 1986 87 crop 106 mln bags 1987 88 crop final figures period february 28 expected published brazilian cocoa trade commission carnival ends midday february 27 reuter\n"
     ]
    }
   ],
   "source": [
    "print(totalX[0])"
   ]
  },
  {
   "cell_type": "code",
   "execution_count": 0,
   "metadata": {
    "colab": {},
    "colab_type": "code",
    "collapsed": true,
    "id": "u9y5MsSb0jcs"
   },
   "outputs": [],
   "source": [
    "#Creating one-hot encode\n",
    "words_in_body={}\n",
    "\n",
    "for i in range(len(totalX)):\n",
    "    words=totalX[i].split(' ')\n",
    "    words_in_body[i]=words    \n",
    "\n",
    "one_hot_label=[]\n",
    "for key,v in words_in_body.items():\n",
    "    dict_temp={'Topics':0,'Places':0,'People':0,'Exchanges':0,'Organizations':0}\n",
    "    for i in v:\n",
    "        if i in category_dictionary['Topics']:\n",
    "            dict_temp['Topics']+=1\n",
    "        if i in category_dictionary['Places']:\n",
    "            dict_temp['Places']+=1\n",
    "        if i in category_dictionary['People']:\n",
    "            dict_temp['People']+=1\n",
    "        if i in category_dictionary['Exchanges']:\n",
    "            dict_temp['Exchanges']+=1\n",
    "        if i in category_dictionary['Organizations']:\n",
    "            dict_temp['Organizations']+=1\n",
    "            \n",
    "    one_hot_label.append(dict_temp)\n",
    "    \n",
    "\n",
    "one_hot_label_list = []\n",
    "for i in one_hot_label:\n",
    "\n",
    "    one_hot_label_list.append(list(i.values()))\n",
    "\n"
   ]
  },
  {
   "cell_type": "code",
   "execution_count": 28,
   "metadata": {
    "colab": {
     "base_uri": "https://localhost:8080/",
     "height": 225
    },
    "colab_type": "code",
    "id": "Au-mGTBB0jdD",
    "outputId": "747c8761-353a-4610-d92e-011eb6af5225"
   },
   "outputs": [
    {
     "name": "stdout",
     "output_type": "stream",
     "text": [
      "Train on 14866 samples, validate on 3717 samples\n",
      "Epoch 1/5\n",
      "14866/14866 [==============================] - 4s 248us/step - loss: 3.0889 - acc: 0.7995 - val_loss: 3.1979 - val_acc: 0.7657\n",
      "Epoch 2/5\n",
      "14866/14866 [==============================] - 3s 233us/step - loss: 2.7917 - acc: 0.8123 - val_loss: 3.0922 - val_acc: 0.7993\n",
      "Epoch 3/5\n",
      "14866/14866 [==============================] - 3s 231us/step - loss: 2.7172 - acc: 0.8123 - val_loss: 3.1558 - val_acc: 0.7963\n",
      "Epoch 4/5\n",
      "14866/14866 [==============================] - 3s 230us/step - loss: 2.6782 - acc: 0.8160 - val_loss: 3.0993 - val_acc: 0.8015\n",
      "Epoch 5/5\n",
      "14866/14866 [==============================] - 3s 231us/step - loss: 2.6595 - acc: 0.8157 - val_loss: 3.1105 - val_acc: 0.7977\n"
     ]
    },
    {
     "data": {
      "text/plain": [
       "<keras.callbacks.History at 0x7f0aea578668>"
      ]
     },
     "execution_count": 28,
     "metadata": {
      "tags": []
     },
     "output_type": "execute_result"
    }
   ],
   "source": [
    "from keras.models import Sequential\n",
    "from keras.layers import Dense,Flatten, Dropout,Embedding\n",
    "nn = Sequential()\n",
    "max_vocab_size = 200\n",
    "nn.add(Embedding(200, 20, input_length=max_vocab_size))\n",
    "nn.add(Dense(10, activation=\"relu\", input_shape=(max_vocab_size,)))\n",
    "nn.add(Dropout(0.15))\n",
    "nn.add(Flatten())\n",
    "nn.add(Dense(5,activation=\"softmax\"))\n",
    "nn.compile(optimizer='adam', loss='categorical_crossentropy', metrics=['accuracy'])\n",
    "nn.fit(np.array(encoded_docs), np.array(one_hot_label_list), batch_size=16, epochs=10,\n",
    "          verbose=1, validation_split=0.2)"
   ]
  },
  {
   "cell_type": "code",
   "execution_count": 29,
   "metadata": {
    "colab": {
     "base_uri": "https://localhost:8080/",
     "height": 34
    },
    "colab_type": "code",
    "id": "P5crb8zK0jdL",
    "outputId": "336d2767-3cb7-46a7-c222-16b95dd7a6e6"
   },
   "outputs": [
    {
     "name": "stdout",
     "output_type": "stream",
     "text": [
      "460\n"
     ]
    }
   ],
   "source": [
    "test_document_X, test_document_Y = readFiles(test_data=True)\n",
    "print(len(test_document_X))"
   ]
  },
  {
   "cell_type": "code",
   "execution_count": 30,
   "metadata": {
    "colab": {
     "base_uri": "https://localhost:8080/",
     "height": 139
    },
    "colab_type": "code",
    "id": "V3rAIuqZ0jdU",
    "outputId": "6278f27e-c99e-486b-fe6e-72cb8a5314f0"
   },
   "outputs": [
    {
     "name": "stdout",
     "output_type": "stream",
     "text": [
      "[[0.5740951  0.29711303 0.11903739 0.00575014 0.00400436]\n",
      " [0.18848616 0.5759137  0.04410791 0.03276887 0.15872331]\n",
      " [0.53887486 0.22211772 0.03371068 0.178308   0.02698878]\n",
      " ...\n",
      " [0.5454183  0.2936259  0.07274341 0.04950838 0.03870394]\n",
      " [0.46679986 0.14245215 0.32240778 0.03881722 0.02952303]\n",
      " [0.7624998  0.1556863  0.06086464 0.00761037 0.01333883]]\n"
     ]
    }
   ],
   "source": [
    "test_total_X,test_encoded_X= create_x_matrix(test_document_X)\n",
    "y = nn.predict(test_encoded_X)\n",
    "print (y)"
   ]
  },
  {
   "cell_type": "code",
   "execution_count": 31,
   "metadata": {
    "colab": {
     "base_uri": "https://localhost:8080/",
     "height": 54
    },
    "colab_type": "code",
    "id": "3RBUylmj0jdh",
    "outputId": "6ac85e2b-e836-4a33-986f-846b105f53a6"
   },
   "outputs": [
    {
     "name": "stdout",
     "output_type": "stream",
     "text": [
      "[[('Topics', 0.5740951), ('Places', 0.29711303), ('Peoples', 0.11903739), ('Exchanges', 0.005750142), ('Organizations', 0.0040043565)], [('Places', 0.5759137), ('Topics', 0.18848616), ('Organizations', 0.15872331), ('Peoples', 0.044107907), ('Exchanges', 0.03276887)], [('Topics', 0.53887486), ('Places', 0.22211772), ('Exchanges', 0.178308), ('Peoples', 0.03371068), ('Organizations', 0.026988778)], [('Topics', 0.4413671), ('Places', 0.2965116), ('Peoples', 0.21976028), ('Organizations', 0.034658466), ('Exchanges', 0.007702524)], [('Topics', 0.39966056), ('Exchanges', 0.37659654), ('Places', 0.15851277), ('Peoples', 0.036532696), ('Organizations', 0.028697468)], [('Topics', 0.579246), ('Places', 0.3068005), ('Peoples', 0.057579312), ('Organizations', 0.031028703), ('Exchanges', 0.025345523)], [('Topics', 0.7583613), ('Places', 0.16838542), ('Organizations', 0.029013667), ('Peoples', 0.022161221), ('Exchanges', 0.022078475)], [('Topics', 0.72361535), ('Places', 0.16878037), ('Organizations', 0.041232973), ('Peoples', 0.04002844), ('Exchanges', 0.026342843)], [('Topics', 0.85120714), ('Places', 0.103143856), ('Peoples', 0.025626846), ('Exchanges', 0.011992993), ('Organizations', 0.008029256)], [('Topics', 0.4478493), ('Places', 0.3583654), ('Peoples', 0.14629331), ('Organizations', 0.03763096), ('Exchanges', 0.009861022)], [('Topics', 0.87261146), ('Places', 0.086765364), ('Peoples', 0.021147257), ('Exchanges', 0.010017175), ('Organizations', 0.009458784)], [('Exchanges', 0.4224928), ('Topics', 0.3048538), ('Places', 0.186209), ('Peoples', 0.051387023), ('Organizations', 0.035057347)], [('Topics', 0.8778366), ('Places', 0.084172994), ('Peoples', 0.018352129), ('Organizations', 0.010605071), ('Exchanges', 0.0090332385)], [('Topics', 0.95433027), ('Peoples', 0.018781839), ('Places', 0.018551968), ('Exchanges', 0.0073751076), ('Organizations', 0.0009607274)], [('Topics', 0.7196585), ('Places', 0.1973384), ('Exchanges', 0.03505583), ('Organizations', 0.024974307), ('Peoples', 0.022972915)], [('Topics', 0.65151745), ('Places', 0.18357335), ('Peoples', 0.10732034), ('Exchanges', 0.04337489), ('Organizations', 0.014213953)], [('Topics', 0.5829544), ('Places', 0.253995), ('Peoples', 0.10865017), ('Exchanges', 0.038113955), ('Organizations', 0.016286505)], [('Topics', 0.9178718), ('Places', 0.0667624), ('Peoples', 0.005853656), ('Exchanges', 0.0047971625), ('Organizations', 0.004715022)], [('Topics', 0.56500465), ('Places', 0.3145105), ('Organizations', 0.053867854), ('Exchanges', 0.04340425), ('Peoples', 0.023212785)], [('Topics', 0.7119481), ('Places', 0.16773078), ('Peoples', 0.059885353), ('Organizations', 0.03627928), ('Exchanges', 0.02415642)], [('Topics', 0.79025596), ('Places', 0.118617706), ('Peoples', 0.05100292), ('Exchanges', 0.022327717), ('Organizations', 0.017795648)], [('Topics', 0.4473262), ('Places', 0.29565322), ('Peoples', 0.20484091), ('Exchanges', 0.030314129), ('Organizations', 0.021865616)], [('Topics', 0.8652367), ('Places', 0.08707675), ('Peoples', 0.023111548), ('Exchanges', 0.01333595), ('Organizations', 0.011239119)], [('Topics', 0.7828802), ('Places', 0.17047733), ('Peoples', 0.02406919), ('Exchanges', 0.015680047), ('Organizations', 0.0068932325)], [('Topics', 0.5939383), ('Places', 0.19917683), ('Organizations', 0.095769584), ('Peoples', 0.09235679), ('Exchanges', 0.018758524)], [('Topics', 0.43613657), ('Places', 0.41754425), ('Organizations', 0.060951114), ('Peoples', 0.053476855), ('Exchanges', 0.031891152)], [('Topics', 0.8627784), ('Places', 0.068445176), ('Organizations', 0.026227815), ('Peoples', 0.02584364), ('Exchanges', 0.01670503)], [('Topics', 0.67746377), ('Places', 0.17590342), ('Peoples', 0.08378519), ('Exchanges', 0.032636598), ('Organizations', 0.03021102)], [('Topics', 0.88437945), ('Places', 0.09438309), ('Peoples', 0.017859017), ('Exchanges', 0.0025338717), ('Organizations', 0.0008445461)], [('Topics', 0.47334433), ('Places', 0.31318164), ('Peoples', 0.12468092), ('Exchanges', 0.049248368), ('Organizations', 0.03954477)], [('Topics', 0.6729216), ('Places', 0.24954952), ('Peoples', 0.049294893), ('Organizations', 0.015114723), ('Exchanges', 0.013119338)], [('Topics', 0.95434374), ('Places', 0.024547001), ('Peoples', 0.009130363), ('Organizations', 0.007851067), ('Exchanges', 0.0041278927)], [('Topics', 0.8998207), ('Places', 0.07336845), ('Peoples', 0.016449103), ('Exchanges', 0.007899151), ('Organizations', 0.0024626052)], [('Topics', 0.5685914), ('Places', 0.28823677), ('Peoples', 0.062030222), ('Exchanges', 0.040804707), ('Organizations', 0.04033686)], [('Topics', 0.7963281), ('Places', 0.15024191), ('Peoples', 0.03319008), ('Exchanges', 0.01032215), ('Organizations', 0.009917659)], [('Topics', 0.8248585), ('Places', 0.1394548), ('Peoples', 0.019758927), ('Exchanges', 0.012137198), ('Organizations', 0.0037906612)], [('Topics', 0.86631316), ('Places', 0.095638774), ('Peoples', 0.022349425), ('Exchanges', 0.012359315), ('Organizations', 0.0033392943)], [('Topics', 0.8332609), ('Places', 0.11049071), ('Organizations', 0.024725107), ('Peoples', 0.02456409), ('Exchanges', 0.0069591478)], [('Topics', 0.8215821), ('Places', 0.14592806), ('Peoples', 0.015118493), ('Organizations', 0.009154503), ('Exchanges', 0.008216776)], [('Topics', 0.93876815), ('Places', 0.04366919), ('Peoples', 0.009728131), ('Exchanges', 0.0055534835), ('Organizations', 0.0022810162)], [('Topics', 0.73355734), ('Places', 0.17270073), ('Peoples', 0.064855665), ('Exchanges', 0.023886427), ('Organizations', 0.0049998816)], [('Topics', 0.7927753), ('Places', 0.106744595), ('Peoples', 0.07255816), ('Exchanges', 0.024621401), ('Organizations', 0.003300563)], [('Topics', 0.50116307), ('Places', 0.30707464), ('Peoples', 0.08902154), ('Exchanges', 0.056052845), ('Organizations', 0.046687834)], [('Topics', 0.92892367), ('Places', 0.051770367), ('Peoples', 0.014279339), ('Exchanges', 0.0035278448), ('Organizations', 0.0014987821)], [('Topics', 0.45095), ('Exchanges', 0.29250437), ('Places', 0.19963644), ('Peoples', 0.035625152), ('Organizations', 0.021284059)], [('Topics', 0.77755654), ('Places', 0.17324097), ('Peoples', 0.022248015), ('Exchanges', 0.021202657), ('Organizations', 0.005751817)], [('Topics', 0.76690763), ('Peoples', 0.13672155), ('Places', 0.05057652), ('Exchanges', 0.040507205), ('Organizations', 0.0052871453)], [('Topics', 0.9560405), ('Places', 0.030663388), ('Peoples', 0.007894457), ('Exchanges', 0.0052677393), ('Organizations', 0.00013386318)], [('Topics', 0.5950726), ('Places', 0.2423608), ('Peoples', 0.087119095), ('Exchanges', 0.038077418), ('Organizations', 0.037370015)], [('Topics', 0.92644364), ('Places', 0.048020925), ('Peoples', 0.014017352), ('Exchanges', 0.0060123615), ('Organizations', 0.0055056526)], [('Topics', 0.71870756), ('Places', 0.25684905), ('Peoples', 0.016139265), ('Organizations', 0.005827875), ('Exchanges', 0.0024761984)], [('Topics', 0.75813574), ('Places', 0.20405062), ('Peoples', 0.017140156), ('Exchanges', 0.013941547), ('Organizations', 0.006731966)], [('Topics', 0.76470995), ('Places', 0.12852894), ('Exchanges', 0.039779563), ('Peoples', 0.03686466), ('Organizations', 0.03011688)], [('Topics', 0.60819846), ('Places', 0.2655947), ('Exchanges', 0.05303925), ('Peoples', 0.04832887), ('Organizations', 0.02483887)], [('Topics', 0.5994013), ('Places', 0.22896005), ('Peoples', 0.10965745), ('Organizations', 0.032701194), ('Exchanges', 0.029279962)], [('Topics', 0.7077397), ('Places', 0.18616116), ('Peoples', 0.061171383), ('Exchanges', 0.033505626), ('Organizations', 0.0114221275)], [('Topics', 0.8017754), ('Places', 0.13848037), ('Organizations', 0.025728166), ('Exchanges', 0.018424524), ('Peoples', 0.015591638)], [('Topics', 0.6060618), ('Places', 0.19266781), ('Peoples', 0.13551618), ('Organizations', 0.043557275), ('Exchanges', 0.022196867)], [('Topics', 0.8220494), ('Places', 0.11491796), ('Exchanges', 0.028484046), ('Peoples', 0.027156161), ('Organizations', 0.007392467)], [('Peoples', 0.5241116), ('Topics', 0.3048382), ('Places', 0.12054572), ('Organizations', 0.02734869), ('Exchanges', 0.023155829)], [('Topics', 0.82935417), ('Places', 0.1163734), ('Peoples', 0.034366727), ('Organizations', 0.012757503), ('Exchanges', 0.0071481904)], [('Topics', 0.58292556), ('Places', 0.21814968), ('Peoples', 0.11864184), ('Exchanges', 0.042099398), ('Organizations', 0.03818348)], [('Topics', 0.6935367), ('Places', 0.2053216), ('Peoples', 0.04636732), ('Exchanges', 0.029353004), ('Organizations', 0.025421405)], [('Topics', 0.47623712), ('Places', 0.35520655), ('Peoples', 0.102109194), ('Exchanges', 0.038138337), ('Organizations', 0.028308848)], [('Topics', 0.78175086), ('Places', 0.1464751), ('Peoples', 0.028773712), ('Organizations', 0.023344962), ('Exchanges', 0.019655425)], [('Topics', 0.7923466), ('Places', 0.14874767), ('Peoples', 0.049822006), ('Exchanges', 0.0074871304), ('Organizations', 0.0015965623)], [('Topics', 0.7493437), ('Places', 0.1804457), ('Organizations', 0.031796645), ('Exchanges', 0.023388239), ('Peoples', 0.015025756)], [('Topics', 0.73464197), ('Places', 0.17725153), ('Peoples', 0.05953055), ('Exchanges', 0.019564535), ('Organizations', 0.009011414)], [('Topics', 0.9111784), ('Places', 0.06546613), ('Exchanges', 0.010049322), ('Peoples', 0.00938822), ('Organizations', 0.003918006)], [('Topics', 0.60408205), ('Places', 0.30422518), ('Peoples', 0.05094096), ('Organizations', 0.022654703), ('Exchanges', 0.018097077)], [('Topics', 0.85841596), ('Places', 0.0863282), ('Exchanges', 0.022502577), ('Peoples', 0.019759398), ('Organizations', 0.012993786)], [('Topics', 0.74049115), ('Places', 0.15408902), ('Exchanges', 0.037290853), ('Peoples', 0.03627348), ('Organizations', 0.03185554)], [('Topics', 0.7694694), ('Places', 0.13736887), ('Peoples', 0.03315541), ('Exchanges', 0.031665403), ('Organizations', 0.028341029)], [('Topics', 0.802177), ('Places', 0.11438856), ('Exchanges', 0.03187038), ('Peoples', 0.031210495), ('Organizations', 0.020353507)], [('Topics', 0.7979466), ('Places', 0.11002132), ('Peoples', 0.04595727), ('Organizations', 0.023738576), ('Exchanges', 0.022336181)], [('Topics', 0.5664014), ('Places', 0.32092592), ('Peoples', 0.08080631), ('Organizations', 0.017141914), ('Exchanges', 0.014724408)], [('Topics', 0.5158515), ('Places', 0.21223933), ('Exchanges', 0.19717136), ('Peoples', 0.04284687), ('Organizations', 0.031890936)], [('Topics', 0.7762236), ('Places', 0.10699758), ('Exchanges', 0.044508994), ('Peoples', 0.038164835), ('Organizations', 0.03410513)], [('Topics', 0.5288233), ('Places', 0.27852836), ('Organizations', 0.089620054), ('Exchanges', 0.05671095), ('Peoples', 0.04631733)], [('Topics', 0.8189895), ('Places', 0.080000274), ('Exchanges', 0.055455938), ('Peoples', 0.026178755), ('Organizations', 0.01937561)], [('Topics', 0.8136283), ('Places', 0.13586257), ('Peoples', 0.024895314), ('Organizations', 0.013833725), ('Exchanges', 0.011780109)], [('Topics', 0.73455787), ('Places', 0.20773199), ('Peoples', 0.034984156), ('Exchanges', 0.018854817), ('Organizations', 0.003871202)], [('Topics', 0.45630947), ('Places', 0.29679894), ('Peoples', 0.11379649), ('Exchanges', 0.08237219), ('Organizations', 0.050722983)], [('Places', 0.41245025), ('Topics', 0.37826687), ('Peoples', 0.11239132), ('Organizations', 0.058450084), ('Exchanges', 0.038441464)], [('Topics', 0.8348207), ('Places', 0.11522723), ('Peoples', 0.035746504), ('Exchanges', 0.010590849), ('Organizations', 0.003614701)], [('Topics', 0.6767572), ('Places', 0.26779765), ('Peoples', 0.03434752), ('Exchanges', 0.011577018), ('Organizations', 0.009520507)], [('Topics', 0.6044932), ('Places', 0.2502677), ('Peoples', 0.11635025), ('Organizations', 0.018081976), ('Exchanges', 0.010806863)], [('Topics', 0.9834463), ('Places', 0.011340202), ('Exchanges', 0.0027999256), ('Peoples', 0.0023588825), ('Organizations', 5.4609176e-05)], [('Topics', 0.619914), ('Places', 0.17680278), ('Exchanges', 0.082293235), ('Peoples', 0.08157032), ('Organizations', 0.039419655)], [('Topics', 0.8252303), ('Places', 0.10210733), ('Peoples', 0.045022946), ('Exchanges', 0.014309198), ('Organizations', 0.013330237)], [('Topics', 0.89853793), ('Places', 0.07680348), ('Peoples', 0.015547197), ('Exchanges', 0.008010158), ('Organizations', 0.001101223)], [('Topics', 0.49759153), ('Places', 0.3637075), ('Peoples', 0.07208927), ('Exchanges', 0.034391325), ('Organizations', 0.032220352)], [('Topics', 0.77620625), ('Places', 0.13961849), ('Peoples', 0.049848184), ('Exchanges', 0.020413917), ('Organizations', 0.013913042)], [('Topics', 0.90418005), ('Places', 0.07025006), ('Peoples', 0.011855641), ('Exchanges', 0.008394439), ('Organizations', 0.0053198324)], [('Topics', 0.6054146), ('Places', 0.280581), ('Peoples', 0.07843302), ('Organizations', 0.017932326), ('Exchanges', 0.017639002)], [('Topics', 0.9295625), ('Places', 0.04479786), ('Peoples', 0.017224327), ('Exchanges', 0.00765845), ('Organizations', 0.0007567949)], [('Topics', 0.7352595), ('Places', 0.18212308), ('Peoples', 0.044867974), ('Organizations', 0.020448001), ('Exchanges', 0.01730141)], [('Topics', 0.9548893), ('Places', 0.032838177), ('Exchanges', 0.008541338), ('Peoples', 0.0031229528), ('Organizations', 0.0006081845)], [('Peoples', 0.59655225), ('Topics', 0.24689588), ('Places', 0.13754581), ('Organizations', 0.013335439), ('Exchanges', 0.0056705945)], [('Topics', 0.8215523), ('Peoples', 0.08619439), ('Places', 0.0768199), ('Exchanges', 0.011897967), ('Organizations', 0.0035356567)], [('Topics', 0.8775032), ('Places', 0.086066455), ('Organizations', 0.0198134), ('Peoples', 0.010352953), ('Exchanges', 0.0062639792)], [('Topics', 0.2967238), ('Places', 0.288275), ('Organizations', 0.27915442), ('Peoples', 0.11621476), ('Exchanges', 0.019631984)], [('Topics', 0.49683478), ('Places', 0.25966412), ('Peoples', 0.1325131), ('Organizations', 0.06709718), ('Exchanges', 0.043890793)], [('Topics', 0.7068582), ('Places', 0.23601012), ('Peoples', 0.02794836), ('Exchanges', 0.018289935), ('Organizations', 0.010893336)], [('Topics', 0.6226062), ('Places', 0.19668436), ('Peoples', 0.085801505), ('Organizations', 0.056858245), ('Exchanges', 0.038049627)], [('Topics', 0.59079325), ('Places', 0.28352097), ('Peoples', 0.09752349), ('Exchanges', 0.017652038), ('Organizations', 0.01051026)], [('Topics', 0.61144537), ('Places', 0.22756532), ('Peoples', 0.09246675), ('Exchanges', 0.035356488), ('Organizations', 0.03316602)], [('Topics', 0.70615697), ('Places', 0.15908447), ('Peoples', 0.08187292), ('Organizations', 0.030243276), ('Exchanges', 0.022642322)], [('Topics', 0.7317185), ('Places', 0.19543907), ('Exchanges', 0.031448662), ('Peoples', 0.027965898), ('Organizations', 0.013427863)], [('Topics', 0.7777238), ('Places', 0.1612994), ('Peoples', 0.024150504), ('Organizations', 0.023369871), ('Exchanges', 0.013456424)], [('Topics', 0.7519588), ('Places', 0.14988393), ('Peoples', 0.087667115), ('Organizations', 0.0073966067), ('Exchanges', 0.00309362)], [('Topics', 0.8003828), ('Places', 0.08071748), ('Peoples', 0.061834853), ('Organizations', 0.03211474), ('Exchanges', 0.02495027)], [('Topics', 0.6324247), ('Places', 0.2016082), ('Peoples', 0.06758966), ('Organizations', 0.05051536), ('Exchanges', 0.047861993)], [('Topics', 0.60352266), ('Places', 0.27278352), ('Organizations', 0.050134305), ('Peoples', 0.0433569), ('Exchanges', 0.030202663)], [('Topics', 0.92796534), ('Places', 0.049286462), ('Organizations', 0.010794187), ('Exchanges', 0.006065688), ('Peoples', 0.005888353)], [('Topics', 0.84586823), ('Places', 0.12428767), ('Organizations', 0.01169902), ('Peoples', 0.01012376), ('Exchanges', 0.008021318)], [('Topics', 0.55158967), ('Places', 0.28756082), ('Peoples', 0.069795795), ('Exchanges', 0.0600603), ('Organizations', 0.030993458)], [('Topics', 0.55941963), ('Places', 0.3605957), ('Peoples', 0.037225474), ('Organizations', 0.031576727), ('Exchanges', 0.011182474)], [('Topics', 0.42204404), ('Exchanges', 0.35634208), ('Places', 0.16914415), ('Peoples', 0.036549293), ('Organizations', 0.015920414)], [('Topics', 0.7231805), ('Places', 0.17510462), ('Peoples', 0.04277172), ('Exchanges', 0.038072027), ('Organizations', 0.02087122)], [('Topics', 0.8863668), ('Places', 0.10439736), ('Peoples', 0.0053364118), ('Exchanges', 0.0021993583), ('Organizations', 0.0017001564)], [('Topics', 0.8437416), ('Places', 0.114168145), ('Exchanges', 0.016275423), ('Organizations', 0.01307949), ('Peoples', 0.012735349)], [('Topics', 0.5735393), ('Places', 0.27996448), ('Peoples', 0.056992315), ('Organizations', 0.05189668), ('Exchanges', 0.037607197)], [('Topics', 0.81777287), ('Places', 0.15880705), ('Peoples', 0.013424315), ('Exchanges', 0.005105025), ('Organizations', 0.0048906733)], [('Topics', 0.8730954), ('Places', 0.07425793), ('Peoples', 0.044661015), ('Exchanges', 0.007287096), ('Organizations', 0.00069855555)], [('Topics', 0.9636004), ('Places', 0.025333313), ('Peoples', 0.006069969), ('Organizations', 0.003413692), ('Exchanges', 0.0015825576)], [('Topics', 0.9471444), ('Places', 0.028528234), ('Peoples', 0.013844289), ('Exchanges', 0.0083955955), ('Organizations', 0.0020874331)], [('Topics', 0.4374819), ('Places', 0.28063995), ('Peoples', 0.23702505), ('Organizations', 0.025231877), ('Exchanges', 0.019621123)], [('Topics', 0.3481646), ('Exchanges', 0.2860323), ('Places', 0.21925962), ('Peoples', 0.11987309), ('Organizations', 0.026670422)], [('Topics', 0.4731634), ('Places', 0.40123153), ('Organizations', 0.057750095), ('Peoples', 0.054367352), ('Exchanges', 0.013487557)], [('Exchanges', 0.7464571), ('Places', 0.115811035), ('Topics', 0.11278444), ('Peoples', 0.013021572), ('Organizations', 0.011925808)], [('Topics', 0.53603715), ('Places', 0.29810652), ('Peoples', 0.07709676), ('Organizations', 0.055455577), ('Exchanges', 0.03330394)], [('Topics', 0.59126073), ('Places', 0.32135445), ('Peoples', 0.038823467), ('Organizations', 0.030907907), ('Exchanges', 0.017653527)], [('Topics', 0.6255618), ('Places', 0.16171575), ('Peoples', 0.102444194), ('Exchanges', 0.07187265), ('Organizations', 0.038405668)], [('Topics', 0.49978408), ('Places', 0.22398943), ('Organizations', 0.15897404), ('Peoples', 0.10953653), ('Exchanges', 0.007715881)], [('Topics', 0.47999144), ('Exchanges', 0.20819117), ('Places', 0.1619026), ('Peoples', 0.1276083), ('Organizations', 0.022306448)], [('Topics', 0.5748449), ('Places', 0.26342207), ('Peoples', 0.08159641), ('Exchanges', 0.040712856), ('Organizations', 0.03942375)], [('Topics', 0.393073), ('Exchanges', 0.3283276), ('Places', 0.2096097), ('Peoples', 0.04880912), ('Organizations', 0.020180576)], [('Topics', 0.9533394), ('Places', 0.03458753), ('Peoples', 0.005886278), ('Organizations', 0.0032757637), ('Exchanges', 0.0029110652)], [('Topics', 0.8968354), ('Places', 0.07369049), ('Peoples', 0.01177748), ('Exchanges', 0.010981625), ('Organizations', 0.0067151226)], [('Topics', 0.8601019), ('Places', 0.08403527), ('Peoples', 0.02914889), ('Exchanges', 0.015300385), ('Organizations', 0.011413629)], [('Topics', 0.5826463), ('Places', 0.2830692), ('Peoples', 0.069026455), ('Exchanges', 0.044191908), ('Organizations', 0.021066094)], [('Topics', 0.5911974), ('Places', 0.36058575), ('Peoples', 0.027680283), ('Exchanges', 0.011202976), ('Organizations', 0.009333561)], [('Topics', 0.9520791), ('Places', 0.034144852), ('Peoples', 0.0070625567), ('Exchanges', 0.004882489), ('Organizations', 0.001831046)], [('Topics', 0.51791227), ('Places', 0.33334914), ('Peoples', 0.069705576), ('Organizations', 0.048056807), ('Exchanges', 0.030976295)], [('Topics', 0.8623292), ('Peoples', 0.08930198), ('Places', 0.04374999), ('Exchanges', 0.0043322504), ('Organizations', 0.00028671452)], [('Topics', 0.87048924), ('Places', 0.083933525), ('Peoples', 0.031536292), ('Exchanges', 0.011978545), ('Organizations', 0.0020623123)], [('Topics', 0.5641129), ('Places', 0.26750773), ('Peoples', 0.07529633), ('Exchanges', 0.05148557), ('Organizations', 0.041597504)], [('Topics', 0.79456764), ('Places', 0.11422356), ('Peoples', 0.080452465), ('Exchanges', 0.010079367), ('Organizations', 0.0006769539)], [('Topics', 0.86888695), ('Places', 0.081945516), ('Peoples', 0.03709865), ('Organizations', 0.0068085343), ('Exchanges', 0.005260347)], [('Topics', 0.5715414), ('Places', 0.27625212), ('Exchanges', 0.06825757), ('Peoples', 0.059453778), ('Organizations', 0.024495088)], [('Topics', 0.8293489), ('Places', 0.07499627), ('Peoples', 0.05775828), ('Exchanges', 0.024336362), ('Organizations', 0.013560181)], [('Topics', 0.8520566), ('Places', 0.088998124), ('Peoples', 0.02778749), ('Exchanges', 0.018905278), ('Organizations', 0.012252549)], [('Topics', 0.66373706), ('Places', 0.22806872), ('Peoples', 0.059337605), ('Organizations', 0.027905904), ('Exchanges', 0.02095084)], [('Places', 0.46524405), ('Topics', 0.30306324), ('Peoples', 0.16894889), ('Organizations', 0.041108407), ('Exchanges', 0.021635415)], [('Topics', 0.5389856), ('Places', 0.2815969), ('Peoples', 0.11568815), ('Organizations', 0.03331017), ('Exchanges', 0.030419197)], [('Topics', 0.506466), ('Places', 0.20155872), ('Peoples', 0.1420949), ('Organizations', 0.12572321), ('Exchanges', 0.02415719)], [('Topics', 0.67979884), ('Places', 0.1800175), ('Peoples', 0.053429294), ('Exchanges', 0.04677434), ('Organizations', 0.039980046)], [('Places', 0.4808409), ('Topics', 0.27395585), ('Peoples', 0.12217208), ('Exchanges', 0.10935143), ('Organizations', 0.013679666)], [('Topics', 0.92151976), ('Places', 0.05106513), ('Peoples', 0.020632531), ('Exchanges', 0.004742867), ('Organizations', 0.0020398)], [('Topics', 0.88300145), ('Places', 0.07758922), ('Exchanges', 0.016256703), ('Peoples', 0.013829917), ('Organizations', 0.009322743)], [('Topics', 0.8929011), ('Places', 0.07341432), ('Peoples', 0.01731246), ('Exchanges', 0.012855599), ('Organizations', 0.0035163995)], [('Topics', 0.7478779), ('Peoples', 0.16205353), ('Places', 0.08526238), ('Exchanges', 0.0035895244), ('Organizations', 0.0012167124)], [('Topics', 0.97917944), ('Places', 0.015264992), ('Peoples', 0.003175494), ('Exchanges', 0.0022282947), ('Organizations', 0.00015178575)], [('Topics', 0.83020663), ('Places', 0.12615627), ('Peoples', 0.029662998), ('Exchanges', 0.009376647), ('Organizations', 0.0045975186)], [('Topics', 0.88861895), ('Places', 0.08614117), ('Peoples', 0.019182904), ('Exchanges', 0.004029026), ('Organizations', 0.0020279307)], [('Topics', 0.9043996), ('Places', 0.05338686), ('Peoples', 0.029273383), ('Exchanges', 0.011203687), ('Organizations', 0.0017365497)], [('Places', 0.3646445), ('Topics', 0.34372175), ('Organizations', 0.1424168), ('Exchanges', 0.091192074), ('Peoples', 0.058024902)], [('Topics', 0.86910534), ('Places', 0.10711632), ('Peoples', 0.010034058), ('Exchanges', 0.007054084), ('Organizations', 0.0066902624)], [('Topics', 0.4864754), ('Places', 0.35208854), ('Peoples', 0.088414796), ('Exchanges', 0.038507316), ('Organizations', 0.034513965)], [('Topics', 0.7924438), ('Exchanges', 0.10889421), ('Places', 0.08048537), ('Peoples', 0.009388402), ('Organizations', 0.00878822)], [('Topics', 0.6971138), ('Places', 0.15352271), ('Peoples', 0.1104382), ('Exchanges', 0.026748255), ('Organizations', 0.012177008)], [('Topics', 0.7898714), ('Peoples', 0.10109831), ('Places', 0.09682539), ('Exchanges', 0.006946289), ('Organizations', 0.00525867)], [('Topics', 0.84986615), ('Places', 0.09047569), ('Peoples', 0.024885487), ('Exchanges', 0.023959313), ('Organizations', 0.01081335)], [('Topics', 0.7867582), ('Places', 0.15363175), ('Peoples', 0.032454472), ('Exchanges', 0.016313229), ('Organizations', 0.010842347)], [('Topics', 0.90104467), ('Places', 0.05324071), ('Peoples', 0.028618198), ('Exchanges', 0.015654143), ('Organizations', 0.0014421911)], [('Topics', 0.89266086), ('Places', 0.079457715), ('Peoples', 0.013888255), ('Exchanges', 0.0131086875), ('Organizations', 0.000884593)], [('Topics', 0.50295323), ('Places', 0.3440424), ('Organizations', 0.07121856), ('Peoples', 0.04250695), ('Exchanges', 0.039278824)], [('Topics', 0.8307105), ('Places', 0.10962349), ('Peoples', 0.029461876), ('Organizations', 0.015387612), ('Exchanges', 0.014816664)], [('Places', 0.42185748), ('Topics', 0.37049615), ('Organizations', 0.1688257), ('Peoples', 0.031061767), ('Exchanges', 0.007758935)], [('Topics', 0.84101665), ('Places', 0.11429601), ('Peoples', 0.02750686), ('Exchanges', 0.016613957), ('Organizations', 0.0005664878)], [('Topics', 0.9068603), ('Places', 0.050387964), ('Peoples', 0.03376438), ('Exchanges', 0.005338506), ('Organizations', 0.0036489544)], [('Places', 0.41280946), ('Topics', 0.3843342), ('Peoples', 0.12249383), ('Organizations', 0.051473796), ('Exchanges', 0.028888617)], [('Topics', 0.68034136), ('Places', 0.22408853), ('Organizations', 0.037488677), ('Peoples', 0.034339067), ('Exchanges', 0.023742396)], [('Topics', 0.92129546), ('Places', 0.068696), ('Exchanges', 0.00501297), ('Peoples', 0.003592912), ('Organizations', 0.001402732)], [('Topics', 0.924022), ('Places', 0.05744147), ('Peoples', 0.009458781), ('Organizations', 0.0047634435), ('Exchanges', 0.0043143104)], [('Topics', 0.6941114), ('Places', 0.20410758), ('Peoples', 0.042526156), ('Exchanges', 0.038154636), ('Organizations', 0.021100175)], [('Topics', 0.7693378), ('Peoples', 0.11355922), ('Places', 0.056160256), ('Organizations', 0.03832158), ('Exchanges', 0.022621142)], [('Topics', 0.8981449), ('Places', 0.054963343), ('Peoples', 0.027279153), ('Exchanges', 0.01322935), ('Organizations', 0.0063832845)], [('Topics', 0.7957348), ('Places', 0.15454474), ('Peoples', 0.030400911), ('Organizations', 0.014363593), ('Exchanges', 0.0049560275)], [('Topics', 0.9310997), ('Places', 0.033079013), ('Peoples', 0.026549134), ('Exchanges', 0.008214579), ('Organizations', 0.0010575099)], [('Topics', 0.8139961), ('Places', 0.11021648), ('Organizations', 0.03474842), ('Exchanges', 0.02375866), ('Peoples', 0.017280335)], [('Topics', 0.9078653), ('Places', 0.050182384), ('Peoples', 0.029654246), ('Exchanges', 0.0069201775), ('Organizations', 0.0053778053)], [('Topics', 0.70840716), ('Places', 0.18449551), ('Peoples', 0.07550527), ('Exchanges', 0.016517008), ('Organizations', 0.015075058)], [('Topics', 0.6558516), ('Places', 0.27089772), ('Peoples', 0.05220362), ('Organizations', 0.012393104), ('Exchanges', 0.008653894)], [('Topics', 0.9449537), ('Places', 0.032580946), ('Peoples', 0.017356984), ('Exchanges', 0.003425383), ('Organizations', 0.0016829362)], [('Topics', 0.85171384), ('Places', 0.106850855), ('Peoples', 0.032206155), ('Exchanges', 0.0068646856), ('Organizations', 0.0023644823)], [('Topics', 0.9388917), ('Places', 0.046189167), ('Organizations', 0.0068713124), ('Exchanges', 0.0047861193), ('Peoples', 0.0032616793)], [('Topics', 0.73231816), ('Places', 0.15978417), ('Peoples', 0.09031573), ('Exchanges', 0.011514182), ('Organizations', 0.006067808)], [('Topics', 0.9120978), ('Places', 0.049131833), ('Peoples', 0.023953205), ('Exchanges', 0.008047837), ('Organizations', 0.0067693563)], [('Topics', 0.83238256), ('Places', 0.14927047), ('Peoples', 0.007947423), ('Organizations', 0.0060074427), ('Exchanges', 0.004392145)], [('Topics', 0.88900477), ('Places', 0.09292837), ('Peoples', 0.009469712), ('Exchanges', 0.00442073), ('Organizations', 0.0041763247)], [('Topics', 0.6774688), ('Places', 0.225496), ('Exchanges', 0.03769243), ('Peoples', 0.033825647), ('Organizations', 0.025517164)], [('Topics', 0.8627784), ('Places', 0.068445176), ('Organizations', 0.026227815), ('Peoples', 0.02584364), ('Exchanges', 0.01670503)], [('Exchanges', 0.5570442), ('Topics', 0.3028322), ('Places', 0.1122723), ('Peoples', 0.01594443), ('Organizations', 0.011906939)], [('Topics', 0.9239812), ('Places', 0.062037583), ('Peoples', 0.010870812), ('Exchanges', 0.0029417006), ('Organizations', 0.00016867893)], [('Places', 0.5840643), ('Topics', 0.3542255), ('Peoples', 0.03153281), ('Organizations', 0.021030815), ('Exchanges', 0.009146524)], [('Topics', 0.9630148), ('Places', 0.03121999), ('Peoples', 0.0034271884), ('Exchanges', 0.0022200833), ('Organizations', 0.000118003634)], [('Topics', 0.60790485), ('Places', 0.29603693), ('Peoples', 0.047816694), ('Organizations', 0.02575175), ('Exchanges', 0.022489782)], [('Topics', 0.8594718), ('Places', 0.08777022), ('Peoples', 0.03626578), ('Exchanges', 0.011702261), ('Organizations', 0.0047899666)], [('Topics', 0.93616027), ('Places', 0.049995165), ('Peoples', 0.008491536), ('Exchanges', 0.0048144953), ('Organizations', 0.00053856557)], [('Topics', 0.6493943), ('Places', 0.2568231), ('Peoples', 0.042776454), ('Exchanges', 0.02812653), ('Organizations', 0.022879545)], [('Topics', 0.58129066), ('Peoples', 0.22475432), ('Places', 0.137393), ('Organizations', 0.03191978), ('Exchanges', 0.024642143)], [('Topics', 0.79982305), ('Places', 0.14984229), ('Organizations', 0.02697344), ('Peoples', 0.022565197), ('Exchanges', 0.0007959487)], [('Topics', 0.8313886), ('Places', 0.09539651), ('Organizations', 0.032522973), ('Peoples', 0.026483204), ('Exchanges', 0.014208672)], [('Topics', 0.51301736), ('Places', 0.29462776), ('Peoples', 0.08256402), ('Organizations', 0.0585854), ('Exchanges', 0.051205575)], [('Topics', 0.932944), ('Places', 0.041022085), ('Exchanges', 0.011453916), ('Organizations', 0.007853337), ('Peoples', 0.006726665)], [('Topics', 0.79702634), ('Places', 0.132851), ('Peoples', 0.038984988), ('Organizations', 0.016798388), ('Exchanges', 0.014339327)], [('Topics', 0.9105145), ('Places', 0.062267218), ('Peoples', 0.017285714), ('Exchanges', 0.0071025384), ('Organizations', 0.002830109)], [('Topics', 0.7848785), ('Places', 0.12224184), ('Peoples', 0.048411507), ('Organizations', 0.02404954), ('Exchanges', 0.020418543)], [('Topics', 0.73069125), ('Places', 0.24730873), ('Peoples', 0.012866771), ('Organizations', 0.004977303), ('Exchanges', 0.00415606)], [('Topics', 0.935839), ('Places', 0.04027922), ('Peoples', 0.01138816), ('Organizations', 0.008455532), ('Exchanges', 0.004038181)], [('Topics', 0.90206563), ('Places', 0.08341897), ('Peoples', 0.009377372), ('Exchanges', 0.004117871), ('Organizations', 0.0010201515)], [('Topics', 0.5168798), ('Places', 0.25347883), ('Exchanges', 0.13897538), ('Peoples', 0.076808445), ('Organizations', 0.0138575)], [('Topics', 0.934341), ('Places', 0.04357775), ('Peoples', 0.013538636), ('Exchanges', 0.0060587693), ('Organizations', 0.0024839542)], [('Topics', 0.6733294), ('Places', 0.2603119), ('Peoples', 0.03643624), ('Exchanges', 0.016416946), ('Organizations', 0.013505525)], [('Topics', 0.93647546), ('Places', 0.04067252), ('Peoples', 0.010026895), ('Exchanges', 0.00824959), ('Organizations', 0.0045755724)], [('Topics', 0.90867937), ('Places', 0.061651967), ('Organizations', 0.010939983), ('Peoples', 0.010361107), ('Exchanges', 0.008367602)], [('Topics', 0.9282849), ('Places', 0.04849822), ('Exchanges', 0.011613098), ('Peoples', 0.008298482), ('Organizations', 0.0033052142)], [('Topics', 0.5817266), ('Places', 0.36893559), ('Peoples', 0.033952843), ('Organizations', 0.012440191), ('Exchanges', 0.002944744)], [('Topics', 0.7208604), ('Places', 0.19727778), ('Exchanges', 0.030707104), ('Peoples', 0.028689116), ('Organizations', 0.022465589)], [('Topics', 0.851534), ('Places', 0.06754614), ('Peoples', 0.045217276), ('Organizations', 0.023857914), ('Exchanges', 0.011844729)], [('Topics', 0.91531205), ('Places', 0.055197038), ('Peoples', 0.014435594), ('Exchanges', 0.009812605), ('Organizations', 0.0052426574)], [('Topics', 0.5460255), ('Places', 0.36313137), ('Peoples', 0.07461138), ('Exchanges', 0.00992119), ('Organizations', 0.006310456)], [('Topics', 0.92201746), ('Places', 0.048808236), ('Organizations', 0.012090449), ('Peoples', 0.009765448), ('Exchanges', 0.0073184897)], [('Topics', 0.5984474), ('Places', 0.18894482), ('Exchanges', 0.090101026), ('Peoples', 0.083887406), ('Organizations', 0.038619325)], [('Topics', 0.6293465), ('Places', 0.3460771), ('Peoples', 0.018368986), ('Organizations', 0.005083896), ('Exchanges', 0.0011234576)], [('Topics', 0.6044339), ('Places', 0.27381983), ('Peoples', 0.062145457), ('Organizations', 0.029922431), ('Exchanges', 0.029678348)], [('Topics', 0.6882145), ('Places', 0.23382172), ('Organizations', 0.03767559), ('Exchanges', 0.02054474), ('Peoples', 0.019743396)], [('Places', 0.45354393), ('Topics', 0.36773103), ('Organizations', 0.08345315), ('Peoples', 0.051409144), ('Exchanges', 0.04386266)], [('Topics', 0.9356651), ('Places', 0.041789815), ('Organizations', 0.008334172), ('Exchanges', 0.0074046925), ('Peoples', 0.0068062637)], [('Topics', 0.81292343), ('Places', 0.17376532), ('Peoples', 0.009333545), ('Exchanges', 0.0028153583), ('Organizations', 0.0011623758)], [('Topics', 0.48215014), ('Places', 0.29003805), ('Peoples', 0.11258606), ('Organizations', 0.072667666), ('Exchanges', 0.04255809)], [('Topics', 0.89924955), ('Places', 0.060892474), ('Peoples', 0.025664845), ('Exchanges', 0.013957348), ('Organizations', 0.00023584378)], [('Places', 0.52977556), ('Topics', 0.4512492), ('Exchanges', 0.008976249), ('Peoples', 0.008027511), ('Organizations', 0.0019713917)], [('Topics', 0.60838753), ('Places', 0.21965206), ('Peoples', 0.06999159), ('Organizations', 0.05447612), ('Exchanges', 0.047492735)], [('Exchanges', 0.37429073), ('Topics', 0.3391611), ('Places', 0.18780641), ('Peoples', 0.0727366), ('Organizations', 0.026005082)], [('Topics', 0.68896645), ('Places', 0.20285147), ('Peoples', 0.05947306), ('Organizations', 0.028234795), ('Exchanges', 0.020474153)], [('Topics', 0.5795909), ('Places', 0.26756933), ('Peoples', 0.08000723), ('Exchanges', 0.039997566), ('Organizations', 0.032834966)], [('Topics', 0.67376435), ('Places', 0.22380258), ('Exchanges', 0.05291292), ('Peoples', 0.029005503), ('Organizations', 0.020514708)], [('Topics', 0.693398), ('Places', 0.16599321), ('Peoples', 0.059236467), ('Exchanges', 0.04289415), ('Organizations', 0.038478233)], [('Topics', 0.89684427), ('Places', 0.06610842), ('Peoples', 0.024533771), ('Exchanges', 0.011702588), ('Organizations', 0.00081091264)], [('Topics', 0.74387306), ('Places', 0.14432378), ('Peoples', 0.055037893), ('Exchanges', 0.029275214), ('Organizations', 0.027490016)], [('Topics', 0.5855927), ('Places', 0.32532638), ('Peoples', 0.04456812), ('Organizations', 0.025421763), ('Exchanges', 0.019091116)], [('Topics', 0.8302584), ('Places', 0.08863013), ('Peoples', 0.056581054), ('Exchanges', 0.012266464), ('Organizations', 0.012263966)], [('Topics', 0.527986), ('Places', 0.32639822), ('Organizations', 0.109035015), ('Exchanges', 0.018615067), ('Peoples', 0.017965788)], [('Topics', 0.9281501), ('Places', 0.054054398), ('Peoples', 0.0124063585), ('Exchanges', 0.005199526), ('Organizations', 0.00018950374)], [('Topics', 0.6405224), ('Places', 0.27998564), ('Peoples', 0.037531473), ('Exchanges', 0.021582756), ('Organizations', 0.020377755)], [('Topics', 0.9716707), ('Places', 0.022846505), ('Exchanges', 0.0041196365), ('Peoples', 0.00092277676), ('Organizations', 0.00044041715)], [('Topics', 0.5738252), ('Places', 0.36180422), ('Peoples', 0.041712962), ('Organizations', 0.016821317), ('Exchanges', 0.0058363527)], [('Topics', 0.8983618), ('Places', 0.06008363), ('Exchanges', 0.01809437), ('Organizations', 0.012175066), ('Peoples', 0.011285188)], [('Topics', 0.8349088), ('Peoples', 0.078614146), ('Places', 0.06648803), ('Exchanges', 0.01038705), ('Organizations', 0.009602036)], [('Topics', 0.54417175), ('Places', 0.31553993), ('Exchanges', 0.06286126), ('Peoples', 0.05426533), ('Organizations', 0.023161842)], [('Topics', 0.8479424), ('Places', 0.0974004), ('Peoples', 0.028382806), ('Exchanges', 0.022370057), ('Organizations', 0.0039043063)], [('Topics', 0.86191505), ('Places', 0.09332333), ('Peoples', 0.03182227), ('Exchanges', 0.008809166), ('Organizations', 0.004130291)], [('Topics', 0.73340887), ('Places', 0.18294825), ('Organizations', 0.04284107), ('Peoples', 0.029004378), ('Exchanges', 0.011797553)], [('Topics', 0.7470815), ('Places', 0.14838424), ('Peoples', 0.0516529), ('Exchanges', 0.028975409), ('Organizations', 0.02390591)], [('Topics', 0.9417723), ('Places', 0.041392785), ('Peoples', 0.008432312), ('Exchanges', 0.0061881617), ('Organizations', 0.0022143978)], [('Topics', 0.5795463), ('Places', 0.30663896), ('Peoples', 0.06854078), ('Organizations', 0.024383908), ('Exchanges', 0.020890165)], [('Topics', 0.4073395), ('Exchanges', 0.3408159), ('Places', 0.20982854), ('Organizations', 0.023341406), ('Peoples', 0.018674754)], [('Topics', 0.7363325), ('Places', 0.20977753), ('Peoples', 0.021144336), ('Organizations', 0.01947646), ('Exchanges', 0.013269198)], [('Topics', 0.45387492), ('Peoples', 0.41505086), ('Places', 0.109846525), ('Exchanges', 0.014478745), ('Organizations', 0.00674888)], [('Topics', 0.8780594), ('Places', 0.10435361), ('Peoples', 0.010147601), ('Exchanges', 0.00619942), ('Organizations', 0.0012399608)], [('Topics', 0.92478067), ('Places', 0.0370904), ('Peoples', 0.031712458), ('Exchanges', 0.0057178526), ('Organizations', 0.0006985905)], [('Topics', 0.8461887), ('Places', 0.10193682), ('Peoples', 0.027004821), ('Exchanges', 0.012573875), ('Organizations', 0.012295745)], [('Topics', 0.69356376), ('Places', 0.21913761), ('Peoples', 0.03610011), ('Exchanges', 0.026011568), ('Organizations', 0.025187017)], [('Topics', 0.9394446), ('Places', 0.054404464), ('Peoples', 0.0032776736), ('Organizations', 0.0026588927), ('Exchanges', 0.00021442295)], [('Topics', 0.8173496), ('Places', 0.112982675), ('Peoples', 0.026125507), ('Organizations', 0.022713544), ('Exchanges', 0.020828668)], [('Topics', 0.74324435), ('Places', 0.197391), ('Peoples', 0.03540135), ('Organizations', 0.013168448), ('Exchanges', 0.01079497)], [('Topics', 0.9160601), ('Places', 0.07379719), ('Exchanges', 0.0037768402), ('Organizations', 0.0036267038), ('Peoples', 0.0027390379)], [('Topics', 0.4316669), ('Places', 0.3524646), ('Peoples', 0.14960697), ('Organizations', 0.046277136), ('Exchanges', 0.019984506)], [('Topics', 0.6242603), ('Exchanges', 0.19839032), ('Places', 0.13625184), ('Organizations', 0.02266319), ('Peoples', 0.018434275)], [('Topics', 0.8706385), ('Places', 0.088199615), ('Peoples', 0.029050816), ('Exchanges', 0.010602881), ('Organizations', 0.001508127)], [('Topics', 0.88814896), ('Places', 0.090264834), ('Peoples', 0.015321446), ('Exchanges', 0.005404991), ('Organizations', 0.0008596683)], [('Topics', 0.59544504), ('Places', 0.25753838), ('Organizations', 0.08160583), ('Peoples', 0.038434297), ('Exchanges', 0.02697634)], [('Topics', 0.6598774), ('Places', 0.30241618), ('Peoples', 0.016795097), ('Organizations', 0.014566497), ('Exchanges', 0.0063447505)], [('Topics', 0.98025376), ('Places', 0.016469633), ('Exchanges', 0.0029688133), ('Peoples', 0.00020864108), ('Organizations', 9.921217e-05)], [('Topics', 0.503351), ('Places', 0.30841684), ('Organizations', 0.10228407), ('Peoples', 0.048593514), ('Exchanges', 0.037354622)], [('Places', 0.47377244), ('Topics', 0.37124556), ('Peoples', 0.080696195), ('Organizations', 0.054052856), ('Exchanges', 0.020232914)], [('Topics', 0.48798314), ('Places', 0.3438076), ('Peoples', 0.07681143), ('Organizations', 0.051091544), ('Exchanges', 0.040306322)], [('Topics', 0.5812696), ('Places', 0.25593516), ('Peoples', 0.083750896), ('Exchanges', 0.03984272), ('Organizations', 0.039201666)], [('Topics', 0.88829833), ('Places', 0.07435779), ('Peoples', 0.014220711), ('Organizations', 0.013649264), ('Exchanges', 0.0094738845)], [('Topics', 0.67487806), ('Places', 0.31413436), ('Peoples', 0.008194203), ('Organizations', 0.0023255507), ('Exchanges', 0.00046794154)], [('Topics', 0.5659427), ('Places', 0.29701337), ('Peoples', 0.069754854), ('Exchanges', 0.041390833), ('Organizations', 0.025898144)], [('Topics', 0.91919), ('Places', 0.052435875), ('Peoples', 0.018335463), ('Exchanges', 0.006405308), ('Organizations', 0.0036334198)], [('Topics', 0.92170066), ('Places', 0.05311833), ('Peoples', 0.011575465), ('Exchanges', 0.0070006833), ('Organizations', 0.006604855)], [('Topics', 0.9373228), ('Places', 0.037482336), ('Exchanges', 0.017475013), ('Peoples', 0.004737263), ('Organizations', 0.002982582)], [('Topics', 0.846998), ('Places', 0.12447729), ('Peoples', 0.014644152), ('Exchanges', 0.0090059675), ('Organizations', 0.0048745875)], [('Topics', 0.71983564), ('Places', 0.18036163), ('Peoples', 0.05632736), ('Organizations', 0.031359788), ('Exchanges', 0.012115636)], [('Topics', 0.6105257), ('Places', 0.2888703), ('Peoples', 0.044679713), ('Organizations', 0.03660849), ('Exchanges', 0.019315787)], [('Topics', 0.8504932), ('Places', 0.12632117), ('Peoples', 0.017215598), ('Exchanges', 0.0044270507), ('Organizations', 0.0015430858)], [('Topics', 0.893872), ('Places', 0.0836584), ('Organizations', 0.008786494), ('Peoples', 0.007115465), ('Exchanges', 0.0065675513)], [('Topics', 0.81204766), ('Places', 0.139812), ('Exchanges', 0.018784165), ('Peoples', 0.016763153), ('Organizations', 0.012593004)], [('Topics', 0.8951534), ('Places', 0.053137224), ('Peoples', 0.02988257), ('Organizations', 0.012508109), ('Exchanges', 0.009318669)], [('Topics', 0.82073116), ('Places', 0.11966532), ('Peoples', 0.025792653), ('Exchanges', 0.022211026), ('Organizations', 0.011599784)], [('Peoples', 0.44517684), ('Topics', 0.3890403), ('Places', 0.10354095), ('Exchanges', 0.043448936), ('Organizations', 0.018792925)], [('Topics', 0.5898114), ('Places', 0.3525757), ('Exchanges', 0.031068146), ('Organizations', 0.02345363), ('Peoples', 0.0030910934)], [('Topics', 0.39146847), ('Places', 0.34421566), ('Peoples', 0.15953563), ('Exchanges', 0.060870018), ('Organizations', 0.043910205)], [('Places', 0.43113777), ('Topics', 0.38656524), ('Peoples', 0.10259112), ('Organizations', 0.05093505), ('Exchanges', 0.028770814)], [('Topics', 0.42920253), ('Places', 0.40631834), ('Organizations', 0.06650071), ('Peoples', 0.061272673), ('Exchanges', 0.036705814)], [('Topics', 0.79796016), ('Places', 0.09690908), ('Exchanges', 0.061162516), ('Peoples', 0.032435473), ('Organizations', 0.011532755)], [('Topics', 0.8743977), ('Places', 0.08467274), ('Peoples', 0.017714879), ('Organizations', 0.0154475765), ('Exchanges', 0.0077670477)], [('Topics', 0.62912416), ('Places', 0.26907873), ('Peoples', 0.05406183), ('Organizations', 0.037560645), ('Exchanges', 0.010174645)], [('Topics', 0.80951625), ('Places', 0.1318553), ('Peoples', 0.0412148), ('Organizations', 0.009526078), ('Exchanges', 0.007887569)], [('Topics', 0.86112344), ('Places', 0.09581842), ('Peoples', 0.02421535), ('Exchanges', 0.010329588), ('Organizations', 0.008513276)], [('Topics', 0.6822172), ('Places', 0.2951423), ('Exchanges', 0.010419761), ('Peoples', 0.010250384), ('Organizations', 0.0019704006)], [('Places', 0.54001313), ('Topics', 0.3956156), ('Peoples', 0.060395226), ('Organizations', 0.0033752348), ('Exchanges', 0.00060086465)], [('Topics', 0.6857744), ('Places', 0.18613926), ('Organizations', 0.0988921), ('Peoples', 0.020945126), ('Exchanges', 0.008249203)], [('Topics', 0.85306907), ('Places', 0.096516415), ('Peoples', 0.021635981), ('Organizations', 0.019375464), ('Exchanges', 0.009403033)], [('Topics', 0.93058914), ('Places', 0.05530531), ('Exchanges', 0.008030845), ('Peoples', 0.0059341295), ('Organizations', 0.00014053378)], [('Topics', 0.6590889), ('Places', 0.22012816), ('Peoples', 0.073275626), ('Exchanges', 0.025600515), ('Organizations', 0.021906827)], [('Topics', 0.8505633), ('Places', 0.10688163), ('Peoples', 0.029391961), ('Exchanges', 0.011788433), ('Organizations', 0.0013746731)], [('Places', 0.6562654), ('Topics', 0.26015934), ('Organizations', 0.036792487), ('Peoples', 0.024625164), ('Exchanges', 0.022157619)], [('Topics', 0.6435364), ('Places', 0.26746386), ('Peoples', 0.0513785), ('Exchanges', 0.020884011), ('Organizations', 0.016737174)], [('Topics', 0.64304805), ('Places', 0.2318196), ('Peoples', 0.058788612), ('Exchanges', 0.038104516), ('Organizations', 0.028239222)], [('Topics', 0.6105257), ('Places', 0.2888703), ('Peoples', 0.044679713), ('Organizations', 0.03660849), ('Exchanges', 0.019315787)], [('Topics', 0.4788655), ('Places', 0.39520356), ('Exchanges', 0.069097765), ('Peoples', 0.03786272), ('Organizations', 0.018970417)], [('Topics', 0.68245316), ('Places', 0.18656114), ('Peoples', 0.07748864), ('Exchanges', 0.030008378), ('Organizations', 0.02348876)], [('Topics', 0.5176579), ('Places', 0.38069662), ('Peoples', 0.049360126), ('Organizations', 0.034114987), ('Exchanges', 0.01817038)], [('Topics', 0.72821456), ('Places', 0.20306425), ('Peoples', 0.039142013), ('Organizations', 0.02601764), ('Exchanges', 0.0035615454)], [('Topics', 0.6953255), ('Places', 0.23083386), ('Peoples', 0.033914693), ('Exchanges', 0.028576378), ('Organizations', 0.011349556)], [('Topics', 0.63967735), ('Places', 0.18308264), ('Peoples', 0.1384597), ('Organizations', 0.03288921), ('Exchanges', 0.0058911177)], [('Topics', 0.674314), ('Places', 0.243168), ('Exchanges', 0.030469766), ('Organizations', 0.02818713), ('Peoples', 0.023861123)], [('Topics', 0.5793192), ('Places', 0.28596082), ('Peoples', 0.07094884), ('Exchanges', 0.0359372), ('Organizations', 0.027833963)], [('Topics', 0.9062594), ('Places', 0.06614736), ('Peoples', 0.013477443), ('Exchanges', 0.010534169), ('Organizations', 0.0035816957)], [('Topics', 0.35338116), ('Places', 0.29095665), ('Exchanges', 0.26937586), ('Peoples', 0.066243105), ('Organizations', 0.020043297)], [('Topics', 0.94155157), ('Places', 0.043288328), ('Peoples', 0.010447306), ('Exchanges', 0.0045489115), ('Organizations', 0.00016376862)], [('Topics', 0.8985727), ('Places', 0.06618873), ('Peoples', 0.02563945), ('Exchanges', 0.0076706866), ('Organizations', 0.0019283395)], [('Topics', 0.75202113), ('Places', 0.19373372), ('Peoples', 0.03949288), ('Exchanges', 0.008541168), ('Organizations', 0.0062111155)], [('Topics', 0.7748686), ('Places', 0.19824211), ('Peoples', 0.012170751), ('Exchanges', 0.009888293), ('Organizations', 0.0048302882)], [('Topics', 0.6741316), ('Places', 0.17273532), ('Exchanges', 0.09292231), ('Peoples', 0.043092504), ('Organizations', 0.017118309)], [('Topics', 0.94635576), ('Places', 0.040454023), ('Exchanges', 0.006193817), ('Peoples', 0.005745088), ('Organizations', 0.0012513918)], [('Topics', 0.82116485), ('Places', 0.109926134), ('Peoples', 0.026984813), ('Organizations', 0.026887981), ('Exchanges', 0.0150362225)], [('Topics', 0.78004724), ('Places', 0.15003015), ('Peoples', 0.037756484), ('Organizations', 0.018986564), ('Exchanges', 0.01317962)], [('Topics', 0.8195147), ('Places', 0.11317769), ('Peoples', 0.034119427), ('Exchanges', 0.022726044), ('Organizations', 0.010462268)], [('Topics', 0.88089687), ('Places', 0.07958893), ('Organizations', 0.01615982), ('Exchanges', 0.011891285), ('Peoples', 0.011463165)], [('Topics', 0.67218494), ('Places', 0.17728922), ('Organizations', 0.10971342), ('Peoples', 0.030633043), ('Exchanges', 0.010179347)], [('Topics', 0.5300908), ('Places', 0.30745035), ('Organizations', 0.086168244), ('Exchanges', 0.04486842), ('Peoples', 0.031422075)], [('Topics', 0.35284266), ('Peoples', 0.33824167), ('Places', 0.22888294), ('Organizations', 0.06750003), ('Exchanges', 0.012532693)], [('Topics', 0.73986834), ('Places', 0.19497451), ('Exchanges', 0.032276973), ('Organizations', 0.029070739), ('Peoples', 0.0038095254)], [('Topics', 0.6716175), ('Places', 0.1922825), ('Peoples', 0.063089296), ('Organizations', 0.05174416), ('Exchanges', 0.021266567)], [('Topics', 0.67691326), ('Places', 0.2513272), ('Peoples', 0.0370886), ('Exchanges', 0.022118112), ('Organizations', 0.012552806)], [('Topics', 0.7114699), ('Places', 0.20981655), ('Peoples', 0.03961355), ('Exchanges', 0.03131224), ('Organizations', 0.0077878144)], [('Topics', 0.86974823), ('Places', 0.08474169), ('Peoples', 0.024289936), ('Exchanges', 0.014551706), ('Organizations', 0.0066685397)], [('Topics', 0.58712965), ('Places', 0.28168026), ('Organizations', 0.07507017), ('Peoples', 0.03380857), ('Exchanges', 0.02231127)], [('Topics', 0.6862021), ('Places', 0.21203536), ('Peoples', 0.048681073), ('Exchanges', 0.03693437), ('Organizations', 0.016147133)], [('Topics', 0.45220944), ('Places', 0.35041925), ('Peoples', 0.10376111), ('Organizations', 0.049810007), ('Exchanges', 0.043800205)], [('Topics', 0.8449892), ('Places', 0.11762171), ('Peoples', 0.01684754), ('Organizations', 0.013732569), ('Exchanges', 0.006808989)], [('Topics', 0.8621259), ('Places', 0.09768786), ('Peoples', 0.02092916), ('Exchanges', 0.014752328), ('Organizations', 0.004504727)], [('Topics', 0.8927748), ('Places', 0.07500587), ('Exchanges', 0.015556635), ('Peoples', 0.012744335), ('Organizations', 0.003918315)], [('Topics', 0.8722548), ('Places', 0.06358276), ('Exchanges', 0.0227325), ('Organizations', 0.022567762), ('Peoples', 0.018862125)], [('Topics', 0.91645855), ('Places', 0.060079813), ('Peoples', 0.010165363), ('Organizations', 0.008771519), ('Exchanges', 0.0045248554)], [('Topics', 0.48638687), ('Places', 0.32065752), ('Peoples', 0.13859922), ('Exchanges', 0.033388987), ('Organizations', 0.020967523)], [('Topics', 0.76429826), ('Places', 0.1587433), ('Peoples', 0.06994921), ('Exchanges', 0.0060948594), ('Organizations', 0.00091437495)], [('Topics', 0.92633355), ('Places', 0.0567408), ('Peoples', 0.014491185), ('Exchanges', 0.0018851195), ('Organizations', 0.00054939004)], [('Topics', 0.6063528), ('Peoples', 0.17749023), ('Places', 0.1443909), ('Exchanges', 0.038976215), ('Organizations', 0.032789767)], [('Topics', 0.8359999), ('Places', 0.10264109), ('Peoples', 0.026065605), ('Organizations', 0.021150509), ('Exchanges', 0.014142874)], [('Topics', 0.97867817), ('Places', 0.016352423), ('Peoples', 0.0024371194), ('Exchanges', 0.0019176824), ('Organizations', 0.00061463413)], [('Topics', 0.70821327), ('Places', 0.24800995), ('Exchanges', 0.017202158), ('Peoples', 0.015581241), ('Organizations', 0.010993318)], [('Topics', 0.80452985), ('Places', 0.09199152), ('Peoples', 0.0734214), ('Exchanges', 0.015031219), ('Organizations', 0.015026117)], [('Exchanges', 0.30551964), ('Topics', 0.2793607), ('Places', 0.20419772), ('Peoples', 0.1333291), ('Organizations', 0.077592894)], [('Topics', 0.4685991), ('Places', 0.39013097), ('Peoples', 0.0920663), ('Organizations', 0.027484251), ('Exchanges', 0.021719398)], [('Topics', 0.9620667), ('Peoples', 0.024373038), ('Places', 0.01166539), ('Exchanges', 0.0015253784), ('Organizations', 0.00036951213)], [('Topics', 0.824809), ('Places', 0.12534776), ('Organizations', 0.018744415), ('Peoples', 0.017234726), ('Exchanges', 0.013864144)], [('Topics', 0.70821327), ('Places', 0.24800995), ('Exchanges', 0.017202158), ('Peoples', 0.015581241), ('Organizations', 0.010993318)], [('Topics', 0.81138057), ('Places', 0.08496118), ('Peoples', 0.07112876), ('Exchanges', 0.02884037), ('Organizations', 0.0036891538)], [('Topics', 0.45383337), ('Places', 0.26747033), ('Organizations', 0.22427948), ('Peoples', 0.033986554), ('Exchanges', 0.02043026)], [('Topics', 0.3764286), ('Places', 0.34319818), ('Peoples', 0.24172923), ('Organizations', 0.027804045), ('Exchanges', 0.01083998)], [('Topics', 0.62498814), ('Places', 0.23881961), ('Peoples', 0.09230582), ('Organizations', 0.023133826), ('Exchanges', 0.020752627)], [('Topics', 0.7504291), ('Peoples', 0.15724018), ('Places', 0.070604295), ('Exchanges', 0.015255149), ('Organizations', 0.006471284)], [('Topics', 0.94653195), ('Places', 0.039716456), ('Peoples', 0.0089825215), ('Exchanges', 0.0026630159), ('Organizations', 0.0021060808)], [('Topics', 0.46426687), ('Peoples', 0.26619086), ('Places', 0.20966826), ('Exchanges', 0.043460645), ('Organizations', 0.016413378)], [('Topics', 0.52315766), ('Places', 0.39525837), ('Exchanges', 0.029134128), ('Organizations', 0.027848633), ('Peoples', 0.02460113)], [('Topics', 0.8720003), ('Places', 0.10139047), ('Peoples', 0.011955784), ('Exchanges', 0.01115667), ('Organizations', 0.0034968038)], [('Topics', 0.9586967), ('Peoples', 0.019459996), ('Places', 0.013177919), ('Exchanges', 0.005844717), ('Organizations', 0.002820675)], [('Topics', 0.5503575), ('Places', 0.2665391), ('Peoples', 0.0745892), ('Exchanges', 0.062479757), ('Organizations', 0.046034385)], [('Topics', 0.5366347), ('Places', 0.2796725), ('Peoples', 0.11831611), ('Exchanges', 0.03868702), ('Organizations', 0.026689697)], [('Topics', 0.48204583), ('Places', 0.3015697), ('Peoples', 0.14736463), ('Organizations', 0.03914526), ('Exchanges', 0.029874627)], [('Topics', 0.988231), ('Places', 0.0055003804), ('Peoples', 0.005339486), ('Organizations', 0.0006332469), ('Exchanges', 0.00029589093)], [('Topics', 0.45658705), ('Places', 0.36816013), ('Peoples', 0.080995575), ('Organizations', 0.051841144), ('Exchanges', 0.042416036)], [('Topics', 0.88637763), ('Places', 0.082635716), ('Peoples', 0.01634378), ('Exchanges', 0.010561717), ('Organizations', 0.0040811338)], [('Topics', 0.86019516), ('Places', 0.10553697), ('Peoples', 0.026264196), ('Exchanges', 0.004204931), ('Organizations', 0.0037986864)], [('Topics', 0.8465974), ('Places', 0.099942066), ('Peoples', 0.037180137), ('Exchanges', 0.010408773), ('Organizations', 0.0058715446)], [('Topics', 0.8180211), ('Places', 0.14411362), ('Peoples', 0.026281452), ('Organizations', 0.0069192187), ('Exchanges', 0.004664579)], [('Places', 0.39655158), ('Topics', 0.30585015), ('Peoples', 0.23723683), ('Exchanges', 0.037862968), ('Organizations', 0.022498338)], [('Topics', 0.82548803), ('Places', 0.09994225), ('Organizations', 0.037431184), ('Peoples', 0.019720932), ('Exchanges', 0.017417505)], [('Topics', 0.66274303), ('Places', 0.28321078), ('Organizations', 0.039450843), ('Exchanges', 0.0076262048), ('Peoples', 0.006969101)], [('Topics', 0.6302864), ('Peoples', 0.16208164), ('Places', 0.13750093), ('Exchanges', 0.039690997), ('Organizations', 0.030440118)], [('Topics', 0.836041), ('Places', 0.12921), ('Organizations', 0.019802313), ('Exchanges', 0.0100182975), ('Peoples', 0.004928372)], [('Topics', 0.3557458), ('Places', 0.34578738), ('Peoples', 0.20045812), ('Organizations', 0.05578259), ('Exchanges', 0.04222622)], [('Topics', 0.6229847), ('Places', 0.22675124), ('Peoples', 0.093225524), ('Organizations', 0.03012244), ('Exchanges', 0.026916148)], [('Topics', 0.6266983), ('Places', 0.31147408), ('Peoples', 0.028437344), ('Organizations', 0.022697), ('Exchanges', 0.010693263)], [('Topics', 0.55218), ('Places', 0.27693555), ('Peoples', 0.15898551), ('Organizations', 0.009757205), ('Exchanges', 0.0021417765)], [('Topics', 0.58803594), ('Places', 0.21293855), ('Peoples', 0.1577054), ('Exchanges', 0.026756903), ('Organizations', 0.014563203)], [('Topics', 0.76643413), ('Places', 0.16038996), ('Peoples', 0.046977036), ('Exchanges', 0.019370358), ('Organizations', 0.0068285014)], [('Topics', 0.8559171), ('Places', 0.1268795), ('Peoples', 0.014503831), ('Exchanges', 0.0021133733), ('Organizations', 0.00058622856)], [('Topics', 0.72086275), ('Places', 0.22156936), ('Peoples', 0.030225273), ('Organizations', 0.017117722), ('Exchanges', 0.010225002)], [('Topics', 0.5255523), ('Places', 0.29546744), ('Peoples', 0.118852474), ('Organizations', 0.043763038), ('Exchanges', 0.016364824)], [('Topics', 0.6095546), ('Places', 0.34744933), ('Exchanges', 0.016383221), ('Peoples', 0.015502486), ('Organizations', 0.011110356)], [('Places', 0.46584132), ('Topics', 0.3791125), ('Exchanges', 0.11921347), ('Peoples', 0.02079306), ('Organizations', 0.0150395855)], [('Topics', 0.5499214), ('Places', 0.2759916), ('Organizations', 0.08793756), ('Peoples', 0.06107747), ('Exchanges', 0.02507194)], [('Topics', 0.45394704), ('Places', 0.2692358), ('Peoples', 0.22652553), ('Organizations', 0.027326947), ('Exchanges', 0.022964692)], [('Topics', 0.48476207), ('Places', 0.22296026), ('Peoples', 0.21135388), ('Exchanges', 0.04925714), ('Organizations', 0.03166661)], [('Places', 0.38515842), ('Topics', 0.26294637), ('Peoples', 0.24990256), ('Organizations', 0.08359615), ('Exchanges', 0.018396439)], [('Topics', 0.6187978), ('Places', 0.23520596), ('Peoples', 0.06526417), ('Exchanges', 0.05529791), ('Organizations', 0.025434207)], [('Topics', 0.51391196), ('Places', 0.43744403), ('Peoples', 0.02151878), ('Organizations', 0.020626474), ('Exchanges', 0.006498807)], [('Topics', 0.5311414), ('Places', 0.28175616), ('Peoples', 0.10130357), ('Organizations', 0.055168293), ('Exchanges', 0.030630592)], [('Topics', 0.700103), ('Places', 0.17184573), ('Peoples', 0.08815718), ('Exchanges', 0.02884432), ('Organizations', 0.011049757)], [('Peoples', 0.7132761), ('Topics', 0.1899433), ('Places', 0.09010423), ('Exchanges', 0.004474071), ('Organizations', 0.0022023732)], [('Topics', 0.8536683), ('Places', 0.08716426), ('Peoples', 0.047910474), ('Organizations', 0.007484424), ('Exchanges', 0.0037726073)], [('Topics', 0.5856132), ('Places', 0.24112299), ('Peoples', 0.07519799), ('Exchanges', 0.061169658), ('Organizations', 0.036896087)], [('Topics', 0.6182548), ('Places', 0.18622784), ('Peoples', 0.11191347), ('Organizations', 0.04248982), ('Exchanges', 0.041114025)], [('Topics', 0.8877033), ('Places', 0.066495955), ('Peoples', 0.02866094), ('Organizations', 0.01273835), ('Exchanges', 0.004401406)], [('Topics', 0.9700173), ('Places', 0.02105368), ('Peoples', 0.0054915715), ('Organizations', 0.002650077), ('Exchanges', 0.00078725006)], [('Topics', 0.60594934), ('Places', 0.3368096), ('Peoples', 0.050409365), ('Organizations', 0.0034307407), ('Exchanges', 0.0034010634)], [('Topics', 0.6301128), ('Places', 0.24778058), ('Peoples', 0.056725677), ('Organizations', 0.042645305), ('Exchanges', 0.02273557)], [('Topics', 0.58930653), ('Places', 0.3197151), ('Organizations', 0.046755873), ('Peoples', 0.028388033), ('Exchanges', 0.015834488)], [('Topics', 0.8236027), ('Places', 0.13001761), ('Peoples', 0.031021042), ('Organizations', 0.008946122), ('Exchanges', 0.0064125787)], [('Topics', 0.51698405), ('Places', 0.21513201), ('Peoples', 0.16047004), ('Exchanges', 0.06147119), ('Organizations', 0.045942828)], [('Topics', 0.42840484), ('Places', 0.40836075), ('Peoples', 0.08256722), ('Exchanges', 0.043179985), ('Organizations', 0.037487183)], [('Topics', 0.6476297), ('Exchanges', 0.2280193), ('Places', 0.10598375), ('Peoples', 0.01495591), ('Organizations', 0.003411291)], [('Topics', 0.52375), ('Places', 0.45130223), ('Organizations', 0.012369246), ('Peoples', 0.009073976), ('Exchanges', 0.0035045452)], [('Topics', 0.38419667), ('Places', 0.33595243), ('Peoples', 0.16634665), ('Organizations', 0.08002585), ('Exchanges', 0.033478413)], [('Topics', 0.6854023), ('Places', 0.18120165), ('Peoples', 0.07761035), ('Exchanges', 0.037164494), ('Organizations', 0.018621208)], [('Topics', 0.8113381), ('Places', 0.11614348), ('Peoples', 0.051128108), ('Organizations', 0.016916608), ('Exchanges', 0.0044736858)], [('Topics', 0.62506545), ('Places', 0.17242184), ('Peoples', 0.16109401), ('Exchanges', 0.0256248), ('Organizations', 0.015793944)], [('Topics', 0.6221411), ('Places', 0.17085467), ('Peoples', 0.14580311), ('Organizations', 0.036648657), ('Exchanges', 0.024552507)], [('Topics', 0.6370737), ('Places', 0.21821631), ('Peoples', 0.07782856), ('Exchanges', 0.048650887), ('Organizations', 0.018230539)], [('Topics', 0.46233103), ('Places', 0.3857556), ('Peoples', 0.10130201), ('Exchanges', 0.03564747), ('Organizations', 0.014963977)], [('Topics', 0.6095546), ('Places', 0.34744933), ('Exchanges', 0.016383221), ('Peoples', 0.015502486), ('Organizations', 0.011110356)], [('Topics', 0.96188635), ('Places', 0.024292387), ('Peoples', 0.0055033783), ('Organizations', 0.004569624), ('Exchanges', 0.003748235)], [('Topics', 0.48678797), ('Places', 0.40867206), ('Peoples', 0.05076311), ('Exchanges', 0.03529452), ('Organizations', 0.018482286)], [('Topics', 0.66958964), ('Places', 0.20847058), ('Peoples', 0.057428915), ('Organizations', 0.033388108), ('Exchanges', 0.031122785)], [('Topics', 0.84656), ('Places', 0.07902434), ('Organizations', 0.047936056), ('Peoples', 0.017768819), ('Exchanges', 0.0087108435)], [('Topics', 0.46342906), ('Places', 0.24067555), ('Peoples', 0.20764683), ('Exchanges', 0.049879797), ('Organizations', 0.038368832)], [('Topics', 0.4384004), ('Places', 0.4190614), ('Peoples', 0.10844386), ('Organizations', 0.024688877), ('Exchanges', 0.009405504)], [('Topics', 0.68751776), ('Places', 0.23046127), ('Peoples', 0.048403278), ('Organizations', 0.023488468), ('Exchanges', 0.010129187)], [('Topics', 0.6862028), ('Places', 0.2647482), ('Organizations', 0.02094057), ('Exchanges', 0.014894467), ('Peoples', 0.013213957)], [('Topics', 0.56819403), ('Places', 0.31575838), ('Organizations', 0.0761187), ('Peoples', 0.023232466), ('Exchanges', 0.016696448)], [('Topics', 0.73506635), ('Places', 0.14896879), ('Peoples', 0.08846847), ('Exchanges', 0.022340452), ('Organizations', 0.0051559554)], [('Topics', 0.6538956), ('Places', 0.17391753), ('Peoples', 0.10335293), ('Exchanges', 0.05449644), ('Organizations', 0.014337413)], [('Topics', 0.6042494), ('Places', 0.2859332), ('Peoples', 0.06554444), ('Organizations', 0.02216947), ('Exchanges', 0.022103516)], [('Topics', 0.6603802), ('Places', 0.1704883), ('Peoples', 0.1485734), ('Exchanges', 0.01352869), ('Organizations', 0.007029388)], [('Topics', 0.881938), ('Peoples', 0.092054814), ('Places', 0.025084894), ('Exchanges', 0.00053183804), ('Organizations', 0.00039031578)], [('Topics', 0.81836206), ('Places', 0.12254743), ('Peoples', 0.05339571), ('Exchanges', 0.0040286835), ('Organizations', 0.0016660277)], [('Topics', 0.46026665), ('Places', 0.23735794), ('Peoples', 0.18546584), ('Exchanges', 0.058460113), ('Organizations', 0.058449503)], [('Topics', 0.9534158), ('Places', 0.035832822), ('Peoples', 0.004928241), ('Exchanges', 0.0029622354), ('Organizations', 0.0028609578)], [('Topics', 0.5454183), ('Places', 0.2936259), ('Peoples', 0.07274341), ('Exchanges', 0.049508378), ('Organizations', 0.038703945)], [('Topics', 0.46679986), ('Peoples', 0.32240778), ('Places', 0.14245215), ('Exchanges', 0.03881722), ('Organizations', 0.029523028)], [('Topics', 0.7624998), ('Places', 0.1556863), ('Peoples', 0.060864642), ('Organizations', 0.013338832), ('Exchanges', 0.0076103737)]]\n"
     ]
    }
   ],
   "source": [
    "def getRankedOutput2(predicted_y):\n",
    "    all_sorted_x = []\n",
    "    for i in predicted_y:\n",
    "        dict_temp={'Topics':i[0],'Places':i[1],'Peoples':i[2],'Exchanges':i[3],'Organizations':i[4]}\n",
    "        sorted_x = sorted(dict_temp.items(), key=lambda kv: kv[1], reverse=True) \n",
    "        all_sorted_x.append(sorted_x)\n",
    "    return all_sorted_x\n",
    "   \n",
    "ranked_output = getRankedOutput2(y)\n",
    "print((ranked_output)) "
   ]
  }
 ],
 "metadata": {
  "colab": {
   "name": "Category_ranking_keras_nn.ipynb",
   "provenance": [],
   "version": "0.3.2"
  },
  "kernelspec": {
   "display_name": "Python 3",
   "language": "python",
   "name": "python3"
  },
  "language_info": {
   "codemirror_mode": {
    "name": "ipython",
    "version": 3
   },
   "file_extension": ".py",
   "mimetype": "text/x-python",
   "name": "python",
   "nbconvert_exporter": "python",
   "pygments_lexer": "ipython3",
   "version": "3.7.0"
  }
 },
 "nbformat": 4,
 "nbformat_minor": 1
}
