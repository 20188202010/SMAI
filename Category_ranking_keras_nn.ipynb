{
  "nbformat": 4,
  "nbformat_minor": 0,
  "metadata": {
    "colab": {
      "name": "Category_ranking_keras_nn.ipynb",
      "version": "0.3.2",
      "provenance": [],
      "collapsed_sections": []
    },
    "language_info": {
      "codemirror_mode": {
        "name": "ipython",
        "version": 3
      },
      "file_extension": ".py",
      "mimetype": "text/x-python",
      "name": "python",
      "nbconvert_exporter": "python",
      "pygments_lexer": "ipython3",
      "version": "3.7.0"
    },
    "kernelspec": {
      "display_name": "Python 3",
      "language": "python",
      "name": "python3"
    }
  },
  "cells": [
    {
      "metadata": {
        "colab_type": "code",
        "id": "4vNE_mnM0jaI",
        "outputId": "a45786bf-94e9-4f18-d266-ccf61325e697",
        "colab": {
          "base_uri": "https://localhost:8080/",
          "height": 125
        }
      },
      "cell_type": "code",
      "source": [
        "#read datafolder from Google Drive\n",
        "from google.colab import drive\n",
        "drive.mount('/content/drive')\n",
        "data_folder = '/content/drive/My Drive/pg2k18/sem2/smai/smai_proj/reuters21578/'\n",
        "\n",
        "\n",
        "sgml_number_of_files = 21\n",
        "sgml_file_name_template = 'reut2-NNN.sgm'\n",
        "\n",
        "# Category files\n",
        "category_files = {\n",
        "    'to_': ('Topics', 'all-topics-strings.lc.txt'),\n",
        "    'pl_': ('Places', 'all-places-strings.lc.txt'),\n",
        "    'pe_': ('People', 'all-people-strings.lc.txt'),\n",
        "    'or_': ('Organizations', 'all-orgs-strings.lc.txt'),\n",
        "    'ex_': ('Exchanges', 'all-exchanges-strings.lc.txt')\n",
        "}"
      ],
      "execution_count": 1,
      "outputs": [
        {
          "output_type": "stream",
          "text": [
            "Go to this URL in a browser: https://accounts.google.com/o/oauth2/auth?client_id=947318989803-6bn6qk8qdgf4n4g3pfee6491hc0brc4i.apps.googleusercontent.com&redirect_uri=urn%3Aietf%3Awg%3Aoauth%3A2.0%3Aoob&scope=email%20https%3A%2F%2Fwww.googleapis.com%2Fauth%2Fdocs.test%20https%3A%2F%2Fwww.googleapis.com%2Fauth%2Fdrive%20https%3A%2F%2Fwww.googleapis.com%2Fauth%2Fdrive.photos.readonly%20https%3A%2F%2Fwww.googleapis.com%2Fauth%2Fpeopleapi.readonly&response_type=code\n",
            "\n",
            "Enter your authorization code:\n",
            "··········\n",
            "Mounted at /content/drive\n"
          ],
          "name": "stdout"
        }
      ]
    },
    {
      "metadata": {
        "colab_type": "code",
        "id": "2phRP_vL0jae",
        "colab": {}
      },
      "cell_type": "code",
      "source": [
        "import pandas as pd\n",
        "from nltk.corpus import stopwords\n",
        "from nltk.tokenize import word_tokenize\n",
        "from nltk.stem import WordNetLemmatizer"
      ],
      "execution_count": 0,
      "outputs": []
    },
    {
      "metadata": {
        "colab_type": "code",
        "id": "MsF3Uk8S0jaq",
        "colab": {}
      },
      "cell_type": "code",
      "source": [
        "# Read all categories\n",
        "category_data = []\n",
        "category_dictionary={'Topics':[],'Places':[],'People':[],'Organizations':[],'Exchanges':[]}\n",
        "for category_prefix in category_files.keys():\n",
        "    with open(data_folder + category_files[category_prefix][1], 'r') as file:\n",
        "        for category in file.readlines():\n",
        "            category_data.append([category_prefix + category.strip().lower(), \n",
        "                                  category_files[category_prefix][0]])\n",
        "\n",
        "# Create category dataframe\n",
        "for i in category_data:\n",
        "    category_dictionary[i[1]].append(i[0].split('_')[1])\n",
        "news_categories = pd.DataFrame(data=category_data)\n"
      ],
      "execution_count": 0,
      "outputs": []
    },
    {
      "metadata": {
        "colab_type": "code",
        "id": "aFMZnuLj0ja6",
        "outputId": "4b670f0f-d0c9-4373-986b-acca92ccfbf6",
        "colab": {
          "base_uri": "https://localhost:8080/",
          "height": 88
        }
      },
      "cell_type": "code",
      "source": [
        "import re\n",
        "import xml.sax.saxutils as saxutils\n",
        "from bs4 import BeautifulSoup\n",
        "from keras.preprocessing.text import Tokenizer\n",
        "from keras.preprocessing.sequence import pad_sequences\n",
        "import nltk\n",
        "nltk.download('stopwords')"
      ],
      "execution_count": 4,
      "outputs": [
        {
          "output_type": "stream",
          "text": [
            "Using TensorFlow backend.\n"
          ],
          "name": "stderr"
        },
        {
          "output_type": "stream",
          "text": [
            "[nltk_data] Downloading package stopwords to /root/nltk_data...\n",
            "[nltk_data]   Unzipping corpora/stopwords.zip.\n"
          ],
          "name": "stdout"
        },
        {
          "output_type": "execute_result",
          "data": {
            "text/plain": [
              "True"
            ]
          },
          "metadata": {
            "tags": []
          },
          "execution_count": 4
        }
      ]
    },
    {
      "metadata": {
        "colab_type": "code",
        "id": "K-9WCTJj0jbK",
        "colab": {}
      },
      "cell_type": "code",
      "source": [
        "lemmatizer = WordNetLemmatizer()\n",
        "\n",
        "REPLACE_BY_SPACE_RE = re.compile('[/(){}\\[\\]\\|@,;\\\\n]')\n",
        "BAD_SYMBOLS_RE = re.compile('[^0-9a-z #+_]')\n",
        "STOPWORDS = set(stopwords.words('english'))\n",
        "\n",
        "def cleanUpSentence(r):#, stop_words = None#\n",
        "    r = r.lower().replace(\"<br />\", \" \")\n",
        "    r = REPLACE_BY_SPACE_RE.sub(' ', r)\n",
        "    r = BAD_SYMBOLS_RE.sub('', r)\n",
        "\n",
        "    r = ' '.join(word for word in r.split() if word not in STOPWORDS)\n",
        "\n",
        "    words = word_tokenize(r)\n",
        "\n",
        "    for w in words:\n",
        "        w = lemmatizer.lemmatize(w)\n",
        "\n",
        "    return r"
      ],
      "execution_count": 0,
      "outputs": []
    },
    {
      "metadata": {
        "colab_type": "code",
        "id": "d8FTMDUo0jbX",
        "colab": {}
      },
      "cell_type": "code",
      "source": [
        "# Parse SGML files\n",
        "def strip_tags(text):\n",
        "    return re.sub('<[^<]+?>', '', text).strip()\n",
        "\n",
        "def unescape(text):\n",
        "    return saxutils.unescape(text)\n",
        "  \n",
        "def makeDict(filename, document_X, document_Y):\n",
        "  with open(filename, 'rb') as file:\n",
        "\n",
        "    content = BeautifulSoup(file.read().lower(),'html.parser')\n",
        "\n",
        "    for newsline in content('reuters'):\n",
        "      document_categories = []\n",
        "\n",
        "      document_id = newsline['newid']\n",
        "\n",
        "\n",
        "\n",
        "      document_body = strip_tags(str(newsline('text')[0].body)).replace('reuter\\n&#3;', '')\n",
        "      if document_body == 'None':\n",
        "        continue\n",
        "\n",
        "      doc_categories = strip_tags(str(newsline('topics')[0].body))\n",
        "      doc_categories = unescape(doc_categories)\n",
        "\n",
        "      document_body = unescape(document_body)\n",
        "\n",
        "      topics = newsline.topics.contents\n",
        "      places = newsline.places.contents\n",
        "      people = newsline.people.contents\n",
        "      orgs = newsline.orgs.contents\n",
        "      exchanges = newsline.exchanges.contents\n",
        "\n",
        "      for topic in topics:\n",
        "          document_categories.append('to_' + strip_tags(str(topic)))\n",
        "\n",
        "      for place in places:\n",
        "          document_categories.append('pl_' + strip_tags(str(place)))\n",
        "\n",
        "      for person in people:\n",
        "          document_categories.append('pe_' + strip_tags(str(person)))\n",
        "\n",
        "      for org in orgs:\n",
        "          document_categories.append('or_' + strip_tags(str(org)))\n",
        "\n",
        "      for exchange in exchanges:\n",
        "          document_categories.append('ex_' + strip_tags(str(exchange)))\n",
        "\n",
        "      document_X[document_id] = document_body\n",
        "      document_Y[document_id] = document_categories\n",
        "\n",
        "def readFiles(test_data = False):\n",
        "  document_X = {}\n",
        "  document_Y = {}\n",
        "  if test_data == True:\n",
        "    file_name = sgml_file_name_template.replace('NNN', '021')\n",
        "    filename = data_folder + file_name\n",
        "    makeDict(filename, document_X, document_Y)\n",
        "  else:\n",
        "    for i in range(sgml_number_of_files):\n",
        "      if i < 10:\n",
        "        seq = '00' + str(i)\n",
        "      else:\n",
        "        seq = '0' + str(i)\n",
        "\n",
        "      file_name = sgml_file_name_template.replace('NNN', seq)\n",
        "      print('Reading file: %s' % file_name)\n",
        "      filename = data_folder + file_name\n",
        "      makeDict(filename, document_X, document_Y)\n",
        "  return document_X, document_Y\n",
        "\n"
      ],
      "execution_count": 0,
      "outputs": []
    },
    {
      "metadata": {
        "colab_type": "code",
        "id": "KdM_aruT0jbf",
        "outputId": "2f4a81ca-06d4-473b-cc61-58d7913717bf",
        "colab": {
          "base_uri": "https://localhost:8080/",
          "height": 388
        }
      },
      "cell_type": "code",
      "source": [
        "document_X, document_Y = readFiles()"
      ],
      "execution_count": 7,
      "outputs": [
        {
          "output_type": "stream",
          "text": [
            "Reading file: reut2-000.sgm\n",
            "Reading file: reut2-001.sgm\n",
            "Reading file: reut2-002.sgm\n",
            "Reading file: reut2-003.sgm\n",
            "Reading file: reut2-004.sgm\n",
            "Reading file: reut2-005.sgm\n",
            "Reading file: reut2-006.sgm\n",
            "Reading file: reut2-007.sgm\n",
            "Reading file: reut2-008.sgm\n",
            "Reading file: reut2-009.sgm\n",
            "Reading file: reut2-010.sgm\n",
            "Reading file: reut2-011.sgm\n",
            "Reading file: reut2-012.sgm\n",
            "Reading file: reut2-013.sgm\n",
            "Reading file: reut2-014.sgm\n",
            "Reading file: reut2-015.sgm\n",
            "Reading file: reut2-016.sgm\n",
            "Reading file: reut2-017.sgm\n",
            "Reading file: reut2-018.sgm\n",
            "Reading file: reut2-019.sgm\n",
            "Reading file: reut2-020.sgm\n"
          ],
          "name": "stdout"
        }
      ]
    },
    {
      "metadata": {
        "colab_type": "code",
        "id": "smE_sFwt0jb6",
        "outputId": "c16d01ce-dd7e-4948-b75e-683c46eba058",
        "colab": {
          "base_uri": "https://localhost:8080/",
          "height": 88
        }
      },
      "cell_type": "code",
      "source": [
        "# data preprocessing\n",
        "import numpy as np\n",
        "\n",
        "nltk.download('punkt')\n",
        "nltk.download('wordnet')\n",
        "\n",
        "def create_x_matrix(document_X):\n",
        "    totalX = []\n",
        "    for i, doc in document_X.items():\n",
        "        totalX.append(cleanUpSentence(doc))\n",
        "    max_vocab_size = 200\n",
        "    input_tokenizer = Tokenizer(200)\n",
        "    input_tokenizer.fit_on_texts(totalX)\n",
        "    encoded_docs = input_tokenizer.texts_to_matrix(totalX, mode='count')\n",
        "    return totalX,encoded_docs"
      ],
      "execution_count": 8,
      "outputs": [
        {
          "output_type": "stream",
          "text": [
            "[nltk_data] Downloading package punkt to /root/nltk_data...\n",
            "[nltk_data]   Unzipping tokenizers/punkt.zip.\n",
            "[nltk_data] Downloading package wordnet to /root/nltk_data...\n",
            "[nltk_data]   Unzipping corpora/wordnet.zip.\n"
          ],
          "name": "stdout"
        }
      ]
    },
    {
      "metadata": {
        "colab_type": "code",
        "id": "pmuFLyEf0jcM",
        "colab": {}
      },
      "cell_type": "code",
      "source": [
        "totalX,encoded_docs=create_x_matrix(document_X)"
      ],
      "execution_count": 0,
      "outputs": []
    },
    {
      "metadata": {
        "colab_type": "code",
        "id": "u9y5MsSb0jcs",
        "colab": {}
      },
      "cell_type": "code",
      "source": [
        "#Creating one-hot encode\n",
        "words_in_body={}\n",
        "\n",
        "for i in range(len(totalX)):\n",
        "    words=totalX[i].split(' ')\n",
        "    words_in_body[i]=words    \n",
        "\n",
        "one_hot_label=[]\n",
        "for key,v in words_in_body.items():\n",
        "    dict_temp={'Topics':0,'Places':0,'People':0,'Exchanges':0,'Organizations':0}\n",
        "    for i in v:\n",
        "        if i in category_dictionary['Topics']:\n",
        "            dict_temp['Topics']+=1\n",
        "        if i in category_dictionary['Places']:\n",
        "            dict_temp['Places']+=1\n",
        "        if i in category_dictionary['People']:\n",
        "            dict_temp['People']+=1\n",
        "        if i in category_dictionary['Exchanges']:\n",
        "            dict_temp['Exchanges']+=1\n",
        "        if i in category_dictionary['Organizations']:\n",
        "            dict_temp['Organizations']+=1\n",
        "            \n",
        "    one_hot_label.append(dict_temp)\n",
        "    \n",
        "\n",
        "one_hot_label_list = []\n",
        "for i in one_hot_label:\n",
        "\n",
        "    one_hot_label_list.append(list(i.values()))\n",
        "\n"
      ],
      "execution_count": 0,
      "outputs": []
    },
    {
      "metadata": {
        "colab_type": "code",
        "id": "Au-mGTBB0jdD",
        "outputId": "c717e835-4c45-4020-c283-f66927bbbd98",
        "colab": {
          "base_uri": "https://localhost:8080/",
          "height": 229
        }
      },
      "cell_type": "code",
      "source": [
        "from keras.models import Sequential\n",
        "from keras.layers import Dense,Flatten, Dropout,Embedding\n",
        "nn = Sequential()\n",
        "max_vocab_size = 200\n",
        "nn.add(Embedding(200, 20, input_length=max_vocab_size))\n",
        "nn.add(Dense(10, activation=\"relu\", input_shape=(max_vocab_size,)))\n",
        "nn.add(Dropout(0.15))\n",
        "nn.add(Dense(15, activation=\"relu\"))\n",
        "nn.add(Dropout(0.15))\n",
        "nn.add(Flatten())\n",
        "nn.add(Dense(5,activation=\"softmax\"))\n",
        "nn.compile(optimizer='adam', loss='categorical_crossentropy', metrics=['accuracy'])\n",
        "nn.fit(np.array(encoded_docs), np.array(one_hot_label_list), batch_size=16, epochs=5,\n",
        "          verbose=1, validation_split=0.2)"
      ],
      "execution_count": 16,
      "outputs": [
        {
          "output_type": "stream",
          "text": [
            "Train on 14866 samples, validate on 3717 samples\n",
            "Epoch 1/5\n",
            "14866/14866 [==============================] - 5s 345us/step - loss: 3.1435 - acc: 0.8011 - val_loss: 3.1818 - val_acc: 0.7980\n",
            "Epoch 2/5\n",
            "14866/14866 [==============================] - 5s 332us/step - loss: 2.8266 - acc: 0.8092 - val_loss: 3.1264 - val_acc: 0.7958\n",
            "Epoch 3/5\n",
            "14866/14866 [==============================] - 5s 331us/step - loss: 2.7742 - acc: 0.8138 - val_loss: 3.1058 - val_acc: 0.7807\n",
            "Epoch 4/5\n",
            "14866/14866 [==============================] - 5s 331us/step - loss: 2.7487 - acc: 0.8137 - val_loss: 3.0826 - val_acc: 0.8023\n",
            "Epoch 5/5\n",
            "14866/14866 [==============================] - 5s 331us/step - loss: 2.7242 - acc: 0.8137 - val_loss: 3.0836 - val_acc: 0.7931\n"
          ],
          "name": "stdout"
        },
        {
          "output_type": "execute_result",
          "data": {
            "text/plain": [
              "<keras.callbacks.History at 0x7f1f6c761550>"
            ]
          },
          "metadata": {
            "tags": []
          },
          "execution_count": 16
        }
      ]
    },
    {
      "metadata": {
        "colab_type": "code",
        "id": "P5crb8zK0jdL",
        "colab": {}
      },
      "cell_type": "code",
      "source": [
        "test_document_X, test_document_Y = readFiles(test_data=True)\n",
        "# print(len(test_document_X))"
      ],
      "execution_count": 0,
      "outputs": []
    },
    {
      "metadata": {
        "colab_type": "code",
        "id": "V3rAIuqZ0jdU",
        "colab": {}
      },
      "cell_type": "code",
      "source": [
        "test_total_X,test_encoded_X= create_x_matrix(test_document_X)\n",
        "y = nn.predict(test_encoded_X)\n",
        "# print (y)"
      ],
      "execution_count": 0,
      "outputs": []
    },
    {
      "metadata": {
        "colab_type": "code",
        "id": "3RBUylmj0jdh",
        "outputId": "26c68114-6c44-49a1-c618-4ddf1d5f8029",
        "colab": {
          "base_uri": "https://localhost:8080/",
          "height": 55
        }
      },
      "cell_type": "code",
      "source": [
        "def getRankedOutput2(predicted_y):\n",
        "    all_sorted_x = []\n",
        "    for i in predicted_y:\n",
        "        dict_temp={'Topics':i[0],'Places':i[1],'Peoples':i[2],'Exchanges':i[3],'Organizations':i[4]}\n",
        "        sorted_x = sorted(dict_temp.items(), key=lambda kv: kv[1], reverse=True) \n",
        "        all_sorted_x.append(sorted_x)\n",
        "    return all_sorted_x\n",
        "   \n",
        "ranked_output = getRankedOutput2(y)\n",
        "print((ranked_output)) "
      ],
      "execution_count": 15,
      "outputs": [
        {
          "output_type": "stream",
          "text": [
            "[[('Topics', 0.53592527), ('Places', 0.4392004), ('Peoples', 0.02442408), ('Exchanges', 0.00032594224), ('Organizations', 0.00012428484)], [('Places', 0.6268859), ('Topics', 0.22719973), ('Organizations', 0.079037115), ('Peoples', 0.052243378), ('Exchanges', 0.0146338325)], [('Topics', 0.66584396), ('Exchanges', 0.15620339), ('Places', 0.12874521), ('Peoples', 0.033515878), ('Organizations', 0.015691597)], [('Topics', 0.5822374), ('Places', 0.2442483), ('Peoples', 0.16485062), ('Organizations', 0.0054216124), ('Exchanges', 0.00324199)], [('Topics', 0.5361135), ('Exchanges', 0.29234073), ('Places', 0.12338199), ('Peoples', 0.03325075), ('Organizations', 0.01491299)], [('Topics', 0.6437268), ('Places', 0.24993171), ('Peoples', 0.07437792), ('Organizations', 0.01634745), ('Exchanges', 0.015616068)], [('Topics', 0.84294426), ('Places', 0.12105716), ('Organizations', 0.016590066), ('Peoples', 0.0111146355), ('Exchanges', 0.008293882)], [('Topics', 0.8304456), ('Places', 0.0906116), ('Peoples', 0.031825792), ('Organizations', 0.028018437), ('Exchanges', 0.019098599)], [('Topics', 0.9232457), ('Places', 0.05620742), ('Peoples', 0.0125511605), ('Organizations', 0.004295879), ('Exchanges', 0.003699885)], [('Topics', 0.49999642), ('Places', 0.36740828), ('Peoples', 0.122151315), ('Organizations', 0.006065888), ('Exchanges', 0.0043781335)], [('Topics', 0.9489236), ('Places', 0.033541474), ('Peoples', 0.011217504), ('Organizations', 0.0032508567), ('Exchanges', 0.0030665284)], [('Topics', 0.49212325), ('Exchanges', 0.2349322), ('Places', 0.2041657), ('Peoples', 0.045820888), ('Organizations', 0.022957971)], [('Topics', 0.9347654), ('Places', 0.048476376), ('Peoples', 0.008454326), ('Organizations', 0.0048472653), ('Exchanges', 0.0034567327)], [('Topics', 0.97240025), ('Places', 0.012648867), ('Peoples', 0.011274544), ('Exchanges', 0.003438609), ('Organizations', 0.00023773998)], [('Topics', 0.8276085), ('Places', 0.12355077), ('Exchanges', 0.018749574), ('Peoples', 0.016014623), ('Organizations', 0.014076369)], [('Topics', 0.7940767), ('Places', 0.11385735), ('Peoples', 0.071658045), ('Exchanges', 0.016261524), ('Organizations', 0.0041464334)], [('Topics', 0.6423104), ('Places', 0.24290323), ('Peoples', 0.08382379), ('Exchanges', 0.01679302), ('Organizations', 0.014169632)], [('Topics', 0.9339838), ('Places', 0.05831206), ('Peoples', 0.0040212153), ('Exchanges', 0.0022111284), ('Organizations', 0.00147177)], [('Topics', 0.5995874), ('Places', 0.3232694), ('Organizations', 0.03478472), ('Exchanges', 0.023057505), ('Peoples', 0.019300995)], [('Topics', 0.8171201), ('Places', 0.10840098), ('Peoples', 0.04736149), ('Organizations', 0.015324973), ('Exchanges', 0.011792489)], [('Topics', 0.8671249), ('Places', 0.061808575), ('Peoples', 0.044215985), ('Exchanges', 0.015360624), ('Organizations', 0.011489954)], [('Topics', 0.49227458), ('Places', 0.3230281), ('Peoples', 0.1610401), ('Exchanges', 0.012371255), ('Organizations', 0.011285979)], [('Topics', 0.9029362), ('Places', 0.060778096), ('Peoples', 0.014625648), ('Organizations', 0.013498235), ('Exchanges', 0.008161629)], [('Topics', 0.9177145), ('Places', 0.07503854), ('Peoples', 0.0031794554), ('Exchanges', 0.0020804412), ('Organizations', 0.0019870165)], [('Topics', 0.7407), ('Places', 0.1252145), ('Peoples', 0.066966765), ('Organizations', 0.055490285), ('Exchanges', 0.011628434)], [('Topics', 0.49376884), ('Places', 0.39327976), ('Organizations', 0.05512199), ('Peoples', 0.040843822), ('Exchanges', 0.016985515)], [('Topics', 0.91720706), ('Places', 0.04398311), ('Organizations', 0.018514505), ('Peoples', 0.014029166), ('Exchanges', 0.0062662777)], [('Topics', 0.8039564), ('Places', 0.12103488), ('Peoples', 0.05247421), ('Exchanges', 0.012530488), ('Organizations', 0.010004062)], [('Topics', 0.88790804), ('Places', 0.10081034), ('Peoples', 0.009949695), ('Exchanges', 0.0011714491), ('Organizations', 0.00016051569)], [('Topics', 0.57779354), ('Places', 0.2882238), ('Peoples', 0.08909835), ('Exchanges', 0.024462692), ('Organizations', 0.020421527)], [('Topics', 0.6253673), ('Places', 0.31213588), ('Peoples', 0.053464103), ('Exchanges', 0.00655168), ('Organizations', 0.002481026)], [('Topics', 0.9817624), ('Places', 0.009845357), ('Peoples', 0.0038192493), ('Organizations', 0.003409848), ('Exchanges', 0.0011631863)], [('Topics', 0.92121464), ('Places', 0.06115824), ('Peoples', 0.012056747), ('Exchanges', 0.0042876443), ('Organizations', 0.0012827929)], [('Topics', 0.6615834), ('Places', 0.23703532), ('Peoples', 0.05587023), ('Organizations', 0.024488863), ('Exchanges', 0.02102212)], [('Topics', 0.8439139), ('Places', 0.111258775), ('Peoples', 0.035534132), ('Organizations', 0.0058117295), ('Exchanges', 0.0034814933)], [('Topics', 0.80631256), ('Places', 0.1608179), ('Peoples', 0.02454364), ('Exchanges', 0.0073083774), ('Organizations', 0.001017485)], [('Topics', 0.9255353), ('Places', 0.053654555), ('Peoples', 0.013900172), ('Exchanges', 0.006369348), ('Organizations', 0.00054059207)], [('Topics', 0.9066754), ('Places', 0.057344332), ('Organizations', 0.0178284), ('Peoples', 0.015658882), ('Exchanges', 0.0024930018)], [('Topics', 0.9132051), ('Places', 0.07191516), ('Peoples', 0.007692041), ('Organizations', 0.0039567994), ('Exchanges', 0.0032309568)], [('Topics', 0.968585), ('Places', 0.024988808), ('Peoples', 0.004464893), ('Exchanges', 0.0016660468), ('Organizations', 0.00029525088)], [('Topics', 0.84858274), ('Places', 0.090524614), ('Peoples', 0.050059628), ('Exchanges', 0.008449963), ('Organizations', 0.0023830328)], [('Topics', 0.7617745), ('Places', 0.19028284), ('Peoples', 0.030380404), ('Exchanges', 0.015460329), ('Organizations', 0.002101931)], [('Topics', 0.61009014), ('Places', 0.25881243), ('Peoples', 0.074326284), ('Organizations', 0.028608784), ('Exchanges', 0.028162325)], [('Topics', 0.93120575), ('Places', 0.05924274), ('Peoples', 0.007832533), ('Exchanges', 0.0014943077), ('Organizations', 0.0002246588)], [('Topics', 0.55406743), ('Exchanges', 0.20441703), ('Places', 0.20195866), ('Peoples', 0.028013313), ('Organizations', 0.011543561)], [('Topics', 0.8506216), ('Places', 0.12034007), ('Peoples', 0.017255776), ('Exchanges', 0.009681233), ('Organizations', 0.002101388)], [('Topics', 0.838421), ('Peoples', 0.09728889), ('Exchanges', 0.031587437), ('Places', 0.029479576), ('Organizations', 0.0032231966)], [('Topics', 0.95267767), ('Places', 0.036182832), ('Peoples', 0.0072882962), ('Exchanges', 0.003769917), ('Organizations', 8.135614e-05)], [('Topics', 0.7289581), ('Places', 0.17832269), ('Peoples', 0.05977227), ('Exchanges', 0.017457934), ('Organizations', 0.015489101)], [('Topics', 0.96896577), ('Places', 0.021107048), ('Peoples', 0.006282225), ('Exchanges', 0.0019323248), ('Organizations', 0.0017125213)], [('Topics', 0.80298835), ('Places', 0.18747395), ('Peoples', 0.0059907064), ('Organizations', 0.0032440396), ('Exchanges', 0.0003029803)], [('Topics', 0.80620295), ('Places', 0.17207235), ('Peoples', 0.013119467), ('Organizations', 0.0051025953), ('Exchanges', 0.0035026018)], [('Topics', 0.8486809), ('Places', 0.0760521), ('Peoples', 0.02698798), ('Exchanges', 0.026309092), ('Organizations', 0.021969909)], [('Topics', 0.63395774), ('Places', 0.24834359), ('Peoples', 0.061624598), ('Exchanges', 0.040919464), ('Organizations', 0.015154684)], [('Topics', 0.67438734), ('Places', 0.19939375), ('Peoples', 0.08978872), ('Organizations', 0.020929864), ('Exchanges', 0.015500363)], [('Topics', 0.8217256), ('Places', 0.11313317), ('Peoples', 0.04780716), ('Exchanges', 0.009974487), ('Organizations', 0.0073595033)], [('Topics', 0.88243544), ('Places', 0.0860258), ('Organizations', 0.014494239), ('Exchanges', 0.008644289), ('Peoples', 0.008400274)], [('Topics', 0.74617964), ('Places', 0.13488895), ('Peoples', 0.08421929), ('Organizations', 0.025712209), ('Exchanges', 0.008999863)], [('Topics', 0.90930396), ('Places', 0.06056346), ('Peoples', 0.013380607), ('Exchanges', 0.012326617), ('Organizations', 0.0044254106)], [('Peoples', 0.5166845), ('Topics', 0.34174415), ('Places', 0.108596966), ('Organizations', 0.022057422), ('Exchanges', 0.010917039)], [('Topics', 0.88601625), ('Places', 0.08498923), ('Peoples', 0.019087898), ('Organizations', 0.00648321), ('Exchanges', 0.0034233553)], [('Topics', 0.6968891), ('Places', 0.15421993), ('Peoples', 0.102994956), ('Organizations', 0.026854543), ('Exchanges', 0.0190415)], [('Topics', 0.7562246), ('Places', 0.16675813), ('Peoples', 0.045574024), ('Organizations', 0.02098014), ('Exchanges', 0.010463168)], [('Topics', 0.5580669), ('Places', 0.34491935), ('Peoples', 0.065212846), ('Exchanges', 0.019118102), ('Organizations', 0.012682703)], [('Topics', 0.8494196), ('Places', 0.11231311), ('Peoples', 0.019378245), ('Organizations', 0.01103696), ('Exchanges', 0.007851982)], [('Topics', 0.62337863), ('Places', 0.2254328), ('Peoples', 0.14292006), ('Exchanges', 0.006005305), ('Organizations', 0.002263186)], [('Topics', 0.8266398), ('Places', 0.13407539), ('Organizations', 0.014062662), ('Peoples', 0.01360888), ('Exchanges', 0.011613192)], [('Topics', 0.8681988), ('Places', 0.111747645), ('Peoples', 0.017030116), ('Exchanges', 0.0019121233), ('Organizations', 0.0011113966)], [('Topics', 0.9668333), ('Places', 0.024255514), ('Peoples', 0.004162825), ('Exchanges', 0.003721074), ('Organizations', 0.0010274102)], [('Topics', 0.69197696), ('Places', 0.24431913), ('Peoples', 0.036034744), ('Organizations', 0.017381394), ('Exchanges', 0.010287766)], [('Topics', 0.9097339), ('Places', 0.050274387), ('Peoples', 0.017783403), ('Exchanges', 0.014522561), ('Organizations', 0.0076858015)], [('Topics', 0.8445811), ('Places', 0.08256656), ('Peoples', 0.030101545), ('Exchanges', 0.023977203), ('Organizations', 0.018773524)], [('Topics', 0.84173506), ('Places', 0.08692946), ('Peoples', 0.025731422), ('Exchanges', 0.02391924), ('Organizations', 0.021684764)], [('Topics', 0.85865223), ('Places', 0.072902024), ('Peoples', 0.03346356), ('Exchanges', 0.021410173), ('Organizations', 0.013572078)], [('Topics', 0.87228286), ('Places', 0.05458981), ('Peoples', 0.041733354), ('Organizations', 0.016198577), ('Exchanges', 0.015195396)], [('Topics', 0.59927946), ('Places', 0.2856683), ('Peoples', 0.0911906), ('Organizations', 0.01803495), ('Exchanges', 0.0058266073)], [('Topics', 0.64993054), ('Places', 0.16897619), ('Exchanges', 0.121652186), ('Peoples', 0.039285257), ('Organizations', 0.020155838)], [('Topics', 0.85299546), ('Places', 0.06562516), ('Peoples', 0.029139353), ('Exchanges', 0.028137604), ('Organizations', 0.024102477)], [('Topics', 0.6852027), ('Places', 0.2040863), ('Organizations', 0.06409334), ('Peoples', 0.025290608), ('Exchanges', 0.021327004)], [('Topics', 0.88681066), ('Places', 0.04875817), ('Exchanges', 0.038012486), ('Peoples', 0.016195003), ('Organizations', 0.010223806)], [('Topics', 0.9172257), ('Places', 0.06393693), ('Peoples', 0.01152465), ('Organizations', 0.0047306926), ('Exchanges', 0.0025819603)], [('Topics', 0.770164), ('Places', 0.2098224), ('Peoples', 0.01481131), ('Exchanges', 0.004482343), ('Organizations', 0.0007200051)], [('Topics', 0.5432126), ('Places', 0.27469727), ('Peoples', 0.09003752), ('Exchanges', 0.06532674), ('Organizations', 0.026725877)], [('Topics', 0.4611568), ('Places', 0.39403713), ('Peoples', 0.08666245), ('Organizations', 0.0390278), ('Exchanges', 0.019115701)], [('Topics', 0.78055716), ('Places', 0.18101306), ('Peoples', 0.028781928), ('Exchanges', 0.00864478), ('Organizations', 0.0010030766)], [('Topics', 0.594616), ('Places', 0.35801402), ('Peoples', 0.042552765), ('Exchanges', 0.0031887516), ('Organizations', 0.0016285083)], [('Topics', 0.68233186), ('Places', 0.21850757), ('Peoples', 0.08687456), ('Organizations', 0.007807243), ('Exchanges', 0.0044788653)], [('Topics', 0.98666894), ('Places', 0.01070682), ('Peoples', 0.002128218), ('Exchanges', 0.00048337693), ('Organizations', 1.2606328e-05)], [('Topics', 0.71451527), ('Places', 0.13670835), ('Peoples', 0.07295179), ('Exchanges', 0.054146722), ('Organizations', 0.021677824)], [('Topics', 0.90872306), ('Places', 0.0607248), ('Peoples', 0.02068962), ('Organizations', 0.0059695966), ('Exchanges', 0.0038929163)], [('Topics', 0.9037902), ('Places', 0.084302805), ('Peoples', 0.007050946), ('Exchanges', 0.0044261585), ('Organizations', 0.00042987915)], [('Topics', 0.64808244), ('Places', 0.3231873), ('Peoples', 0.01667007), ('Organizations', 0.0071995594), ('Exchanges', 0.0048606275)], [('Topics', 0.87958795), ('Places', 0.0718977), ('Peoples', 0.030537682), ('Exchanges', 0.009183273), ('Organizations', 0.008793375)], [('Topics', 0.9594202), ('Places', 0.031773217), ('Peoples', 0.0041901655), ('Exchanges', 0.0024212268), ('Organizations', 0.0021952917)], [('Topics', 0.6382552), ('Places', 0.26350635), ('Peoples', 0.086982116), ('Exchanges', 0.0069019534), ('Organizations', 0.004354411)], [('Topics', 0.9636825), ('Places', 0.02567167), ('Peoples', 0.007822226), ('Exchanges', 0.0026469845), ('Organizations', 0.00017679823)], [('Topics', 0.76351655), ('Places', 0.17511824), ('Peoples', 0.043531395), ('Organizations', 0.011751869), ('Exchanges', 0.006081911)], [('Topics', 0.9733733), ('Places', 0.02244537), ('Exchanges', 0.002507441), ('Peoples', 0.0015868181), ('Organizations', 8.718955e-05)], [('Peoples', 0.63569456), ('Topics', 0.2354044), ('Places', 0.122085184), ('Organizations', 0.0062136147), ('Exchanges', 0.0006021235)], [('Topics', 0.86958915), ('Peoples', 0.072192416), ('Places', 0.051982656), ('Exchanges', 0.00557461), ('Organizations', 0.00066119304)], [('Topics', 0.90475976), ('Places', 0.07112157), ('Peoples', 0.011486539), ('Organizations', 0.011085052), ('Exchanges', 0.0015469611)], [('Topics', 0.45035478), ('Places', 0.23308587), ('Organizations', 0.20484297), ('Peoples', 0.102065735), ('Exchanges', 0.009650677)], [('Topics', 0.56075376), ('Places', 0.23483318), ('Peoples', 0.122838385), ('Organizations', 0.05368235), ('Exchanges', 0.027892299)], [('Topics', 0.7764857), ('Places', 0.2128567), ('Peoples', 0.0072393813), ('Exchanges', 0.0019807096), ('Organizations', 0.0014374914)], [('Topics', 0.723352), ('Places', 0.1613944), ('Peoples', 0.055972483), ('Organizations', 0.033331145), ('Exchanges', 0.025949936)], [('Topics', 0.74482733), ('Places', 0.22180301), ('Peoples', 0.026293313), ('Organizations', 0.004319192), ('Exchanges', 0.0027571348)], [('Topics', 0.74468267), ('Places', 0.14149803), ('Peoples', 0.07917997), ('Organizations', 0.02007455), ('Exchanges', 0.014564866)], [('Topics', 0.8677418), ('Places', 0.065990865), ('Peoples', 0.043403853), ('Organizations', 0.012001429), ('Exchanges', 0.010862005)], [('Topics', 0.8571475), ('Places', 0.10166758), ('Exchanges', 0.018269079), ('Peoples', 0.01821372), ('Organizations', 0.0047021047)], [('Topics', 0.83879906), ('Places', 0.12555923), ('Peoples', 0.020478103), ('Organizations', 0.0094568), ('Exchanges', 0.0057067303)], [('Topics', 0.6388131), ('Places', 0.23792994), ('Peoples', 0.119819924), ('Organizations', 0.0024657731), ('Exchanges', 0.00097123376)], [('Topics', 0.9206048), ('Places', 0.03698146), ('Peoples', 0.021645946), ('Organizations', 0.014525121), ('Exchanges', 0.006242763)], [('Topics', 0.73418546), ('Places', 0.14477478), ('Peoples', 0.063874066), ('Organizations', 0.03608114), ('Exchanges', 0.021084538)], [('Topics', 0.7186272), ('Places', 0.20478779), ('Peoples', 0.035066977), ('Organizations', 0.0273195), ('Exchanges', 0.01419859)], [('Topics', 0.9486075), ('Places', 0.041989196), ('Organizations', 0.004793033), ('Peoples', 0.0032044658), ('Exchanges', 0.0014059006)], [('Topics', 0.8725554), ('Places', 0.11219818), ('Peoples', 0.008576565), ('Exchanges', 0.0036951497), ('Organizations', 0.0029747055)], [('Topics', 0.6490597), ('Places', 0.2482548), ('Peoples', 0.051545817), ('Exchanges', 0.027347643), ('Organizations', 0.023792008)], [('Topics', 0.6162084), ('Places', 0.3361249), ('Peoples', 0.020972382), ('Organizations', 0.017407272), ('Exchanges', 0.00928696)], [('Topics', 0.46574384), ('Exchanges', 0.34610018), ('Places', 0.14801028), ('Peoples', 0.0293023), ('Organizations', 0.010843323)], [('Topics', 0.83045757), ('Places', 0.11271726), ('Peoples', 0.03679337), ('Exchanges', 0.010492472), ('Organizations', 0.00953942)], [('Topics', 0.9282656), ('Places', 0.06910773), ('Peoples', 0.0017821703), ('Exchanges', 0.00063691486), ('Organizations', 0.00020755915)], [('Topics', 0.8985867), ('Places', 0.07408003), ('Peoples', 0.010796025), ('Exchanges', 0.008618406), ('Organizations', 0.007918773)], [('Topics', 0.70249754), ('Places', 0.20241337), ('Peoples', 0.044703174), ('Organizations', 0.03347904), ('Exchanges', 0.016906943)], [('Topics', 0.86462873), ('Places', 0.11185214), ('Peoples', 0.016904587), ('Organizations', 0.004741623), ('Exchanges', 0.0018729273)], [('Topics', 0.92833227), ('Places', 0.048939716), ('Peoples', 0.020581147), ('Exchanges', 0.0019435327), ('Organizations', 0.00020329207)], [('Topics', 0.98432714), ('Places', 0.010885475), ('Peoples', 0.0026634263), ('Organizations', 0.0013169359), ('Exchanges', 0.00080709456)], [('Topics', 0.9616893), ('Places', 0.025670359), ('Peoples', 0.008429832), ('Exchanges', 0.0036923194), ('Organizations', 0.00051818695)], [('Topics', 0.62379926), ('Places', 0.2805141), ('Peoples', 0.08332519), ('Organizations', 0.006585335), ('Exchanges', 0.0057760924)], [('Topics', 0.45208004), ('Exchanges', 0.2121442), ('Places', 0.20093735), ('Peoples', 0.117138505), ('Organizations', 0.01769997)], [('Topics', 0.59450066), ('Places', 0.3265165), ('Organizations', 0.040502854), ('Peoples', 0.033567064), ('Exchanges', 0.004912877)], [('Exchanges', 0.7580207), ('Topics', 0.12961516), ('Places', 0.099125035), ('Peoples', 0.009102792), ('Organizations', 0.004136269)], [('Topics', 0.6249365), ('Places', 0.25520828), ('Peoples', 0.06120685), ('Organizations', 0.044102732), ('Exchanges', 0.014545592)], [('Topics', 0.76795655), ('Places', 0.18824261), ('Peoples', 0.021756442), ('Organizations', 0.014453564), ('Exchanges', 0.0075908485)], [('Topics', 0.60952103), ('Places', 0.24815553), ('Peoples', 0.073967375), ('Exchanges', 0.046086237), ('Organizations', 0.022269787)], [('Topics', 0.6250003), ('Places', 0.29718333), ('Peoples', 0.064965576), ('Organizations', 0.0117553575), ('Exchanges', 0.001095398)], [('Topics', 0.67351246), ('Peoples', 0.1143725), ('Places', 0.110933796), ('Exchanges', 0.08641682), ('Organizations', 0.01476442)], [('Topics', 0.65165496), ('Places', 0.22017322), ('Peoples', 0.079269424), ('Organizations', 0.025062442), ('Exchanges', 0.02383999)], [('Topics', 0.6046719), ('Exchanges', 0.17733847), ('Places', 0.15641472), ('Peoples', 0.050092347), ('Organizations', 0.011482504)], [('Topics', 0.94954616), ('Places', 0.040261798), ('Peoples', 0.00687185), ('Exchanges', 0.0018225166), ('Organizations', 0.0014976443)], [('Topics', 0.9431524), ('Places', 0.039225716), ('Peoples', 0.009523458), ('Exchanges', 0.0045392686), ('Organizations', 0.0035591263)], [('Topics', 0.90048516), ('Places', 0.072321005), ('Peoples', 0.0115385875), ('Organizations', 0.00835106), ('Exchanges', 0.0073043015)], [('Topics', 0.65424097), ('Places', 0.24372911), ('Peoples', 0.06504088), ('Exchanges', 0.023036925), ('Organizations', 0.013952158)], [('Topics', 0.54524416), ('Places', 0.41846457), ('Peoples', 0.0254032), ('Exchanges', 0.005776142), ('Organizations', 0.005111949)], [('Topics', 0.9668173), ('Places', 0.025882479), ('Peoples', 0.00502227), ('Exchanges', 0.001898301), ('Organizations', 0.00037957888)], [('Topics', 0.567084), ('Places', 0.31619415), ('Peoples', 0.05611522), ('Organizations', 0.043257695), ('Exchanges', 0.017348893)], [('Topics', 0.8162465), ('Places', 0.117090434), ('Peoples', 0.063159004), ('Exchanges', 0.0031723997), ('Organizations', 0.00033168637)], [('Topics', 0.8848435), ('Places', 0.087123595), ('Peoples', 0.023640828), ('Exchanges', 0.0034748344), ('Organizations', 0.0009171677)], [('Topics', 0.6370789), ('Places', 0.24888533), ('Peoples', 0.06286505), ('Exchanges', 0.02731705), ('Organizations', 0.023853628)], [('Topics', 0.8674885), ('Places', 0.07905602), ('Peoples', 0.04989034), ('Exchanges', 0.0034819222), ('Organizations', 8.326459e-05)], [('Topics', 0.90588313), ('Places', 0.08004842), ('Peoples', 0.011557953), ('Organizations', 0.002045707), ('Exchanges', 0.00046474944)], [('Topics', 0.7418934), ('Places', 0.1869424), ('Peoples', 0.03702054), ('Exchanges', 0.023769116), ('Organizations', 0.01037464)], [('Topics', 0.8711169), ('Places', 0.06009468), ('Peoples', 0.04041072), ('Exchanges', 0.01421666), ('Organizations', 0.014161011)], [('Topics', 0.8982731), ('Places', 0.060937833), ('Peoples', 0.019126406), ('Exchanges', 0.0120038865), ('Organizations', 0.0096587725)], [('Topics', 0.7180969), ('Places', 0.19662589), ('Peoples', 0.05389019), ('Organizations', 0.021409221), ('Exchanges', 0.009977744)], [('Places', 0.43906072), ('Topics', 0.3952064), ('Peoples', 0.13514152), ('Organizations', 0.01956939), ('Exchanges', 0.011022022)], [('Topics', 0.6555371), ('Places', 0.22099975), ('Peoples', 0.08853406), ('Organizations', 0.02058109), ('Exchanges', 0.014347932)], [('Topics', 0.66359526), ('Places', 0.1956626), ('Peoples', 0.07434861), ('Organizations', 0.06009402), ('Exchanges', 0.0062994813)], [('Topics', 0.7825106), ('Places', 0.13842602), ('Peoples', 0.0405733), ('Exchanges', 0.021475824), ('Organizations', 0.017014312)], [('Places', 0.4047823), ('Topics', 0.3283272), ('Peoples', 0.21227327), ('Exchanges', 0.041070778), ('Organizations', 0.013546459)], [('Topics', 0.9565638), ('Places', 0.030091217), ('Peoples', 0.011560875), ('Exchanges', 0.0015027927), ('Organizations', 0.0002813557)], [('Topics', 0.9227609), ('Places', 0.06414), ('Peoples', 0.0069115055), ('Exchanges', 0.005005341), ('Organizations', 0.0011822726)], [('Topics', 0.86679184), ('Places', 0.10771868), ('Peoples', 0.013828803), ('Exchanges', 0.010480543), ('Organizations', 0.0011801275)], [('Topics', 0.7765923), ('Peoples', 0.15352397), ('Places', 0.06711869), ('Exchanges', 0.002605238), ('Organizations', 0.00015976925)], [('Topics', 0.9937681), ('Places', 0.005253712), ('Peoples', 0.0006223092), ('Exchanges', 0.00031324514), ('Organizations', 4.2693762e-05)], [('Topics', 0.88846767), ('Places', 0.07280171), ('Peoples', 0.034852687), ('Exchanges', 0.0031757648), ('Organizations', 0.0007022592)], [('Topics', 0.9401178), ('Places', 0.046522584), ('Peoples', 0.011512566), ('Exchanges', 0.0016514574), ('Organizations', 0.00019559327)], [('Topics', 0.9556785), ('Places', 0.024680883), ('Peoples', 0.013868752), ('Exchanges', 0.005041372), ('Organizations', 0.0007305256)], [('Topics', 0.5451586), ('Places', 0.2629091), ('Peoples', 0.07986941), ('Organizations', 0.056365065), ('Exchanges', 0.055697836)], [('Topics', 0.8869088), ('Places', 0.10043801), ('Peoples', 0.0063230917), ('Exchanges', 0.003963594), ('Organizations', 0.0023664765)], [('Topics', 0.6533678), ('Places', 0.20589408), ('Peoples', 0.08919191), ('Organizations', 0.02739951), ('Exchanges', 0.024146706)], [('Topics', 0.8825646), ('Exchanges', 0.07178779), ('Places', 0.037814412), ('Peoples', 0.005767634), ('Organizations', 0.0020655934)], [('Topics', 0.729759), ('Places', 0.14578502), ('Peoples', 0.11247989), ('Exchanges', 0.009857051), ('Organizations', 0.0021191088)], [('Topics', 0.8082972), ('Places', 0.092844315), ('Peoples', 0.09193372), ('Exchanges', 0.0047785547), ('Organizations', 0.0021462257)], [('Topics', 0.8809785), ('Places', 0.091290385), ('Exchanges', 0.012832961), ('Peoples', 0.009329707), ('Organizations', 0.0055684308)], [('Topics', 0.85555047), ('Places', 0.099361695), ('Peoples', 0.03333821), ('Exchanges', 0.008125447), ('Organizations', 0.0036241696)], [('Topics', 0.9485533), ('Places', 0.028538756), ('Peoples', 0.015095533), ('Exchanges', 0.007390434), ('Organizations', 0.0004219404)], [('Topics', 0.80834967), ('Places', 0.1731324), ('Peoples', 0.012142278), ('Exchanges', 0.006121636), ('Organizations', 0.0002539812)], [('Topics', 0.5616042), ('Places', 0.32457387), ('Organizations', 0.051817838), ('Peoples', 0.045265134), ('Exchanges', 0.016739035)], [('Topics', 0.8929271), ('Places', 0.082092665), ('Peoples', 0.012568427), ('Organizations', 0.008196519), ('Exchanges', 0.0042153355)], [('Places', 0.42382815), ('Topics', 0.4187395), ('Organizations', 0.11698394), ('Peoples', 0.037182048), ('Exchanges', 0.0032662891)], [('Topics', 0.87584144), ('Places', 0.09874146), ('Peoples', 0.01732943), ('Exchanges', 0.008031403), ('Organizations', 5.6310866e-05)], [('Topics', 0.944997), ('Places', 0.03345363), ('Peoples', 0.018783519), ('Exchanges', 0.001688299), ('Organizations', 0.0010775039)], [('Places', 0.46545133), ('Topics', 0.38360158), ('Peoples', 0.10600894), ('Organizations', 0.029896762), ('Exchanges', 0.015041333)], [('Topics', 0.80648744), ('Places', 0.13510089), ('Peoples', 0.02733832), ('Organizations', 0.02412266), ('Exchanges', 0.0069507216)], [('Topics', 0.9056217), ('Places', 0.08903032), ('Exchanges', 0.0033487924), ('Peoples', 0.00164072), ('Organizations', 0.00035845485)], [('Topics', 0.9460558), ('Places', 0.04380505), ('Peoples', 0.0052737272), ('Organizations', 0.0025610595), ('Exchanges', 0.002304346)], [('Topics', 0.7955556), ('Places', 0.14403826), ('Peoples', 0.034344934), ('Exchanges', 0.015534673), ('Organizations', 0.010526455)], [('Topics', 0.88254493), ('Peoples', 0.058761805), ('Organizations', 0.026164781), ('Places', 0.025021706), ('Exchanges', 0.007506812)], [('Topics', 0.93688387), ('Places', 0.0391779), ('Peoples', 0.01241791), ('Organizations', 0.006260162), ('Exchanges', 0.00526018)], [('Topics', 0.8630124), ('Places', 0.085652255), ('Peoples', 0.033792716), ('Organizations', 0.015596277), ('Exchanges', 0.0019463516)], [('Topics', 0.9670283), ('Places', 0.01599892), ('Peoples', 0.012978285), ('Exchanges', 0.0036872271), ('Organizations', 0.00030718144)], [('Topics', 0.9043157), ('Places', 0.07787567), ('Organizations', 0.009733242), ('Peoples', 0.0047325105), ('Exchanges', 0.0033428075)], [('Topics', 0.9661686), ('Places', 0.016234104), ('Peoples', 0.013910405), ('Exchanges', 0.0022511443), ('Organizations', 0.0014357307)], [('Topics', 0.75799096), ('Places', 0.13370502), ('Peoples', 0.09040246), ('Organizations', 0.010371026), ('Exchanges', 0.0075304927)], [('Topics', 0.60940653), ('Places', 0.31043112), ('Peoples', 0.060825106), ('Organizations', 0.0152160255), ('Exchanges', 0.004121249)], [('Topics', 0.96342945), ('Places', 0.02266219), ('Peoples', 0.012607764), ('Exchanges', 0.0010796593), ('Organizations', 0.00022100931)], [('Topics', 0.89496195), ('Places', 0.087385006), ('Peoples', 0.015193625), ('Exchanges', 0.0021442755), ('Organizations', 0.00031519966)], [('Topics', 0.942905), ('Places', 0.04868675), ('Peoples', 0.0030344047), ('Organizations', 0.002784833), ('Exchanges', 0.002589124)], [('Topics', 0.8121983), ('Places', 0.11166717), ('Peoples', 0.06506924), ('Exchanges', 0.007256694), ('Organizations', 0.003808634)], [('Topics', 0.9574669), ('Places', 0.02135398), ('Peoples', 0.013941148), ('Organizations', 0.004998074), ('Exchanges', 0.0022398306)], [('Topics', 0.8623586), ('Places', 0.12673435), ('Organizations', 0.0047447504), ('Peoples', 0.00458043), ('Exchanges', 0.0015819084)], [('Topics', 0.8385741), ('Places', 0.14419909), ('Peoples', 0.014345121), ('Exchanges', 0.0017193703), ('Organizations', 0.0011623487)], [('Topics', 0.7235705), ('Places', 0.19395952), ('Peoples', 0.041835114), ('Exchanges', 0.024882857), ('Organizations', 0.015751924)], [('Topics', 0.91720706), ('Places', 0.04398311), ('Organizations', 0.018514505), ('Peoples', 0.014029166), ('Exchanges', 0.0062662777)], [('Exchanges', 0.44617075), ('Topics', 0.4007768), ('Places', 0.120855734), ('Peoples', 0.022101318), ('Organizations', 0.010095443)], [('Topics', 0.9210665), ('Places', 0.06688249), ('Peoples', 0.011039661), ('Exchanges', 0.0009953269), ('Organizations', 1.5907415e-05)], [('Topics', 0.5277628), ('Places', 0.41367784), ('Peoples', 0.042498693), ('Organizations', 0.01309905), ('Exchanges', 0.0029616554)], [('Topics', 0.9595516), ('Places', 0.03606464), ('Peoples', 0.0026713503), ('Exchanges', 0.0016723603), ('Organizations', 4.002936e-05)], [('Topics', 0.69677323), ('Places', 0.23751189), ('Peoples', 0.038558543), ('Organizations', 0.01763852), ('Exchanges', 0.009517931)], [('Topics', 0.8936217), ('Places', 0.06990614), ('Peoples', 0.02951079), ('Exchanges', 0.0045190807), ('Organizations', 0.002442264)], [('Topics', 0.93320376), ('Places', 0.0629322), ('Peoples', 0.0019022981), ('Exchanges', 0.0017892708), ('Organizations', 0.00017247073)], [('Topics', 0.72553664), ('Places', 0.20694186), ('Peoples', 0.04401682), ('Exchanges', 0.014333736), ('Organizations', 0.009170924)], [('Topics', 0.6510423), ('Peoples', 0.20023276), ('Places', 0.117013514), ('Organizations', 0.02116973), ('Exchanges', 0.010541725)], [('Topics', 0.95313954), ('Places', 0.032553304), ('Organizations', 0.010110484), ('Peoples', 0.0040806015), ('Exchanges', 0.00011600685)], [('Topics', 0.89296037), ('Places', 0.06122441), ('Organizations', 0.02467965), ('Peoples', 0.014644123), ('Exchanges', 0.006491535)], [('Topics', 0.65563256), ('Places', 0.22597826), ('Peoples', 0.062078923), ('Organizations', 0.034360487), ('Exchanges', 0.021949863)], [('Topics', 0.9551608), ('Places', 0.03232991), ('Exchanges', 0.0049847425), ('Organizations', 0.004657582), ('Peoples', 0.0028670293)], [('Topics', 0.892895), ('Places', 0.07430334), ('Peoples', 0.019592576), ('Organizations', 0.008726778), ('Exchanges', 0.004482386)], [('Topics', 0.93085724), ('Places', 0.054483958), ('Peoples', 0.010937594), ('Exchanges', 0.0031761047), ('Organizations', 0.00054519513)], [('Topics', 0.8604727), ('Places', 0.07554412), ('Peoples', 0.033107653), ('Organizations', 0.019011559), ('Exchanges', 0.0118639385)], [('Topics', 0.8151187), ('Places', 0.16480976), ('Peoples', 0.017697565), ('Exchanges', 0.0012894799), ('Organizations', 0.0010846333)], [('Topics', 0.9625805), ('Places', 0.021409096), ('Peoples', 0.011513758), ('Organizations', 0.0026772078), ('Exchanges', 0.0018194919)], [('Topics', 0.93088907), ('Places', 0.064289056), ('Peoples', 0.0033612524), ('Organizations', 0.0007970882), ('Exchanges', 0.00066346175)], [('Topics', 0.64879745), ('Places', 0.21576977), ('Exchanges', 0.077424504), ('Peoples', 0.05119651), ('Organizations', 0.006811709)], [('Topics', 0.9516063), ('Places', 0.034223557), ('Peoples', 0.01091127), ('Exchanges', 0.0026382897), ('Organizations', 0.0006206539)], [('Topics', 0.78738946), ('Places', 0.1766), ('Peoples', 0.024884976), ('Exchanges', 0.006534327), ('Organizations', 0.0045911376)], [('Topics', 0.9873712), ('Places', 0.0075059524), ('Peoples', 0.0022490495), ('Exchanges', 0.0019317468), ('Organizations', 0.00094202894)], [('Topics', 0.9623388), ('Places', 0.023803478), ('Peoples', 0.0064343414), ('Organizations', 0.005053299), ('Exchanges', 0.002370256)], [('Topics', 0.9633898), ('Places', 0.026171021), ('Peoples', 0.0047796704), ('Exchanges', 0.004587936), ('Organizations', 0.0010715862)], [('Topics', 0.53817445), ('Places', 0.42224607), ('Peoples', 0.02749086), ('Organizations', 0.011104602), ('Exchanges', 0.0009840736)], [('Topics', 0.7882835), ('Places', 0.16068073), ('Peoples', 0.02597923), ('Exchanges', 0.0168873), ('Organizations', 0.00816921)], [('Topics', 0.94390297), ('Places', 0.02248855), ('Peoples', 0.021849778), ('Organizations', 0.007938773), ('Exchanges', 0.0038199625)], [('Topics', 0.9645788), ('Places', 0.023236696), ('Peoples', 0.0066857506), ('Exchanges', 0.0039294246), ('Organizations', 0.0015692557)], [('Topics', 0.65069616), ('Places', 0.30334413), ('Peoples', 0.03759604), ('Organizations', 0.0052633355), ('Exchanges', 0.0031002397)], [('Topics', 0.9441648), ('Places', 0.040276576), ('Organizations', 0.0071299686), ('Peoples', 0.005997903), ('Exchanges', 0.0024306849)], [('Topics', 0.73078847), ('Places', 0.1509673), ('Peoples', 0.055287115), ('Exchanges', 0.042216633), ('Organizations', 0.020740554)], [('Topics', 0.5488224), ('Places', 0.44560564), ('Peoples', 0.00456884), ('Organizations', 0.00068856525), ('Exchanges', 0.0003145717)], [('Topics', 0.7214134), ('Places', 0.19827688), ('Peoples', 0.048870154), ('Organizations', 0.019400511), ('Exchanges', 0.01203912)], [('Topics', 0.7627478), ('Places', 0.17667224), ('Organizations', 0.02897061), ('Peoples', 0.018284956), ('Exchanges', 0.013324414)], [('Topics', 0.5328709), ('Places', 0.35818067), ('Organizations', 0.046878755), ('Peoples', 0.041629944), ('Exchanges', 0.020439735)], [('Topics', 0.9747527), ('Places', 0.015454969), ('Organizations', 0.0034459168), ('Exchanges', 0.003443271), ('Peoples', 0.0029031287)], [('Topics', 0.78599435), ('Places', 0.2069201), ('Peoples', 0.0060660057), ('Exchanges', 0.0008466941), ('Organizations', 0.00017288553)], [('Topics', 0.59575146), ('Places', 0.23703203), ('Peoples', 0.10202273), ('Organizations', 0.045354094), ('Exchanges', 0.019839782)], [('Topics', 0.8513043), ('Places', 0.118393786), ('Peoples', 0.02189079), ('Exchanges', 0.008377896), ('Organizations', 3.3300723e-05)], [('Places', 0.5961822), ('Topics', 0.3937845), ('Peoples', 0.008093935), ('Exchanges', 0.0015834164), ('Organizations', 0.00035584185)], [('Topics', 0.7383382), ('Places', 0.14312276), ('Peoples', 0.05821059), ('Organizations', 0.03841091), ('Exchanges', 0.021917572)], [('Topics', 0.49354613), ('Exchanges', 0.2651885), ('Places', 0.15554221), ('Peoples', 0.071780585), ('Organizations', 0.013942684)], [('Topics', 0.762883), ('Places', 0.14717858), ('Peoples', 0.055540618), ('Organizations', 0.024620704), ('Exchanges', 0.009777085)], [('Topics', 0.6981748), ('Places', 0.20483136), ('Peoples', 0.056346238), ('Exchanges', 0.02526166), ('Organizations', 0.015385999)], [('Topics', 0.6651464), ('Places', 0.26704445), ('Peoples', 0.03618082), ('Exchanges', 0.024710592), ('Organizations', 0.0069176913)], [('Topics', 0.76817447), ('Places', 0.12305665), ('Peoples', 0.066938296), ('Organizations', 0.023420252), ('Exchanges', 0.01841034)], [('Topics', 0.90937895), ('Places', 0.059153847), ('Peoples', 0.023811536), ('Exchanges', 0.0075643193), ('Organizations', 9.1413334e-05)], [('Topics', 0.8294593), ('Places', 0.10122808), ('Peoples', 0.034687504), ('Organizations', 0.017648935), ('Exchanges', 0.0169762)], [('Topics', 0.64400184), ('Places', 0.28951237), ('Peoples', 0.03994454), ('Organizations', 0.018466813), ('Exchanges', 0.008074404)], [('Topics', 0.88377875), ('Places', 0.081398495), ('Peoples', 0.02646573), ('Organizations', 0.0056305574), ('Exchanges', 0.0027264273)], [('Topics', 0.64560676), ('Places', 0.26533607), ('Organizations', 0.063400716), ('Peoples', 0.01759032), ('Exchanges', 0.00806608)], [('Topics', 0.90170056), ('Places', 0.08567672), ('Peoples', 0.00914738), ('Exchanges', 0.0034117866), ('Organizations', 6.355367e-05)], [('Topics', 0.7283121), ('Places', 0.20756644), ('Peoples', 0.03450454), ('Exchanges', 0.015080955), ('Organizations', 0.014536023)], [('Topics', 0.97734785), ('Places', 0.019017657), ('Exchanges', 0.0028592348), ('Peoples', 0.00057874335), ('Organizations', 0.00019656883)], [('Topics', 0.741777), ('Places', 0.24156782), ('Peoples', 0.011950894), ('Organizations', 0.0036837459), ('Exchanges', 0.0010205588)], [('Topics', 0.9402897), ('Places', 0.041693836), ('Peoples', 0.008815258), ('Exchanges', 0.0073796827), ('Organizations', 0.0018215503)], [('Topics', 0.8918293), ('Peoples', 0.06906481), ('Places', 0.03369488), ('Exchanges', 0.003485154), ('Organizations', 0.0019258359)], [('Topics', 0.5665989), ('Places', 0.3057913), ('Peoples', 0.06767051), ('Exchanges', 0.046365295), ('Organizations', 0.013574108)], [('Topics', 0.87852734), ('Places', 0.09121975), ('Peoples', 0.01865631), ('Exchanges', 0.009274165), ('Organizations', 0.0023223886)], [('Topics', 0.93793255), ('Places', 0.048705377), ('Peoples', 0.009124245), ('Exchanges', 0.002587863), ('Organizations', 0.0016499711)], [('Topics', 0.80282444), ('Places', 0.12861656), ('Peoples', 0.036677808), ('Organizations', 0.026152931), ('Exchanges', 0.0057282057)], [('Topics', 0.81353825), ('Places', 0.107317686), ('Peoples', 0.053329535), ('Exchanges', 0.0134374825), ('Organizations', 0.012377065)], [('Topics', 0.9665942), ('Places', 0.02481709), ('Peoples', 0.0055642882), ('Exchanges', 0.0023526822), ('Organizations', 0.00067160424)], [('Topics', 0.70551795), ('Places', 0.22705339), ('Peoples', 0.044465516), ('Organizations', 0.014929391), ('Exchanges', 0.008033742)], [('Topics', 0.46941996), ('Exchanges', 0.31827658), ('Places', 0.18142784), ('Peoples', 0.01805396), ('Organizations', 0.0128216455)], [('Topics', 0.7860853), ('Places', 0.18414043), ('Exchanges', 0.012345905), ('Peoples', 0.012103333), ('Organizations', 0.0053250096)], [('Topics', 0.6162533), ('Places', 0.22376591), ('Peoples', 0.15467763), ('Exchanges', 0.0032721271), ('Organizations', 0.0020310087)], [('Topics', 0.91364574), ('Places', 0.0788474), ('Peoples', 0.006482562), ('Exchanges', 0.000887815), ('Organizations', 0.00013660267)], [('Topics', 0.94805515), ('Places', 0.026299527), ('Peoples', 0.023167377), ('Exchanges', 0.0021462643), ('Organizations', 0.00033165154)], [('Topics', 0.9074209), ('Places', 0.07229254), ('Peoples', 0.013272088), ('Organizations', 0.0035277377), ('Exchanges', 0.0034867679)], [('Topics', 0.7964979), ('Places', 0.16274889), ('Peoples', 0.01712747), ('Exchanges', 0.0133514665), ('Organizations', 0.010274389)], [('Topics', 0.9796159), ('Places', 0.019549822), ('Organizations', 0.0005522324), ('Peoples', 0.0002723154), ('Exchanges', 9.728192e-06)], [('Topics', 0.9116383), ('Places', 0.04828968), ('Peoples', 0.017349226), ('Exchanges', 0.011399914), ('Organizations', 0.011322935)], [('Topics', 0.7955749), ('Places', 0.15062052), ('Peoples', 0.044746287), ('Organizations', 0.0052340683), ('Exchanges', 0.0038242093)], [('Topics', 0.9491543), ('Places', 0.044891693), ('Organizations', 0.0026963314), ('Exchanges', 0.0017129332), ('Peoples', 0.0015446524)], [('Topics', 0.47360805), ('Places', 0.32620648), ('Peoples', 0.15135385), ('Organizations', 0.040558446), ('Exchanges', 0.008273166)], [('Topics', 0.72593224), ('Places', 0.12972575), ('Exchanges', 0.113701366), ('Peoples', 0.019822419), ('Organizations', 0.010818205)], [('Topics', 0.89171374), ('Places', 0.092873365), ('Peoples', 0.010490879), ('Exchanges', 0.0042865756), ('Organizations', 0.0006354714)], [('Topics', 0.9217348), ('Places', 0.06451044), ('Peoples', 0.010882442), ('Exchanges', 0.0026556698), ('Organizations', 0.00021671977)], [('Topics', 0.6532746), ('Places', 0.23086938), ('Organizations', 0.064086884), ('Peoples', 0.035963293), ('Exchanges', 0.01580577)], [('Topics', 0.72671634), ('Places', 0.25282922), ('Peoples', 0.011434641), ('Organizations', 0.005133962), ('Exchanges', 0.003885839)], [('Topics', 0.97963595), ('Places', 0.018159755), ('Exchanges', 0.00132935), ('Peoples', 0.0008211047), ('Organizations', 5.38782e-05)], [('Topics', 0.55751306), ('Places', 0.29229546), ('Organizations', 0.07744621), ('Peoples', 0.04669288), ('Exchanges', 0.026052438)], [('Places', 0.5320399), ('Topics', 0.33308244), ('Peoples', 0.08477128), ('Organizations', 0.03855902), ('Exchanges', 0.011547447)], [('Topics', 0.58004194), ('Places', 0.31958973), ('Peoples', 0.063877456), ('Organizations', 0.025835954), ('Exchanges', 0.0106549)], [('Topics', 0.68719274), ('Places', 0.20914327), ('Peoples', 0.06384742), ('Organizations', 0.02262458), ('Exchanges', 0.01719193)], [('Topics', 0.9446588), ('Places', 0.036207672), ('Organizations', 0.008947314), ('Peoples', 0.0068110037), ('Exchanges', 0.0033752366)], [('Topics', 0.59981525), ('Places', 0.39579657), ('Peoples', 0.0037027006), ('Organizations', 0.0005972173), ('Exchanges', 8.832812e-05)], [('Topics', 0.66982114), ('Places', 0.23711212), ('Peoples', 0.059914894), ('Exchanges', 0.019092293), ('Organizations', 0.014059629)], [('Topics', 0.9265063), ('Places', 0.060753886), ('Peoples', 0.009475267), ('Exchanges', 0.0026100182), ('Organizations', 0.0006546471)], [('Topics', 0.963718), ('Places', 0.026936602), ('Peoples', 0.0045177015), ('Organizations', 0.0025586272), ('Exchanges', 0.0022691088)], [('Topics', 0.9464656), ('Places', 0.044367637), ('Exchanges', 0.0058615864), ('Peoples', 0.0023841965), ('Organizations', 0.0009209591)], [('Topics', 0.9063536), ('Places', 0.07974059), ('Peoples', 0.006604593), ('Exchanges', 0.005607844), ('Organizations', 0.0016934309)], [('Topics', 0.7965587), ('Places', 0.15229212), ('Organizations', 0.024622763), ('Peoples', 0.021654366), ('Exchanges', 0.00487208)], [('Topics', 0.7206093), ('Places', 0.21150747), ('Peoples', 0.03377071), ('Organizations', 0.02415118), ('Exchanges', 0.009961236)], [('Topics', 0.97924715), ('Places', 0.01878373), ('Peoples', 0.0018180638), ('Exchanges', 0.00013262764), ('Organizations', 1.8444904e-05)], [('Topics', 0.93063706), ('Places', 0.05911784), ('Peoples', 0.005344311), ('Exchanges', 0.0031161052), ('Organizations', 0.0017846541)], [('Topics', 0.89702815), ('Places', 0.07297153), ('Exchanges', 0.012114292), ('Peoples', 0.011295042), ('Organizations', 0.0065910667)], [('Topics', 0.86223185), ('Places', 0.06585602), ('Peoples', 0.055871423), ('Exchanges', 0.008680199), ('Organizations', 0.007360511)], [('Topics', 0.8818082), ('Places', 0.08889158), ('Peoples', 0.013910786), ('Exchanges', 0.008887277), ('Organizations', 0.0065021324)], [('Topics', 0.50396717), ('Peoples', 0.35681966), ('Places', 0.09854721), ('Exchanges', 0.026786873), ('Organizations', 0.013879122)], [('Topics', 0.62664616), ('Places', 0.33965334), ('Organizations', 0.015300442), ('Exchanges', 0.0152888615), ('Peoples', 0.0031110824)], [('Topics', 0.47375286), ('Places', 0.37155965), ('Peoples', 0.098868474), ('Exchanges', 0.03098477), ('Organizations', 0.024834258)], [('Topics', 0.4806405), ('Places', 0.38395718), ('Peoples', 0.088223495), ('Organizations', 0.031419504), ('Exchanges', 0.015759362)], [('Topics', 0.51626563), ('Places', 0.3681566), ('Peoples', 0.055029612), ('Organizations', 0.044998985), ('Exchanges', 0.015549143)], [('Topics', 0.87182283), ('Places', 0.05629161), ('Exchanges', 0.04479169), ('Peoples', 0.021603698), ('Organizations', 0.0054902094)], [('Topics', 0.9419117), ('Places', 0.03900911), ('Peoples', 0.0099492585), ('Organizations', 0.0065934807), ('Exchanges', 0.0025364775)], [('Topics', 0.7811964), ('Places', 0.15974146), ('Peoples', 0.041761465), ('Organizations', 0.015142238), ('Exchanges', 0.0021584576)], [('Topics', 0.8680088), ('Places', 0.0925109), ('Peoples', 0.03182035), ('Organizations', 0.0049580387), ('Exchanges', 0.0027019794)], [('Topics', 0.89517653), ('Places', 0.0729345), ('Peoples', 0.023466993), ('Organizations', 0.005024939), ('Exchanges', 0.0033970359)], [('Topics', 0.8869783), ('Places', 0.10608479), ('Peoples', 0.0040172325), ('Organizations', 0.0015914069), ('Exchanges', 0.0013282292)], [('Places', 0.62539536), ('Topics', 0.3266952), ('Peoples', 0.046451807), ('Organizations', 0.0012401884), ('Exchanges', 0.00021747021)], [('Topics', 0.740582), ('Places', 0.13845831), ('Organizations', 0.09281036), ('Peoples', 0.02321714), ('Exchanges', 0.0049321656)], [('Topics', 0.9234504), ('Places', 0.058353078), ('Peoples', 0.00955782), ('Organizations', 0.006516615), ('Exchanges', 0.002122135)], [('Topics', 0.8677097), ('Places', 0.12449107), ('Exchanges', 0.005633671), ('Peoples', 0.00209121), ('Organizations', 7.427968e-05)], [('Topics', 0.78054094), ('Places', 0.14518563), ('Peoples', 0.050511084), ('Exchanges', 0.011887149), ('Organizations', 0.011875178)], [('Topics', 0.8006734), ('Places', 0.18083462), ('Peoples', 0.014455675), ('Exchanges', 0.003628416), ('Organizations', 0.00040782598)], [('Places', 0.7510143), ('Topics', 0.21190605), ('Peoples', 0.014204525), ('Organizations', 0.011844309), ('Exchanges', 0.011030886)], [('Topics', 0.65052557), ('Places', 0.2853134), ('Peoples', 0.046538454), ('Organizations', 0.010347639), ('Exchanges', 0.007274928)], [('Topics', 0.77650934), ('Places', 0.15557), ('Peoples', 0.026039511), ('Organizations', 0.021688204), ('Exchanges', 0.020192945)], [('Topics', 0.7206093), ('Places', 0.21150747), ('Peoples', 0.03377071), ('Organizations', 0.02415118), ('Exchanges', 0.009961236)], [('Topics', 0.56813186), ('Places', 0.3584294), ('Peoples', 0.03781238), ('Exchanges', 0.022843167), ('Organizations', 0.012783262)], [('Topics', 0.73830223), ('Places', 0.15745312), ('Peoples', 0.07509622), ('Organizations', 0.014870793), ('Exchanges', 0.014277632)], [('Topics', 0.668172), ('Places', 0.26354763), ('Peoples', 0.041362528), ('Organizations', 0.017066933), ('Exchanges', 0.0098509)], [('Topics', 0.8218152), ('Places', 0.12405081), ('Peoples', 0.029378554), ('Organizations', 0.023544881), ('Exchanges', 0.0012106276)], [('Topics', 0.8307834), ('Places', 0.13102816), ('Peoples', 0.02235433), ('Exchanges', 0.011483325), ('Organizations', 0.0043506674)], [('Topics', 0.6585526), ('Peoples', 0.2190758), ('Places', 0.10210936), ('Organizations', 0.01743415), ('Exchanges', 0.002828102)], [('Topics', 0.7773001), ('Places', 0.17524377), ('Organizations', 0.018715985), ('Peoples', 0.015467845), ('Exchanges', 0.013272291)], [('Topics', 0.6461398), ('Places', 0.2261512), ('Peoples', 0.086416036), ('Exchanges', 0.02585523), ('Organizations', 0.015437869)], [('Topics', 0.94941556), ('Places', 0.040579576), ('Peoples', 0.0052465214), ('Exchanges', 0.0035136954), ('Organizations', 0.0012446498)], [('Topics', 0.493895), ('Places', 0.25011078), ('Exchanges', 0.19136073), ('Peoples', 0.0505402), ('Organizations', 0.014093296)], [('Topics', 0.9228946), ('Places', 0.06023572), ('Peoples', 0.012720177), ('Exchanges', 0.004096136), ('Organizations', 5.335403e-05)], [('Topics', 0.9580794), ('Places', 0.028218877), ('Peoples', 0.01063354), ('Exchanges', 0.002688521), ('Organizations', 0.00037953965)], [('Topics', 0.8008316), ('Places', 0.17905931), ('Peoples', 0.016577143), ('Organizations', 0.002549049), ('Exchanges', 0.0009828988)], [('Topics', 0.8551917), ('Places', 0.12676592), ('Peoples', 0.01096584), ('Exchanges', 0.005205476), ('Organizations', 0.0018710686)], [('Topics', 0.7442055), ('Places', 0.1314711), ('Exchanges', 0.08637748), ('Peoples', 0.024703657), ('Organizations', 0.013242335)], [('Topics', 0.9868079), ('Places', 0.011545432), ('Exchanges', 0.00088209886), ('Peoples', 0.000626138), ('Organizations', 0.00013836185)], [('Topics', 0.90783465), ('Places', 0.05515147), ('Organizations', 0.016369214), ('Peoples', 0.01376545), ('Exchanges', 0.006879286)], [('Topics', 0.8292741), ('Places', 0.11532288), ('Peoples', 0.04432564), ('Organizations', 0.0065663257), ('Exchanges', 0.0045110933)], [('Topics', 0.920917), ('Places', 0.051313654), ('Peoples', 0.011499743), ('Exchanges', 0.010839904), ('Organizations', 0.00542967)], [('Topics', 0.951438), ('Places', 0.032673907), ('Organizations', 0.006637352), ('Peoples', 0.0051443446), ('Exchanges', 0.004106478)], [('Topics', 0.73024654), ('Places', 0.14393227), ('Organizations', 0.08873039), ('Peoples', 0.031118741), ('Exchanges', 0.005972106)], [('Topics', 0.63993365), ('Places', 0.2870197), ('Organizations', 0.031293225), ('Peoples', 0.02280363), ('Exchanges', 0.01894981)], [('Peoples', 0.5356471), ('Topics', 0.21718028), ('Places', 0.21413015), ('Organizations', 0.02947987), ('Exchanges', 0.003562655)], [('Topics', 0.7643909), ('Places', 0.22244705), ('Exchanges', 0.007996802), ('Organizations', 0.0033487845), ('Peoples', 0.0018165399)], [('Topics', 0.77788347), ('Places', 0.13606429), ('Peoples', 0.051608827), ('Organizations', 0.026059335), ('Exchanges', 0.008384045)], [('Topics', 0.7087908), ('Places', 0.24157585), ('Peoples', 0.037484106), ('Exchanges', 0.009487947), ('Organizations', 0.0026613008)], [('Topics', 0.7715498), ('Places', 0.15346289), ('Peoples', 0.05164574), ('Exchanges', 0.020726686), ('Organizations', 0.0026148728)], [('Topics', 0.9272312), ('Places', 0.043724008), ('Peoples', 0.016342), ('Exchanges', 0.00775549), ('Organizations', 0.004947289)], [('Topics', 0.7036893), ('Places', 0.24309666), ('Organizations', 0.028951596), ('Peoples', 0.018481294), ('Exchanges', 0.0057811798)], [('Topics', 0.70948404), ('Places', 0.19795659), ('Peoples', 0.06644256), ('Exchanges', 0.018239534), ('Organizations', 0.007877271)], [('Topics', 0.5444332), ('Places', 0.2937679), ('Peoples', 0.101580106), ('Organizations', 0.038090512), ('Exchanges', 0.022128297)], [('Topics', 0.8856418), ('Places', 0.09545394), ('Peoples', 0.01203106), ('Organizations', 0.004769908), ('Exchanges', 0.0021031944)], [('Topics', 0.91852695), ('Places', 0.06393634), ('Peoples', 0.010075478), ('Exchanges', 0.005609549), ('Organizations', 0.0018516632)], [('Topics', 0.9530097), ('Places', 0.034366254), ('Exchanges', 0.007263649), ('Peoples', 0.004497202), ('Organizations', 0.0008632318)], [('Topics', 0.9411955), ('Places', 0.03196944), ('Peoples', 0.014340079), ('Organizations', 0.0062656845), ('Exchanges', 0.0062293345)], [('Topics', 0.95890224), ('Places', 0.033357255), ('Peoples', 0.0035826124), ('Organizations', 0.0026747016), ('Exchanges', 0.0014831534)], [('Topics', 0.6244329), ('Places', 0.24254768), ('Peoples', 0.10480437), ('Exchanges', 0.017916126), ('Organizations', 0.01029889)], [('Topics', 0.79961514), ('Places', 0.11829424), ('Peoples', 0.079728544), ('Exchanges', 0.0022914317), ('Organizations', 7.062692e-05)], [('Topics', 0.9499722), ('Places', 0.04086504), ('Peoples', 0.008526047), ('Exchanges', 0.0005744247), ('Organizations', 6.23341e-05)], [('Topics', 0.5992834), ('Peoples', 0.1963159), ('Places', 0.15390676), ('Organizations', 0.02791422), ('Exchanges', 0.022579644)], [('Topics', 0.88524), ('Places', 0.070446156), ('Peoples', 0.018126536), ('Organizations', 0.017377324), ('Exchanges', 0.008809885)], [('Topics', 0.9892679), ('Places', 0.010041922), ('Peoples', 0.00040049225), ('Exchanges', 0.00019165299), ('Organizations', 9.794784e-05)], [('Topics', 0.82390785), ('Places', 0.16461529), ('Peoples', 0.0059540393), ('Exchanges', 0.0029662407), ('Organizations', 0.002556513)], [('Topics', 0.90753037), ('Places', 0.042171653), ('Peoples', 0.030999772), ('Organizations', 0.01117857), ('Exchanges', 0.008119652)], [('Topics', 0.45943975), ('Places', 0.20054941), ('Exchanges', 0.17658123), ('Peoples', 0.10799358), ('Organizations', 0.055436008)], [('Topics', 0.59534454), ('Places', 0.33436215), ('Peoples', 0.04886874), ('Organizations', 0.01160601), ('Exchanges', 0.00981854)], [('Topics', 0.9625431), ('Places', 0.020655286), ('Peoples', 0.016166724), ('Exchanges', 0.00054131047), ('Organizations', 9.3474184e-05)], [('Topics', 0.83815724), ('Places', 0.1256439), ('Peoples', 0.015419702), ('Organizations', 0.014689888), ('Exchanges', 0.0060893144)], [('Topics', 0.82390785), ('Places', 0.16461529), ('Peoples', 0.0059540393), ('Exchanges', 0.0029662407), ('Organizations', 0.002556513)], [('Topics', 0.92809993), ('Places', 0.038995788), ('Peoples', 0.022564951), ('Exchanges', 0.009434843), ('Organizations', 0.0009045045)], [('Topics', 0.5035642), ('Places', 0.26579288), ('Organizations', 0.18394975), ('Peoples', 0.033970166), ('Exchanges', 0.012723047)], [('Topics', 0.405782), ('Places', 0.33835378), ('Peoples', 0.21934663), ('Organizations', 0.029358063), ('Exchanges', 0.0071594897)], [('Topics', 0.6484952), ('Places', 0.23978873), ('Peoples', 0.08638865), ('Organizations', 0.016684594), ('Exchanges', 0.008642917)], [('Topics', 0.83681977), ('Places', 0.120818205), ('Peoples', 0.036842365), ('Exchanges', 0.0028840217), ('Organizations', 0.0026355945)], [('Topics', 0.9492977), ('Places', 0.04455995), ('Peoples', 0.0048222994), ('Exchanges', 0.0008419343), ('Organizations', 0.0004781207)], [('Topics', 0.5468958), ('Places', 0.23842348), ('Peoples', 0.1931742), ('Exchanges', 0.016751545), ('Organizations', 0.004754919)], [('Topics', 0.47957546), ('Places', 0.46274507), ('Exchanges', 0.02819401), ('Peoples', 0.021089032), ('Organizations', 0.008396415)], [('Topics', 0.891828), ('Places', 0.0893104), ('Peoples', 0.010957626), ('Exchanges', 0.006561591), ('Organizations', 0.0013424443)], [('Topics', 0.97714967), ('Peoples', 0.0129059795), ('Places', 0.006831558), ('Exchanges', 0.0020243372), ('Organizations', 0.0010885465)], [('Topics', 0.703827), ('Places', 0.19160157), ('Peoples', 0.049532853), ('Exchanges', 0.029204099), ('Organizations', 0.025834452)], [('Topics', 0.6264696), ('Places', 0.23471761), ('Peoples', 0.10365712), ('Exchanges', 0.019911408), ('Organizations', 0.015244291)], [('Topics', 0.5988204), ('Places', 0.24759535), ('Peoples', 0.120398276), ('Organizations', 0.018265551), ('Exchanges', 0.014920473)], [('Topics', 0.98519355), ('Places', 0.012569419), ('Peoples', 0.001977314), ('Organizations', 0.00024247005), ('Exchanges', 1.7123735e-05)], [('Topics', 0.6119123), ('Places', 0.26934788), ('Peoples', 0.06532275), ('Organizations', 0.032945093), ('Exchanges', 0.020471958)], [('Topics', 0.9473351), ('Places', 0.03942752), ('Peoples', 0.008375037), ('Exchanges', 0.0026430632), ('Organizations', 0.0022192497)], [('Topics', 0.79792166), ('Places', 0.1721013), ('Peoples', 0.025236081), ('Organizations', 0.0025017466), ('Exchanges', 0.0022391276)], [('Topics', 0.84645826), ('Places', 0.13406609), ('Peoples', 0.015407808), ('Exchanges', 0.0033661467), ('Organizations', 0.00070170034)], [('Topics', 0.83639914), ('Places', 0.12740861), ('Peoples', 0.03206577), ('Organizations', 0.0028349212), ('Exchanges', 0.0012916296)], [('Topics', 0.4730911), ('Places', 0.3347472), ('Peoples', 0.1616097), ('Exchanges', 0.019423021), ('Organizations', 0.011128989)], [('Topics', 0.8203452), ('Places', 0.121110074), ('Organizations', 0.024999946), ('Peoples', 0.019773854), ('Exchanges', 0.013770864)], [('Topics', 0.7083274), ('Places', 0.2722864), ('Organizations', 0.009006377), ('Peoples', 0.008602002), ('Exchanges', 0.001777861)], [('Topics', 0.7274), ('Peoples', 0.119879015), ('Places', 0.11539545), ('Exchanges', 0.02429119), ('Organizations', 0.013034339)], [('Topics', 0.910708), ('Places', 0.07716734), ('Organizations', 0.005479227), ('Exchanges', 0.0047351425), ('Peoples', 0.0019101585)], [('Topics', 0.47673613), ('Places', 0.29292703), ('Peoples', 0.17860083), ('Organizations', 0.029261183), ('Exchanges', 0.022474766)], [('Topics', 0.73420894), ('Places', 0.1828559), ('Peoples', 0.05450848), ('Organizations', 0.01631682), ('Exchanges', 0.012109815)], [('Topics', 0.70612025), ('Places', 0.24235116), ('Organizations', 0.023844272), ('Peoples', 0.021563513), ('Exchanges', 0.00612083)], [('Topics', 0.74550223), ('Places', 0.18476978), ('Peoples', 0.06547174), ('Organizations', 0.004006575), ('Exchanges', 0.00024976043)], [('Topics', 0.68999195), ('Peoples', 0.15500346), ('Places', 0.13148533), ('Exchanges', 0.013818948), ('Organizations', 0.009700356)], [('Topics', 0.82646686), ('Places', 0.12215898), ('Peoples', 0.033628028), ('Exchanges', 0.0143272225), ('Organizations', 0.0034189061)], [('Topics', 0.8931714), ('Places', 0.104447514), ('Peoples', 0.0017717534), ('Exchanges', 0.0005626764), ('Organizations', 4.664384e-05)], [('Topics', 0.8235649), ('Places', 0.1269668), ('Peoples', 0.033450037), ('Organizations', 0.012957704), ('Exchanges', 0.003060545)], [('Topics', 0.5847141), ('Places', 0.3152338), ('Peoples', 0.062905915), ('Organizations', 0.03137322), ('Exchanges', 0.0057729855)], [('Topics', 0.58268225), ('Places', 0.40097615), ('Exchanges', 0.0075776014), ('Peoples', 0.006361027), ('Organizations', 0.0024029673)], [('Places', 0.4948219), ('Topics', 0.41098416), ('Exchanges', 0.07172143), ('Peoples', 0.0194545), ('Organizations', 0.0030180444)], [('Topics', 0.6950998), ('Places', 0.2352285), ('Peoples', 0.041638445), ('Organizations', 0.019288097), ('Exchanges', 0.008745172)], [('Topics', 0.6595164), ('Places', 0.17574456), ('Peoples', 0.13840067), ('Organizations', 0.017773587), ('Exchanges', 0.008564769)], [('Topics', 0.59678835), ('Peoples', 0.20040876), ('Places', 0.15772581), ('Exchanges', 0.026095644), ('Organizations', 0.018981462)], [('Topics', 0.4691504), ('Places', 0.28091052), ('Peoples', 0.19315524), ('Organizations', 0.050119672), ('Exchanges', 0.006664192)], [('Topics', 0.72071666), ('Places', 0.17776623), ('Peoples', 0.059099153), ('Organizations', 0.022925826), ('Exchanges', 0.019492121)], [('Topics', 0.51632524), ('Places', 0.45554593), ('Peoples', 0.012410752), ('Organizations', 0.0101959845), ('Exchanges', 0.0055220104)], [('Topics', 0.66567594), ('Places', 0.22064576), ('Peoples', 0.05797952), ('Organizations', 0.040441994), ('Exchanges', 0.015256812)], [('Topics', 0.7714256), ('Places', 0.15124261), ('Peoples', 0.053296838), ('Exchanges', 0.017082196), ('Organizations', 0.0069526527)], [('Peoples', 0.7445921), ('Topics', 0.14781924), ('Places', 0.105809145), ('Exchanges', 0.0013485373), ('Organizations', 0.000430923)], [('Topics', 0.9593512), ('Places', 0.028849084), ('Peoples', 0.010508989), ('Exchanges', 0.00071732776), ('Organizations', 0.00057341246)], [('Topics', 0.6853561), ('Places', 0.2149679), ('Peoples', 0.04844311), ('Exchanges', 0.027901193), ('Organizations', 0.02333173)], [('Topics', 0.6970706), ('Places', 0.1624663), ('Peoples', 0.09074671), ('Organizations', 0.03207475), ('Exchanges', 0.017641667)], [('Topics', 0.929851), ('Places', 0.052552465), ('Peoples', 0.010877789), ('Organizations', 0.006316926), ('Exchanges', 0.00040187358)], [('Topics', 0.98409986), ('Places', 0.011773495), ('Peoples', 0.0029195908), ('Organizations', 0.0011498224), ('Exchanges', 5.7216206e-05)], [('Topics', 0.7328288), ('Places', 0.25652334), ('Peoples', 0.009976141), ('Exchanges', 0.0004212114), ('Organizations', 0.00025036116)], [('Topics', 0.72047234), ('Places', 0.20188075), ('Peoples', 0.037523188), ('Organizations', 0.02511673), ('Exchanges', 0.015007028)], [('Topics', 0.7156673), ('Places', 0.24308293), ('Organizations', 0.022805944), ('Peoples', 0.012843946), ('Exchanges', 0.0055998918)], [('Topics', 0.8852886), ('Places', 0.082921974), ('Peoples', 0.024690157), ('Organizations', 0.0046807765), ('Exchanges', 0.0024185218)], [('Topics', 0.6308045), ('Places', 0.18787591), ('Peoples', 0.11163302), ('Exchanges', 0.04025098), ('Organizations', 0.029435705)], [('Topics', 0.47059035), ('Places', 0.3979226), ('Peoples', 0.09749928), ('Exchanges', 0.018031087), ('Organizations', 0.015956737)], [('Topics', 0.68846446), ('Exchanges', 0.18290737), ('Places', 0.10803043), ('Peoples', 0.018996282), ('Organizations', 0.0016013613)], [('Places', 0.7449915), ('Topics', 0.24601611), ('Peoples', 0.005460489), ('Organizations', 0.0028779395), ('Exchanges', 0.00065387686)], [('Topics', 0.4656603), ('Places', 0.3702283), ('Peoples', 0.09460855), ('Organizations', 0.058168516), ('Exchanges', 0.011334208)], [('Topics', 0.8016552), ('Places', 0.12811759), ('Peoples', 0.039617706), ('Exchanges', 0.023683721), ('Organizations', 0.0069257882)], [('Topics', 0.85093325), ('Places', 0.1285153), ('Peoples', 0.013681919), ('Organizations', 0.0060280156), ('Exchanges', 0.0008415245)], [('Topics', 0.73251826), ('Places', 0.12692994), ('Peoples', 0.12510398), ('Exchanges', 0.008139887), ('Organizations', 0.007307937)], [('Topics', 0.8305135), ('Places', 0.07493813), ('Peoples', 0.06813934), ('Organizations', 0.019295188), ('Exchanges', 0.0071138553)], [('Topics', 0.7794232), ('Places', 0.15985909), ('Peoples', 0.033381164), ('Exchanges', 0.021153953), ('Organizations', 0.006182664)], [('Topics', 0.6030823), ('Places', 0.31466997), ('Peoples', 0.060293965), ('Exchanges', 0.01531579), ('Organizations', 0.006637924)], [('Topics', 0.58268225), ('Places', 0.40097615), ('Exchanges', 0.0075776014), ('Peoples', 0.006361027), ('Organizations', 0.0024029673)], [('Topics', 0.97676545), ('Places', 0.022073299), ('Peoples', 0.0005868954), ('Organizations', 0.00033141128), ('Exchanges', 0.00024296658)], [('Topics', 0.58202606), ('Places', 0.32085064), ('Peoples', 0.058370292), ('Exchanges', 0.021646706), ('Organizations', 0.017106265)], [('Topics', 0.7874076), ('Places', 0.13828944), ('Peoples', 0.040937543), ('Organizations', 0.017037263), ('Exchanges', 0.016328169)], [('Topics', 0.9179577), ('Places', 0.05456237), ('Organizations', 0.012704498), ('Peoples', 0.011784899), ('Exchanges', 0.0029906281)], [('Topics', 0.45389596), ('Peoples', 0.2659666), ('Places', 0.19878662), ('Organizations', 0.05829783), ('Exchanges', 0.023053112)], [('Topics', 0.49717534), ('Places', 0.42973006), ('Peoples', 0.05445075), ('Organizations', 0.014438047), ('Exchanges', 0.004205837)], [('Topics', 0.7878743), ('Places', 0.14911547), ('Peoples', 0.049276575), ('Organizations', 0.01047342), ('Exchanges', 0.0032602288)], [('Topics', 0.7565388), ('Places', 0.22110198), ('Organizations', 0.00801453), ('Peoples', 0.0076986784), ('Exchanges', 0.006645989)], [('Topics', 0.63358194), ('Places', 0.28126284), ('Organizations', 0.05696655), ('Peoples', 0.019703014), ('Exchanges', 0.008485701)], [('Topics', 0.84608835), ('Places', 0.10196745), ('Peoples', 0.04114903), ('Exchanges', 0.009394265), ('Organizations', 0.001400933)], [('Topics', 0.721328), ('Places', 0.12787156), ('Peoples', 0.10908071), ('Exchanges', 0.03116581), ('Organizations', 0.010553775)], [('Topics', 0.6535091), ('Places', 0.2922253), ('Peoples', 0.034276746), ('Exchanges', 0.010956032), ('Organizations', 0.009032889)], [('Topics', 0.78711087), ('Places', 0.10576665), ('Peoples', 0.098931), ('Exchanges', 0.0056145783), ('Organizations', 0.0025769842)], [('Topics', 0.8257765), ('Peoples', 0.13417815), ('Places', 0.039798554), ('Exchanges', 0.00013185704), ('Organizations', 0.000114880066)], [('Topics', 0.58040506), ('Places', 0.31190926), ('Peoples', 0.10313391), ('Exchanges', 0.003990808), ('Organizations', 0.0005609685)], [('Topics', 0.5612826), ('Places', 0.20702195), ('Peoples', 0.1550905), ('Organizations', 0.04867937), ('Exchanges', 0.027925527)], [('Topics', 0.9352579), ('Places', 0.05913553), ('Peoples', 0.0039592697), ('Exchanges', 0.0008912776), ('Organizations', 0.00075603387)], [('Topics', 0.733623), ('Places', 0.16325253), ('Peoples', 0.05659646), ('Exchanges', 0.030106837), ('Organizations', 0.01642121)], [('Topics', 0.48424348), ('Peoples', 0.31033707), ('Places', 0.15922228), ('Exchanges', 0.030349195), ('Organizations', 0.015848096)], [('Topics', 0.83087593), ('Places', 0.1186228), ('Peoples', 0.04102675), ('Organizations', 0.007311617), ('Exchanges', 0.0021628833)]]\n"
          ],
          "name": "stdout"
        }
      ]
    }
  ]
}