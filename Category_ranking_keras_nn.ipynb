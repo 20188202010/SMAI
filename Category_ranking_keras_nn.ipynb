{
 "cells": [
  {
   "cell_type": "code",
   "execution_count": 1,
   "metadata": {},
   "outputs": [],
   "source": [
    "data_folder = './reuters21578/'\n",
    "\n",
    "sgml_number_of_files = 21\n",
    "sgml_file_name_template = 'reut2-NNN.sgm'\n",
    "\n",
    "# Category files\n",
    "category_files = {\n",
    "    'to_': ('Topics', 'all-topics-strings.lc.txt'),\n",
    "    'pl_': ('Places', 'all-places-strings.lc.txt'),\n",
    "    'pe_': ('People', 'all-people-strings.lc.txt'),\n",
    "    'or_': ('Organizations', 'all-orgs-strings.lc.txt'),\n",
    "    'ex_': ('Exchanges', 'all-exchanges-strings.lc.txt')\n",
    "}\n",
    "\n",
    "# Word2Vec number of features\n",
    "num_features = 500\n",
    "# Limit each newsline to a fixed number of words\n",
    "# document_max_num_words = 100\n",
    "# Selected categories\n",
    "# selected_categories = ['pl_usa']"
   ]
  },
  {
   "cell_type": "code",
   "execution_count": 2,
   "metadata": {},
   "outputs": [],
   "source": [
    "import pandas as pd\n",
    "from nltk.corpus import stopwords\n",
    "from nltk.tokenize import word_tokenize\n",
    "from nltk.stem import WordNetLemmatizer"
   ]
  },
  {
   "cell_type": "code",
   "execution_count": 16,
   "metadata": {},
   "outputs": [],
   "source": [
    "# Create category dataframe\n",
    "\n",
    "# Read all categories\n",
    "category_data = []\n",
    "category_dictionary={'Topics':[],'Places':[],'People':[],'Organizations':[],'Exchanges':[]}\n",
    "for category_prefix in category_files.keys():\n",
    "    with open(data_folder + category_files[category_prefix][1], 'r') as file:\n",
    "        for category in file.readlines():\n",
    "            category_data.append([category_prefix + category.strip().lower(), \n",
    "                                  category_files[category_prefix][0]])\n",
    "\n",
    "# Create category dataframe\n",
    "for i in category_data:\n",
    "#     print(i[1])\n",
    "    category_dictionary[i[1]].append(i[0].split('_')[1])\n",
    "news_categories = pd.DataFrame(data=category_data)\n",
    "\n",
    "# print \"category_data: \", category_data\n",
    "#(news_categories.values).tolist()"
   ]
  },
  {
   "cell_type": "code",
   "execution_count": 4,
   "metadata": {},
   "outputs": [
    {
     "name": "stderr",
     "output_type": "stream",
     "text": [
      "Using TensorFlow backend.\n",
      "[nltk_data] Downloading package stopwords to /home/prabha/nltk_data...\n",
      "[nltk_data]   Package stopwords is already up-to-date!\n"
     ]
    },
    {
     "data": {
      "text/plain": [
       "True"
      ]
     },
     "execution_count": 4,
     "metadata": {},
     "output_type": "execute_result"
    }
   ],
   "source": [
    "import re\n",
    "import xml.sax.saxutils as saxutils\n",
    "from bs4 import BeautifulSoup\n",
    "from keras.preprocessing.text import Tokenizer\n",
    "from keras.preprocessing.sequence import pad_sequences\n",
    "import nltk\n",
    "nltk.download('stopwords')"
   ]
  },
  {
   "cell_type": "code",
   "execution_count": 17,
   "metadata": {},
   "outputs": [
    {
     "name": "stdout",
     "output_type": "stream",
     "text": [
      "{'Topics': ['acq', 'alum', 'austdlr', 'austral', 'barley', 'bfr', 'bop', 'can', 'carcass', 'castor-meal', 'castor-oil', 'castorseed', 'citruspulp', 'cocoa', 'coconut', 'coconut-oil', 'coffee', 'copper', 'copra-cake', 'corn', 'corn-oil', 'cornglutenfeed', 'cotton', 'cotton-meal', 'cotton-oil', 'cottonseed', 'cpi', 'cpu', 'crude', 'cruzado', 'dfl', 'dkr', 'dlr', 'dmk', 'drachma', 'earn', 'escudo', 'f-cattle', 'ffr', 'fishmeal', 'flaxseed', 'fuel', 'gas', 'gnp', 'gold', 'grain', 'groundnut', 'groundnut-meal', 'groundnut-oil', 'heat', 'hk', 'hog', 'housing', 'income', 'instal-debt', 'interest', 'inventories', 'ipi', 'iron-steel', 'jet', 'jobs', 'l-cattle', 'lead', 'lei', 'lin-meal', 'lin-oil', 'linseed', 'lit', 'livestock', 'lumber', 'lupin', 'meal-feed', 'mexpeso', 'money-fx', 'money-supply', 'naphtha', 'nat-gas', 'nickel', 'nkr', 'nzdlr', 'oat', 'oilseed', 'orange', 'palladium', 'palm-meal', 'palm-oil', 'palmkernel', 'peseta', 'pet-chem', 'platinum', 'plywood', 'pork-belly', 'potato', 'propane', 'rand', 'rape-meal', 'rape-oil', 'rapeseed', 'red-bean', 'reserves', 'retail', 'rice', 'ringgit', 'rubber', 'rupiah', 'rye', 'saudriyal', 'sfr', 'ship', 'silk', 'silver', 'singdlr', 'skr', 'sorghum', 'soy-meal', 'soy-oil', 'soybean', 'stg', 'strategic-metal', 'sugar', 'sun-meal', 'sun-oil', 'sunseed', 'tapioca', 'tea', 'tin', 'trade', 'tung', 'tung-oil', 'veg-oil', 'wheat', 'wool', 'wpi', 'yen', 'zinc'], 'Places': ['afghanistan', 'albania', 'algeria', 'american-samoa', 'andorra', 'angola', 'anguilla', 'antigua', 'argentina', 'aruba', 'australia', 'austria', 'bahamas', 'bahrain', 'bangladesh', 'barbados', 'belgium', 'belize', 'benin', 'bermuda', 'bhutan', 'bolivia', 'botswana', 'brazil', 'british-virgin-islands', 'brunei', 'bulgaria', 'burkina-faso', 'burma', 'burundi', 'cameroon', 'canada', 'cape-verde', 'cayman-islands', 'central-african-republic', 'chad', 'chile', 'china', 'colombia', 'congo', 'costa-rica', 'cuba', 'cyprus', 'czechoslovakia', 'denmark', 'djibouti', 'dominica', 'dominican-republic', 'east-germany', 'ecuador', 'egypt', 'el-salvador', 'equatorial-guinea', 'ethiopia', 'fiji', 'finland', 'france', 'french-guiana', 'gabon', 'gambia', 'ghana', 'gibraltar', 'greece', 'grenada', 'guadeloupe', 'guam', 'guatemala', 'guinea', 'guinea-bissau', 'guyana', 'haiti', 'honduras', 'hong-kong', 'hungary', 'iceland', 'india', 'indonesia', 'iran', 'iraq', 'ireland', 'israel', 'italy', 'ivory-coast', 'jamaica', 'japan', 'jordan', 'kampuchea', 'kenya', 'kuwait', 'laos', 'lebanon', 'lesotho', 'liberia', 'libya', 'liechtenstein', 'luxembourg', 'macao', 'madagascar', 'malawi', 'malaysia', 'mali', 'malta', 'martinique', 'mauritania', 'mauritius', 'mexico', 'monaco', 'morocco', 'mozambique', 'namibia', 'nepal', 'netherlands', 'netherlands-antilles', 'new-caledonia', 'new-zealand', 'nicaragua', 'niger', 'nigeria', 'north-korea', 'norway', 'oman', 'pakistan', 'panama', 'papua-new-guinea', 'paraguay', 'peru', 'philippines', 'poland', 'portugal', 'qatar', 'romania', 'rwanda', 'saudi-arabia', 'senegal', 'seychelles', 'sierra-leone', 'singapore', 'somalia', 'south-africa', 'south-korea', 'spain', 'sri-lanka', 'sudan', 'suriname', 'swaziland', 'sweden', 'switzerland', 'syria', 'taiwan', 'tanzania', 'thailand', 'togo', 'tonga', 'trinidad-tobago', 'tunisia', 'turkey', 'uae', 'uganda', 'uk', 'uruguay', 'us-virgin-islands', 'usa', 'ussr', 'vanuatu', 'vatican', 'venezuela', 'vietnam', 'west-germany', 'western-samoa', 'yemen-arab-republic', 'yemen-demo-republic', 'yugoslavia', 'zaire', 'zambia', 'zimbabwe'], 'People': ['abdel-hadi-kandeel', 'alfonsin', 'alhaji-abdul-ahmed', 'alptemocin', 'amato', 'andersen', 'andriessen', 'aqazadeh', 'aquino', 'arafat', 'babangida', 'balladur', 'bangemann', 'barreto', 'berge', 'beteta', 'blix', 'boesky', 'bond', 'botha', 'bouey', 'braks', 'bresser-pereira', 'brodersohn', 'brundtland', 'camdessus', 'carlsson', 'caro', 'castelo-branco', 'castro', 'cavaco-silva', 'chaves', 'chen-muhua', 'chiang-ching-kuo', 'chien', 'chirac', 'ciampi', 'colombo', 'conable', 'concepcion', 'corrigan', 'cossiga', 'crow', 'dadzie', 'dauster', 'de-clercq', 'de-kock', 'de-korte', 'de-la-madrid', 'de-larosiere', 'del-mazo', 'delamuraz', 'delors', 'dementsev', 'deng-xiaoping', 'dennis', 'dhillon', 'dominguez', 'douglas', 'du-plessis', 'duisenberg', 'dunkel', 'edelman', 'enggaard', 'eser', 'evren', 'eyskens', 'feldt', 'fernandez', 'ferrari', 'finnbogadottir', 'friedman', 'fujioka', 'gaddafi', 'gandhi', 'garcia', 'gava', 'godeaux', 'gonzalez', 'gorbachev', 'goria', 'gostyev', 'graf', 'greenspan', 'gromyko', 'grosz', 'guillaume', 'halikias', 'hamad-saud-al-sayyari', 'hannibalsson', 'haughey', 'hawke', 'he-kang', 'herrington', 'hillery', 'hisham-nazer', 'hoefner', 'hoffmeyer', 'holberg', 'holkeri', 'honecker', 'hovmand', 'howard-baker', 'husak', 'icahn', 'james-baker', 'james-miller', 'jaruzelski', 'jayme', 'johnston', 'kaminsky', 'kaufman', 'keating', 'khameini', 'khomeini', 'kiechle', 'king-fahd', 'kohl', 'koivisto', 'kondo', 'koren', 'kullberg', 'lacina', 'lange', 'languetin', 'lawson', 'lee-ta-hai', 'lee-teng-hui', 'leenanon', 'leigh-pemberton', 'leitz', 'li-peng', 'li-xiannian', 'liikanen', 'lubbers', 'lukman', 'lyng', 'machinea', 'macsharry', 'malhotra', 'mancera-aguayo', 'martens', 'martin', 'masse', 'maxwell', 'maystadt', 'medgyessy', 'messner', 'mikulic', 'milliet', 'mitterrand', 'miyazawa', 'mohammad-ibrahim-jaffrey-baluch', 'mohammad-khan-junejo', 'mohammad-yasin-khan-wattoo', 'mohammed-ahmed-al-razaz', 'mohammed-ali-abal-khail', 'mohammed-salaheddin-hamid', 'morales-bermudez', 'mousavi', 'moyle', 'mubarak', 'mulroney', 'murdoch', 'mustapha', 'nakao', 'nakasone', 'nasko', 'nemeth', 'nobrega', 'o-cofaigh', 'o-kennedy', 'oeien', 'okongwu', 'ongpin', 'ortega', 'ozal', 'palsson', 'pandolfi', 'papandreou', 'parkinson', 'paye', 'perez-de-cuellar', 'petricioli', 'pickens', 'poehl', 'pottakis', 'prawiro', 'qassemi', 'rafnar', 'rafsanjani', 'reagan', 'rezende', 'riberio-cadilhe', 'rich', 'rikanovic', 'rojas', 'romero', 'roumeliotis', 'rowland', 'rubio', 'ruder', 'ruding', 'russell', 'ryzhkov', 'saberbein', 'salinas', 'samojlik', 'santer', 'saracoglu', 'sarney', 'sartzetakis', 'sathe', 'schlueter', 'sedki', 'simitis', 'simonsen', 'singhasaneh', 'siregar', 'skaanland', 'soares', 'solchaga', 'sourrouille', 'sprinkel', 'steeg', 'stich', 'stoltenberg', 'stoph', 'strougal', 'subroto', 'suharto', 'sumita', 'suominen', 'takeshita', 'tamura', 'tavares-moreia', 'thatcher', 'timar', 'tinsulanonda', 'tiwari', 'toernaes', 'toman', 'tsovolas', 'vancsa', 'venkataraman', 'vera-la-rosa', 'verity', 'villanyi', 'vlatkovic', 'volcker', 'von-weizsaecker', 'vranitzky', 'waldheim', 'wali', 'walsh', 'wang-bingqian', 'wardhana', 'wasim-aun-jaffrey', 'wilson', 'wise', 'yeutter', 'young', 'yu-kuo-hua', 'zak', 'zhao-ziyang', 'zheng-tuobin', 'zia-ul-haq'], 'Organizations': ['adb-africa', 'adb-asia', 'aibd', 'aid', 'anrpc', 'asean', 'atpc', 'bis', 'cipec', 'comecon', 'ec', 'eca', 'ecafe', 'ece', 'ecla', 'ecsc', 'ecwa', 'efta', 'eib', 'emcf', 'escap', 'euratom', 'fao', 'gatt', 'gcc', 'geplacea', 'iaea', 'iata', 'icco', 'ico-coffee', 'ico-islam', 'ida', 'iea', 'iisi', 'ilo', 'ilzsg', 'imco', 'imf', 'inro', 'irsg', 'isa', 'itc', 'iwc-whale', 'iwc-wheat', 'iwcc', 'iws', 'iwto', 'lafta', 'mfa', 'oapec', 'oecd', 'opec', 'un', 'unctad', 'who', 'worldbank'], 'Exchanges': ['amex', 'ase', 'asx', 'biffex', 'bse', 'cboe', 'cbt', 'cme', 'comex', 'cse', 'fox', 'fse', 'hkse', 'ipe', 'jse', 'klce', 'klse', 'liffe', 'lme', 'lse', 'mase', 'mise', 'mnse', 'mose', 'nasdaq', 'nyce', 'nycsce', 'nymex', 'nyse', 'ose', 'pse', 'set', 'simex', 'sse', 'stse', 'tose', 'tse', 'wce', 'zse']}\n"
     ]
    }
   ],
   "source": [
    "# print(category_data)\n",
    "print(category_dictionary)"
   ]
  },
  {
   "cell_type": "code",
   "execution_count": 5,
   "metadata": {},
   "outputs": [],
   "source": [
    "def to_category_vector(categories):\n",
    "    vector = zeros(len(categories)).astype(float32)\n",
    "    \n",
    "    for i in range(len(categories)):\n",
    "        if target_categories[i] in categories:\n",
    "            vector[i] = 1.0\n",
    "    \n",
    "    return vector"
   ]
  },
  {
   "cell_type": "code",
   "execution_count": 6,
   "metadata": {},
   "outputs": [],
   "source": [
    "lemmatizer = WordNetLemmatizer()\n",
    "strip_special_chars = re.compile(\"[^A-Za-z0-9 ]+\")\n",
    "stop_words = set(stopwords.words(\"english\"))\n",
    "\n",
    "def cleanUpSentence(r, stop_words = None):\n",
    "    r = r.lower().replace(\"<br />\", \" \")\n",
    "    r = re.sub(strip_special_chars, \"\", r.lower())\n",
    "    if stop_words is not None:\n",
    "        words = word_tokenize(r)\n",
    "        filtered_sentence = []\n",
    "        for w in words:\n",
    "            w = lemmatizer.lemmatize(w)\n",
    "            if w not in stop_words:\n",
    "                filtered_sentence.append(w)\n",
    "        return \" \".join(filtered_sentence)\n",
    "    else:\n",
    "        return r"
   ]
  },
  {
   "cell_type": "code",
   "execution_count": 19,
   "metadata": {
    "scrolled": true
   },
   "outputs": [
    {
     "name": "stdout",
     "output_type": "stream",
     "text": [
      "Reading file: reut2-000.sgm\n",
      "Reading file: reut2-001.sgm\n",
      "Reading file: reut2-002.sgm\n",
      "Reading file: reut2-003.sgm\n",
      "Reading file: reut2-004.sgm\n",
      "Reading file: reut2-005.sgm\n",
      "Reading file: reut2-006.sgm\n",
      "Reading file: reut2-007.sgm\n",
      "Reading file: reut2-008.sgm\n",
      "Reading file: reut2-009.sgm\n",
      "Reading file: reut2-010.sgm\n",
      "Reading file: reut2-011.sgm\n",
      "Reading file: reut2-012.sgm\n",
      "Reading file: reut2-013.sgm\n",
      "Reading file: reut2-014.sgm\n",
      "Reading file: reut2-015.sgm\n",
      "Reading file: reut2-016.sgm\n",
      "Reading file: reut2-017.sgm\n",
      "Reading file: reut2-018.sgm\n",
      "Reading file: reut2-019.sgm\n",
      "Reading file: reut2-020.sgm\n"
     ]
    }
   ],
   "source": [
    "# Parse SGML files\n",
    "document_X = {}\n",
    "document_Y = {}\n",
    "docid_traintest = {}\n",
    "def strip_tags(text):\n",
    "    return re.sub('<[^<]+?>', '', text).strip()\n",
    "\n",
    "def unescape(text):\n",
    "    return saxutils.unescape(text)\n",
    "\n",
    "# Iterate all files\n",
    "for i in range(sgml_number_of_files):\n",
    "    if i < 10:\n",
    "        seq = '00' + str(i)\n",
    "    else:\n",
    "        seq = '0' + str(i)\n",
    "        \n",
    "    file_name = sgml_file_name_template.replace('NNN', seq)\n",
    "    print('Reading file: %s' % file_name)\n",
    "    #data_folder + file_name\n",
    "    with open(data_folder+file_name, 'rb') as file:\n",
    "        content = BeautifulSoup(file.read().lower(),'html.parser')\n",
    "\n",
    "        for newsline in content('reuters'):\n",
    "            document_categories = []\n",
    "\n",
    "            # News-line Id\n",
    "            document_id = newsline['newid']\n",
    "        #             print document_id,\n",
    "            train_test = newsline['lewissplit']\n",
    "            docid_traintest[document_id] = train_test\n",
    "        #             print \"train_test: \",train_test\n",
    "\n",
    "            # News-line text\n",
    "            document_body = strip_tags(str(newsline('text')[0].body)).replace('reuter\\n&#3;', '')\n",
    "            doc_categories=strip_tags(str(newsline('topics')[0].body))\n",
    "            doc_categories = unescape(doc_categories)\n",
    "\n",
    "            document_body = unescape(document_body)\n",
    "\n",
    "            # News-line categories\n",
    "            topics = newsline.topics.contents\n",
    "            places = newsline.places.contents\n",
    "            people = newsline.people.contents\n",
    "            orgs = newsline.orgs.contents\n",
    "            exchanges = newsline.exchanges.contents\n",
    "\n",
    "            for topic in topics:\n",
    "                document_categories.append('to_' + strip_tags(str(topic)))\n",
    "\n",
    "            for place in places:\n",
    "                document_categories.append('pl_' + strip_tags(str(place)))\n",
    "\n",
    "            for person in people:\n",
    "                document_categories.append('pe_' + strip_tags(str(person)))\n",
    "\n",
    "            for org in orgs:\n",
    "                document_categories.append('or_' + strip_tags(str(org)))\n",
    "\n",
    "            for exchange in exchanges:\n",
    "                document_categories.append('ex_' + strip_tags(str(exchange)))\n",
    "\n",
    "            document_X[document_id] = document_body\n",
    "            document_Y[document_id] = document_categories\n",
    "            "
   ]
  },
  {
   "cell_type": "code",
   "execution_count": 21,
   "metadata": {},
   "outputs": [
    {
     "name": "stderr",
     "output_type": "stream",
     "text": [
      "[nltk_data] Downloading package punkt to /home/prabha/nltk_data...\n",
      "[nltk_data]   Package punkt is already up-to-date!\n",
      "[nltk_data] Downloading package wordnet to /home/prabha/nltk_data...\n",
      "[nltk_data]   Package wordnet is already up-to-date!\n"
     ]
    }
   ],
   "source": [
    "# data preprocessing\n",
    "import numpy as np\n",
    "\n",
    "nltk.download('punkt')\n",
    "nltk.download('wordnet')\n",
    "\n",
    "def create_x_matrix(document_X):\n",
    "    totalX = []\n",
    "    for i, doc in document_X.items():\n",
    "        totalX.append(cleanUpSentence(doc, stop_words))\n",
    "    max_vocab_size = 200\n",
    "    input_tokenizer = Tokenizer(200)\n",
    "    input_tokenizer.fit_on_texts(totalX)\n",
    "    encoded_docs = input_tokenizer.texts_to_matrix(totalX, mode='count')\n",
    "    return totalX,encoded_docs"
   ]
  },
  {
   "cell_type": "code",
   "execution_count": 22,
   "metadata": {},
   "outputs": [],
   "source": [
    "totalX,encoded_docs=create_x_matrix(document_X)"
   ]
  },
  {
   "cell_type": "code",
   "execution_count": 28,
   "metadata": {},
   "outputs": [
    {
     "name": "stdout",
     "output_type": "stream",
     "text": [
      "21000\n"
     ]
    }
   ],
   "source": [
    "print(len(totalX))"
   ]
  },
  {
   "cell_type": "code",
   "execution_count": 52,
   "metadata": {},
   "outputs": [
    {
     "name": "stdout",
     "output_type": "stream",
     "text": [
      "ranking [('Topics', 7), ('Places', 2), ('People', 0), ('Exchanges', 0), ('Organizations', 0)]\n"
     ]
    }
   ],
   "source": [
    "words_in_body={}\n",
    "\n",
    "for i in range(len(totalX)):\n",
    "    words=totalX[i].split(' ')\n",
    "    words_in_body[i]=words    \n",
    "\n",
    "one_hot_label=[]\n",
    "for key,v in words_in_body.items():\n",
    "    dict_temp={'Topics':0,'Places':0,'People':0,'Exchanges':0,'Organizations':0}\n",
    "    for i in v:\n",
    "        if i in category_dictionary['Topics']:\n",
    "            dict_temp['Topics']+=1\n",
    "        if i in category_dictionary['Places']:\n",
    "            dict_temp['Places']+=1\n",
    "        if i in category_dictionary['People']:\n",
    "            dict_temp['People']+=1\n",
    "        if i in category_dictionary['Exchanges']:\n",
    "            dict_temp['Exchanges']+=1\n",
    "        if i in category_dictionary['Organizations']:\n",
    "            dict_temp['Organizations']+=1\n",
    "            \n",
    "    one_hot_label.append(dict_temp)\n",
    "    \n",
    "# print(one_hot_label)\n",
    "# ranking=[]\n",
    "# for i in one_hot_label:\n",
    "#     ranking.append(list(i.values()))\n",
    "# #print(np.array(ranking).shape)\n",
    "\n",
    "\n",
    "ranking=[]\n",
    "one_hot_label_list = []\n",
    "for i in one_hot_label:\n",
    "    sorted_x = sorted(i.items(), key=lambda kv: kv[1], reverse=True) \n",
    "    ranking.append(sorted_x)\n",
    "    one_hot_label_list.append(list(i.values()))\n",
    "print (\"ranking\",ranking[0])\n"
   ]
  },
  {
   "cell_type": "code",
   "execution_count": 57,
   "metadata": {},
   "outputs": [
    {
     "name": "stdout",
     "output_type": "stream",
     "text": [
      "(21000, 5, 2)\n"
     ]
    }
   ],
   "source": [
    "print(np.array(ranking).shape)\n"
   ]
  },
  {
   "cell_type": "code",
   "execution_count": 58,
   "metadata": {},
   "outputs": [
    {
     "name": "stdout",
     "output_type": "stream",
     "text": [
      "Train on 16800 samples, validate on 4200 samples\n",
      "Epoch 1/5\n",
      "16800/16800 [==============================] - 6s 329us/step - loss: 2.5853 - acc: 0.8052 - val_loss: 2.5973 - val_acc: 0.6407\n",
      "Epoch 2/5\n",
      "16800/16800 [==============================] - 5s 279us/step - loss: 2.3091 - acc: 0.8128 - val_loss: 2.5152 - val_acc: 0.7943\n",
      "Epoch 3/5\n",
      "16800/16800 [==============================] - 5s 280us/step - loss: 2.2513 - acc: 0.8118 - val_loss: 2.5070 - val_acc: 0.8021\n",
      "Epoch 4/5\n",
      "16800/16800 [==============================] - 5s 279us/step - loss: 2.2272 - acc: 0.8176 - val_loss: 2.4964 - val_acc: 0.8062\n",
      "Epoch 5/5\n",
      "16800/16800 [==============================] - 5s 280us/step - loss: 2.1993 - acc: 0.8161 - val_loss: 2.5209 - val_acc: 0.8107\n"
     ]
    },
    {
     "data": {
      "text/plain": [
       "<keras.callbacks.History at 0x7fcd6edde588>"
      ]
     },
     "execution_count": 58,
     "metadata": {},
     "output_type": "execute_result"
    }
   ],
   "source": [
    "from keras.models import Sequential\n",
    "from keras.layers import Dense,Flatten, Dropout,Embedding\n",
    "nn = Sequential()\n",
    "max_vocab_size = 200\n",
    "nn.add(Embedding(200, 20, input_length=max_vocab_size))\n",
    "nn.add(Dense(10, activation=\"relu\", input_shape=(max_vocab_size,)))\n",
    "nn.add(Dropout(0.15))\n",
    "nn.add(Flatten())\n",
    "nn.add(Dense(5,activation=\"softmax\"))\n",
    "nn.compile(optimizer='adam', loss='categorical_crossentropy', metrics=['accuracy'])\n",
    "nn.fit(np.array(encoded_docs), np.array(one_hot_label_list), batch_size=16, epochs=5,\n",
    "          verbose=1, validation_split=0.2)"
   ]
  },
  {
   "cell_type": "code",
   "execution_count": 59,
   "metadata": {},
   "outputs": [
    {
     "name": "stdout",
     "output_type": "stream",
     "text": [
      "Reading file: reut2-021.sgm\n"
     ]
    }
   ],
   "source": [
    "# Iterate all files\n",
    "document_X={}\n",
    "document_Y={}\n",
    "for i in range(21,22):\n",
    "    if i < 10:\n",
    "        seq = '00' + str(i)\n",
    "    else:\n",
    "        seq = '0' + str(i)\n",
    "        \n",
    "    file_name = sgml_file_name_template.replace('NNN', seq)\n",
    "    print('Reading file: %s' % file_name)\n",
    "    #data_folder + file_name\n",
    "    with open(data_folder+file_name, 'rb') as file:\n",
    "        content = BeautifulSoup(file.read().lower(),'html.parser')\n",
    "\n",
    "        for newsline in content('reuters'):\n",
    "            document_categories = []\n",
    "\n",
    "            # News-line Id\n",
    "            document_id = newsline['newid']\n",
    "        #             print document_id,\n",
    "            train_test = newsline['lewissplit']\n",
    "            docid_traintest[document_id] = train_test\n",
    "        #             print \"train_test: \",train_test\n",
    "\n",
    "            # News-line text\n",
    "            document_body = strip_tags(str(newsline('text')[0].body)).replace('reuter\\n&#3;', '')\n",
    "            doc_categories=strip_tags(str(newsline('topics')[0].body))\n",
    "            doc_categories = unescape(doc_categories)\n",
    "\n",
    "            document_body = unescape(document_body)\n",
    "\n",
    "            # News-line categories\n",
    "            topics = newsline.topics.contents\n",
    "            places = newsline.places.contents\n",
    "            people = newsline.people.contents\n",
    "            orgs = newsline.orgs.contents\n",
    "            exchanges = newsline.exchanges.contents\n",
    "\n",
    "            for topic in topics:\n",
    "                document_categories.append('to_' + strip_tags(str(topic)))\n",
    "\n",
    "            for place in places:\n",
    "                document_categories.append('pl_' + strip_tags(str(place)))\n",
    "\n",
    "            for person in people:\n",
    "                document_categories.append('pe_' + strip_tags(str(person)))\n",
    "\n",
    "            for org in orgs:\n",
    "                document_categories.append('or_' + strip_tags(str(org)))\n",
    "\n",
    "            for exchange in exchanges:\n",
    "                document_categories.append('ex_' + strip_tags(str(exchange)))\n",
    "        #             print \"document_categories: \",document_categories\n",
    "            # Create new document    \n",
    "        #             update_frequencies(document_categories)\n",
    "\n",
    "            document_X[document_id] = document_body\n",
    "            document_Y[document_id] = document_categories\n"
   ]
  },
  {
   "cell_type": "code",
   "execution_count": 60,
   "metadata": {},
   "outputs": [],
   "source": [
    "# test_text=\"Huge oil platforms dot the Gulf like beacons -- usually lit up like Christmas trees at night. One of them, sitting astride the Rostam offshore oilfield,was all but blown out of the water by U.S. Warships on Monday.    The Iranian platform, an unsightly mass of steel andconcrete, was a three-tier structure rising 200 feet (60metres) above the warm waters of the Gulf until four U.S.Destroyers pumped some 1,000 shells into it.    The U.S. Defense Department said just 10 pct of one section of the structure remained.    U.S. helicopters destroyed three Iranian gunboats after an American helicopter came under fire earlier this month and U.S.forces attacked, seized, and sank an Iranian ship they said had been caught laying mines.    But Iran was not deterred, according to U.S. defense officials, who said Iranian forces used Chinese-made Silkworm missiles to hit a U.S.-owned Liberian-flagged ship on Thursday and the Sea Isle City on Friday.    Both ships were hit in the territorial waters of Kuwait, a key backer of Iraq in its war with Iran.    Henry Schuler, a former U.S. diplomat in the Middle Eastnow with CSIS said Washington had agreed to escort Kuwaiti tankers in order to deter Iranian attacks on shipping.    But he said the deterrence policy had failed and the level of violence and threats to shipping had increased as a result of U.S. intervention and Iran's response.    The attack on the oil platform was the latest example of a U.S. \\\"tit-for-tat\\\" policy that gave Iran the initiative, said Harlan Ullman, an ex-career naval officer now with CSIS.    He said with this appraoch America would suffer \\\"the deathof one thousand cuts.\\\"    But for the United States to grab the initiative litarily, it must take warlike steps such as mining Iran's harbors or blockading the mouth of the Gulf through which itsshipping must pass, Schuler said.    He was among those advocating mining as a means of bringing Iran to the neogtiating table. If vital supplies were cut off,Tehran could not continue the war with Iraq.    Ullman said Washington should join Moscow in a diplomatic initiative to end the war and the superpowers should impose anarms embargo against Tehran if it refused to negotiate.    He said the United States should also threaten to mine and blockade Iran if it continued fighting and must press Iraq to acknowledge responsibility for starting the war as part of asettlement.    Iranian and Western diplomats say Iraq started the war by invading Iran's territory in 1980. Iraq blames Iran for theoutbreak of hostilities, which have entailed World War I-stylenfantry attacks resulting in horrific casualties.    Each side has attacked the others' shipping.\" \n",
    "test_total_X,test_encoded_X=create_x_matrix(document_X)\n",
    "y=nn.predict(test_encoded_X)"
   ]
  },
  {
   "cell_type": "code",
   "execution_count": 61,
   "metadata": {},
   "outputs": [
    {
     "name": "stdout",
     "output_type": "stream",
     "text": [
      "[[0.47443122 0.28245524 0.12903568 0.05883632 0.0552416 ]\n",
      " [0.9410566  0.03763089 0.00697364 0.00691565 0.00742319]\n",
      " [0.47443122 0.28245524 0.12903568 0.05883632 0.0552416 ]\n",
      " ...\n",
      " [0.6807208  0.11202405 0.0671718  0.10630406 0.03377933]\n",
      " [0.91882724 0.0377016  0.01542944 0.02137366 0.00666803]\n",
      " [0.8990815  0.07304464 0.00949921 0.01706268 0.00131201]]\n"
     ]
    }
   ],
   "source": [
    "print(y)\n",
    "# print(document_Y)"
   ]
  },
  {
   "cell_type": "code",
   "execution_count": 62,
   "metadata": {},
   "outputs": [],
   "source": [
    "output=[]\n",
    "for i in y:\n",
    "    dict_temp={'Topics':i[0],'Places':i[1],'Peoples':i[2],'Exchanges':i[3],'Organizations':i[4]}\n",
    "    output.append(dict_temp)     "
   ]
  },
  {
   "cell_type": "code",
   "execution_count": 38,
   "metadata": {},
   "outputs": [],
   "source": [
    "# print(output[0])\n",
    "ranked_output=[]\n",
    "for i in output:\n",
    "    t={}\n",
    "    for key, value in sorted(i.items(), key=lambda item: item[1]):\n",
    "        t[key]=value\n",
    "    rank=0\n",
    "    for k in t.keys():\n",
    "        t[k]=rank\n",
    "        rank+=1\n",
    "    ranked_output.append(t)"
   ]
  },
  {
   "cell_type": "code",
   "execution_count": 39,
   "metadata": {},
   "outputs": [
    {
     "name": "stdout",
     "output_type": "stream",
     "text": [
      "[{'Exchanges': 0, 'Organizations': 1, 'Peoples': 2, 'Places': 3, 'Topics': 4}, {'Exchanges': 0, 'Peoples': 1, 'Organizations': 2, 'Places': 3, 'Topics': 4}, {'Exchanges': 0, 'Organizations': 1, 'Peoples': 2, 'Places': 3, 'Topics': 4}, {'Exchanges': 0, 'Peoples': 1, 'Organizations': 2, 'Places': 3, 'Topics': 4}, {'Exchanges': 0, 'Organizations': 1, 'Peoples': 2, 'Places': 3, 'Topics': 4}, {'Exchanges': 0, 'Organizations': 1, 'Peoples': 2, 'Places': 3, 'Topics': 4}, {'Organizations': 0, 'Exchanges': 1, 'Peoples': 2, 'Places': 3, 'Topics': 4}, {'Exchanges': 0, 'Organizations': 1, 'Peoples': 2, 'Places': 3, 'Topics': 4}, {'Exchanges': 0, 'Organizations': 1, 'Peoples': 2, 'Places': 3, 'Topics': 4}, {'Organizations': 0, 'Peoples': 1, 'Places': 2, 'Exchanges': 3, 'Topics': 4}, {'Organizations': 0, 'Exchanges': 1, 'Peoples': 2, 'Places': 3, 'Topics': 4}, {'Organizations': 0, 'Exchanges': 1, 'Peoples': 2, 'Places': 3, 'Topics': 4}, {'Exchanges': 0, 'Organizations': 1, 'Peoples': 2, 'Places': 3, 'Topics': 4}, {'Organizations': 0, 'Exchanges': 1, 'Peoples': 2, 'Places': 3, 'Topics': 4}, {'Organizations': 0, 'Peoples': 1, 'Places': 2, 'Topics': 3, 'Exchanges': 4}, {'Organizations': 0, 'Exchanges': 1, 'Peoples': 2, 'Places': 3, 'Topics': 4}, {'Exchanges': 0, 'Organizations': 1, 'Peoples': 2, 'Places': 3, 'Topics': 4}, {'Organizations': 0, 'Exchanges': 1, 'Peoples': 2, 'Places': 3, 'Topics': 4}, {'Peoples': 0, 'Organizations': 1, 'Exchanges': 2, 'Places': 3, 'Topics': 4}, {'Organizations': 0, 'Peoples': 1, 'Exchanges': 2, 'Places': 3, 'Topics': 4}, {'Exchanges': 0, 'Organizations': 1, 'Peoples': 2, 'Places': 3, 'Topics': 4}, {'Organizations': 0, 'Exchanges': 1, 'Peoples': 2, 'Places': 3, 'Topics': 4}, {'Organizations': 0, 'Exchanges': 1, 'Peoples': 2, 'Places': 3, 'Topics': 4}, {'Organizations': 0, 'Exchanges': 1, 'Peoples': 2, 'Places': 3, 'Topics': 4}, {'Exchanges': 0, 'Organizations': 1, 'Peoples': 2, 'Places': 3, 'Topics': 4}, {'Organizations': 0, 'Exchanges': 1, 'Peoples': 2, 'Places': 3, 'Topics': 4}, {'Peoples': 0, 'Exchanges': 1, 'Organizations': 2, 'Places': 3, 'Topics': 4}, {'Organizations': 0, 'Exchanges': 1, 'Peoples': 2, 'Places': 3, 'Topics': 4}, {'Exchanges': 0, 'Organizations': 1, 'Peoples': 2, 'Places': 3, 'Topics': 4}, {'Organizations': 0, 'Peoples': 1, 'Exchanges': 2, 'Places': 3, 'Topics': 4}, {'Exchanges': 0, 'Organizations': 1, 'Peoples': 2, 'Places': 3, 'Topics': 4}, {'Exchanges': 0, 'Organizations': 1, 'Peoples': 2, 'Places': 3, 'Topics': 4}, {'Exchanges': 0, 'Peoples': 1, 'Organizations': 2, 'Places': 3, 'Topics': 4}, {'Organizations': 0, 'Exchanges': 1, 'Peoples': 2, 'Places': 3, 'Topics': 4}, {'Organizations': 0, 'Exchanges': 1, 'Peoples': 2, 'Places': 3, 'Topics': 4}, {'Exchanges': 0, 'Organizations': 1, 'Peoples': 2, 'Places': 3, 'Topics': 4}, {'Organizations': 0, 'Exchanges': 1, 'Peoples': 2, 'Places': 3, 'Topics': 4}, {'Exchanges': 0, 'Organizations': 1, 'Peoples': 2, 'Places': 3, 'Topics': 4}, {'Exchanges': 0, 'Organizations': 1, 'Peoples': 2, 'Places': 3, 'Topics': 4}, {'Exchanges': 0, 'Peoples': 1, 'Organizations': 2, 'Places': 3, 'Topics': 4}, {'Organizations': 0, 'Peoples': 1, 'Places': 2, 'Exchanges': 3, 'Topics': 4}, {'Organizations': 0, 'Exchanges': 1, 'Peoples': 2, 'Places': 3, 'Topics': 4}, {'Organizations': 0, 'Exchanges': 1, 'Peoples': 2, 'Places': 3, 'Topics': 4}, {'Exchanges': 0, 'Organizations': 1, 'Peoples': 2, 'Places': 3, 'Topics': 4}, {'Organizations': 0, 'Exchanges': 1, 'Peoples': 2, 'Places': 3, 'Topics': 4}, {'Organizations': 0, 'Exchanges': 1, 'Peoples': 2, 'Places': 3, 'Topics': 4}, {'Organizations': 0, 'Exchanges': 1, 'Peoples': 2, 'Places': 3, 'Topics': 4}, {'Organizations': 0, 'Exchanges': 1, 'Peoples': 2, 'Places': 3, 'Topics': 4}, {'Organizations': 0, 'Exchanges': 1, 'Peoples': 2, 'Places': 3, 'Topics': 4}, {'Exchanges': 0, 'Peoples': 1, 'Organizations': 2, 'Places': 3, 'Topics': 4}, {'Organizations': 0, 'Peoples': 1, 'Exchanges': 2, 'Places': 3, 'Topics': 4}, {'Organizations': 0, 'Exchanges': 1, 'Peoples': 2, 'Places': 3, 'Topics': 4}, {'Organizations': 0, 'Exchanges': 1, 'Peoples': 2, 'Places': 3, 'Topics': 4}, {'Organizations': 0, 'Peoples': 1, 'Exchanges': 2, 'Places': 3, 'Topics': 4}, {'Organizations': 0, 'Exchanges': 1, 'Peoples': 2, 'Places': 3, 'Topics': 4}, {'Exchanges': 0, 'Organizations': 1, 'Peoples': 2, 'Places': 3, 'Topics': 4}, {'Peoples': 0, 'Organizations': 1, 'Places': 2, 'Exchanges': 3, 'Topics': 4}, {'Exchanges': 0, 'Organizations': 1, 'Peoples': 2, 'Places': 3, 'Topics': 4}, {'Exchanges': 0, 'Organizations': 1, 'Peoples': 2, 'Places': 3, 'Topics': 4}, {'Exchanges': 0, 'Peoples': 1, 'Organizations': 2, 'Places': 3, 'Topics': 4}, {'Exchanges': 0, 'Organizations': 1, 'Peoples': 2, 'Places': 3, 'Topics': 4}, {'Organizations': 0, 'Exchanges': 1, 'Peoples': 2, 'Places': 3, 'Topics': 4}, {'Exchanges': 0, 'Organizations': 1, 'Peoples': 2, 'Places': 3, 'Topics': 4}, {'Exchanges': 0, 'Organizations': 1, 'Peoples': 2, 'Places': 3, 'Topics': 4}, {'Peoples': 0, 'Organizations': 1, 'Exchanges': 2, 'Places': 3, 'Topics': 4}, {'Peoples': 0, 'Exchanges': 1, 'Organizations': 2, 'Places': 3, 'Topics': 4}, {'Exchanges': 0, 'Organizations': 1, 'Peoples': 2, 'Places': 3, 'Topics': 4}, {'Exchanges': 0, 'Organizations': 1, 'Peoples': 2, 'Places': 3, 'Topics': 4}, {'Exchanges': 0, 'Organizations': 1, 'Peoples': 2, 'Places': 3, 'Topics': 4}, {'Organizations': 0, 'Peoples': 1, 'Exchanges': 2, 'Places': 3, 'Topics': 4}, {'Peoples': 0, 'Organizations': 1, 'Exchanges': 2, 'Places': 3, 'Topics': 4}, {'Peoples': 0, 'Organizations': 1, 'Places': 2, 'Exchanges': 3, 'Topics': 4}, {'Peoples': 0, 'Exchanges': 1, 'Organizations': 2, 'Places': 3, 'Topics': 4}, {'Organizations': 0, 'Exchanges': 1, 'Peoples': 2, 'Places': 3, 'Topics': 4}, {'Exchanges': 0, 'Peoples': 1, 'Organizations': 2, 'Places': 3, 'Topics': 4}, {'Organizations': 0, 'Exchanges': 1, 'Peoples': 2, 'Places': 3, 'Topics': 4}, {'Organizations': 0, 'Exchanges': 1, 'Peoples': 2, 'Places': 3, 'Topics': 4}, {'Peoples': 0, 'Organizations': 1, 'Exchanges': 2, 'Places': 3, 'Topics': 4}, {'Organizations': 0, 'Exchanges': 1, 'Peoples': 2, 'Places': 3, 'Topics': 4}, {'Organizations': 0, 'Exchanges': 1, 'Peoples': 2, 'Places': 3, 'Topics': 4}, {'Organizations': 0, 'Exchanges': 1, 'Peoples': 2, 'Places': 3, 'Topics': 4}, {'Exchanges': 0, 'Organizations': 1, 'Peoples': 2, 'Places': 3, 'Topics': 4}, {'Organizations': 0, 'Peoples': 1, 'Exchanges': 2, 'Places': 3, 'Topics': 4}, {'Organizations': 0, 'Exchanges': 1, 'Peoples': 2, 'Places': 3, 'Topics': 4}, {'Organizations': 0, 'Exchanges': 1, 'Peoples': 2, 'Places': 3, 'Topics': 4}, {'Organizations': 0, 'Exchanges': 1, 'Peoples': 2, 'Places': 3, 'Topics': 4}, {'Organizations': 0, 'Exchanges': 1, 'Peoples': 2, 'Places': 3, 'Topics': 4}, {'Organizations': 0, 'Exchanges': 1, 'Peoples': 2, 'Places': 3, 'Topics': 4}, {'Peoples': 0, 'Exchanges': 1, 'Organizations': 2, 'Places': 3, 'Topics': 4}, {'Exchanges': 0, 'Organizations': 1, 'Peoples': 2, 'Places': 3, 'Topics': 4}, {'Exchanges': 0, 'Organizations': 1, 'Peoples': 2, 'Places': 3, 'Topics': 4}, {'Organizations': 0, 'Exchanges': 1, 'Peoples': 2, 'Places': 3, 'Topics': 4}, {'Exchanges': 0, 'Organizations': 1, 'Peoples': 2, 'Places': 3, 'Topics': 4}, {'Peoples': 0, 'Organizations': 1, 'Exchanges': 2, 'Places': 3, 'Topics': 4}, {'Organizations': 0, 'Exchanges': 1, 'Peoples': 2, 'Places': 3, 'Topics': 4}, {'Exchanges': 0, 'Organizations': 1, 'Places': 2, 'Topics': 3, 'Peoples': 4}, {'Exchanges': 0, 'Organizations': 1, 'Peoples': 2, 'Places': 3, 'Topics': 4}, {'Exchanges': 0, 'Organizations': 1, 'Peoples': 2, 'Places': 3, 'Topics': 4}, {'Organizations': 0, 'Exchanges': 1, 'Peoples': 2, 'Places': 3, 'Topics': 4}, {'Organizations': 0, 'Exchanges': 1, 'Peoples': 2, 'Places': 3, 'Topics': 4}, {'Peoples': 0, 'Exchanges': 1, 'Organizations': 2, 'Places': 3, 'Topics': 4}, {'Peoples': 0, 'Organizations': 1, 'Exchanges': 2, 'Places': 3, 'Topics': 4}, {'Exchanges': 0, 'Organizations': 1, 'Peoples': 2, 'Places': 3, 'Topics': 4}, {'Organizations': 0, 'Exchanges': 1, 'Peoples': 2, 'Places': 3, 'Topics': 4}, {'Exchanges': 0, 'Organizations': 1, 'Peoples': 2, 'Places': 3, 'Topics': 4}, {'Organizations': 0, 'Exchanges': 1, 'Peoples': 2, 'Places': 3, 'Topics': 4}, {'Organizations': 0, 'Peoples': 1, 'Exchanges': 2, 'Places': 3, 'Topics': 4}, {'Organizations': 0, 'Peoples': 1, 'Exchanges': 2, 'Places': 3, 'Topics': 4}, {'Organizations': 0, 'Exchanges': 1, 'Peoples': 2, 'Places': 3, 'Topics': 4}, {'Organizations': 0, 'Exchanges': 1, 'Peoples': 2, 'Places': 3, 'Topics': 4}, {'Exchanges': 0, 'Organizations': 1, 'Peoples': 2, 'Places': 3, 'Topics': 4}, {'Organizations': 0, 'Exchanges': 1, 'Peoples': 2, 'Places': 3, 'Topics': 4}, {'Exchanges': 0, 'Organizations': 1, 'Peoples': 2, 'Places': 3, 'Topics': 4}, {'Organizations': 0, 'Exchanges': 1, 'Peoples': 2, 'Places': 3, 'Topics': 4}, {'Exchanges': 0, 'Organizations': 1, 'Peoples': 2, 'Places': 3, 'Topics': 4}, {'Organizations': 0, 'Peoples': 1, 'Exchanges': 2, 'Places': 3, 'Topics': 4}, {'Organizations': 0, 'Exchanges': 1, 'Peoples': 2, 'Places': 3, 'Topics': 4}, {'Peoples': 0, 'Organizations': 1, 'Exchanges': 2, 'Places': 3, 'Topics': 4}, {'Exchanges': 0, 'Peoples': 1, 'Organizations': 2, 'Places': 3, 'Topics': 4}, {'Exchanges': 0, 'Organizations': 1, 'Peoples': 2, 'Places': 3, 'Topics': 4}, {'Exchanges': 0, 'Organizations': 1, 'Peoples': 2, 'Places': 3, 'Topics': 4}, {'Organizations': 0, 'Peoples': 1, 'Exchanges': 2, 'Places': 3, 'Topics': 4}, {'Peoples': 0, 'Organizations': 1, 'Exchanges': 2, 'Places': 3, 'Topics': 4}, {'Exchanges': 0, 'Organizations': 1, 'Peoples': 2, 'Places': 3, 'Topics': 4}, {'Exchanges': 0, 'Organizations': 1, 'Peoples': 2, 'Places': 3, 'Topics': 4}, {'Exchanges': 0, 'Organizations': 1, 'Peoples': 2, 'Places': 3, 'Topics': 4}, {'Exchanges': 0, 'Organizations': 1, 'Peoples': 2, 'Places': 3, 'Topics': 4}, {'Exchanges': 0, 'Organizations': 1, 'Peoples': 2, 'Places': 3, 'Topics': 4}, {'Exchanges': 0, 'Organizations': 1, 'Peoples': 2, 'Places': 3, 'Topics': 4}, {'Exchanges': 0, 'Organizations': 1, 'Peoples': 2, 'Places': 3, 'Topics': 4}, {'Exchanges': 0, 'Organizations': 1, 'Peoples': 2, 'Places': 3, 'Topics': 4}, {'Organizations': 0, 'Exchanges': 1, 'Peoples': 2, 'Places': 3, 'Topics': 4}, {'Organizations': 0, 'Peoples': 1, 'Exchanges': 2, 'Places': 3, 'Topics': 4}, {'Organizations': 0, 'Peoples': 1, 'Exchanges': 2, 'Places': 3, 'Topics': 4}, {'Organizations': 0, 'Exchanges': 1, 'Peoples': 2, 'Places': 3, 'Topics': 4}, {'Organizations': 0, 'Exchanges': 1, 'Peoples': 2, 'Places': 3, 'Topics': 4}, {'Peoples': 0, 'Organizations': 1, 'Places': 2, 'Exchanges': 3, 'Topics': 4}, {'Exchanges': 0, 'Peoples': 1, 'Organizations': 2, 'Places': 3, 'Topics': 4}, {'Exchanges': 0, 'Organizations': 1, 'Peoples': 2, 'Places': 3, 'Topics': 4}, {'Exchanges': 0, 'Organizations': 1, 'Peoples': 2, 'Places': 3, 'Topics': 4}, {'Exchanges': 0, 'Organizations': 1, 'Peoples': 2, 'Places': 3, 'Topics': 4}, {'Organizations': 0, 'Peoples': 1, 'Exchanges': 2, 'Places': 3, 'Topics': 4}, {'Exchanges': 0, 'Organizations': 1, 'Peoples': 2, 'Places': 3, 'Topics': 4}, {'Exchanges': 0, 'Organizations': 1, 'Peoples': 2, 'Places': 3, 'Topics': 4}, {'Organizations': 0, 'Peoples': 1, 'Exchanges': 2, 'Places': 3, 'Topics': 4}, {'Organizations': 0, 'Exchanges': 1, 'Peoples': 2, 'Places': 3, 'Topics': 4}, {'Organizations': 0, 'Exchanges': 1, 'Peoples': 2, 'Places': 3, 'Topics': 4}, {'Exchanges': 0, 'Organizations': 1, 'Peoples': 2, 'Places': 3, 'Topics': 4}, {'Exchanges': 0, 'Peoples': 1, 'Organizations': 2, 'Places': 3, 'Topics': 4}, {'Peoples': 0, 'Organizations': 1, 'Exchanges': 2, 'Places': 3, 'Topics': 4}, {'Exchanges': 0, 'Organizations': 1, 'Peoples': 2, 'Places': 3, 'Topics': 4}, {'Peoples': 0, 'Exchanges': 1, 'Organizations': 2, 'Places': 3, 'Topics': 4}, {'Organizations': 0, 'Exchanges': 1, 'Peoples': 2, 'Places': 3, 'Topics': 4}, {'Exchanges': 0, 'Organizations': 1, 'Peoples': 2, 'Places': 3, 'Topics': 4}, {'Peoples': 0, 'Organizations': 1, 'Exchanges': 2, 'Places': 3, 'Topics': 4}, {'Exchanges': 0, 'Peoples': 1, 'Organizations': 2, 'Places': 3, 'Topics': 4}, {'Exchanges': 0, 'Peoples': 1, 'Organizations': 2, 'Places': 3, 'Topics': 4}, {'Organizations': 0, 'Exchanges': 1, 'Peoples': 2, 'Topics': 3, 'Places': 4}, {'Organizations': 0, 'Peoples': 1, 'Exchanges': 2, 'Places': 3, 'Topics': 4}, {'Exchanges': 0, 'Peoples': 1, 'Organizations': 2, 'Topics': 3, 'Places': 4}, {'Exchanges': 0, 'Organizations': 1, 'Peoples': 2, 'Places': 3, 'Topics': 4}, {'Organizations': 0, 'Exchanges': 1, 'Peoples': 2, 'Places': 3, 'Topics': 4}, {'Exchanges': 0, 'Organizations': 1, 'Peoples': 2, 'Places': 3, 'Topics': 4}, {'Exchanges': 0, 'Organizations': 1, 'Peoples': 2, 'Places': 3, 'Topics': 4}, {'Organizations': 0, 'Exchanges': 1, 'Peoples': 2, 'Places': 3, 'Topics': 4}, {'Exchanges': 0, 'Organizations': 1, 'Peoples': 2, 'Places': 3, 'Topics': 4}, {'Exchanges': 0, 'Peoples': 1, 'Organizations': 2, 'Places': 3, 'Topics': 4}, {'Exchanges': 0, 'Organizations': 1, 'Peoples': 2, 'Places': 3, 'Topics': 4}, {'Organizations': 0, 'Peoples': 1, 'Places': 2, 'Exchanges': 3, 'Topics': 4}, {'Exchanges': 0, 'Organizations': 1, 'Peoples': 2, 'Places': 3, 'Topics': 4}, {'Exchanges': 0, 'Organizations': 1, 'Peoples': 2, 'Places': 3, 'Topics': 4}, {'Exchanges': 0, 'Organizations': 1, 'Peoples': 2, 'Places': 3, 'Topics': 4}, {'Organizations': 0, 'Exchanges': 1, 'Peoples': 2, 'Places': 3, 'Topics': 4}, {'Organizations': 0, 'Peoples': 1, 'Exchanges': 2, 'Places': 3, 'Topics': 4}, {'Organizations': 0, 'Peoples': 1, 'Exchanges': 2, 'Places': 3, 'Topics': 4}, {'Organizations': 0, 'Exchanges': 1, 'Peoples': 2, 'Places': 3, 'Topics': 4}, {'Organizations': 0, 'Exchanges': 1, 'Peoples': 2, 'Places': 3, 'Topics': 4}, {'Organizations': 0, 'Exchanges': 1, 'Peoples': 2, 'Places': 3, 'Topics': 4}, {'Organizations': 0, 'Exchanges': 1, 'Peoples': 2, 'Places': 3, 'Topics': 4}, {'Organizations': 0, 'Exchanges': 1, 'Peoples': 2, 'Places': 3, 'Topics': 4}, {'Exchanges': 0, 'Organizations': 1, 'Peoples': 2, 'Places': 3, 'Topics': 4}, {'Organizations': 0, 'Exchanges': 1, 'Peoples': 2, 'Places': 3, 'Topics': 4}, {'Organizations': 0, 'Peoples': 1, 'Exchanges': 2, 'Places': 3, 'Topics': 4}, {'Exchanges': 0, 'Peoples': 1, 'Organizations': 2, 'Places': 3, 'Topics': 4}, {'Organizations': 0, 'Exchanges': 1, 'Peoples': 2, 'Places': 3, 'Topics': 4}, {'Peoples': 0, 'Exchanges': 1, 'Organizations': 2, 'Places': 3, 'Topics': 4}, {'Peoples': 0, 'Exchanges': 1, 'Organizations': 2, 'Places': 3, 'Topics': 4}, {'Organizations': 0, 'Exchanges': 1, 'Peoples': 2, 'Places': 3, 'Topics': 4}, {'Organizations': 0, 'Exchanges': 1, 'Peoples': 2, 'Places': 3, 'Topics': 4}, {'Organizations': 0, 'Exchanges': 1, 'Places': 2, 'Peoples': 3, 'Topics': 4}, {'Exchanges': 0, 'Organizations': 1, 'Peoples': 2, 'Places': 3, 'Topics': 4}, {'Organizations': 0, 'Exchanges': 1, 'Peoples': 2, 'Places': 3, 'Topics': 4}, {'Organizations': 0, 'Exchanges': 1, 'Peoples': 2, 'Places': 3, 'Topics': 4}, {'Organizations': 0, 'Exchanges': 1, 'Peoples': 2, 'Places': 3, 'Topics': 4}, {'Organizations': 0, 'Exchanges': 1, 'Peoples': 2, 'Places': 3, 'Topics': 4}, {'Organizations': 0, 'Exchanges': 1, 'Peoples': 2, 'Places': 3, 'Topics': 4}, {'Exchanges': 0, 'Organizations': 1, 'Peoples': 2, 'Places': 3, 'Topics': 4}, {'Exchanges': 0, 'Organizations': 1, 'Peoples': 2, 'Places': 3, 'Topics': 4}, {'Exchanges': 0, 'Organizations': 1, 'Peoples': 2, 'Places': 3, 'Topics': 4}, {'Exchanges': 0, 'Organizations': 1, 'Peoples': 2, 'Places': 3, 'Topics': 4}, {'Exchanges': 0, 'Organizations': 1, 'Peoples': 2, 'Places': 3, 'Topics': 4}, {'Peoples': 0, 'Exchanges': 1, 'Organizations': 2, 'Places': 3, 'Topics': 4}, {'Exchanges': 0, 'Organizations': 1, 'Peoples': 2, 'Places': 3, 'Topics': 4}, {'Exchanges': 0, 'Organizations': 1, 'Peoples': 2, 'Places': 3, 'Topics': 4}, {'Exchanges': 0, 'Organizations': 1, 'Peoples': 2, 'Places': 3, 'Topics': 4}, {'Exchanges': 0, 'Organizations': 1, 'Peoples': 2, 'Places': 3, 'Topics': 4}, {'Exchanges': 0, 'Organizations': 1, 'Peoples': 2, 'Places': 3, 'Topics': 4}, {'Exchanges': 0, 'Organizations': 1, 'Peoples': 2, 'Places': 3, 'Topics': 4}, {'Exchanges': 0, 'Organizations': 1, 'Peoples': 2, 'Places': 3, 'Topics': 4}, {'Organizations': 0, 'Peoples': 1, 'Exchanges': 2, 'Places': 3, 'Topics': 4}, {'Exchanges': 0, 'Organizations': 1, 'Peoples': 2, 'Places': 3, 'Topics': 4}, {'Exchanges': 0, 'Organizations': 1, 'Peoples': 2, 'Places': 3, 'Topics': 4}, {'Exchanges': 0, 'Peoples': 1, 'Organizations': 2, 'Places': 3, 'Topics': 4}, {'Organizations': 0, 'Exchanges': 1, 'Peoples': 2, 'Places': 3, 'Topics': 4}, {'Organizations': 0, 'Exchanges': 1, 'Peoples': 2, 'Places': 3, 'Topics': 4}, {'Exchanges': 0, 'Organizations': 1, 'Peoples': 2, 'Places': 3, 'Topics': 4}, {'Organizations': 0, 'Peoples': 1, 'Exchanges': 2, 'Places': 3, 'Topics': 4}, {'Exchanges': 0, 'Organizations': 1, 'Peoples': 2, 'Places': 3, 'Topics': 4}, {'Organizations': 0, 'Exchanges': 1, 'Peoples': 2, 'Places': 3, 'Topics': 4}, {'Exchanges': 0, 'Peoples': 1, 'Organizations': 2, 'Places': 3, 'Topics': 4}, {'Organizations': 0, 'Exchanges': 1, 'Peoples': 2, 'Places': 3, 'Topics': 4}, {'Organizations': 0, 'Exchanges': 1, 'Peoples': 2, 'Places': 3, 'Topics': 4}, {'Peoples': 0, 'Organizations': 1, 'Exchanges': 2, 'Places': 3, 'Topics': 4}, {'Organizations': 0, 'Exchanges': 1, 'Peoples': 2, 'Places': 3, 'Topics': 4}, {'Exchanges': 0, 'Peoples': 1, 'Organizations': 2, 'Places': 3, 'Topics': 4}, {'Exchanges': 0, 'Organizations': 1, 'Peoples': 2, 'Places': 3, 'Topics': 4}, {'Organizations': 0, 'Exchanges': 1, 'Peoples': 2, 'Places': 3, 'Topics': 4}, {'Organizations': 0, 'Peoples': 1, 'Exchanges': 2, 'Places': 3, 'Topics': 4}, {'Exchanges': 0, 'Peoples': 1, 'Organizations': 2, 'Places': 3, 'Topics': 4}, {'Exchanges': 0, 'Organizations': 1, 'Peoples': 2, 'Places': 3, 'Topics': 4}, {'Exchanges': 0, 'Organizations': 1, 'Peoples': 2, 'Places': 3, 'Topics': 4}, {'Organizations': 0, 'Exchanges': 1, 'Places': 2, 'Peoples': 3, 'Topics': 4}, {'Organizations': 0, 'Exchanges': 1, 'Peoples': 2, 'Places': 3, 'Topics': 4}, {'Organizations': 0, 'Exchanges': 1, 'Peoples': 2, 'Places': 3, 'Topics': 4}, {'Peoples': 0, 'Organizations': 1, 'Exchanges': 2, 'Places': 3, 'Topics': 4}, {'Organizations': 0, 'Exchanges': 1, 'Peoples': 2, 'Places': 3, 'Topics': 4}, {'Exchanges': 0, 'Organizations': 1, 'Peoples': 2, 'Places': 3, 'Topics': 4}, {'Exchanges': 0, 'Organizations': 1, 'Peoples': 2, 'Places': 3, 'Topics': 4}, {'Exchanges': 0, 'Peoples': 1, 'Organizations': 2, 'Places': 3, 'Topics': 4}, {'Exchanges': 0, 'Organizations': 1, 'Peoples': 2, 'Places': 3, 'Topics': 4}, {'Organizations': 0, 'Exchanges': 1, 'Peoples': 2, 'Places': 3, 'Topics': 4}, {'Exchanges': 0, 'Organizations': 1, 'Peoples': 2, 'Places': 3, 'Topics': 4}, {'Peoples': 0, 'Exchanges': 1, 'Organizations': 2, 'Places': 3, 'Topics': 4}, {'Organizations': 0, 'Exchanges': 1, 'Peoples': 2, 'Places': 3, 'Topics': 4}, {'Exchanges': 0, 'Organizations': 1, 'Peoples': 2, 'Places': 3, 'Topics': 4}, {'Peoples': 0, 'Organizations': 1, 'Exchanges': 2, 'Places': 3, 'Topics': 4}, {'Exchanges': 0, 'Peoples': 1, 'Organizations': 2, 'Places': 3, 'Topics': 4}, {'Exchanges': 0, 'Organizations': 1, 'Peoples': 2, 'Places': 3, 'Topics': 4}, {'Organizations': 0, 'Peoples': 1, 'Exchanges': 2, 'Places': 3, 'Topics': 4}, {'Organizations': 0, 'Exchanges': 1, 'Peoples': 2, 'Places': 3, 'Topics': 4}, {'Peoples': 0, 'Organizations': 1, 'Exchanges': 2, 'Places': 3, 'Topics': 4}, {'Organizations': 0, 'Exchanges': 1, 'Peoples': 2, 'Places': 3, 'Topics': 4}, {'Organizations': 0, 'Peoples': 1, 'Places': 2, 'Exchanges': 3, 'Topics': 4}, {'Exchanges': 0, 'Organizations': 1, 'Places': 2, 'Peoples': 3, 'Topics': 4}, {'Exchanges': 0, 'Organizations': 1, 'Peoples': 2, 'Places': 3, 'Topics': 4}, {'Organizations': 0, 'Peoples': 1, 'Places': 2, 'Exchanges': 3, 'Topics': 4}, {'Exchanges': 0, 'Organizations': 1, 'Peoples': 2, 'Places': 3, 'Topics': 4}, {'Organizations': 0, 'Exchanges': 1, 'Peoples': 2, 'Places': 3, 'Topics': 4}, {'Organizations': 0, 'Exchanges': 1, 'Peoples': 2, 'Places': 3, 'Topics': 4}, {'Exchanges': 0, 'Organizations': 1, 'Peoples': 2, 'Places': 3, 'Topics': 4}, {'Organizations': 0, 'Exchanges': 1, 'Places': 2, 'Peoples': 3, 'Topics': 4}, {'Organizations': 0, 'Exchanges': 1, 'Peoples': 2, 'Places': 3, 'Topics': 4}, {'Exchanges': 0, 'Organizations': 1, 'Peoples': 2, 'Places': 3, 'Topics': 4}, {'Exchanges': 0, 'Organizations': 1, 'Peoples': 2, 'Places': 3, 'Topics': 4}, {'Organizations': 0, 'Exchanges': 1, 'Peoples': 2, 'Places': 3, 'Topics': 4}, {'Exchanges': 0, 'Organizations': 1, 'Peoples': 2, 'Places': 3, 'Topics': 4}, {'Exchanges': 0, 'Organizations': 1, 'Peoples': 2, 'Places': 3, 'Topics': 4}, {'Exchanges': 0, 'Organizations': 1, 'Peoples': 2, 'Places': 3, 'Topics': 4}, {'Exchanges': 0, 'Peoples': 1, 'Organizations': 2, 'Places': 3, 'Topics': 4}, {'Organizations': 0, 'Exchanges': 1, 'Peoples': 2, 'Places': 3, 'Topics': 4}, {'Organizations': 0, 'Exchanges': 1, 'Peoples': 2, 'Places': 3, 'Topics': 4}, {'Organizations': 0, 'Exchanges': 1, 'Peoples': 2, 'Places': 3, 'Topics': 4}, {'Exchanges': 0, 'Peoples': 1, 'Organizations': 2, 'Places': 3, 'Topics': 4}, {'Exchanges': 0, 'Organizations': 1, 'Peoples': 2, 'Places': 3, 'Topics': 4}, {'Exchanges': 0, 'Organizations': 1, 'Peoples': 2, 'Places': 3, 'Topics': 4}, {'Organizations': 0, 'Peoples': 1, 'Exchanges': 2, 'Places': 3, 'Topics': 4}, {'Peoples': 0, 'Exchanges': 1, 'Organizations': 2, 'Places': 3, 'Topics': 4}, {'Organizations': 0, 'Exchanges': 1, 'Peoples': 2, 'Places': 3, 'Topics': 4}, {'Organizations': 0, 'Exchanges': 1, 'Peoples': 2, 'Places': 3, 'Topics': 4}, {'Exchanges': 0, 'Organizations': 1, 'Peoples': 2, 'Places': 3, 'Topics': 4}, {'Organizations': 0, 'Exchanges': 1, 'Peoples': 2, 'Places': 3, 'Topics': 4}, {'Exchanges': 0, 'Organizations': 1, 'Peoples': 2, 'Places': 3, 'Topics': 4}, {'Organizations': 0, 'Exchanges': 1, 'Peoples': 2, 'Places': 3, 'Topics': 4}, {'Exchanges': 0, 'Organizations': 1, 'Peoples': 2, 'Places': 3, 'Topics': 4}, {'Organizations': 0, 'Peoples': 1, 'Exchanges': 2, 'Places': 3, 'Topics': 4}, {'Organizations': 0, 'Exchanges': 1, 'Peoples': 2, 'Places': 3, 'Topics': 4}, {'Peoples': 0, 'Exchanges': 1, 'Organizations': 2, 'Places': 3, 'Topics': 4}, {'Exchanges': 0, 'Organizations': 1, 'Peoples': 2, 'Places': 3, 'Topics': 4}, {'Exchanges': 0, 'Organizations': 1, 'Peoples': 2, 'Places': 3, 'Topics': 4}, {'Exchanges': 0, 'Organizations': 1, 'Peoples': 2, 'Places': 3, 'Topics': 4}, {'Exchanges': 0, 'Organizations': 1, 'Peoples': 2, 'Places': 3, 'Topics': 4}, {'Exchanges': 0, 'Organizations': 1, 'Peoples': 2, 'Places': 3, 'Topics': 4}, {'Organizations': 0, 'Peoples': 1, 'Exchanges': 2, 'Places': 3, 'Topics': 4}, {'Organizations': 0, 'Peoples': 1, 'Places': 2, 'Exchanges': 3, 'Topics': 4}, {'Organizations': 0, 'Exchanges': 1, 'Peoples': 2, 'Places': 3, 'Topics': 4}, {'Organizations': 0, 'Exchanges': 1, 'Peoples': 2, 'Places': 3, 'Topics': 4}, {'Peoples': 0, 'Organizations': 1, 'Exchanges': 2, 'Places': 3, 'Topics': 4}, {'Exchanges': 0, 'Organizations': 1, 'Peoples': 2, 'Places': 3, 'Topics': 4}, {'Organizations': 0, 'Exchanges': 1, 'Places': 2, 'Peoples': 3, 'Topics': 4}, {'Organizations': 0, 'Peoples': 1, 'Exchanges': 2, 'Places': 3, 'Topics': 4}, {'Exchanges': 0, 'Organizations': 1, 'Peoples': 2, 'Places': 3, 'Topics': 4}, {'Exchanges': 0, 'Organizations': 1, 'Places': 2, 'Peoples': 3, 'Topics': 4}, {'Exchanges': 0, 'Organizations': 1, 'Peoples': 2, 'Places': 3, 'Topics': 4}, {'Exchanges': 0, 'Organizations': 1, 'Peoples': 2, 'Places': 3, 'Topics': 4}, {'Organizations': 0, 'Peoples': 1, 'Exchanges': 2, 'Places': 3, 'Topics': 4}, {'Exchanges': 0, 'Organizations': 1, 'Peoples': 2, 'Places': 3, 'Topics': 4}, {'Exchanges': 0, 'Organizations': 1, 'Peoples': 2, 'Places': 3, 'Topics': 4}, {'Organizations': 0, 'Exchanges': 1, 'Peoples': 2, 'Places': 3, 'Topics': 4}, {'Exchanges': 0, 'Organizations': 1, 'Peoples': 2, 'Places': 3, 'Topics': 4}, {'Exchanges': 0, 'Organizations': 1, 'Peoples': 2, 'Places': 3, 'Topics': 4}, {'Exchanges': 0, 'Organizations': 1, 'Peoples': 2, 'Places': 3, 'Topics': 4}, {'Exchanges': 0, 'Organizations': 1, 'Peoples': 2, 'Places': 3, 'Topics': 4}, {'Exchanges': 0, 'Organizations': 1, 'Peoples': 2, 'Places': 3, 'Topics': 4}, {'Exchanges': 0, 'Peoples': 1, 'Organizations': 2, 'Places': 3, 'Topics': 4}, {'Organizations': 0, 'Exchanges': 1, 'Peoples': 2, 'Places': 3, 'Topics': 4}, {'Exchanges': 0, 'Organizations': 1, 'Peoples': 2, 'Places': 3, 'Topics': 4}, {'Organizations': 0, 'Exchanges': 1, 'Peoples': 2, 'Places': 3, 'Topics': 4}, {'Organizations': 0, 'Exchanges': 1, 'Peoples': 2, 'Places': 3, 'Topics': 4}, {'Organizations': 0, 'Exchanges': 1, 'Peoples': 2, 'Places': 3, 'Topics': 4}, {'Exchanges': 0, 'Organizations': 1, 'Peoples': 2, 'Places': 3, 'Topics': 4}, {'Peoples': 0, 'Exchanges': 1, 'Organizations': 2, 'Places': 3, 'Topics': 4}, {'Exchanges': 0, 'Peoples': 1, 'Organizations': 2, 'Places': 3, 'Topics': 4}, {'Exchanges': 0, 'Organizations': 1, 'Peoples': 2, 'Places': 3, 'Topics': 4}, {'Organizations': 0, 'Exchanges': 1, 'Peoples': 2, 'Places': 3, 'Topics': 4}, {'Organizations': 0, 'Exchanges': 1, 'Peoples': 2, 'Places': 3, 'Topics': 4}, {'Exchanges': 0, 'Organizations': 1, 'Peoples': 2, 'Places': 3, 'Topics': 4}, {'Organizations': 0, 'Peoples': 1, 'Exchanges': 2, 'Places': 3, 'Topics': 4}, {'Organizations': 0, 'Exchanges': 1, 'Peoples': 2, 'Places': 3, 'Topics': 4}, {'Exchanges': 0, 'Organizations': 1, 'Peoples': 2, 'Places': 3, 'Topics': 4}, {'Exchanges': 0, 'Organizations': 1, 'Peoples': 2, 'Places': 3, 'Topics': 4}, {'Exchanges': 0, 'Organizations': 1, 'Peoples': 2, 'Places': 3, 'Topics': 4}, {'Organizations': 0, 'Peoples': 1, 'Exchanges': 2, 'Places': 3, 'Topics': 4}, {'Organizations': 0, 'Exchanges': 1, 'Peoples': 2, 'Places': 3, 'Topics': 4}, {'Exchanges': 0, 'Organizations': 1, 'Peoples': 2, 'Places': 3, 'Topics': 4}, {'Exchanges': 0, 'Organizations': 1, 'Peoples': 2, 'Places': 3, 'Topics': 4}, {'Organizations': 0, 'Exchanges': 1, 'Peoples': 2, 'Topics': 3, 'Places': 4}, {'Organizations': 0, 'Exchanges': 1, 'Peoples': 2, 'Places': 3, 'Topics': 4}, {'Exchanges': 0, 'Organizations': 1, 'Peoples': 2, 'Places': 3, 'Topics': 4}, {'Exchanges': 0, 'Organizations': 1, 'Peoples': 2, 'Places': 3, 'Topics': 4}, {'Peoples': 0, 'Exchanges': 1, 'Organizations': 2, 'Places': 3, 'Topics': 4}, {'Exchanges': 0, 'Organizations': 1, 'Places': 2, 'Peoples': 3, 'Topics': 4}, {'Exchanges': 0, 'Peoples': 1, 'Organizations': 2, 'Places': 3, 'Topics': 4}, {'Organizations': 0, 'Exchanges': 1, 'Peoples': 2, 'Places': 3, 'Topics': 4}, {'Exchanges': 0, 'Organizations': 1, 'Peoples': 2, 'Places': 3, 'Topics': 4}, {'Organizations': 0, 'Exchanges': 1, 'Peoples': 2, 'Places': 3, 'Topics': 4}, {'Exchanges': 0, 'Organizations': 1, 'Peoples': 2, 'Places': 3, 'Topics': 4}, {'Organizations': 0, 'Exchanges': 1, 'Places': 2, 'Peoples': 3, 'Topics': 4}, {'Peoples': 0, 'Exchanges': 1, 'Organizations': 2, 'Places': 3, 'Topics': 4}, {'Exchanges': 0, 'Organizations': 1, 'Peoples': 2, 'Places': 3, 'Topics': 4}, {'Organizations': 0, 'Exchanges': 1, 'Peoples': 2, 'Places': 3, 'Topics': 4}, {'Exchanges': 0, 'Organizations': 1, 'Peoples': 2, 'Places': 3, 'Topics': 4}, {'Exchanges': 0, 'Organizations': 1, 'Peoples': 2, 'Places': 3, 'Topics': 4}, {'Exchanges': 0, 'Organizations': 1, 'Peoples': 2, 'Places': 3, 'Topics': 4}, {'Organizations': 0, 'Exchanges': 1, 'Peoples': 2, 'Places': 3, 'Topics': 4}, {'Exchanges': 0, 'Organizations': 1, 'Peoples': 2, 'Places': 3, 'Topics': 4}, {'Exchanges': 0, 'Organizations': 1, 'Peoples': 2, 'Places': 3, 'Topics': 4}, {'Organizations': 0, 'Peoples': 1, 'Exchanges': 2, 'Places': 3, 'Topics': 4}, {'Organizations': 0, 'Exchanges': 1, 'Peoples': 2, 'Places': 3, 'Topics': 4}, {'Organizations': 0, 'Peoples': 1, 'Exchanges': 2, 'Places': 3, 'Topics': 4}, {'Organizations': 0, 'Exchanges': 1, 'Peoples': 2, 'Places': 3, 'Topics': 4}, {'Exchanges': 0, 'Organizations': 1, 'Peoples': 2, 'Places': 3, 'Topics': 4}, {'Organizations': 0, 'Exchanges': 1, 'Peoples': 2, 'Places': 3, 'Topics': 4}, {'Exchanges': 0, 'Organizations': 1, 'Peoples': 2, 'Places': 3, 'Topics': 4}, {'Exchanges': 0, 'Organizations': 1, 'Peoples': 2, 'Places': 3, 'Topics': 4}, {'Exchanges': 0, 'Organizations': 1, 'Peoples': 2, 'Places': 3, 'Topics': 4}, {'Exchanges': 0, 'Organizations': 1, 'Peoples': 2, 'Places': 3, 'Topics': 4}, {'Organizations': 0, 'Exchanges': 1, 'Peoples': 2, 'Places': 3, 'Topics': 4}, {'Organizations': 0, 'Peoples': 1, 'Places': 2, 'Exchanges': 3, 'Topics': 4}, {'Organizations': 0, 'Exchanges': 1, 'Peoples': 2, 'Places': 3, 'Topics': 4}, {'Exchanges': 0, 'Peoples': 1, 'Organizations': 2, 'Places': 3, 'Topics': 4}, {'Organizations': 0, 'Exchanges': 1, 'Peoples': 2, 'Places': 3, 'Topics': 4}, {'Organizations': 0, 'Exchanges': 1, 'Peoples': 2, 'Places': 3, 'Topics': 4}, {'Exchanges': 0, 'Organizations': 1, 'Peoples': 2, 'Places': 3, 'Topics': 4}, {'Organizations': 0, 'Exchanges': 1, 'Peoples': 2, 'Places': 3, 'Topics': 4}, {'Exchanges': 0, 'Organizations': 1, 'Peoples': 2, 'Places': 3, 'Topics': 4}, {'Organizations': 0, 'Peoples': 1, 'Places': 2, 'Exchanges': 3, 'Topics': 4}, {'Exchanges': 0, 'Organizations': 1, 'Peoples': 2, 'Places': 3, 'Topics': 4}, {'Organizations': 0, 'Exchanges': 1, 'Peoples': 2, 'Places': 3, 'Topics': 4}, {'Exchanges': 0, 'Peoples': 1, 'Organizations': 2, 'Places': 3, 'Topics': 4}, {'Exchanges': 0, 'Organizations': 1, 'Peoples': 2, 'Places': 3, 'Topics': 4}, {'Organizations': 0, 'Exchanges': 1, 'Peoples': 2, 'Places': 3, 'Topics': 4}, {'Organizations': 0, 'Peoples': 1, 'Places': 2, 'Exchanges': 3, 'Topics': 4}, {'Exchanges': 0, 'Organizations': 1, 'Peoples': 2, 'Places': 3, 'Topics': 4}, {'Exchanges': 0, 'Organizations': 1, 'Peoples': 2, 'Places': 3, 'Topics': 4}, {'Exchanges': 0, 'Organizations': 1, 'Peoples': 2, 'Places': 3, 'Topics': 4}, {'Organizations': 0, 'Exchanges': 1, 'Peoples': 2, 'Places': 3, 'Topics': 4}, {'Exchanges': 0, 'Organizations': 1, 'Peoples': 2, 'Places': 3, 'Topics': 4}, {'Exchanges': 0, 'Organizations': 1, 'Peoples': 2, 'Places': 3, 'Topics': 4}, {'Exchanges': 0, 'Organizations': 1, 'Peoples': 2, 'Places': 3, 'Topics': 4}, {'Exchanges': 0, 'Organizations': 1, 'Peoples': 2, 'Places': 3, 'Topics': 4}, {'Organizations': 0, 'Exchanges': 1, 'Peoples': 2, 'Places': 3, 'Topics': 4}, {'Exchanges': 0, 'Organizations': 1, 'Peoples': 2, 'Places': 3, 'Topics': 4}, {'Organizations': 0, 'Exchanges': 1, 'Peoples': 2, 'Places': 3, 'Topics': 4}, {'Exchanges': 0, 'Organizations': 1, 'Peoples': 2, 'Places': 3, 'Topics': 4}, {'Exchanges': 0, 'Organizations': 1, 'Peoples': 2, 'Places': 3, 'Topics': 4}, {'Exchanges': 0, 'Organizations': 1, 'Peoples': 2, 'Places': 3, 'Topics': 4}, {'Exchanges': 0, 'Organizations': 1, 'Peoples': 2, 'Places': 3, 'Topics': 4}, {'Exchanges': 0, 'Peoples': 1, 'Organizations': 2, 'Places': 3, 'Topics': 4}, {'Organizations': 0, 'Exchanges': 1, 'Peoples': 2, 'Places': 3, 'Topics': 4}, {'Organizations': 0, 'Exchanges': 1, 'Peoples': 2, 'Topics': 3, 'Places': 4}, {'Organizations': 0, 'Peoples': 1, 'Places': 2, 'Exchanges': 3, 'Topics': 4}, {'Exchanges': 0, 'Organizations': 1, 'Peoples': 2, 'Places': 3, 'Topics': 4}, {'Exchanges': 0, 'Organizations': 1, 'Peoples': 2, 'Topics': 3, 'Places': 4}, {'Exchanges': 0, 'Organizations': 1, 'Peoples': 2, 'Places': 3, 'Topics': 4}, {'Organizations': 0, 'Exchanges': 1, 'Peoples': 2, 'Places': 3, 'Topics': 4}, {'Organizations': 0, 'Exchanges': 1, 'Peoples': 2, 'Places': 3, 'Topics': 4}, {'Peoples': 0, 'Organizations': 1, 'Exchanges': 2, 'Places': 3, 'Topics': 4}, {'Peoples': 0, 'Exchanges': 1, 'Organizations': 2, 'Places': 3, 'Topics': 4}, {'Exchanges': 0, 'Organizations': 1, 'Peoples': 2, 'Places': 3, 'Topics': 4}, {'Exchanges': 0, 'Organizations': 1, 'Peoples': 2, 'Places': 3, 'Topics': 4}, {'Exchanges': 0, 'Organizations': 1, 'Peoples': 2, 'Places': 3, 'Topics': 4}, {'Exchanges': 0, 'Organizations': 1, 'Peoples': 2, 'Places': 3, 'Topics': 4}, {'Exchanges': 0, 'Organizations': 1, 'Peoples': 2, 'Places': 3, 'Topics': 4}, {'Organizations': 0, 'Exchanges': 1, 'Peoples': 2, 'Places': 3, 'Topics': 4}, {'Exchanges': 0, 'Organizations': 1, 'Peoples': 2, 'Places': 3, 'Topics': 4}, {'Organizations': 0, 'Exchanges': 1, 'Peoples': 2, 'Places': 3, 'Topics': 4}, {'Organizations': 0, 'Peoples': 1, 'Exchanges': 2, 'Places': 3, 'Topics': 4}, {'Exchanges': 0, 'Organizations': 1, 'Peoples': 2, 'Places': 3, 'Topics': 4}, {'Exchanges': 0, 'Peoples': 1, 'Organizations': 2, 'Places': 3, 'Topics': 4}, {'Exchanges': 0, 'Organizations': 1, 'Peoples': 2, 'Places': 3, 'Topics': 4}, {'Exchanges': 0, 'Organizations': 1, 'Peoples': 2, 'Places': 3, 'Topics': 4}, {'Exchanges': 0, 'Organizations': 1, 'Peoples': 2, 'Places': 3, 'Topics': 4}, {'Peoples': 0, 'Organizations': 1, 'Exchanges': 2, 'Places': 3, 'Topics': 4}, {'Exchanges': 0, 'Organizations': 1, 'Peoples': 2, 'Places': 3, 'Topics': 4}, {'Exchanges': 0, 'Organizations': 1, 'Peoples': 2, 'Places': 3, 'Topics': 4}, {'Organizations': 0, 'Exchanges': 1, 'Peoples': 2, 'Places': 3, 'Topics': 4}, {'Exchanges': 0, 'Organizations': 1, 'Peoples': 2, 'Places': 3, 'Topics': 4}, {'Exchanges': 0, 'Organizations': 1, 'Peoples': 2, 'Places': 3, 'Topics': 4}, {'Organizations': 0, 'Exchanges': 1, 'Peoples': 2, 'Places': 3, 'Topics': 4}, {'Exchanges': 0, 'Organizations': 1, 'Peoples': 2, 'Places': 3, 'Topics': 4}, {'Exchanges': 0, 'Organizations': 1, 'Peoples': 2, 'Places': 3, 'Topics': 4}, {'Exchanges': 0, 'Organizations': 1, 'Peoples': 2, 'Places': 3, 'Topics': 4}, {'Organizations': 0, 'Exchanges': 1, 'Peoples': 2, 'Places': 3, 'Topics': 4}, {'Exchanges': 0, 'Organizations': 1, 'Peoples': 2, 'Places': 3, 'Topics': 4}, {'Organizations': 0, 'Exchanges': 1, 'Peoples': 2, 'Places': 3, 'Topics': 4}, {'Exchanges': 0, 'Organizations': 1, 'Peoples': 2, 'Places': 3, 'Topics': 4}, {'Organizations': 0, 'Exchanges': 1, 'Peoples': 2, 'Places': 3, 'Topics': 4}, {'Organizations': 0, 'Peoples': 1, 'Exchanges': 2, 'Places': 3, 'Topics': 4}, {'Exchanges': 0, 'Organizations': 1, 'Peoples': 2, 'Places': 3, 'Topics': 4}, {'Exchanges': 0, 'Organizations': 1, 'Peoples': 2, 'Places': 3, 'Topics': 4}, {'Organizations': 0, 'Exchanges': 1, 'Peoples': 2, 'Places': 3, 'Topics': 4}, {'Exchanges': 0, 'Organizations': 1, 'Peoples': 2, 'Places': 3, 'Topics': 4}, {'Exchanges': 0, 'Peoples': 1, 'Places': 2, 'Organizations': 3, 'Topics': 4}, {'Exchanges': 0, 'Organizations': 1, 'Peoples': 2, 'Places': 3, 'Topics': 4}, {'Exchanges': 0, 'Organizations': 1, 'Peoples': 2, 'Places': 3, 'Topics': 4}, {'Exchanges': 0, 'Organizations': 1, 'Peoples': 2, 'Places': 3, 'Topics': 4}, {'Exchanges': 0, 'Organizations': 1, 'Peoples': 2, 'Places': 3, 'Topics': 4}, {'Organizations': 0, 'Exchanges': 1, 'Peoples': 2, 'Places': 3, 'Topics': 4}, {'Organizations': 0, 'Exchanges': 1, 'Peoples': 2, 'Places': 3, 'Topics': 4}, {'Exchanges': 0, 'Organizations': 1, 'Peoples': 2, 'Places': 3, 'Topics': 4}, {'Organizations': 0, 'Exchanges': 1, 'Peoples': 2, 'Places': 3, 'Topics': 4}, {'Exchanges': 0, 'Organizations': 1, 'Peoples': 2, 'Places': 3, 'Topics': 4}, {'Organizations': 0, 'Exchanges': 1, 'Peoples': 2, 'Places': 3, 'Topics': 4}, {'Exchanges': 0, 'Organizations': 1, 'Peoples': 2, 'Places': 3, 'Topics': 4}, {'Organizations': 0, 'Exchanges': 1, 'Peoples': 2, 'Places': 3, 'Topics': 4}, {'Exchanges': 0, 'Organizations': 1, 'Peoples': 2, 'Places': 3, 'Topics': 4}, {'Exchanges': 0, 'Organizations': 1, 'Peoples': 2, 'Places': 3, 'Topics': 4}, {'Exchanges': 0, 'Peoples': 1, 'Organizations': 2, 'Places': 3, 'Topics': 4}, {'Exchanges': 0, 'Organizations': 1, 'Peoples': 2, 'Places': 3, 'Topics': 4}, {'Organizations': 0, 'Exchanges': 1, 'Peoples': 2, 'Places': 3, 'Topics': 4}, {'Exchanges': 0, 'Organizations': 1, 'Peoples': 2, 'Places': 3, 'Topics': 4}, {'Exchanges': 0, 'Organizations': 1, 'Peoples': 2, 'Places': 3, 'Topics': 4}, {'Exchanges': 0, 'Organizations': 1, 'Peoples': 2, 'Places': 3, 'Topics': 4}, {'Exchanges': 0, 'Organizations': 1, 'Peoples': 2, 'Places': 3, 'Topics': 4}, {'Exchanges': 0, 'Organizations': 1, 'Peoples': 2, 'Places': 3, 'Topics': 4}, {'Organizations': 0, 'Exchanges': 1, 'Peoples': 2, 'Places': 3, 'Topics': 4}, {'Organizations': 0, 'Peoples': 1, 'Exchanges': 2, 'Places': 3, 'Topics': 4}, {'Exchanges': 0, 'Organizations': 1, 'Peoples': 2, 'Places': 3, 'Topics': 4}, {'Exchanges': 0, 'Organizations': 1, 'Places': 2, 'Peoples': 3, 'Topics': 4}, {'Exchanges': 0, 'Organizations': 1, 'Peoples': 2, 'Places': 3, 'Topics': 4}, {'Exchanges': 0, 'Organizations': 1, 'Peoples': 2, 'Places': 3, 'Topics': 4}, {'Organizations': 0, 'Exchanges': 1, 'Peoples': 2, 'Places': 3, 'Topics': 4}, {'Organizations': 0, 'Peoples': 1, 'Exchanges': 2, 'Places': 3, 'Topics': 4}, {'Organizations': 0, 'Exchanges': 1, 'Peoples': 2, 'Places': 3, 'Topics': 4}, {'Exchanges': 0, 'Peoples': 1, 'Organizations': 2, 'Places': 3, 'Topics': 4}, {'Exchanges': 0, 'Organizations': 1, 'Peoples': 2, 'Places': 3, 'Topics': 4}, {'Exchanges': 0, 'Peoples': 1, 'Organizations': 2, 'Places': 3, 'Topics': 4}, {'Exchanges': 0, 'Organizations': 1, 'Peoples': 2, 'Places': 3, 'Topics': 4}, {'Exchanges': 0, 'Organizations': 1, 'Peoples': 2, 'Places': 3, 'Topics': 4}, {'Organizations': 0, 'Exchanges': 1, 'Peoples': 2, 'Places': 3, 'Topics': 4}, {'Exchanges': 0, 'Peoples': 1, 'Organizations': 2, 'Places': 3, 'Topics': 4}, {'Exchanges': 0, 'Organizations': 1, 'Peoples': 2, 'Places': 3, 'Topics': 4}, {'Exchanges': 0, 'Peoples': 1, 'Organizations': 2, 'Places': 3, 'Topics': 4}, {'Exchanges': 0, 'Organizations': 1, 'Peoples': 2, 'Places': 3, 'Topics': 4}, {'Exchanges': 0, 'Organizations': 1, 'Peoples': 2, 'Places': 3, 'Topics': 4}, {'Exchanges': 0, 'Organizations': 1, 'Peoples': 2, 'Places': 3, 'Topics': 4}, {'Exchanges': 0, 'Organizations': 1, 'Peoples': 2, 'Places': 3, 'Topics': 4}, {'Exchanges': 0, 'Organizations': 1, 'Peoples': 2, 'Places': 3, 'Topics': 4}, {'Organizations': 0, 'Exchanges': 1, 'Peoples': 2, 'Places': 3, 'Topics': 4}, {'Organizations': 0, 'Exchanges': 1, 'Peoples': 2, 'Places': 3, 'Topics': 4}, {'Exchanges': 0, 'Organizations': 1, 'Peoples': 2, 'Places': 3, 'Topics': 4}, {'Organizations': 0, 'Exchanges': 1, 'Peoples': 2, 'Places': 3, 'Topics': 4}, {'Organizations': 0, 'Exchanges': 1, 'Peoples': 2, 'Places': 3, 'Topics': 4}, {'Exchanges': 0, 'Organizations': 1, 'Peoples': 2, 'Places': 3, 'Topics': 4}, {'Exchanges': 0, 'Organizations': 1, 'Peoples': 2, 'Places': 3, 'Topics': 4}, {'Exchanges': 0, 'Organizations': 1, 'Peoples': 2, 'Places': 3, 'Topics': 4}, {'Exchanges': 0, 'Organizations': 1, 'Peoples': 2, 'Topics': 3, 'Places': 4}, {'Organizations': 0, 'Peoples': 1, 'Exchanges': 2, 'Places': 3, 'Topics': 4}, {'Exchanges': 0, 'Organizations': 1, 'Peoples': 2, 'Places': 3, 'Topics': 4}, {'Organizations': 0, 'Exchanges': 1, 'Peoples': 2, 'Places': 3, 'Topics': 4}, {'Exchanges': 0, 'Organizations': 1, 'Peoples': 2, 'Places': 3, 'Topics': 4}, {'Exchanges': 0, 'Organizations': 1, 'Peoples': 2, 'Places': 3, 'Topics': 4}, {'Organizations': 0, 'Peoples': 1, 'Exchanges': 2, 'Places': 3, 'Topics': 4}, {'Exchanges': 0, 'Peoples': 1, 'Organizations': 2, 'Places': 3, 'Topics': 4}, {'Exchanges': 0, 'Organizations': 1, 'Peoples': 2, 'Places': 3, 'Topics': 4}, {'Organizations': 0, 'Exchanges': 1, 'Peoples': 2, 'Places': 3, 'Topics': 4}, {'Organizations': 0, 'Peoples': 1, 'Exchanges': 2, 'Places': 3, 'Topics': 4}, {'Exchanges': 0, 'Peoples': 1, 'Organizations': 2, 'Topics': 3, 'Places': 4}, {'Exchanges': 0, 'Peoples': 1, 'Organizations': 2, 'Places': 3, 'Topics': 4}, {'Exchanges': 0, 'Peoples': 1, 'Organizations': 2, 'Places': 3, 'Topics': 4}, {'Exchanges': 0, 'Organizations': 1, 'Peoples': 2, 'Places': 3, 'Topics': 4}, {'Exchanges': 0, 'Peoples': 1, 'Organizations': 2, 'Places': 3, 'Topics': 4}, {'Exchanges': 0, 'Peoples': 1, 'Organizations': 2, 'Places': 3, 'Topics': 4}, {'Organizations': 0, 'Exchanges': 1, 'Peoples': 2, 'Places': 3, 'Topics': 4}, {'Organizations': 0, 'Peoples': 1, 'Exchanges': 2, 'Places': 3, 'Topics': 4}, {'Organizations': 0, 'Exchanges': 1, 'Peoples': 2, 'Places': 3, 'Topics': 4}, {'Exchanges': 0, 'Organizations': 1, 'Peoples': 2, 'Places': 3, 'Topics': 4}, {'Exchanges': 0, 'Organizations': 1, 'Peoples': 2, 'Places': 3, 'Topics': 4}, {'Peoples': 0, 'Exchanges': 1, 'Organizations': 2, 'Places': 3, 'Topics': 4}, {'Exchanges': 0, 'Organizations': 1, 'Peoples': 2, 'Places': 3, 'Topics': 4}, {'Exchanges': 0, 'Peoples': 1, 'Organizations': 2, 'Places': 3, 'Topics': 4}, {'Organizations': 0, 'Exchanges': 1, 'Peoples': 2, 'Places': 3, 'Topics': 4}, {'Peoples': 0, 'Exchanges': 1, 'Organizations': 2, 'Places': 3, 'Topics': 4}, {'Peoples': 0, 'Exchanges': 1, 'Organizations': 2, 'Places': 3, 'Topics': 4}, {'Organizations': 0, 'Exchanges': 1, 'Peoples': 2, 'Places': 3, 'Topics': 4}, {'Peoples': 0, 'Organizations': 1, 'Places': 2, 'Exchanges': 3, 'Topics': 4}, {'Exchanges': 0, 'Organizations': 1, 'Peoples': 2, 'Places': 3, 'Topics': 4}, {'Exchanges': 0, 'Organizations': 1, 'Peoples': 2, 'Places': 3, 'Topics': 4}, {'Peoples': 0, 'Exchanges': 1, 'Organizations': 2, 'Places': 3, 'Topics': 4}, {'Organizations': 0, 'Peoples': 1, 'Exchanges': 2, 'Places': 3, 'Topics': 4}, {'Exchanges': 0, 'Organizations': 1, 'Peoples': 2, 'Places': 3, 'Topics': 4}, {'Exchanges': 0, 'Organizations': 1, 'Peoples': 2, 'Places': 3, 'Topics': 4}, {'Exchanges': 0, 'Organizations': 1, 'Peoples': 2, 'Places': 3, 'Topics': 4}, {'Organizations': 0, 'Exchanges': 1, 'Peoples': 2, 'Places': 3, 'Topics': 4}, {'Exchanges': 0, 'Organizations': 1, 'Peoples': 2, 'Places': 3, 'Topics': 4}, {'Organizations': 0, 'Peoples': 1, 'Exchanges': 2, 'Places': 3, 'Topics': 4}, {'Exchanges': 0, 'Organizations': 1, 'Peoples': 2, 'Places': 3, 'Topics': 4}, {'Organizations': 0, 'Peoples': 1, 'Exchanges': 2, 'Places': 3, 'Topics': 4}, {'Organizations': 0, 'Exchanges': 1, 'Peoples': 2, 'Places': 3, 'Topics': 4}, {'Exchanges': 0, 'Organizations': 1, 'Peoples': 2, 'Places': 3, 'Topics': 4}, {'Organizations': 0, 'Peoples': 1, 'Exchanges': 2, 'Places': 3, 'Topics': 4}, {'Exchanges': 0, 'Peoples': 1, 'Organizations': 2, 'Places': 3, 'Topics': 4}, {'Exchanges': 0, 'Organizations': 1, 'Peoples': 2, 'Places': 3, 'Topics': 4}, {'Exchanges': 0, 'Organizations': 1, 'Peoples': 2, 'Places': 3, 'Topics': 4}, {'Organizations': 0, 'Peoples': 1, 'Exchanges': 2, 'Places': 3, 'Topics': 4}, {'Organizations': 0, 'Peoples': 1, 'Exchanges': 2, 'Places': 3, 'Topics': 4}, {'Exchanges': 0, 'Peoples': 1, 'Organizations': 2, 'Places': 3, 'Topics': 4}, {'Exchanges': 0, 'Organizations': 1, 'Peoples': 2, 'Places': 3, 'Topics': 4}, {'Peoples': 0, 'Exchanges': 1, 'Organizations': 2, 'Places': 3, 'Topics': 4}, {'Organizations': 0, 'Exchanges': 1, 'Places': 2, 'Peoples': 3, 'Topics': 4}, {'Organizations': 0, 'Exchanges': 1, 'Peoples': 2, 'Places': 3, 'Topics': 4}, {'Exchanges': 0, 'Organizations': 1, 'Peoples': 2, 'Places': 3, 'Topics': 4}, {'Organizations': 0, 'Exchanges': 1, 'Peoples': 2, 'Places': 3, 'Topics': 4}, {'Exchanges': 0, 'Organizations': 1, 'Peoples': 2, 'Places': 3, 'Topics': 4}, {'Exchanges': 0, 'Organizations': 1, 'Peoples': 2, 'Places': 3, 'Topics': 4}, {'Exchanges': 0, 'Peoples': 1, 'Organizations': 2, 'Places': 3, 'Topics': 4}, {'Organizations': 0, 'Exchanges': 1, 'Peoples': 2, 'Places': 3, 'Topics': 4}, {'Exchanges': 0, 'Organizations': 1, 'Peoples': 2, 'Places': 3, 'Topics': 4}, {'Exchanges': 0, 'Organizations': 1, 'Peoples': 2, 'Places': 3, 'Topics': 4}, {'Organizations': 0, 'Exchanges': 1, 'Places': 2, 'Peoples': 3, 'Topics': 4}, {'Peoples': 0, 'Organizations': 1, 'Exchanges': 2, 'Places': 3, 'Topics': 4}, {'Exchanges': 0, 'Peoples': 1, 'Organizations': 2, 'Places': 3, 'Topics': 4}, {'Exchanges': 0, 'Peoples': 1, 'Organizations': 2, 'Places': 3, 'Topics': 4}, {'Exchanges': 0, 'Organizations': 1, 'Peoples': 2, 'Places': 3, 'Topics': 4}, {'Organizations': 0, 'Exchanges': 1, 'Peoples': 2, 'Places': 3, 'Topics': 4}, {'Peoples': 0, 'Exchanges': 1, 'Organizations': 2, 'Places': 3, 'Topics': 4}, {'Peoples': 0, 'Organizations': 1, 'Exchanges': 2, 'Places': 3, 'Topics': 4}, {'Exchanges': 0, 'Organizations': 1, 'Peoples': 2, 'Places': 3, 'Topics': 4}, {'Exchanges': 0, 'Peoples': 1, 'Organizations': 2, 'Places': 3, 'Topics': 4}, {'Organizations': 0, 'Peoples': 1, 'Exchanges': 2, 'Places': 3, 'Topics': 4}, {'Organizations': 0, 'Exchanges': 1, 'Peoples': 2, 'Places': 3, 'Topics': 4}, {'Organizations': 0, 'Peoples': 1, 'Exchanges': 2, 'Places': 3, 'Topics': 4}, {'Exchanges': 0, 'Peoples': 1, 'Organizations': 2, 'Places': 3, 'Topics': 4}, {'Peoples': 0, 'Exchanges': 1, 'Organizations': 2, 'Places': 3, 'Topics': 4}, {'Exchanges': 0, 'Organizations': 1, 'Peoples': 2, 'Places': 3, 'Topics': 4}, {'Organizations': 0, 'Peoples': 1, 'Exchanges': 2, 'Places': 3, 'Topics': 4}, {'Organizations': 0, 'Peoples': 1, 'Exchanges': 2, 'Places': 3, 'Topics': 4}, {'Organizations': 0, 'Peoples': 1, 'Exchanges': 2, 'Places': 3, 'Topics': 4}]\n"
     ]
    }
   ],
   "source": [
    "print(ranked_output)"
   ]
  }
 ],
 "metadata": {
  "kernelspec": {
   "display_name": "Python 3",
   "language": "python",
   "name": "python3"
  },
  "language_info": {
   "codemirror_mode": {
    "name": "ipython",
    "version": 3
   },
   "file_extension": ".py",
   "mimetype": "text/x-python",
   "name": "python",
   "nbconvert_exporter": "python",
   "pygments_lexer": "ipython3",
   "version": "3.6.7"
  }
 },
 "nbformat": 4,
 "nbformat_minor": 2
}
