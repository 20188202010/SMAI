{
  "nbformat": 4,
  "nbformat_minor": 0,
  "metadata": {
    "colab": {
      "name": "Category_ranking_keras_nn.ipynb",
      "version": "0.3.2",
      "provenance": [],
      "collapsed_sections": []
    },
    "language_info": {
      "codemirror_mode": {
        "name": "ipython",
        "version": 2
      },
      "file_extension": ".py",
      "mimetype": "text/x-python",
      "name": "python",
      "nbconvert_exporter": "python",
      "pygments_lexer": "ipython2",
      "version": "2.7.12"
    },
    "kernelspec": {
      "display_name": "Python 2",
      "language": "python",
      "name": "python2"
    }
  },
  "cells": [
    {
      "metadata": {
        "colab_type": "code",
        "id": "4vNE_mnM0jaI",
        "outputId": "94ae5df5-9f79-4b0c-e08d-b8dd1d43e57b",
        "colab": {
          "base_uri": "https://localhost:8080/",
          "height": 124
        }
      },
      "cell_type": "code",
      "source": [
        "#read datafolder from Google Drive\n",
        "from google.colab import drive\n",
        "drive.mount('/content/drive')\n",
        "data_folder = '/content/drive/My Drive/reuters21578/'\n",
        "\n",
        "\n",
        "sgml_number_of_files = 21\n",
        "sgml_file_name_template = 'reut2-NNN.sgm'\n",
        "\n",
        "# Category files\n",
        "category_files = {\n",
        "    'to_': ('Topics', 'all-topics-strings.lc.txt'),\n",
        "    'pl_': ('Places', 'all-places-strings.lc.txt'),\n",
        "    'pe_': ('People', 'all-people-strings.lc.txt'),\n",
        "    'or_': ('Organizations', 'all-orgs-strings.lc.txt'),\n",
        "    'ex_': ('Exchanges', 'all-exchanges-strings.lc.txt')\n",
        "}"
      ],
      "execution_count": 1,
      "outputs": [
        {
          "output_type": "stream",
          "text": [
            "Go to this URL in a browser: https://accounts.google.com/o/oauth2/auth?client_id=947318989803-6bn6qk8qdgf4n4g3pfee6491hc0brc4i.apps.googleusercontent.com&redirect_uri=urn%3Aietf%3Awg%3Aoauth%3A2.0%3Aoob&scope=email%20https%3A%2F%2Fwww.googleapis.com%2Fauth%2Fdocs.test%20https%3A%2F%2Fwww.googleapis.com%2Fauth%2Fdrive%20https%3A%2F%2Fwww.googleapis.com%2Fauth%2Fdrive.photos.readonly%20https%3A%2F%2Fwww.googleapis.com%2Fauth%2Fpeopleapi.readonly&response_type=code\n",
            "\n",
            "Enter your authorization code:\n",
            "··········\n",
            "Mounted at /content/drive\n"
          ],
          "name": "stdout"
        }
      ]
    },
    {
      "metadata": {
        "colab_type": "code",
        "id": "2phRP_vL0jae",
        "colab": {}
      },
      "cell_type": "code",
      "source": [
        "import pandas as pd\n",
        "from nltk.corpus import stopwords\n",
        "from nltk.tokenize import word_tokenize\n",
        "from nltk.stem import WordNetLemmatizer"
      ],
      "execution_count": 0,
      "outputs": []
    },
    {
      "metadata": {
        "colab_type": "code",
        "id": "MsF3Uk8S0jaq",
        "colab": {}
      },
      "cell_type": "code",
      "source": [
        "# Create category dataframe\n",
        "\n",
        "# Read all categories\n",
        "category_data = []\n",
        "category_dictionary={'Topics':[],'Places':[],'People':[],'Organizations':[],'Exchanges':[]}\n",
        "for category_prefix in category_files.keys():\n",
        "    with open(data_folder + category_files[category_prefix][1], 'r') as file:\n",
        "        for category in file.readlines():\n",
        "            category_data.append([category_prefix + category.strip().lower(), \n",
        "                                  category_files[category_prefix][0]])\n",
        "\n",
        "# Create category dataframe\n",
        "for i in category_data:\n",
        "#     print(i[1])\n",
        "    category_dictionary[i[1]].append(i[0].split('_')[1])\n",
        "news_categories = pd.DataFrame(data=category_data)\n",
        "\n",
        "# print \"category_data: \", category_data\n",
        "#(news_categories.values).tolist()"
      ],
      "execution_count": 0,
      "outputs": []
    },
    {
      "metadata": {
        "colab_type": "code",
        "id": "aFMZnuLj0ja6",
        "outputId": "08c052b2-416d-4db5-fd15-ddbd957da0c9",
        "colab": {
          "base_uri": "https://localhost:8080/",
          "height": 86
        }
      },
      "cell_type": "code",
      "source": [
        "import re\n",
        "import xml.sax.saxutils as saxutils\n",
        "from bs4 import BeautifulSoup\n",
        "from keras.preprocessing.text import Tokenizer\n",
        "from keras.preprocessing.sequence import pad_sequences\n",
        "import nltk\n",
        "nltk.download('stopwords')"
      ],
      "execution_count": 4,
      "outputs": [
        {
          "output_type": "stream",
          "text": [
            "Using TensorFlow backend.\n"
          ],
          "name": "stderr"
        },
        {
          "output_type": "stream",
          "text": [
            "[nltk_data] Downloading package stopwords to /root/nltk_data...\n",
            "[nltk_data]   Unzipping corpora/stopwords.zip.\n"
          ],
          "name": "stdout"
        },
        {
          "output_type": "execute_result",
          "data": {
            "text/plain": [
              "True"
            ]
          },
          "metadata": {
            "tags": []
          },
          "execution_count": 4
        }
      ]
    },
    {
      "metadata": {
        "colab_type": "code",
        "id": "K-9WCTJj0jbK",
        "colab": {}
      },
      "cell_type": "code",
      "source": [
        "lemmatizer = WordNetLemmatizer()\n",
        "\n",
        "REPLACE_BY_SPACE_RE = re.compile('[/(){}\\[\\]\\|@,;\\\\n]')\n",
        "BAD_SYMBOLS_RE = re.compile('[^0-9a-z #+_]')\n",
        "STOPWORDS = set(stopwords.words('english'))\n",
        "\n",
        "def cleanUpSentence(r):#, stop_words = None#\n",
        "    r = r.lower().replace(\"<br />\", \" \")\n",
        "    r = REPLACE_BY_SPACE_RE.sub(' ', r)\n",
        "    r = BAD_SYMBOLS_RE.sub('', r)\n",
        "\n",
        "    r = ' '.join(word for word in r.split() if word not in STOPWORDS)\n",
        "\n",
        "    words = word_tokenize(r)\n",
        "\n",
        "    for w in words:\n",
        "        w = lemmatizer.lemmatize(w)\n",
        "\n",
        "    return r"
      ],
      "execution_count": 0,
      "outputs": []
    },
    {
      "metadata": {
        "colab_type": "code",
        "id": "d8FTMDUo0jbX",
        "colab": {}
      },
      "cell_type": "code",
      "source": [
        "# Parse SGML files\n",
        "def strip_tags(text):\n",
        "    return re.sub('<[^<]+?>', '', text).strip()\n",
        "\n",
        "def unescape(text):\n",
        "    return saxutils.unescape(text)\n",
        "  \n",
        "def makeDict(filename, document_X):\n",
        "  with open(filename, 'rb') as file:\n",
        "\n",
        "    content = BeautifulSoup(file.read().lower(),'html.parser')\n",
        "\n",
        "    for newsline in content('reuters'):\n",
        "      document_categories = []\n",
        "\n",
        "      document_id = newsline['newid']\n",
        "      document_body = strip_tags(str(newsline('text')[0].body)).replace('reuter\\n&#3;', '')\n",
        "      if document_body == 'None':\n",
        "        continue\n",
        "\n",
        "      doc_categories = strip_tags(str(newsline('topics')[0].body))\n",
        "      doc_categories = unescape(doc_categories)\n",
        "\n",
        "      document_body = unescape(document_body)\n",
        "\n",
        "      document_X[document_id] = document_body\n",
        "\n",
        "def readFiles(test_data = False):\n",
        "  document_X = {}\n",
        "  \n",
        "  if test_data == True:\n",
        "    file_name = sgml_file_name_template.replace('NNN', '021')\n",
        "    filename = data_folder + file_name\n",
        "    makeDict(filename, document_X)\n",
        "  else:\n",
        "    for i in range(sgml_number_of_files):\n",
        "      if i < 10:\n",
        "        seq = '00' + str(i)\n",
        "      else:\n",
        "        seq = '0' + str(i)\n",
        "\n",
        "      file_name = sgml_file_name_template.replace('NNN', seq)\n",
        "      print('Reading file: %s' % file_name)\n",
        "      filename = data_folder + file_name\n",
        "      makeDict(filename, document_X)\n",
        "  return document_X\n",
        "\n"
      ],
      "execution_count": 0,
      "outputs": []
    },
    {
      "metadata": {
        "colab_type": "code",
        "id": "KdM_aruT0jbf",
        "outputId": "fc2ba483-e96f-477c-91d5-a0f778b097c0",
        "colab": {
          "base_uri": "https://localhost:8080/",
          "height": 382
        }
      },
      "cell_type": "code",
      "source": [
        "document_X= readFiles()"
      ],
      "execution_count": 7,
      "outputs": [
        {
          "output_type": "stream",
          "text": [
            "Reading file: reut2-000.sgm\n",
            "Reading file: reut2-001.sgm\n",
            "Reading file: reut2-002.sgm\n",
            "Reading file: reut2-003.sgm\n",
            "Reading file: reut2-004.sgm\n",
            "Reading file: reut2-005.sgm\n",
            "Reading file: reut2-006.sgm\n",
            "Reading file: reut2-007.sgm\n",
            "Reading file: reut2-008.sgm\n",
            "Reading file: reut2-009.sgm\n",
            "Reading file: reut2-010.sgm\n",
            "Reading file: reut2-011.sgm\n",
            "Reading file: reut2-012.sgm\n",
            "Reading file: reut2-013.sgm\n",
            "Reading file: reut2-014.sgm\n",
            "Reading file: reut2-015.sgm\n",
            "Reading file: reut2-016.sgm\n",
            "Reading file: reut2-017.sgm\n",
            "Reading file: reut2-018.sgm\n",
            "Reading file: reut2-019.sgm\n",
            "Reading file: reut2-020.sgm\n"
          ],
          "name": "stdout"
        }
      ]
    },
    {
      "metadata": {
        "colab_type": "code",
        "id": "smE_sFwt0jb6",
        "outputId": "d64b7725-7589-4a60-d40a-2e7e4cfc4f17",
        "colab": {
          "base_uri": "https://localhost:8080/",
          "height": 86
        }
      },
      "cell_type": "code",
      "source": [
        "# data preprocessing\n",
        "import numpy as np\n",
        "\n",
        "nltk.download('punkt')\n",
        "nltk.download('wordnet')\n",
        "\n",
        "def create_x_matrix(document_X):\n",
        "    totalX = []\n",
        "    for i, doc in document_X.items():\n",
        "        totalX.append(cleanUpSentence(doc))\n",
        "    max_vocab_size = 200\n",
        "    input_tokenizer = Tokenizer(200)\n",
        "    input_tokenizer.fit_on_texts(totalX)\n",
        "    encoded_docs = input_tokenizer.texts_to_matrix(totalX, mode='count')\n",
        "    return totalX,encoded_docs"
      ],
      "execution_count": 8,
      "outputs": [
        {
          "output_type": "stream",
          "text": [
            "[nltk_data] Downloading package punkt to /root/nltk_data...\n",
            "[nltk_data]   Unzipping tokenizers/punkt.zip.\n",
            "[nltk_data] Downloading package wordnet to /root/nltk_data...\n",
            "[nltk_data]   Unzipping corpora/wordnet.zip.\n"
          ],
          "name": "stdout"
        }
      ]
    },
    {
      "metadata": {
        "colab_type": "code",
        "id": "pmuFLyEf0jcM",
        "colab": {}
      },
      "cell_type": "code",
      "source": [
        "totalX,encoded_docs=create_x_matrix(document_X)"
      ],
      "execution_count": 0,
      "outputs": []
    },
    {
      "metadata": {
        "colab_type": "code",
        "id": "u9y5MsSb0jcs",
        "colab": {}
      },
      "cell_type": "code",
      "source": [
        "#Create one-hot encode\n",
        "def makeOneHotEncoding(totalX):\n",
        "  words_in_body={}\n",
        "\n",
        "  for i in range(len(totalX)):\n",
        "      words=totalX[i].split(' ')\n",
        "      words_in_body[i]=words    \n",
        "\n",
        "  one_hot_label=[]\n",
        "  for key,v in words_in_body.items():\n",
        "      dict_temp={'Topics':0,'Places':0,'People':0,'Exchanges':0,'Organizations':0}\n",
        "      for i in v:\n",
        "          if i in category_dictionary['Topics']:\n",
        "              dict_temp['Topics']+=1\n",
        "          if i in category_dictionary['Places']:\n",
        "              dict_temp['Places']+=1\n",
        "          if i in category_dictionary['People']:\n",
        "              dict_temp['People']+=1\n",
        "          if i in category_dictionary['Exchanges']:\n",
        "              dict_temp['Exchanges']+=1\n",
        "          if i in category_dictionary['Organizations']:\n",
        "              dict_temp['Organizations']+=1\n",
        "\n",
        "      one_hot_label.append(dict_temp)\n",
        "\n",
        "\n",
        "  one_hot_label_list = []\n",
        "  for i in one_hot_label:\n",
        "\n",
        "      one_hot_label_list.append(list(i.values()))\n",
        "  return one_hot_label_list"
      ],
      "execution_count": 0,
      "outputs": []
    },
    {
      "metadata": {
        "colab_type": "code",
        "id": "d5A2em3Qp5op",
        "colab": {}
      },
      "cell_type": "code",
      "source": [
        "one_hot_label_list = makeOneHotEncoding(totalX)"
      ],
      "execution_count": 0,
      "outputs": []
    },
    {
      "metadata": {
        "colab_type": "code",
        "id": "Au-mGTBB0jdD",
        "outputId": "61fd2f70-92ec-43d7-af10-d4552d502f09",
        "colab": {
          "base_uri": "https://localhost:8080/",
          "height": 399
        }
      },
      "cell_type": "code",
      "source": [
        "from keras.models import Sequential\n",
        "from keras.layers import Dense,Flatten, Dropout,Embedding\n",
        "nn = Sequential()\n",
        "max_vocab_size = 200\n",
        "nn.add(Embedding(200, 20, input_length=max_vocab_size))\n",
        "nn.add(Dense(10, activation=\"relu\", input_shape=(max_vocab_size,)))\n",
        "nn.add(Dropout(0.15))\n",
        "nn.add(Flatten())\n",
        "nn.add(Dense(5,activation=\"sigmoid\"))\n",
        "nn.compile(optimizer='adam', loss='binary_crossentropy', metrics=['accuracy'])\n",
        "nn.fit(np.array(encoded_docs), np.array(one_hot_label_list), batch_size=16, epochs=10,\n",
        "          verbose=1, validation_split=0.2)"
      ],
      "execution_count": 40,
      "outputs": [
        {
          "output_type": "stream",
          "text": [
            "Train on 14866 samples, validate on 3717 samples\n",
            "Epoch 1/10\n",
            "14866/14866 [==============================] - 4s 249us/step - loss: -2.4982 - acc: 0.6516 - val_loss: -3.5548 - val_acc: 0.7443\n",
            "Epoch 2/10\n",
            "14866/14866 [==============================] - 3s 228us/step - loss: -4.1297 - acc: 0.7405 - val_loss: -3.8773 - val_acc: 0.7737\n",
            "Epoch 3/10\n",
            "14866/14866 [==============================] - 3s 229us/step - loss: -4.2983 - acc: 0.7555 - val_loss: -3.9567 - val_acc: 0.7624\n",
            "Epoch 4/10\n",
            "14866/14866 [==============================] - 3s 228us/step - loss: -4.3566 - acc: 0.7603 - val_loss: -3.9778 - val_acc: 0.7614\n",
            "Epoch 5/10\n",
            "14866/14866 [==============================] - 4s 238us/step - loss: -4.3979 - acc: 0.7623 - val_loss: -3.9907 - val_acc: 0.7754\n",
            "Epoch 6/10\n",
            "14866/14866 [==============================] - 3s 229us/step - loss: -4.4165 - acc: 0.7659 - val_loss: -4.0179 - val_acc: 0.7732\n",
            "Epoch 7/10\n",
            "14866/14866 [==============================] - 3s 224us/step - loss: -4.4194 - acc: 0.7651 - val_loss: -4.0136 - val_acc: 0.7686\n",
            "Epoch 8/10\n",
            "14866/14866 [==============================] - 3s 225us/step - loss: -4.4436 - acc: 0.7658 - val_loss: -4.0026 - val_acc: 0.7676\n",
            "Epoch 9/10\n",
            "14866/14866 [==============================] - 3s 226us/step - loss: -4.4545 - acc: 0.7675 - val_loss: -4.0285 - val_acc: 0.7775\n",
            "Epoch 10/10\n",
            "14866/14866 [==============================] - 3s 228us/step - loss: -4.4771 - acc: 0.7691 - val_loss: -4.0156 - val_acc: 0.7621\n"
          ],
          "name": "stdout"
        },
        {
          "output_type": "execute_result",
          "data": {
            "text/plain": [
              "<keras.callbacks.History at 0x7f89fe378890>"
            ]
          },
          "metadata": {
            "tags": []
          },
          "execution_count": 40
        }
      ]
    },
    {
      "metadata": {
        "colab_type": "code",
        "id": "P5crb8zK0jdL",
        "colab": {}
      },
      "cell_type": "code",
      "source": [
        "test_document_X = readFiles(test_data=True)"
      ],
      "execution_count": 0,
      "outputs": []
    },
    {
      "metadata": {
        "colab_type": "code",
        "id": "V3rAIuqZ0jdU",
        "colab": {}
      },
      "cell_type": "code",
      "source": [
        "test_total_X,test_encoded_X= create_x_matrix(test_document_X)\n",
        "ground_truth_list = makeOneHotEncoding(test_total_X)\n",
        "y = nn.predict(test_encoded_X)\n"
      ],
      "execution_count": 0,
      "outputs": []
    },
    {
      "metadata": {
        "id": "bOOrLtCiCi0E",
        "colab_type": "code",
        "colab": {}
      },
      "cell_type": "code",
      "source": [
        "def getRankedOutput2(predicted_y):\n",
        "    all_sorted_x = []\n",
        "    for i in predicted_y:\n",
        "        dict_temp={'Topics':i[0],'Places':i[1],'Peoples':i[2],'Exchanges':i[3],'Organizations':i[4]}\n",
        "        sorted_x = sorted(dict_temp.items(), key=lambda kv: kv[1], reverse=True) \n",
        "        all_sorted_x.append(sorted_x)\n",
        "    return all_sorted_x"
      ],
      "execution_count": 0,
      "outputs": []
    },
    {
      "metadata": {
        "id": "Z1iA-FvjCePn",
        "colab_type": "code",
        "colab": {
          "base_uri": "https://localhost:8080/",
          "height": 54
        },
        "outputId": "f9d6cfbe-b3a3-47c7-fdb2-14fccff7b3b8"
      },
      "cell_type": "code",
      "source": [
        "predicted_ranked_output = getRankedOutput2(y)\n",
        "print(predicted_ranked_output)"
      ],
      "execution_count": 39,
      "outputs": [
        {
          "output_type": "stream",
          "text": [
            "[[('Exchanges', 0.99999994), ('Places', 0.9999999), ('Topics', 0.13687712), ('Peoples', 1.1026859e-06), ('Organizations', 0.0)], [('Exchanges', 1.0), ('Places', 1.0), ('Organizations', 0.0005863011), ('Topics', 0.00013530254), ('Peoples', 1.1324883e-06)], [('Places', 1.0), ('Exchanges', 0.9937398), ('Peoples', 0.2191861), ('Organizations', 0.0022704303), ('Topics', 0.0002554357)], [('Places', 1.0), ('Exchanges', 0.9999999), ('Topics', 3.889203e-05), ('Peoples', 1.7881393e-06), ('Organizations', 0.0)], [('Places', 0.9999821), ('Exchanges', 0.99964595), ('Topics', 0.0007568002), ('Peoples', 0.00051769614), ('Organizations', 3.990531e-05)], [('Exchanges', 1.0), ('Places', 1.0), ('Organizations', 0.9999996), ('Topics', 0.0024885833), ('Peoples', 0.0017580688)], [('Places', 1.0), ('Exchanges', 0.9911121), ('Peoples', 0.0015726388), ('Topics', 0.000102996826), ('Organizations', 5.9604645e-08)], [('Topics', 0.99914926), ('Exchanges', 0.97883964), ('Places', 0.59230894), ('Organizations', 0.17719641), ('Peoples', 6.279349e-05)], [('Places', 1.0), ('Exchanges', 0.7849361), ('Organizations', 0.2303243), ('Peoples', 0.0006247461), ('Topics', 0.0)], [('Places', 1.0), ('Exchanges', 0.9999368), ('Topics', 0.0259749), ('Organizations', 0.022500306), ('Peoples', 0.02227676)], [('Peoples', 1.0), ('Places', 0.99994123), ('Exchanges', 0.6845367), ('Organizations', 0.014224529), ('Topics', 1.0430813e-05)], [('Places', 0.94538534), ('Organizations', 5.3048134e-06), ('Exchanges', 5.9604645e-08), ('Topics', 0.0), ('Peoples', 0.0)], [('Places', 0.0010612011), ('Peoples', 2.0861626e-07), ('Organizations', 0.0), ('Topics', 0.0), ('Exchanges', 0.0)], [('Peoples', 0.99997973), ('Exchanges', 0.99914515), ('Places', 0.7132083), ('Organizations', 0.012054473), ('Topics', 0.0)], [('Places', 1.0), ('Exchanges', 0.9985699), ('Peoples', 0.17840892), ('Topics', 1.6391277e-06), ('Organizations', 7.748604e-07)], [('Places', 1.0), ('Peoples', 1.0), ('Exchanges', 0.99999845), ('Topics', 3.889203e-05), ('Organizations', 8.940697e-08)], [('Exchanges', 1.0), ('Places', 0.9999999), ('Organizations', 0.15475237), ('Topics', 0.00032642484), ('Peoples', 1.0222197e-05)], [('Places', 1.0), ('Organizations', 0.0016351342), ('Exchanges', 0.00076907873), ('Peoples', 1.1920929e-07), ('Topics', 0.0)], [('Places', 0.9999722), ('Exchanges', 0.002697289), ('Peoples', 0.0008443296), ('Organizations', 0.00049600005), ('Topics', 0.00044050813)], [('Exchanges', 1.0), ('Places', 1.0), ('Organizations', 0.982047), ('Peoples', 0.045269668), ('Topics', 0.006471783)], [('Organizations', 1.0), ('Exchanges', 1.0), ('Places', 1.0), ('Topics', 0.99856436), ('Peoples', 8.5532665e-06)], [('Places', 0.018606901), ('Organizations', 1.4305115e-06), ('Exchanges', 9.834766e-07), ('Peoples', 8.34465e-07), ('Topics', 1.4901161e-07)], [('Places', 0.99999917), ('Organizations', 0.0007752478), ('Topics', 0.0), ('Exchanges', 0.0), ('Peoples', 0.0)], [('Exchanges', 1.0), ('Places', 0.9998313), ('Topics', 0.99581176), ('Organizations', 0.94709027), ('Peoples', 0.0060539544)], [('Places', 0.30952513), ('Organizations', 8.34465e-07), ('Peoples', 5.364418e-07), ('Topics', 4.7683716e-07), ('Exchanges', 3.5762787e-07)], [('Places', 0.99999666), ('Exchanges', 0.7266574), ('Peoples', 0.003629148), ('Topics', 0.0016471744), ('Organizations', 9.030104e-06)], [('Places', 0.95701367), ('Exchanges', 0.80908775), ('Organizations', 0.055255562), ('Peoples', 0.00042271614), ('Topics', 0.00010514259)], [('Places', 0.0076690614), ('Peoples', 2.3841858e-07), ('Organizations', 8.940697e-08), ('Topics', 0.0), ('Exchanges', 0.0)], [('Places', 0.8526137), ('Organizations', 5.990267e-06), ('Exchanges', 3.2186508e-06), ('Topics', 5.9604645e-08), ('Peoples', 0.0)], [('Places', 0.99902546), ('Exchanges', 0.038812578), ('Peoples', 0.0030032694), ('Topics', 3.9607286e-05), ('Organizations', 0.0)], [('Exchanges', 0.5948895), ('Places', 0.018525034), ('Peoples', 0.0052103996), ('Topics', 3.7014484e-05), ('Organizations', 8.940697e-07)], [('Exchanges', 0.99970496), ('Places', 0.9964051), ('Peoples', 0.0024861395), ('Topics', 0.00042051077), ('Organizations', 0.0002246499)], [('Exchanges', 0.03478557), ('Places', 0.0053706467), ('Peoples', 4.4107437e-06), ('Organizations', 2.5331974e-06), ('Topics', 0.0)], [('Places', 0.9992983), ('Exchanges', 0.9643202), ('Peoples', 0.0031610131), ('Topics', 5.6624413e-06), ('Organizations', 1.4901161e-07)], [('Places', 0.9989115), ('Topics', 0.17251769), ('Exchanges', 0.0092225075), ('Peoples', 0.0050028265), ('Organizations', 0.0013581216)], [('Places', 0.9999999), ('Exchanges', 0.99784416), ('Peoples', 0.5003259), ('Organizations', 0.016538233), ('Topics', 3.0994415e-06)], [('Places', 0.0010421276), ('Organizations', 2.771616e-05), ('Exchanges', 2.3841858e-07), ('Peoples', 2.3841858e-07), ('Topics', 0.0)], [('Places', 0.06304279), ('Organizations', 1.4901161e-07), ('Peoples', 2.9802322e-08), ('Topics', 0.0), ('Exchanges', 0.0)], [('Exchanges', 1.0), ('Places', 0.99999994), ('Organizations', 0.9489223), ('Peoples', 0.0010004938), ('Topics', 5.185604e-05)], [('Places', 0.31281996), ('Organizations', 1.04904175e-05), ('Peoples', 5.632639e-06), ('Exchanges', 3.2782555e-07), ('Topics', 2.9802322e-08)], [('Places', 0.99734235), ('Exchanges', 0.97519803), ('Peoples', 0.14682406), ('Topics', 0.10932702), ('Organizations', 0.0006081462)], [('Places', 1.0), ('Topics', 0.99035186), ('Exchanges', 0.69161844), ('Organizations', 0.027305633), ('Peoples', 4.8190355e-05)], [('Places', 0.76363623), ('Peoples', 0.001796186), ('Topics', 0.00017231703), ('Exchanges', 5.4240227e-06), ('Organizations', 5.9604645e-08)], [('Places', 0.7655717), ('Exchanges', 0.0012555718), ('Topics', 1.1652708e-05), ('Peoples', 5.9604645e-08), ('Organizations', 2.9802322e-08)], [('Places', 1.0), ('Topics', 0.054493695), ('Exchanges', 0.008391857), ('Peoples', 1.6868114e-05), ('Organizations', 3.0398369e-06)], [('Places', 0.06704885), ('Exchanges', 1.0728836e-06), ('Organizations', 9.536743e-07), ('Peoples', 2.9802322e-07), ('Topics', 0.0)], [('Places', 0.9371891), ('Organizations', 6.556511e-06), ('Exchanges', 8.940697e-08), ('Topics', 0.0), ('Peoples', 0.0)], [('Places', 0.02568385), ('Peoples', 8.198619e-05), ('Organizations', 1.9192696e-05), ('Topics', 4.8577785e-06), ('Exchanges', 3.4570694e-06)], [('Places', 0.55361617), ('Topics', 1.2844801e-05), ('Organizations', 8.493662e-06), ('Peoples', 4.887581e-06), ('Exchanges', 1.7881393e-07)], [('Places', 0.0008751452), ('Organizations', 3.5613775e-05), ('Peoples', 9.23872e-07), ('Exchanges', 8.940697e-08), ('Topics', 2.9802322e-08)], [('Places', 0.999998), ('Exchanges', 0.9999598), ('Peoples', 0.0011376143), ('Topics', 2.989173e-05), ('Organizations', 0.0)], [('Places', 0.6267757), ('Peoples', 1.3709068e-06), ('Topics', 5.9604645e-07), ('Exchanges', 4.7683716e-07), ('Organizations', 3.874302e-07)], [('Places', 0.3325456), ('Organizations', 8.881092e-06), ('Peoples', 3.9041042e-06), ('Topics', 0.0), ('Exchanges', 0.0)], [('Places', 0.9583082), ('Exchanges', 0.87615895), ('Topics', 0.010346979), ('Organizations', 8.8870525e-05), ('Peoples', 3.388524e-05)], [('Places', 0.96495086), ('Exchanges', 0.4446947), ('Topics', 0.03266716), ('Peoples', 0.01692319), ('Organizations', 4.7415495e-05)], [('Places', 1.0), ('Exchanges', 0.98574245), ('Peoples', 0.018304437), ('Organizations', 0.000574559), ('Topics', 5.9604645e-08)], [('Peoples', 1.0), ('Places', 0.9507376), ('Exchanges', 0.0121457875), ('Organizations', 0.00016379356), ('Topics', 7.95722e-06)], [('Places', 6.994605e-05), ('Peoples', 6.2584877e-07), ('Organizations', 0.0), ('Topics', 0.0), ('Exchanges', 0.0)], [('Exchanges', 0.7467897), ('Places', 0.010294825), ('Topics', 0.007117778), ('Peoples', 0.0017738044), ('Organizations', 3.6358833e-06)], [('Places', 0.98286307), ('Exchanges', 0.9733887), ('Peoples', 0.0006041527), ('Topics', 0.00016328692), ('Organizations', 6.765127e-06)], [('Places', 0.74526227), ('Topics', 0.10288525), ('Peoples', 0.00415352), ('Exchanges', 0.0003978908), ('Organizations', 3.0696392e-06)], [('Places', 0.99999166), ('Exchanges', 0.9985416), ('Topics', 0.9976957), ('Peoples', 0.0035579205), ('Organizations', 0.000333488)], [('Places', 0.97984445), ('Organizations', 8.6426735e-07), ('Exchanges', 2.9802322e-07), ('Peoples', 1.7881393e-07), ('Topics', 8.940697e-08)], [('Places', 1.0), ('Exchanges', 0.09967804), ('Organizations', 3.1888485e-06), ('Topics', 0.0), ('Peoples', 0.0)], [('Places', 0.04291284), ('Exchanges', 2.4110079e-05), ('Organizations', 3.33786e-06), ('Peoples', 2.861023e-06), ('Topics', 0.0)], [('Places', 1.0), ('Peoples', 1.0), ('Exchanges', 0.99963045), ('Organizations', 2.4735928e-05), ('Topics', 8.34465e-07)], [('Places', 1.0), ('Exchanges', 0.9999988), ('Topics', 2.9444695e-05), ('Organizations', 0.0), ('Peoples', 0.0)], [('Exchanges', 0.99995106), ('Topics', 0.99974525), ('Places', 0.998929), ('Organizations', 0.04859349), ('Peoples', 4.0262938e-05)], [('Places', 0.999347), ('Exchanges', 0.712898), ('Organizations', 0.0053605735), ('Peoples', 1.0341406e-05), ('Topics', 5.096197e-06)], [('Exchanges', 1.0), ('Places', 0.04837802), ('Organizations', 1.0728836e-06), ('Topics', 0.0), ('Peoples', 0.0)], [('Places', 0.9929506), ('Exchanges', 0.12381402), ('Organizations', 5.9604645e-07), ('Topics', 0.0), ('Peoples', 0.0)], [('Places', 1.0), ('Organizations', 0.99997634), ('Exchanges', 0.9643896), ('Topics', 0.5466366), ('Peoples', 0.00040200353)], [('Places', 0.99999535), ('Topics', 0.69734234), ('Exchanges', 0.04151717), ('Peoples', 0.0014202893), ('Organizations', 1.14142895e-05)], [('Exchanges', 1.0), ('Places', 0.9999976), ('Peoples', 3.6656857e-06), ('Topics', 1.7881393e-07), ('Organizations', 2.9802322e-08)], [('Places', 0.9999979), ('Exchanges', 0.9944348), ('Organizations', 0.010938644), ('Topics', 0.00068962574), ('Peoples', 0.00015699863)], [('Organizations', 0.99987566), ('Places', 0.9447789), ('Topics', 0.63104606), ('Exchanges', 0.0076737404), ('Peoples', 2.9802322e-08)], [('Places', 0.86617166), ('Exchanges', 0.04211083), ('Peoples', 0.009483933), ('Topics', 0.0007995665), ('Organizations', 7.414818e-05)], [('Places', 0.0074772835), ('Organizations', 5.9604645e-08), ('Peoples', 2.9802322e-08), ('Topics', 0.0), ('Exchanges', 0.0)], [('Places', 0.951846), ('Organizations', 2.5987625e-05), ('Exchanges', 3.0398369e-06), ('Topics', 0.0), ('Peoples', 0.0)], [('Places', 0.99970305), ('Topics', 0.11338499), ('Exchanges', 0.039273858), ('Organizations', 0.0001284182), ('Peoples', 2.670288e-05)], [('Places', 0.9999522), ('Peoples', 7.802248e-05), ('Exchanges', 2.2947788e-05), ('Topics', 7.748604e-07), ('Organizations', 1.7881393e-07)], [('Places', 0.999998), ('Exchanges', 0.18967775), ('Peoples', 0.005828321), ('Topics', 0.00014680624), ('Organizations', 6.4343214e-05)], [('Places', 0.99924517), ('Exchanges', 0.48040974), ('Organizations', 0.16214797), ('Topics', 0.009613961), ('Peoples', 0.0024885237)], [('Places', 0.9021472), ('Exchanges', 0.023544878), ('Organizations', 0.00014135242), ('Peoples', 6.556511e-07), ('Topics', 8.940697e-08)], [('Places', 1.0), ('Exchanges', 0.9999088), ('Organizations', 0.14651841), ('Topics', 0.00027298927), ('Peoples', 0.0001449287)], [('Places', 1.0), ('Exchanges', 0.94788957), ('Topics', 0.45419556), ('Organizations', 0.00048437715), ('Peoples', 1.1920929e-07)], [('Places', 1.0), ('Exchanges', 0.9999236), ('Topics', 0.0008830428), ('Peoples', 0.00023248792), ('Organizations', 8.940697e-08)], [('Places', 1.0), ('Exchanges', 0.9999914), ('Topics', 0.015170246), ('Organizations', 8.8095665e-05), ('Peoples', 0.0)], [('Organizations', 1.0), ('Places', 1.0), ('Exchanges', 0.9999942), ('Topics', 0.26815152), ('Peoples', 7.301569e-06)], [('Organizations', 1.0), ('Exchanges', 1.0), ('Places', 1.0), ('Topics', 0.99977034), ('Peoples', 1.4901161e-07)], [('Places', 1.0), ('Organizations', 0.5751681), ('Exchanges', 0.011478066), ('Peoples', 0.0002194047), ('Topics', 6.3985586e-05)], [('Places', 0.6288682), ('Peoples', 0.00033676624), ('Topics', 2.8908253e-05), ('Organizations', 2.9802322e-08), ('Exchanges', 0.0)], [('Places', 0.9998028), ('Exchanges', 0.9996047), ('Topics', 0.010534406), ('Peoples', 7.134676e-05), ('Organizations', 1.937151e-06)], [('Places', 1.0), ('Exchanges', 0.9813505), ('Peoples', 0.042876214), ('Organizations', 0.0070565343), ('Topics', 0.0)], [('Places', 0.3115645), ('Exchanges', 0.03399533), ('Topics', 0.00552544), ('Organizations', 8.1181526e-05), ('Peoples', 3.504753e-05)], [('Exchanges', 0.9999787), ('Places', 0.99289846), ('Peoples', 0.001654923), ('Organizations', 0.00022161007), ('Topics', 1.847744e-06)], [('Places', 0.99656355), ('Exchanges', 0.5563873), ('Peoples', 0.0005696416), ('Organizations', 1.013279e-06), ('Topics', 5.364418e-07)], [('Places', 1.0), ('Topics', 0.1338281), ('Exchanges', 0.020783424), ('Organizations', 0.006416142), ('Peoples', 0.0)], [('Places', 0.5045143), ('Exchanges', 0.014048874), ('Topics', 2.8014183e-06), ('Organizations', 0.0), ('Peoples', 0.0)], [('Places', 0.7494943), ('Exchanges', 0.3704033), ('Peoples', 0.07608312), ('Organizations', 0.00012806058), ('Topics', 7.82907e-05)], [('Places', 0.9876313), ('Exchanges', 0.469644), ('Organizations', 0.029250562), ('Peoples', 6.4373016e-06), ('Topics', 1.7285347e-06)], [('Places', 0.73546255), ('Topics', 5.096197e-06), ('Organizations', 2.9802322e-06), ('Exchanges', 1.4007092e-06), ('Peoples', 7.748604e-07)], [('Places', 0.9999924), ('Topics', 0.46724308), ('Organizations', 0.03314933), ('Peoples', 0.019397646), ('Exchanges', 0.017482728)], [('Exchanges', 0.50106966), ('Peoples', 0.032768637), ('Places', 0.018776298), ('Topics', 0.0005247295), ('Organizations', 0.0)], [('Places', 0.999842), ('Peoples', 0.003204286), ('Topics', 0.0019721389), ('Exchanges', 0.0018435717), ('Organizations', 1.3947487e-05)], [('Places', 0.9999999), ('Organizations', 0.9986086), ('Exchanges', 0.99596715), ('Topics', 3.0606985e-05), ('Peoples', 2.3841858e-07)], [('Places', 1.0), ('Organizations', 0.9999975), ('Exchanges', 0.699529), ('Peoples', 0.30128998), ('Topics', 0.025802702)], [('Exchanges', 0.9757317), ('Places', 0.18949187), ('Peoples', 0.0015402436), ('Topics', 7.778406e-06), ('Organizations', 5.990267e-06)], [('Places', 0.9999999), ('Exchanges', 0.99985415), ('Organizations', 0.86633265), ('Topics', 0.008527935), ('Peoples', 0.0024624467)], [('Places', 0.9994426), ('Exchanges', 0.9806214), ('Topics', 0.0065566003), ('Organizations', 0.0031146705), ('Peoples', 0.00076138973)], [('Exchanges', 0.9999973), ('Places', 0.9999573), ('Organizations', 0.019632459), ('Peoples', 7.122755e-06), ('Topics', 2.4735928e-06)], [('Places', 0.9999994), ('Peoples', 0.32797757), ('Exchanges', 0.01703471), ('Topics', 0.000153929), ('Organizations', 6.2584877e-07)], [('Places', 0.9999986), ('Organizations', 0.991184), ('Exchanges', 0.15271515), ('Peoples', 0.002398312), ('Topics', 0.0015106201)], [('Organizations', 1.0), ('Exchanges', 1.0), ('Places', 1.0), ('Topics', 0.0), ('Peoples', 0.0)], [('Places', 0.66693175), ('Exchanges', 0.160418), ('Peoples', 0.010735005), ('Topics', 0.0014740527), ('Organizations', 4.348159e-05)], [('Places', 0.9999997), ('Topics', 1.6510487e-05), ('Exchanges', 9.834766e-07), ('Peoples', 3.2782555e-07), ('Organizations', 2.0861626e-07)], [('Exchanges', 0.998715), ('Places', 0.9973198), ('Peoples', 0.005020052), ('Topics', 0.0033712983), ('Organizations', 1.4305115e-06)], [('Exchanges', 0.99774647), ('Places', 0.99654967), ('Peoples', 0.012793928), ('Organizations', 0.0006477535), ('Topics', 1.0728836e-06)], [('Places', 0.88721955), ('Exchanges', 0.578204), ('Topics', 0.009188324), ('Organizations', 0.0010137856), ('Peoples', 4.029274e-05)], [('Places', 0.0029217005), ('Peoples', 0.00019162893), ('Exchanges', 1.2069941e-05), ('Organizations', 0.0), ('Topics', 0.0)], [('Places', 0.99992067), ('Exchanges', 1.1116266e-05), ('Peoples', 1.1920929e-07), ('Organizations', 0.0), ('Topics', 0.0)], [('Places', 1.0), ('Exchanges', 0.72674704), ('Organizations', 0.012142777), ('Peoples', 6.2584877e-07), ('Topics', 1.1920929e-07)], [('Places', 0.1354602), ('Peoples', 2.682209e-07), ('Topics', 2.3841858e-07), ('Organizations', 5.9604645e-08), ('Exchanges', 0.0)], [('Places', 0.9967114), ('Exchanges', 4.261732e-06), ('Peoples', 3.0100346e-06), ('Topics', 2.026558e-06), ('Organizations', 1.4007092e-06)], [('Peoples', 0.9999999), ('Places', 0.9997754), ('Exchanges', 0.9500358), ('Topics', 3.0696392e-06), ('Organizations', 8.940697e-08)], [('Exchanges', 1.0), ('Places', 1.0), ('Organizations', 0.9204364), ('Topics', 0.0051178336), ('Peoples', 0.0)], [('Places', 0.9998697), ('Exchanges', 0.7853111), ('Topics', 0.67914176), ('Peoples', 0.5517728), ('Organizations', 0.01065141)], [('Exchanges', 1.0), ('Places', 1.0), ('Organizations', 0.0067548156), ('Peoples', 3.7252903e-06), ('Topics', 0.0)], [('Places', 0.6430126), ('Topics', 0.08539632), ('Peoples', 0.0054210722), ('Exchanges', 0.003811121), ('Organizations', 4.23193e-06)], [('Places', 0.99936813), ('Topics', 4.4554472e-05), ('Organizations', 1.1026859e-05), ('Exchanges', 1.9669533e-06), ('Peoples', 3.874302e-07)], [('Exchanges', 0.9504758), ('Places', 0.14052612), ('Topics', 6.112456e-05), ('Peoples', 3.9219856e-05), ('Organizations', 3.5762787e-07)], [('Exchanges', 0.9999361), ('Places', 0.99991614), ('Peoples', 5.018711e-05), ('Topics', 2.9802322e-07), ('Organizations', 0.0)], [('Exchanges', 1.0), ('Places', 1.0), ('Organizations', 0.40054512), ('Topics', 0.0010521114), ('Peoples', 1.5497208e-06)], [('Places', 1.0), ('Exchanges', 0.99998367), ('Organizations', 0.004614949), ('Peoples', 0.0005995929), ('Topics', 3.3915043e-05)], [('Places', 1.0), ('Exchanges', 0.9990214), ('Topics', 0.84243345), ('Peoples', 0.0049494207), ('Organizations', 1.1712313e-05)], [('Places', 1.0), ('Exchanges', 0.99995995), ('Topics', 0.0029952228), ('Peoples', 8.2701445e-05), ('Organizations', 3.33786e-06)], [('Exchanges', 1.0), ('Places', 1.0), ('Organizations', 0.0009584129), ('Peoples', 0.00040602684), ('Topics', 0.0)], [('Exchanges', 1.0), ('Places', 1.0), ('Organizations', 0.9999882), ('Topics', 0.98819137), ('Peoples', 0.11804357)], [('Places', 0.9999997), ('Exchanges', 0.64348876), ('Topics', 0.048344374), ('Peoples', 0.03426999), ('Organizations', 0.00026509166)], [('Organizations', 1.0), ('Places', 1.0), ('Peoples', 0.094555914), ('Exchanges', 0.02391243), ('Topics', 0.0)], [('Places', 0.999878), ('Exchanges', 0.12436667), ('Topics', 0.0018235147), ('Peoples', 0.00015732646), ('Organizations', 2.130866e-05)], [('Places', 0.9965391), ('Exchanges', 0.99044156), ('Organizations', 0.9659424), ('Peoples', 0.00060403347), ('Topics', 4.0650368e-05)], [('Exchanges', 1.0), ('Places', 1.0), ('Organizations', 0.99562216), ('Topics', 0.9396936), ('Peoples', 4.6133995e-05)], [('Places', 0.97691274), ('Exchanges', 0.004575044), ('Topics', 0.0021899045), ('Peoples', 1.7821789e-05), ('Organizations', 1.3202429e-05)], [('Exchanges', 0.99999994), ('Organizations', 0.9999999), ('Places', 0.9999998), ('Peoples', 1.1622906e-06), ('Topics', 0.0)], [('Places', 0.2582175), ('Exchanges', 0.1366257), ('Peoples', 5.2660704e-05), ('Organizations', 1.013279e-06), ('Topics', 5.9604645e-08)], [('Exchanges', 1.0), ('Places', 1.0), ('Peoples', 1.0937452e-05), ('Organizations', 5.364418e-07), ('Topics', 0.0)], [('Places', 0.9999862), ('Peoples', 6.556511e-07), ('Organizations', 0.0), ('Topics', 0.0), ('Exchanges', 0.0)], [('Exchanges', 1.0), ('Places', 0.99961567), ('Topics', 1.937151e-06), ('Peoples', 3.5762787e-07), ('Organizations', 1.1920929e-07)], [('Organizations', 1.0), ('Places', 0.99999875), ('Exchanges', 0.48994964), ('Topics', 0.0007157326), ('Peoples', 2.9057264e-05)], [('Places', 0.9976624), ('Organizations', 0.19731316), ('Exchanges', 0.0011996329), ('Peoples', 0.00023677945), ('Topics', 0.0)], [('Places', 0.99913275), ('Exchanges', 0.9971975), ('Organizations', 0.0038540661), ('Peoples', 0.00016590953), ('Topics', 0.0)], [('Exchanges', 0.9999348), ('Places', 0.99915284), ('Organizations', 1.9460917e-05), ('Peoples', 6.735325e-06), ('Topics', 2.3841858e-07)], [('Exchanges', 1.0), ('Places', 1.0), ('Topics', 0.9999833), ('Peoples', 0.00042250752), ('Organizations', 0.0)], [('Places', 0.9999987), ('Exchanges', 0.9627748), ('Organizations', 0.0002515614), ('Topics', 0.00013530254), ('Peoples', 7.659197e-06)], [('Places', 0.9999958), ('Peoples', 0.009392232), ('Organizations', 6.553531e-05), ('Topics', 0.0), ('Exchanges', 0.0)], [('Exchanges', 1.0), ('Places', 1.0), ('Peoples', 0.99999964), ('Topics', 0.9999943), ('Organizations', 0.36467853)], [('Organizations', 1.0), ('Exchanges', 1.0), ('Places', 1.0), ('Peoples', 0.99628085), ('Topics', 1.1920929e-07)], [('Places', 0.94450986), ('Organizations', 1.6391277e-06), ('Exchanges', 8.940697e-08), ('Topics', 0.0), ('Peoples', 0.0)], [('Places', 1.0), ('Exchanges', 0.58511007), ('Organizations', 0.0029908717), ('Topics', 1.758337e-06), ('Peoples', 5.364418e-07)], [('Places', 0.99990606), ('Exchanges', 0.8651833), ('Peoples', 0.0028608143), ('Organizations', 0.00021618605), ('Topics', 3.015995e-05)], [('Places', 1.0), ('Exchanges', 0.8836218), ('Peoples', 0.0004582405), ('Organizations', 0.00013393164), ('Topics', 5.3942204e-06)], [('Places', 0.99966484), ('Organizations', 2.6136637e-05), ('Exchanges', 2.4408102e-05), ('Topics', 6.2584877e-06), ('Peoples', 7.1525574e-07)], [('Places', 0.9790298), ('Organizations', 2.9802322e-08), ('Topics', 0.0), ('Exchanges', 0.0), ('Peoples', 0.0)], [('Organizations', 1.0), ('Places', 1.0), ('Exchanges', 0.99999774), ('Topics', 0.4626993), ('Peoples', 0.00025203824)], [('Topics', 0.99999905), ('Places', 0.99999607), ('Exchanges', 0.73563457), ('Organizations', 0.062427163), ('Peoples', 0.00019857287)], [('Places', 0.9741652), ('Exchanges', 0.18277186), ('Topics', 0.0006083548), ('Peoples', 0.00042921305), ('Organizations', 4.1484833e-05)], [('Places', 0.93915194), ('Organizations', 5.9604645e-08), ('Topics', 0.0), ('Exchanges', 0.0), ('Peoples', 0.0)], [('Places', 1.0), ('Organizations', 0.08735195), ('Peoples', 0.02575931), ('Exchanges', 0.00012135506), ('Topics', 8.940697e-08)], [('Places', 0.9999809), ('Exchanges', 0.055469662), ('Peoples', 0.00054481626), ('Organizations', 3.5762787e-07), ('Topics', 8.940697e-08)], [('Places', 1.0), ('Exchanges', 0.742488), ('Topics', 0.029788435), ('Peoples', 8.845329e-05), ('Organizations', 2.9802322e-08)], [('Exchanges', 1.0), ('Places', 1.0), ('Topics', 0.00027099252), ('Organizations', 0.0), ('Peoples', 0.0)], [('Places', 0.9993791), ('Organizations', 6.854534e-07), ('Topics', 3.5762787e-07), ('Peoples', 2.9802322e-07), ('Exchanges', 1.1920929e-07)], [('Places', 0.9307978), ('Exchanges', 0.317747), ('Peoples', 0.004517615), ('Topics', 0.00073969364), ('Organizations', 3.874302e-05)], [('Places', 0.9999682), ('Exchanges', 4.7683716e-07), ('Organizations', 2.682209e-07), ('Topics', 2.3841858e-07), ('Peoples', 0.0)], [('Places', 0.9720639), ('Exchanges', 2.413988e-06), ('Peoples', 1.2516975e-06), ('Topics', 1.1920929e-07), ('Organizations', 5.9604645e-08)], [('Places', 0.9999988), ('Peoples', 0.9999931), ('Exchanges', 0.9999929), ('Organizations', 0.9997668), ('Topics', 0.0012867749)], [('Topics', 0.9999969), ('Places', 0.99376583), ('Exchanges', 0.14077821), ('Peoples', 0.0009189844), ('Organizations', 3.2484531e-06)], [('Places', 0.016833127), ('Peoples', 5.364418e-07), ('Organizations', 1.1920929e-07), ('Topics', 0.0), ('Exchanges', 0.0)], [('Places', 0.58575547), ('Exchanges', 3.5762787e-07), ('Peoples', 2.9802322e-07), ('Organizations', 1.1920929e-07), ('Topics', 0.0)], [('Places', 0.99573725), ('Exchanges', 0.22556403), ('Topics', 0.0047697127), ('Peoples', 0.00072801113), ('Organizations', 0.00063622)], [('Places', 0.9999137), ('Exchanges', 0.9756516), ('Peoples', 0.0052365363), ('Topics', 1.2308359e-05), ('Organizations', 2.9802322e-08)], [('Exchanges', 1.0), ('Places', 0.9998192), ('Organizations', 1.6093254e-06), ('Topics', 5.9604645e-08), ('Peoples', 5.9604645e-08)], [('Places', 0.95573807), ('Organizations', 0.0027833283), ('Topics', 3.4958124e-05), ('Exchanges', 2.926588e-05), ('Peoples', 3.7550926e-06)], [('Places', 0.042005807), ('Exchanges', 7.3969364e-05), ('Peoples', 6.2584877e-07), ('Organizations', 1.1920929e-07), ('Topics', 0.0)], [('Places', 0.99999976), ('Topics', 0.98397994), ('Exchanges', 0.9702767), ('Peoples', 0.00021398067), ('Organizations', 5.90086e-06)], [('Places', 0.9993105), ('Topics', 4.8577785e-06), ('Peoples', 7.748604e-07), ('Exchanges', 8.940697e-08), ('Organizations', 0.0)], [('Places', 0.2565208), ('Organizations', 0.00012370944), ('Topics', 0.0), ('Exchanges', 0.0), ('Peoples', 0.0)], [('Places', 1.0), ('Exchanges', 0.9999964), ('Topics', 0.10400149), ('Peoples', 0.027692646), ('Organizations', 0.0012430251)], [('Peoples', 0.9999875), ('Places', 0.9999002), ('Exchanges', 0.70072854), ('Topics', 5.841255e-06), ('Organizations', 8.940697e-08)], [('Places', 1.0), ('Organizations', 0.047981948), ('Exchanges', 0.016444057), ('Peoples', 0.00827834), ('Topics', 2.9802322e-06)], [('Places', 0.934625), ('Exchanges', 0.3961136), ('Topics', 0.002344668), ('Peoples', 0.00083333254), ('Organizations', 2.8550625e-05)], [('Places', 0.99999005), ('Exchanges', 0.999652), ('Organizations', 0.88167787), ('Peoples', 0.00039118528), ('Topics', 0.00019070506)], [('Exchanges', 0.99999917), ('Places', 0.99990624), ('Topics', 0.021142632), ('Peoples', 5.632639e-06), ('Organizations', 1.2516975e-06)], [('Places', 0.99999905), ('Peoples', 0.99536407), ('Exchanges', 0.001270622), ('Organizations', 1.3113022e-06), ('Topics', 0.0)], [('Places', 0.99999976), ('Peoples', 0.99999934), ('Exchanges', 0.9201026), ('Organizations', 0.00022882223), ('Topics', 7.4505806e-06)], [('Places', 1.0), ('Organizations', 0.0008137822), ('Exchanges', 0.00027441978), ('Topics', 0.0), ('Peoples', 0.0)], [('Places', 0.99998015), ('Organizations', 0.0031688511), ('Exchanges', 1.1920929e-07), ('Topics', 0.0), ('Peoples', 0.0)], [('Exchanges', 0.9999852), ('Places', 0.9990755), ('Peoples', 0.00075891614), ('Topics', 4.0620565e-05), ('Organizations', 0.0)], [('Places', 1.0), ('Exchanges', 0.9992455), ('Peoples', 0.0026332438), ('Organizations', 0.00047671795), ('Topics', 6.0081482e-05)], [('Exchanges', 1.0), ('Places', 1.0), ('Peoples', 1.0), ('Topics', 0.36105236), ('Organizations', 0.0)], [('Places', 0.99998856), ('Exchanges', 0.5285362), ('Peoples', 2.682209e-06), ('Organizations', 5.9604645e-08), ('Topics', 0.0)], [('Places', 0.09631023), ('Peoples', 1.7017126e-05), ('Exchanges', 3.9041042e-06), ('Organizations', 5.662441e-07), ('Topics', 0.0)], [('Organizations', 1.0), ('Places', 1.0), ('Topics', 0.9999996), ('Exchanges', 0.99972516), ('Peoples', 0.013841867)], [('Places', 0.9999472), ('Exchanges', 0.9960882), ('Peoples', 0.00019970536), ('Organizations', 5.13494e-05), ('Topics', 1.2397766e-05)], [('Places', 0.9999996), ('Exchanges', 0.98795426), ('Peoples', 0.004045129), ('Topics', 0.00012665987), ('Organizations', 3.33786e-06)], [('Places', 1.0), ('Exchanges', 0.015368521), ('Topics', 0.0014976859), ('Peoples', 0.00037679076), ('Organizations', 3.7431717e-05)], [('Exchanges', 1.0), ('Places', 1.0), ('Organizations', 0.9999999), ('Topics', 0.42828584), ('Peoples', 1.6093254e-06)], [('Places', 1.0), ('Peoples', 0.9999999), ('Exchanges', 0.99999845), ('Topics', 0.9970989), ('Organizations', 0.036342084)], [('Places', 1.0), ('Exchanges', 0.99997723), ('Organizations', 0.0026012957), ('Topics', 0.0024358928), ('Peoples', 5.066395e-06)], [('Exchanges', 1.0), ('Places', 1.0), ('Organizations', 0.99936014), ('Topics', 0.58025336), ('Peoples', 0.0)], [('Places', 1.0), ('Exchanges', 0.9976058), ('Organizations', 0.9924071), ('Topics', 0.002339065), ('Peoples', 0.0007606745)], [('Places', 0.9999995), ('Exchanges', 0.042939812), ('Topics', 0.0023455322), ('Peoples', 0.0006197095), ('Organizations', 0.00015562773)], [('Places', 0.9670764), ('Exchanges', 0.4142142), ('Peoples', 0.065033704), ('Topics', 9.790063e-05), ('Organizations', 1.1771917e-05)], [('Places', 0.99569774), ('Exchanges', 0.9072177), ('Peoples', 0.00022158027), ('Topics', 5.6922436e-06), ('Organizations', 5.9604645e-08)], [('Exchanges', 1.0), ('Places', 1.0), ('Organizations', 0.99999976), ('Peoples', 8.225441e-06), ('Topics', 3.3676624e-06)], [('Places', 1.0), ('Exchanges', 0.9979471), ('Peoples', 0.00058692694), ('Organizations', 1.937151e-06), ('Topics', 1.5497208e-06)], [('Places', 0.9995342), ('Exchanges', 0.9213392), ('Organizations', 0.0002117455), ('Peoples', 2.0802021e-05), ('Topics', 1.5586615e-05)], [('Places', 0.9999893), ('Exchanges', 4.2021275e-06), ('Peoples', 2.9802322e-07), ('Organizations', 0.0), ('Topics', 0.0)], [('Places', 0.9999995), ('Exchanges', 0.001660645), ('Organizations', 3.373623e-05), ('Topics', 4.7683716e-06), ('Peoples', 6.2584877e-07)], [('Places', 0.9906193), ('Exchanges', 0.012293786), ('Topics', 0.0060221255), ('Peoples', 0.0011201799), ('Organizations', 6.3717365e-05)], [('Places', 0.06221801), ('Topics', 3.5762787e-06), ('Peoples', 2.682209e-07), ('Organizations', 5.9604645e-08), ('Exchanges', 0.0)], [('Places', 0.99999976), ('Exchanges', 0.9999965), ('Peoples', 3.7133694e-05), ('Organizations', 5.9604645e-08), ('Topics', 0.0)], [('Places', 0.4145892), ('Topics', 2.1755695e-06), ('Organizations', 1.4305115e-06), ('Exchanges', 3.5762787e-07), ('Peoples', 5.9604645e-08)], [('Exchanges', 0.97348917), ('Places', 0.85954016), ('Topics', 0.51167583), ('Peoples', 0.001196295), ('Organizations', 5.8233738e-05)], [('Exchanges', 0.30959296), ('Places', 0.013819903), ('Topics', 0.0011331141), ('Organizations', 0.00030493736), ('Peoples', 2.4348497e-05)], [('Places', 0.9999729), ('Organizations', 0.99977994), ('Peoples', 0.6812143), ('Exchanges', 0.08334723), ('Topics', 1.13248825e-05)], [('Peoples', 0.99999976), ('Places', 0.98227954), ('Exchanges', 0.13994363), ('Organizations', 0.00029984117), ('Topics', 0.0)], [('Places', 0.17693898), ('Exchanges', 4.5210123e-05), ('Topics', 1.552701e-05), ('Peoples', 1.8775463e-06), ('Organizations', 2.9802322e-08)], [('Exchanges', 0.99999917), ('Places', 0.9982877), ('Topics', 3.606081e-06), ('Peoples', 1.7881393e-07), ('Organizations', 0.0)], [('Places', 0.9972653), ('Exchanges', 0.9938365), ('Peoples', 0.00230968), ('Organizations', 0.00134027), ('Topics', 0.00010764599)], [('Places', 0.40094632), ('Peoples', 0.00011393428), ('Topics', 5.5998564e-05), ('Exchanges', 1.7285347e-06), ('Organizations', 1.4901161e-07)], [('Places', 0.956831), ('Topics', 0.021590918), ('Peoples', 0.00838241), ('Exchanges', 0.00033926964), ('Organizations', 1.4901161e-06)], [('Places', 0.9969566), ('Peoples', 0.0055225194), ('Topics', 0.0006996393), ('Organizations', 0.00026792288), ('Exchanges', 0.00015062094)], [('Places', 0.68506646), ('Peoples', 0.0004852414), ('Topics', 2.9861927e-05), ('Exchanges', 9.23872e-07), ('Organizations', 0.0)], [('Places', 0.85637397), ('Topics', 0.0023062825), ('Exchanges', 0.00063091516), ('Peoples', 0.00034067035), ('Organizations', 3.1590462e-06)], [('Places', 0.99611574), ('Exchanges', 0.8616603), ('Organizations', 0.0020028055), ('Peoples', 8.59797e-05), ('Topics', 8.571148e-05)], [('Exchanges', 0.99681085), ('Places', 0.94003546), ('Peoples', 0.010638237), ('Topics', 0.0021810234), ('Organizations', 1.0073185e-05)], [('Places', 0.9999696), ('Exchanges', 0.6961408), ('Peoples', 9.149313e-05), ('Organizations', 3.9964914e-05), ('Topics', 8.6426735e-06)], [('Places', 0.9862629), ('Exchanges', 6.556511e-06), ('Organizations', 1.4901161e-07), ('Topics', 5.9604645e-08), ('Peoples', 5.9604645e-08)], [('Places', 0.9999997), ('Organizations', 8.6426735e-07), ('Peoples', 3.5762787e-07), ('Exchanges', 5.9604645e-08), ('Topics', 0.0)], [('Exchanges', 1.0), ('Places', 1.0), ('Organizations', 0.98897636), ('Topics', 0.681556), ('Peoples', 5.066395e-07)], [('Exchanges', 1.0), ('Places', 1.0), ('Organizations', 0.056245416), ('Topics', 0.00022515655), ('Peoples', 2.5331974e-06)], [('Places', 0.95628107), ('Topics', 0.00036659837), ('Exchanges', 5.066395e-07), ('Peoples', 4.4703484e-07), ('Organizations', 0.0)], [('Places', 0.9995967), ('Exchanges', 0.20398918), ('Peoples', 0.024695784), ('Topics', 0.0001296103), ('Organizations', 1.0758638e-05)], [('Places', 0.9999919), ('Organizations', 0.091425925), ('Exchanges', 0.06512505), ('Peoples', 0.002189964), ('Topics', 0.00033047795)], [('Exchanges', 0.9999987), ('Places', 0.10926065), ('Organizations', 0.00089484453), ('Topics', 0.00024583936), ('Peoples', 1.4156103e-05)], [('Places', 0.9999778), ('Topics', 0.005060315), ('Peoples', 0.00093489885), ('Exchanges', 5.4836273e-06), ('Organizations', 1.5497208e-06)], [('Exchanges', 1.0), ('Places', 1.0), ('Organizations', 0.99994004), ('Topics', 0.0), ('Peoples', 0.0)], [('Places', 0.95033616), ('Exchanges', 0.74596834), ('Peoples', 0.0006606877), ('Topics', 4.3958426e-05), ('Organizations', 1.4394522e-05)], [('Places', 1.0), ('Exchanges', 0.9999907), ('Topics', 0.39611325), ('Peoples', 1.7881393e-07), ('Organizations', 0.0)], [('Places', 0.99673927), ('Exchanges', 0.05618283), ('Organizations', 9.36985e-05), ('Peoples', 3.4570694e-06), ('Topics', 2.026558e-06)], [('Places', 0.8076331), ('Exchanges', 2.115965e-06), ('Peoples', 8.940697e-08), ('Organizations', 0.0), ('Topics', 0.0)], [('Places', 0.9999913), ('Exchanges', 1.9669533e-06), ('Topics', 6.2584877e-07), ('Peoples', 1.7881393e-07), ('Organizations', 0.0)], [('Peoples', 0.99990344), ('Places', 0.024925321), ('Exchanges', 0.015036374), ('Organizations', 0.0), ('Topics', 0.0)], [('Exchanges', 1.0), ('Places', 1.0), ('Organizations', 0.034036458), ('Topics', 0.0), ('Peoples', 0.0)], [('Places', 0.9999994), ('Exchanges', 0.24414602), ('Topics', 0.00033646822), ('Organizations', 0.00019320846), ('Peoples', 3.963709e-06)], [('Places', 0.99958557), ('Topics', 0.00016847253), ('Organizations', 8.457899e-05), ('Exchanges', 4.887581e-06), ('Peoples', 5.9604645e-08)], [('Places', 0.99998707), ('Organizations', 0.0034902394), ('Exchanges', 0.0001231134), ('Topics', 3.2782555e-07), ('Peoples', 5.9604645e-08)], [('Exchanges', 1.0), ('Places', 1.0), ('Organizations', 0.9671588), ('Topics', 8.940697e-08), ('Peoples', 8.940697e-08)], [('Exchanges', 0.9999915), ('Places', 0.7358201), ('Peoples', 0.003977865), ('Topics', 0.0010730326), ('Organizations', 5.662441e-07)], [('Places', 1.0), ('Exchanges', 0.9818971), ('Organizations', 0.28500634), ('Peoples', 0.05793941), ('Topics', 0.00038328767)], [('Peoples', 0.9999875), ('Places', 0.9999002), ('Exchanges', 0.70072854), ('Topics', 5.841255e-06), ('Organizations', 8.940697e-08)], [('Places', 0.984198), ('Organizations', 8.940697e-08), ('Topics', 0.0), ('Exchanges', 0.0), ('Peoples', 0.0)], [('Places', 0.9998065), ('Exchanges', 0.0044287145), ('Peoples', 0.0013920069), ('Topics', 1.579523e-05), ('Organizations', 2.3841858e-07)], [('Places', 1.0), ('Peoples', 1.0), ('Exchanges', 0.9909738), ('Organizations', 0.008370131), ('Topics', 2.9206276e-06)], [('Topics', 1.0), ('Exchanges', 0.9971725), ('Places', 0.9927118), ('Peoples', 0.00017493963), ('Organizations', 4.172325e-06)], [('Places', 0.5373499), ('Exchanges', 0.006552547), ('Peoples', 0.00054466724), ('Organizations', 1.0311604e-05), ('Topics', 1.8179417e-06)], [('Exchanges', 0.9999995), ('Places', 0.9999123), ('Topics', 0.010198027), ('Organizations', 0.00027048588), ('Peoples', 3.5762787e-07)], [('Exchanges', 1.0), ('Places', 1.0), ('Peoples', 0.4631602), ('Topics', 0.041341305), ('Organizations', 0.00038719177)], [('Organizations', 1.0), ('Places', 0.9999997), ('Exchanges', 0.962541), ('Topics', 0.0014960468), ('Peoples', 0.00034579635)], [('Exchanges', 1.0), ('Places', 0.9943299), ('Organizations', 0.014136493), ('Topics', 2.6583672e-05), ('Peoples', 1.013279e-06)], [('Places', 0.99999464), ('Exchanges', 0.8323003), ('Peoples', 0.0013890564), ('Topics', 0.0008122623), ('Organizations', 1.9937754e-05)], [('Places', 1.0), ('Exchanges', 0.99185014), ('Organizations', 0.041987866), ('Topics', 4.673004e-05), ('Peoples', 1.7881393e-07)], [('Exchanges', 0.9999949), ('Places', 0.99995005), ('Organizations', 0.9996763), ('Topics', 0.004401475), ('Peoples', 0.00045877695)], [('Places', 0.9985403), ('Exchanges', 0.009031296), ('Topics', 0.00050482154), ('Peoples', 4.082918e-06), ('Organizations', 5.364418e-07)], [('Places', 0.6907692), ('Topics', 1.4305115e-06), ('Peoples', 2.682209e-07), ('Organizations', 0.0), ('Exchanges', 0.0)], [('Places', 1.0), ('Peoples', 0.99999726), ('Exchanges', 0.99989426), ('Organizations', 0.88152015), ('Topics', 2.9802322e-08)], [('Places', 0.00022315979), ('Organizations', 2.3245811e-06), ('Peoples', 8.940697e-08), ('Topics', 0.0), ('Exchanges', 0.0)], [('Places', 1.0), ('Exchanges', 0.99704057), ('Organizations', 0.34072095), ('Peoples', 0.003633082), ('Topics', 0.002567649)], [('Places', 0.999643), ('Exchanges', 0.21396524), ('Peoples', 4.7683716e-06), ('Topics', 1.4901161e-07), ('Organizations', 1.1920929e-07)], [('Places', 0.99968183), ('Peoples', 0.99893296), ('Exchanges', 0.7905917), ('Topics', 1.8179417e-06), ('Organizations', 0.0)], [('Places', 0.999987), ('Exchanges', 0.73843837), ('Organizations', 0.0038508475), ('Topics', 0.0019213855), ('Peoples', 7.4505806e-06)], [('Places', 0.9986276), ('Exchanges', 0.055099875), ('Peoples', 0.00062170625), ('Topics', 7.593632e-05), ('Organizations', 5.9604645e-08)], [('Exchanges', 0.97822666), ('Places', 0.21278167), ('Organizations', 0.009083837), ('Peoples', 0.0013257861), ('Topics', 0.00020828843)], [('Organizations', 0.99998903), ('Places', 0.99976754), ('Exchanges', 0.9889748), ('Peoples', 0.2725495), ('Topics', 0.009947091)], [('Places', 1.0), ('Exchanges', 0.99999976), ('Peoples', 0.0012257993), ('Organizations', 0.0001309812), ('Topics', 1.8447638e-05)], [('Places', 0.99999833), ('Exchanges', 0.56737787), ('Peoples', 0.0012593269), ('Topics', 0.0002425909), ('Organizations', 8.7320805e-05)], [('Topics', 0.9999484), ('Places', 0.5809759), ('Organizations', 0.0051221848), ('Exchanges', 0.0006277561), ('Peoples', 2.9802322e-08)], [('Places', 0.99947834), ('Organizations', 0.0022016466), ('Exchanges', 2.9861927e-05), ('Peoples', 2.9802322e-07), ('Topics', 0.0)], [('Places', 0.99975276), ('Organizations', 0.002644658), ('Exchanges', 0.0008043051), ('Topics', 0.0), ('Peoples', 0.0)], [('Places', 0.006934762), ('Organizations', 0.0), ('Topics', 0.0), ('Exchanges', 0.0), ('Peoples', 0.0)], [('Places', 0.96534526), ('Exchanges', 0.5159849), ('Topics', 0.016358823), ('Peoples', 0.0005237758), ('Organizations', 0.0)], [('Places', 0.37330267), ('Peoples', 8.940697e-08), ('Organizations', 5.9604645e-08), ('Topics', 0.0), ('Exchanges', 0.0)], [('Places', 1.0), ('Exchanges', 0.9999552), ('Organizations', 0.9206252), ('Peoples', 0.0018635988), ('Topics', 3.7759542e-05)], [('Places', 0.9996877), ('Exchanges', 0.9842983), ('Topics', 3.027916e-05), ('Peoples', 2.3841858e-07), ('Organizations', 0.0)], [('Organizations', 1.0), ('Exchanges', 1.0), ('Places', 1.0), ('Topics', 0.99544764), ('Peoples', 0.0)], [('Places', 0.14374861), ('Exchanges', 0.048407346), ('Peoples', 0.0006401837), ('Topics', 1.6391277e-06), ('Organizations', 0.0)], [('Places', 0.9999989), ('Organizations', 0.002461791), ('Exchanges', 0.00022259355), ('Topics', 0.0), ('Peoples', 0.0)], [('Places', 0.9919909), ('Topics', 3.0726194e-05), ('Exchanges', 6.854534e-07), ('Organizations', 6.2584877e-07), ('Peoples', 5.9604645e-07)], [('Places', 0.39245093), ('Peoples', 3.963709e-06), ('Topics', 1.013279e-06), ('Organizations', 1.7881393e-07), ('Exchanges', 1.7881393e-07)], [('Places', 0.9541384), ('Peoples', 1.013279e-06), ('Organizations', 5.662441e-07), ('Exchanges', 2.3841858e-07), ('Topics', 1.1920929e-07)], [('Places', 0.022356123), ('Topics', 0.0014681816), ('Organizations', 8.8483095e-05), ('Peoples', 8.0406666e-05), ('Exchanges', 4.6938658e-05)], [('Places', 0.7288618), ('Exchanges', 2.413988e-06), ('Topics', 2.682209e-07), ('Organizations', 2.3841858e-07), ('Peoples', 1.4901161e-07)], [('Places', 0.99999654), ('Exchanges', 0.3629698), ('Peoples', 0.040029913), ('Topics', 0.022001565), ('Organizations', 0.0)], [('Places', 1.0), ('Exchanges', 0.9942744), ('Peoples', 0.39769933), ('Organizations', 0.01101166), ('Topics', 5.9604645e-08)], [('Places', 0.99581164), ('Exchanges', 0.009599894), ('Topics', 0.0009005368), ('Organizations', 0.0002078712), ('Peoples', 0.00018548965)], [('Places', 0.9998081), ('Topics', 0.0067925155), ('Organizations', 3.874302e-05), ('Peoples', 2.5957823e-05), ('Exchanges', 2.0951033e-05)], [('Places', 0.93556076), ('Exchanges', 0.023227394), ('Peoples', 0.00095543265), ('Topics', 0.00040403008), ('Organizations', 1.4603138e-05)], [('Places', 0.16432902), ('Organizations', 1.013279e-06), ('Exchanges', 9.23872e-07), ('Peoples', 5.9604645e-08), ('Topics', 0.0)], [('Places', 0.9999945), ('Exchanges', 0.97049665), ('Topics', 0.101151586), ('Peoples', 0.009724319), ('Organizations', 0.00012373924)], [('Places', 0.8930127), ('Topics', 0.0007555187), ('Exchanges', 4.440546e-06), ('Peoples', 5.9604645e-08), ('Organizations', 2.9802322e-08)], [('Places', 0.9999999), ('Exchanges', 0.99594414), ('Peoples', 0.0017568469), ('Organizations', 1.04010105e-05), ('Topics', 6.854534e-07)], [('Places', 1.0), ('Exchanges', 0.99999994), ('Peoples', 1.9520521e-05), ('Topics', 2.2649765e-06), ('Organizations', 2.9802322e-08)], [('Places', 1.0), ('Exchanges', 0.9999131), ('Topics', 0.8727657), ('Peoples', 0.00011584163), ('Organizations', 3.5762787e-07)], [('Places', 0.06371686), ('Topics', 0.006175071), ('Peoples', 2.3663044e-05), ('Exchanges', 5.6922436e-06), ('Organizations', 4.798174e-06)], [('Exchanges', 1.0), ('Places', 0.9999999), ('Organizations', 0.047415912), ('Topics', 0.0), ('Peoples', 0.0)], [('Places', 1.0), ('Exchanges', 0.86819875), ('Organizations', 0.35368323), ('Peoples', 0.0014172792), ('Topics', 5.00679e-06)], [('Places', 0.9975598), ('Topics', 0.9946768), ('Exchanges', 0.27094525), ('Peoples', 0.002480358), ('Organizations', 6.854534e-07)], [('Places', 0.99380255), ('Topics', 0.00025597215), ('Exchanges', 1.6331673e-05), ('Peoples', 5.066395e-07), ('Organizations', 2.9802322e-07)], [('Places', 0.1608608), ('Peoples', 0.0005734861), ('Exchanges', 9.834766e-07), ('Organizations', 3.5762787e-07), ('Topics', 0.0)], [('Places', 0.9859712), ('Exchanges', 0.090964556), ('Organizations', 0.0016729534), ('Topics', 4.3809414e-06), ('Peoples', 9.834766e-07)], [('Places', 0.9999635), ('Exchanges', 0.9104489), ('Organizations', 0.051020324), ('Peoples', 0.004600942), ('Topics', 0.0009928644)], [('Places', 0.99939513), ('Exchanges', 0.08599812), ('Topics', 0.058764398), ('Peoples', 0.015925288), ('Organizations', 8.940697e-08)], [('Places', 0.99997175), ('Exchanges', 0.84857655), ('Peoples', 0.0035819113), ('Topics', 0.002944082), ('Organizations', 0.0012663603)], [('Exchanges', 1.0), ('Places', 0.9943299), ('Organizations', 0.014136493), ('Topics', 2.6583672e-05), ('Peoples', 1.013279e-06)], [('Places', 1.0), ('Exchanges', 0.99955213), ('Peoples', 0.01913017), ('Topics', 1.7881393e-07), ('Organizations', 0.0)], [('Exchanges', 0.99123037), ('Places', 0.39319235), ('Peoples', 0.00013518333), ('Topics', 6.1392784e-06), ('Organizations', 1.4305115e-06)], [('Places', 0.99999964), ('Exchanges', 0.9999968), ('Organizations', 0.0031401515), ('Peoples', 2.3841858e-07), ('Topics', 0.0)], [('Places', 0.99999917), ('Organizations', 0.8205186), ('Topics', 0.049074322), ('Exchanges', 0.002704978), ('Peoples', 8.85427e-05)], [('Exchanges', 0.99991024), ('Places', 0.99415135), ('Topics', 0.13565388), ('Organizations', 0.047308803), ('Peoples', 0.001635015)], [('Exchanges', 1.0), ('Places', 0.9999999), ('Peoples', 0.0067352653), ('Organizations', 0.0033430755), ('Topics', 0.0)], [('Places', 0.99999976), ('Exchanges', 0.9961666), ('Topics', 0.00092828274), ('Peoples', 1.4781952e-05), ('Organizations', 7.927418e-06)], [('Places', 1.0), ('Exchanges', 0.904734), ('Topics', 0.8395587), ('Organizations', 0.6111078), ('Peoples', 0.23438507)], [('Places', 1.0), ('Organizations', 0.9066453), ('Exchanges', 0.7269714), ('Topics', 0.0041695833), ('Peoples', 2.0861626e-07)], [('Places', 0.010222971), ('Peoples', 1.1026859e-05), ('Topics', 3.0398369e-06), ('Organizations', 2.2649765e-06), ('Exchanges', 1.5497208e-06)], [('Places', 0.999905), ('Exchanges', 0.17629066), ('Topics', 0.017552912), ('Organizations', 0.009513259), ('Peoples', 0.0004182756)], [('Places', 1.0), ('Exchanges', 0.9999999), ('Topics', 0.32060182), ('Organizations', 0.09555808), ('Peoples', 0.00074622035)], [('Places', 1.0), ('Organizations', 0.3592342), ('Exchanges', 0.0002757609), ('Topics', 0.0), ('Peoples', 0.0)], [('Places', 0.019069761), ('Organizations', 5.6743622e-05), ('Peoples', 3.5762787e-07), ('Exchanges', 1.1920929e-07), ('Topics', 0.0)], [('Places', 0.6018227), ('Exchanges', 0.056346774), ('Organizations', 0.0061500072), ('Peoples', 0.0058078766), ('Topics', 4.798174e-06)], [('Places', 0.999558), ('Organizations', 2.9802322e-08), ('Topics', 0.0), ('Exchanges', 0.0), ('Peoples', 0.0)], [('Places', 0.8913368), ('Exchanges', 0.29359573), ('Peoples', 0.005523205), ('Topics', 0.0009342432), ('Organizations', 0.00013691187)], [('Places', 0.90083486), ('Organizations', 0.0003927648), ('Exchanges', 4.082918e-06), ('Peoples', 2.3245811e-06), ('Topics', 0.0)], [('Places', 0.989642), ('Organizations', 0.023266345), ('Exchanges', 1.6123056e-05), ('Topics', 0.0), ('Peoples', 0.0)], [('Places', 0.7220061), ('Organizations', 2.9802322e-07), ('Peoples', 8.940697e-08), ('Topics', 0.0), ('Exchanges', 0.0)], [('Places', 0.9999932), ('Exchanges', 0.9931444), ('Organizations', 4.1782856e-05), ('Peoples', 2.5719404e-05), ('Topics', 6.854534e-07)], [('Places', 1.0), ('Exchanges', 0.9999999), ('Organizations', 0.0003157556), ('Peoples', 9.834766e-07), ('Topics', 0.0)], [('Places', 0.9893548), ('Exchanges', 0.98568726), ('Peoples', 0.0003490448), ('Topics', 0.00015735626), ('Organizations', 2.9802322e-07)], [('Places', 0.9999999), ('Exchanges', 0.53733563), ('Peoples', 0.035066098), ('Topics', 0.00012996793), ('Organizations', 6.824732e-06)], [('Places', 0.9962089), ('Exchanges', 0.0009202063), ('Peoples', 3.629923e-05), ('Topics', 3.0308962e-05), ('Organizations', 5.4240227e-06)], [('Places', 0.99922466), ('Exchanges', 0.91451097), ('Peoples', 0.008653611), ('Organizations', 1.642108e-05), ('Topics', 5.00679e-06)], [('Places', 1.0), ('Exchanges', 0.3653241), ('Organizations', 0.06990042), ('Peoples', 0.005169183), ('Topics', 6.2584877e-07)], [('Places', 0.9954519), ('Exchanges', 0.027645737), ('Organizations', 0.0051825345), ('Peoples', 0.0016027391), ('Topics', 0.00015345216)], [('Places', 1.0), ('Exchanges', 0.9996747), ('Organizations', 0.9974593), ('Topics', 0.9408737), ('Peoples', 1.0341406e-05)], [('Places', 0.9989914), ('Organizations', 0.6768385), ('Exchanges', 0.05889702), ('Peoples', 0.027736187), ('Topics', 0.026448667)], [('Places', 0.58984256), ('Topics', 1.4901161e-07), ('Exchanges', 2.9802322e-08), ('Organizations', 0.0), ('Peoples', 0.0)], [('Exchanges', 0.9999998), ('Places', 0.9999982), ('Peoples', 0.00045070052), ('Topics', 8.940697e-08), ('Organizations', 0.0)], [('Places', 0.68704903), ('Peoples', 1.1920929e-07), ('Topics', 5.9604645e-08), ('Organizations', 0.0), ('Exchanges', 0.0)], [('Places', 0.99999726), ('Exchanges', 7.8082085e-06), ('Topics', 1.4901161e-06), ('Organizations', 7.748604e-07), ('Peoples', 2.0861626e-07)], [('Exchanges', 0.991673), ('Places', 0.7441425), ('Organizations', 6.467104e-06), ('Peoples', 8.940697e-08), ('Topics', 0.0)], [('Places', 0.99554515), ('Exchanges', 0.00013181567), ('Organizations', 4.5001507e-06), ('Peoples', 2.682209e-07), ('Topics', 5.9604645e-08)], [('Organizations', 1.0), ('Exchanges', 1.0), ('Places', 1.0), ('Topics', 0.48119172), ('Peoples', 0.0011203885)], [('Places', 0.59426725), ('Exchanges', 0.47834197), ('Topics', 0.015544981), ('Peoples', 0.00048306584), ('Organizations', 2.3841858e-07)], [('Places', 0.9921101), ('Exchanges', 0.00011175871), ('Organizations', 4.261732e-06), ('Topics', 0.0), ('Peoples', 0.0)], [('Places', 0.943463), ('Peoples', 2.7120113e-06), ('Topics', 3.2782555e-07), ('Exchanges', 2.0861626e-07), ('Organizations', 0.0)], [('Places', 0.9998008), ('Organizations', 1.4305115e-06), ('Exchanges', 2.3841858e-07), ('Peoples', 2.3841858e-07), ('Topics', 0.0)], [('Places', 0.9088323), ('Organizations', 1.5079975e-05), ('Topics', 8.46386e-06), ('Peoples', 3.0398369e-06), ('Exchanges', 2.0861626e-07)], [('Places', 0.9999988), ('Exchanges', 0.80109584), ('Peoples', 0.1545291), ('Topics', 0.0008659959), ('Organizations', 1.7881393e-07)], [('Topics', 1.0), ('Places', 1.0), ('Exchanges', 0.99999976), ('Peoples', 5.722046e-06), ('Organizations', 1.1920929e-07)], [('Exchanges', 0.99998796), ('Places', 0.97746754), ('Organizations', 7.542968e-05), ('Topics', 0.0), ('Peoples', 0.0)], [('Places', 0.00084102154), ('Organizations', 0.0001167357), ('Peoples', 2.0861626e-07), ('Topics', 0.0), ('Exchanges', 0.0)], [('Places', 0.9996874), ('Exchanges', 0.99803644), ('Peoples', 0.0048689246), ('Topics', 0.0033950806), ('Organizations', 4.7385693e-06)], [('Exchanges', 0.9999957), ('Places', 0.99994373), ('Organizations', 0.00068822503), ('Peoples', 6.8843365e-06), ('Topics', 5.9604645e-08)], [('Places', 0.77951866), ('Organizations', 3.5762787e-07), ('Topics', 1.1920929e-07), ('Exchanges', 2.9802322e-08), ('Peoples', 0.0)], [('Places', 0.9999998), ('Exchanges', 0.9994373), ('Peoples', 0.004689604), ('Topics', 0.0003912449), ('Organizations', 0.00023058057)], [('Places', 0.4961202), ('Organizations', 0.012619019), ('Topics', 4.157424e-05), ('Exchanges', 3.71933e-05), ('Peoples', 1.218915e-05)], [('Places', 0.8742695), ('Peoples', 0.014715254), ('Exchanges', 0.0031993985), ('Topics', 0.00012800097), ('Organizations', 1.579523e-05)], [('Places', 0.98264194), ('Exchanges', 0.20228618), ('Peoples', 0.0005558431), ('Organizations', 2.9355288e-05), ('Topics', 9.328127e-06)], [('Places', 0.962374), ('Topics', 0.0015797019), ('Peoples', 0.00056129694), ('Exchanges', 3.2782555e-05), ('Organizations', 3.015995e-05)], [('Places', 0.86393183), ('Exchanges', 0.07574096), ('Peoples', 0.00039476156), ('Organizations', 0.00011435151), ('Topics', 3.3915043e-05)], [('Places', 0.9221461), ('Exchanges', 0.052794755), ('Peoples', 0.0018764138), ('Organizations', 0.00026345253), ('Topics', 2.4855137e-05)], [('Exchanges', 0.9983045), ('Places', 0.9966856), ('Organizations', 0.004188597), ('Peoples', 0.0033622682), ('Topics', 0.0030435324)], [('Places', 0.99999654), ('Exchanges', 0.99972266), ('Topics', 0.0069721043), ('Organizations', 0.0037215948), ('Peoples', 0.00029110909)], [('Places', 0.26886117), ('Organizations', 0.0007440746), ('Exchanges', 1.1950731e-05), ('Peoples', 1.013279e-06), ('Topics', 8.6426735e-07)], [('Places', 0.99418825), ('Organizations', 0.00015360117), ('Topics', 0.0), ('Exchanges', 0.0), ('Peoples', 0.0)], [('Exchanges', 1.0), ('Places', 1.0), ('Organizations', 0.0008454621), ('Topics', 0.0), ('Peoples', 0.0)], [('Places', 0.9233521), ('Exchanges', 0.11151323), ('Topics', 0.00012809038), ('Peoples', 1.1652708e-05), ('Organizations', 1.9073486e-06)], [('Places', 1.0), ('Exchanges', 0.9993518), ('Organizations', 0.009223074), ('Topics', 0.0083681345), ('Peoples', 0.0016602278)], [('Places', 0.14245537), ('Topics', 0.006219387), ('Peoples', 2.6226044e-05), ('Organizations', 6.6161156e-06), ('Exchanges', 5.2154064e-06)], [('Places', 0.9987042), ('Exchanges', 0.006901145), ('Organizations', 0.00036385655), ('Peoples', 3.874302e-07), ('Topics', 0.0)], [('Places', 0.61624503), ('Exchanges', 0.044390768), ('Topics', 0.006372392), ('Peoples', 0.0007734597), ('Organizations', 2.2679567e-05)], [('Places', 0.9999989), ('Exchanges', 0.99999726), ('Peoples', 0.00039178133), ('Organizations', 5.9604645e-08), ('Topics', 5.9604645e-08)], [('Places', 0.9999993), ('Exchanges', 0.065027416), ('Organizations', 0.024001867), ('Peoples', 0.0145227015), ('Topics', 0.0004785061)], [('Exchanges', 0.9999713), ('Places', 0.99968976), ('Peoples', 0.00020888448), ('Topics', 6.791949e-05), ('Organizations', 4.3272972e-05)], [('Places', 1.0), ('Exchanges', 0.9999992), ('Peoples', 0.99998933), ('Topics', 0.56822276), ('Organizations', 0.00033909082)], [('Places', 1.0), ('Topics', 0.9999913), ('Exchanges', 0.47571385), ('Peoples', 0.0005429387), ('Organizations', 5.9604645e-08)], [('Exchanges', 1.0), ('Places', 0.9999971), ('Peoples', 0.0074570775), ('Organizations', 2.8073788e-05), ('Topics', 7.987022e-06)], [('Exchanges', 1.0), ('Places', 1.0), ('Organizations', 0.98388803), ('Peoples', 0.14128873), ('Topics', 0.0025694966)], [('Places', 0.99999905), ('Exchanges', 0.99709094), ('Topics', 0.81372315), ('Organizations', 0.0017312467), ('Peoples', 1.50203705e-05)], [('Exchanges', 0.9999999), ('Places', 0.999961), ('Topics', 0.99216235), ('Peoples', 0.0014061034), ('Organizations', 2.8342009e-05)], [('Exchanges', 1.0), ('Places', 0.99999976), ('Topics', 0.013420582), ('Organizations', 8.34465e-07), ('Peoples', 5.9604645e-07)], [('Exchanges', 0.99999976), ('Places', 0.99968207), ('Organizations', 0.02886808), ('Peoples', 5.9604645e-08), ('Topics', 0.0)], [('Places', 0.97215605), ('Exchanges', 0.710069), ('Topics', 0.03725204), ('Peoples', 0.008697748), ('Organizations', 0.0040388107)], [('Organizations', 1.0), ('Exchanges', 1.0), ('Places', 1.0), ('Topics', 0.00047904253), ('Peoples', 7.033348e-06)], [('Organizations', 0.9999211), ('Places', 0.9998157), ('Exchanges', 0.99131954), ('Topics', 0.009717971), ('Peoples', 3.5762787e-07)], [('Places', 0.9999521), ('Exchanges', 0.7488439), ('Topics', 0.022892952), ('Peoples', 0.0056075156), ('Organizations', 0.00066268444)], [('Places', 1.0), ('Exchanges', 0.86959267), ('Organizations', 0.8368976), ('Topics', 0.0), ('Peoples', 0.0)], [('Exchanges', 1.0), ('Organizations', 0.99999994), ('Places', 0.9999833), ('Topics', 0.009531677), ('Peoples', 0.0011529624)], [('Places', 0.99999976), ('Exchanges', 0.81688404), ('Topics', 0.040490776), ('Peoples', 0.022499949), ('Organizations', 0.0006275475)], [('Exchanges', 0.99999195), ('Places', 0.9904293), ('Peoples', 0.01724273), ('Topics', 0.003207475), ('Organizations', 2.387166e-05)], [('Places', 0.9747155), ('Topics', 7.018447e-05), ('Exchanges', 3.0100346e-06), ('Organizations', 2.2053719e-06), ('Peoples', 2.115965e-06)], [('Exchanges', 0.9999761), ('Places', 0.99986994), ('Peoples', 0.0003376007), ('Topics', 2.7179718e-05), ('Organizations', 0.0)], [('Exchanges', 1.0), ('Places', 0.41930857), ('Organizations', 0.0822137), ('Topics', 0.0), ('Peoples', 0.0)], [('Places', 0.99999726), ('Topics', 0.0007364154), ('Peoples', 1.7881393e-06), ('Organizations', 9.834766e-07), ('Exchanges', 5.066395e-07)], [('Places', 0.9868701), ('Peoples', 0.0016691089), ('Exchanges', 0.00036904216), ('Organizations', 5.733967e-05), ('Topics', 9.4771385e-06)], [('Exchanges', 0.9735446), ('Places', 0.9659266), ('Peoples', 0.0037447512), ('Topics', 3.1888485e-06), ('Organizations', 3.0100346e-06)], [('Places', 0.99792314), ('Organizations', 0.024336249), ('Topics', 0.00059199333), ('Exchanges', 2.2172928e-05), ('Peoples', 7.748604e-07)], [('Places', 0.8784818), ('Peoples', 9.673834e-05), ('Exchanges', 2.2113323e-05), ('Topics', 1.2516975e-06), ('Organizations', 3.874302e-07)], [('Places', 0.06730166), ('Peoples', 0.010126829), ('Exchanges', 0.005978495), ('Topics', 0.0010156035), ('Organizations', 0.00017735362)], [('Places', 0.7866082), ('Exchanges', 0.296808), ('Topics', 0.003568232), ('Peoples', 0.00015562773), ('Organizations', 3.1292439e-06)], [('Places', 0.99998856), ('Exchanges', 0.0018686354), ('Topics', 5.841255e-06), ('Peoples', 1.4901161e-07), ('Organizations', 0.0)], [('Places', 0.7750152), ('Topics', 0.0045092106), ('Exchanges', 0.0006952584), ('Peoples', 1.0550022e-05), ('Organizations', 9.23872e-07)], [('Exchanges', 0.7887309), ('Places', 0.33021182), ('Peoples', 0.00026923418), ('Topics', 3.963709e-06), ('Organizations', 4.172325e-07)], [('Places', 0.99999917), ('Exchanges', 0.9999954), ('Topics', 0.05889532), ('Organizations', 0.0), ('Peoples', 0.0)], [('Exchanges', 0.9999999), ('Places', 0.78071785), ('Peoples', 3.784895e-06), ('Organizations', 0.0), ('Topics', 0.0)], [('Places', 0.9985552), ('Peoples', 5.6922436e-06), ('Topics', 5.9604645e-08), ('Organizations', 0.0), ('Exchanges', 0.0)], [('Places', 0.99968374), ('Exchanges', 0.8054538), ('Organizations', 6.9737434e-06), ('Topics', 0.0), ('Peoples', 0.0)], [('Places', 0.38843638), ('Exchanges', 0.010949373), ('Topics', 0.0025594234), ('Peoples', 0.0025337636), ('Organizations', 7.6293945e-06)], [('Places', 1.0), ('Exchanges', 0.9750112), ('Peoples', 5.364418e-07), ('Organizations', 0.0), ('Topics', 0.0)], [('Places', 0.99999857), ('Exchanges', 5.00679e-05), ('Organizations', 4.6938658e-05), ('Topics', 0.0), ('Peoples', 0.0)], [('Places', 0.9999161), ('Peoples', 0.05150497), ('Exchanges', 0.051237404), ('Topics', 0.00013417006), ('Organizations', 2.8908253e-06)], [('Places', 1.0), ('Exchanges', 0.517723), ('Peoples', 0.30029428), ('Topics', 7.688999e-06), ('Organizations', 2.1755695e-06)], [('Places', 1.0), ('Exchanges', 0.99999213), ('Topics', 3.0368567e-05), ('Peoples', 2.7298927e-05), ('Organizations', 0.0)], [('Exchanges', 1.0), ('Places', 1.0), ('Organizations', 0.0), ('Topics', 0.0), ('Peoples', 0.0)], [('Places', 1.0), ('Topics', 0.99997073), ('Exchanges', 0.99996483), ('Peoples', 0.0004453957), ('Organizations', 2.0861626e-07)], [('Places', 0.9970244), ('Exchanges', 0.9896847), ('Topics', 0.0002104342), ('Organizations', 9.10759e-05), ('Peoples', 7.325411e-05)], [('Places', 1.0), ('Peoples', 0.99999994), ('Exchanges', 0.9946715), ('Organizations', 0.99390626), ('Topics', 2.7745962e-05)], [('Places', 0.9991896), ('Exchanges', 1.5497208e-06), ('Organizations', 0.0), ('Topics', 0.0), ('Peoples', 0.0)], [('Places', 0.9999999), ('Exchanges', 0.4281989), ('Organizations', 0.0040133), ('Peoples', 2.5093555e-05), ('Topics', 4.5895576e-06)], [('Exchanges', 0.9999998), ('Places', 0.008179754), ('Organizations', 2.9802322e-08), ('Topics', 0.0), ('Peoples', 0.0)], [('Exchanges', 1.0), ('Places', 1.0), ('Organizations', 0.29512876), ('Peoples', 3.951788e-05), ('Topics', 8.046627e-07)], [('Places', 0.9747155), ('Topics', 7.018447e-05), ('Exchanges', 3.0100346e-06), ('Organizations', 2.2053719e-06), ('Peoples', 2.115965e-06)], [('Peoples', 1.0), ('Exchanges', 0.9991884), ('Places', 0.98941934), ('Organizations', 0.05496037), ('Topics', 5.877018e-05)], [('Places', 0.99170077), ('Exchanges', 0.12378588), ('Peoples', 0.0018734634), ('Topics', 0.0001219511), ('Organizations', 1.1026859e-06)], [('Places', 0.9999166), ('Topics', 0.0005864203), ('Exchanges', 0.000115424395), ('Peoples', 3.1590462e-06), ('Organizations', 8.940697e-08)], [('Peoples', 0.9999974), ('Places', 0.8934146), ('Exchanges', 0.06730795), ('Organizations', 3.516674e-06), ('Topics', 2.3841858e-07)], [('Places', 1.0), ('Topics', 0.9998783), ('Exchanges', 0.11430791), ('Organizations', 1.937151e-06), ('Peoples', 8.940697e-07)], [('Places', 1.0), ('Peoples', 0.9999968), ('Exchanges', 0.9996902), ('Organizations', 6.2942505e-05), ('Topics', 1.0728836e-06)], [('Organizations', 0.99999994), ('Exchanges', 0.9996519), ('Places', 0.8305193), ('Topics', 0.069698036), ('Peoples', 0.0031776428)], [('Exchanges', 0.9999999), ('Places', 0.97954255), ('Topics', 0.010174066), ('Organizations', 0.009542853), ('Peoples', 2.8729439e-05)], [('Places', 0.59426725), ('Exchanges', 0.47834197), ('Topics', 0.015544981), ('Peoples', 0.00048306584), ('Organizations', 2.3841858e-07)], [('Exchanges', 1.0), ('Places', 1.0), ('Topics', 0.111812234), ('Peoples', 0.0014480054), ('Organizations', 1.2725592e-05)], [('Places', 0.99999994), ('Peoples', 0.01619941), ('Exchanges', 0.015737444), ('Topics', 0.0028741658), ('Organizations', 0.00057819486)], [('Exchanges', 0.98872566), ('Places', 0.2125907), ('Peoples', 0.0005926192), ('Topics', 0.00023299456), ('Organizations', 2.7418137e-06)], [('Places', 1.0), ('Exchanges', 0.99999684), ('Peoples', 0.2478298), ('Topics', 0.0040152073), ('Organizations', 6.824732e-06)], [('Places', 0.9999997), ('Exchanges', 0.55912995), ('Peoples', 1.1056662e-05), ('Topics', 6.2584877e-07), ('Organizations', 5.364418e-07)], [('Peoples', 1.0), ('Places', 0.99998826), ('Exchanges', 0.13005304), ('Organizations', 0.019505948), ('Topics', 0.00043028593)], [('Places', 1.0), ('Topics', 0.0008945167), ('Exchanges', 0.00028586388), ('Peoples', 4.172325e-07), ('Organizations', 0.0)], [('Places', 0.99999976), ('Organizations', 0.99999917), ('Peoples', 0.9999862), ('Exchanges', 0.9994703), ('Topics', 2.9802322e-07)]]\n"
          ],
          "name": "stdout"
        }
      ]
    }
  ]
}