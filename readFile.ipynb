{
 "cells": [
  {
   "cell_type": "code",
   "execution_count": 69,
   "metadata": {
    "colab": {},
    "colab_type": "code",
    "id": "n6ZxlxyBFHOs"
   },
   "outputs": [],
   "source": [
    "data_folder = './reuters21578/'\n",
    "\n",
    "sgml_number_of_files = 21\n",
    "sgml_file_name_template = 'reut2-NNN.sgm'\n",
    "\n",
    "# Category files\n",
    "category_files = {\n",
    "    'to_': ('Topics', 'all-topics-strings.lc.txt'),\n",
    "    'pl_': ('Places', 'all-places-strings.lc.txt'),\n",
    "    'pe_': ('People', 'all-people-strings.lc.txt'),\n",
    "    'or_': ('Organizations', 'all-orgs-strings.lc.txt'),\n",
    "    'ex_': ('Exchanges', 'all-exchanges-strings.lc.txt')\n",
    "}\n",
    "\n",
    "# Word2Vec number of features\n",
    "num_features = 500\n",
    "# Limit each newsline to a fixed number of words\n",
    "# document_max_num_words = 100\n",
    "# Selected categories\n",
    "# selected_categories = ['pl_usa']"
   ]
  },
  {
   "cell_type": "code",
   "execution_count": 70,
   "metadata": {
    "colab": {},
    "colab_type": "code",
    "id": "raObZJ-XFHPE"
   },
   "outputs": [],
   "source": [
    "import pandas as pd\n",
    "import numpy as np\n",
    "from nltk.corpus import stopwords\n",
    "from nltk.tokenize import word_tokenize\n",
    "from nltk.stem import WordNetLemmatizer"
   ]
  },
  {
   "cell_type": "code",
   "execution_count": 71,
   "metadata": {
    "colab": {},
    "colab_type": "code",
    "id": "c-cf9jN3FHPQ"
   },
   "outputs": [],
   "source": [
    "# Create category dataframe\n",
    "\n",
    "# Read all categories\n",
    "category_data = []\n",
    "\n",
    "for category_prefix in category_files.keys():\n",
    "#     print(category_files[category_prefix][1])\n",
    "#     print(data_folder)\n",
    "    with open(data_folder + category_files[category_prefix][1], 'r') as file:\n",
    "        for category in file.readlines():\n",
    "            category_data.append([category_prefix + category.strip().lower(), \n",
    "                                  category_files[category_prefix][0]])\n",
    "\n",
    "# Create category dataframe\n",
    "news_categories = pd.DataFrame(data=category_data)\n",
    "\n",
    "# print \"category_data: \", category_data\n",
    "# (news_categories.values).tolist()"
   ]
  },
  {
   "cell_type": "code",
   "execution_count": 72,
   "metadata": {
    "colab": {
     "base_uri": "https://localhost:8080/",
     "height": 69
    },
    "colab_type": "code",
    "id": "z8rZwTkMFHPp",
    "outputId": "12bb29ff-5c01-468f-fedc-bb38c336bff3"
   },
   "outputs": [
    {
     "name": "stderr",
     "output_type": "stream",
     "text": [
      "[nltk_data] Downloading package stopwords to /home/prabha/nltk_data...\n",
      "[nltk_data]   Package stopwords is already up-to-date!\n"
     ]
    },
    {
     "data": {
      "text/plain": [
       "True"
      ]
     },
     "execution_count": 72,
     "metadata": {},
     "output_type": "execute_result"
    }
   ],
   "source": [
    "import re\n",
    "import xml.sax.saxutils as saxutils\n",
    "from bs4 import BeautifulSoup\n",
    "from keras.preprocessing.text import Tokenizer\n",
    "from keras.preprocessing.sequence import pad_sequences\n",
    "import nltk\n",
    "nltk.download('stopwords')"
   ]
  },
  {
   "cell_type": "code",
   "execution_count": 73,
   "metadata": {
    "colab": {},
    "colab_type": "code",
    "id": "itQdc1maFHP2"
   },
   "outputs": [],
   "source": [
    "def to_category_vector(categories):\n",
    "    vector = zeros(len(categories)).astype(float32)\n",
    "    \n",
    "    for i in range(len(categories)):\n",
    "        if target_categories[i] in categories:\n",
    "            vector[i] = 1.0\n",
    "    \n",
    "    return vector"
   ]
  },
  {
   "cell_type": "code",
   "execution_count": 74,
   "metadata": {
    "colab": {},
    "colab_type": "code",
    "id": "8GUDlM0qFHP-"
   },
   "outputs": [],
   "source": [
    "from nltk.stem import WordNetLemmatizer\n",
    "from nltk.corpus import stopwords\n",
    "lemmatizer = WordNetLemmatizer()\n",
    "# strip_special_chars = re.compile(\"[^A-Za-z0-9 ]+\")\n",
    "# stop_words = set(stopwords.words(\"english\"))\n",
    "REPLACE_BY_SPACE_RE = re.compile('[/(){}\\[\\]\\|@,;\\\\n]')\n",
    "BAD_SYMBOLS_RE = re.compile('[^0-9a-z #+_]')\n",
    "STOPWORDS = set(stopwords.words('english'))\n",
    "\n",
    "def cleanUpSentence(r):#, stop_words = None#\n",
    "    r = r.lower().replace(\"<br />\", \" \")\n",
    "#     r = r.lower() # lowercase text\n",
    "    r = REPLACE_BY_SPACE_RE.sub(' ', r)\n",
    "    r = BAD_SYMBOLS_RE.sub('', r)\n",
    "#     r = re.sub(strip_special_chars, \"\", r.lower())\n",
    "    r = ' '.join(word for word in r.split() if word not in STOPWORDS)\n",
    "#     if stop_words is not None:\n",
    "    words = word_tokenize(r)\n",
    "#         filtered_sentence = []\n",
    "    for w in words:\n",
    "        w = lemmatizer.lemmatize(w)\n",
    "#             if w not in stop_words:\n",
    "#                 filtered_sentence.append(w)\n",
    "#         return \" \".join(filtered_sentence)\n",
    "#     else:\n",
    "    return r"
   ]
  },
  {
   "cell_type": "code",
   "execution_count": 75,
   "metadata": {
    "colab": {
     "base_uri": "https://localhost:8080/",
     "height": 72
    },
    "colab_type": "code",
    "id": "Tq_nIvcvFHQH",
    "outputId": "7c1a9704-65b1-4692-80e2-fbfaaf001e44",
    "scrolled": false
   },
   "outputs": [
    {
     "name": "stdout",
     "output_type": "stream",
     "text": [
      "Reading file: reut2-000.sgm\n",
      "Reading file: reut2-001.sgm\n",
      "Reading file: reut2-002.sgm\n",
      "Reading file: reut2-003.sgm\n",
      "Reading file: reut2-004.sgm\n",
      "Reading file: reut2-005.sgm\n",
      "Reading file: reut2-006.sgm\n",
      "Reading file: reut2-007.sgm\n",
      "Reading file: reut2-008.sgm\n",
      "Reading file: reut2-009.sgm\n",
      "Reading file: reut2-010.sgm\n",
      "Reading file: reut2-011.sgm\n",
      "Reading file: reut2-012.sgm\n",
      "Reading file: reut2-013.sgm\n",
      "Reading file: reut2-014.sgm\n",
      "Reading file: reut2-015.sgm\n",
      "Reading file: reut2-016.sgm\n",
      "Reading file: reut2-017.sgm\n",
      "Reading file: reut2-018.sgm\n",
      "Reading file: reut2-019.sgm\n",
      "Reading file: reut2-020.sgm\n"
     ]
    }
   ],
   "source": [
    "# Parse SGML files\n",
    "document_X = {}\n",
    "document_Y = {}\n",
    "docid_traintest = {}\n",
    "def strip_tags(text):\n",
    "    return re.sub('<[^<]+?>', '', text).strip()\n",
    "\n",
    "def unescape(text):\n",
    "    return saxutils.unescape(text)\n",
    "\n",
    "# Iterate all files\n",
    "for i in range(sgml_number_of_files):\n",
    "    if i < 10:\n",
    "        seq = '00' + str(i)\n",
    "    else:\n",
    "        seq = '0' + str(i)\n",
    "        \n",
    "    file_name = sgml_file_name_template.replace('NNN', seq)\n",
    "    print('Reading file: %s' % file_name)\n",
    "    data_folder + file_name\n",
    "    with open(data_folder + file_name, 'rb') as file:\n",
    "    \n",
    "        content = BeautifulSoup(file.read().lower(),'html.parser')\n",
    "\n",
    "        for newsline in content('reuters'):\n",
    "            document_categories = []\n",
    "\n",
    "            # News-line Id\n",
    "            document_id = newsline['newid']\n",
    "    #             print document_id,\n",
    "            train_test = newsline['lewissplit']\n",
    "            docid_traintest[document_id] = train_test\n",
    "    #             print \"train_test: \",train_test\n",
    "\n",
    "            # News-line text\n",
    "            document_body = strip_tags(str(newsline('text')[0].body)).replace('reuter\\n&#3;', '')\n",
    "            doc_categories=strip_tags(str(newsline('topics')[0].body))\n",
    "            doc_categories = unescape(doc_categories)\n",
    "\n",
    "            document_body = unescape(document_body)\n",
    "\n",
    "            # News-line categories\n",
    "            topics = newsline.topics.contents\n",
    "            places = newsline.places.contents\n",
    "            people = newsline.people.contents\n",
    "            orgs = newsline.orgs.contents\n",
    "            exchanges = newsline.exchanges.contents\n",
    "\n",
    "            for topic in topics:\n",
    "                document_categories.append('to_' + strip_tags(str(topic)))\n",
    "\n",
    "            for place in places:\n",
    "                document_categories.append('pl_' + strip_tags(str(place)))\n",
    "\n",
    "            for person in people:\n",
    "                document_categories.append('pe_' + strip_tags(str(person)))\n",
    "\n",
    "            for org in orgs:\n",
    "                document_categories.append('or_' + strip_tags(str(org)))\n",
    "\n",
    "            for exchange in exchanges:\n",
    "                document_categories.append('ex_' + strip_tags(str(exchange)))\n",
    "    #             print \"document_categories: \",document_categories\n",
    "            # Create new document    \n",
    "    #             update_frequencies(document_categories)\n",
    "\n",
    "            document_X[document_id] = document_body\n",
    "            document_Y[document_id] = document_categories\n",
    "# print(document_Y)\n",
    "one_hot_label=[]\n",
    "for key,v in document_Y.items():\n",
    "    dict_temp={'Topics':0,'Places':0,'Peoples':0,'Exchanges':0,'Organizations':0}\n",
    "    for i in v:\n",
    "        string=i.split('_')\n",
    "        category=string[0]\n",
    "        if category=='to':\n",
    "            dict_temp['Topics']+=1\n",
    "        if category=='pl':\n",
    "            dict_temp['Places']+=1\n",
    "        if category=='ex':\n",
    "            dict_temp['Exchanges']+=1\n",
    "        if category=='or':\n",
    "            dict_temp['Organizations']+=1\n",
    "        if category=='pe':\n",
    "            dict_temp['Peoples']+=1\n",
    "    one_hot_label.append(dict_temp)\n",
    "    \n",
    "# print(one_hot_label)\n",
    "ranking=[]\n",
    "for i in one_hot_label:\n",
    "    ranking.append(list(i.values()))\n",
    "# print(np.array(ranking).shape)\n",
    "# print(document_X)\n"
   ]
  },
  {
   "cell_type": "code",
   "execution_count": 76,
   "metadata": {
    "colab": {
     "base_uri": "https://localhost:8080/",
     "height": 69
    },
    "colab_type": "code",
    "id": "kIdIamdXH4zH",
    "outputId": "9ca139cf-a6ef-4881-a4c7-a3943ce21109"
   },
   "outputs": [
    {
     "name": "stdout",
     "output_type": "stream",
     "text": [
      "Empty DataFrame\n",
      "Columns: [body, categories, word_count]\n",
      "Index: []\n"
     ]
    }
   ],
   "source": [
    "## rough\n",
    "col_names = ['body', 'categories', 'word_count']\n",
    "dataset = pd.DataFrame(columns = col_names)\n",
    "print(dataset.head())"
   ]
  },
  {
   "cell_type": "code",
   "execution_count": 77,
   "metadata": {
    "colab": {},
    "colab_type": "code",
    "id": "CxlQqT8rFHQS"
   },
   "outputs": [],
   "source": [
    "# data preprocessing"
   ]
  },
  {
   "cell_type": "code",
   "execution_count": 78,
   "metadata": {
    "colab": {
     "base_uri": "https://localhost:8080/",
     "height": 469
    },
    "colab_type": "code",
    "id": "mipRjkNDFHQm",
    "outputId": "3c914013-38e9-4735-bc20-319b6700482b"
   },
   "outputs": [
    {
     "name": "stderr",
     "output_type": "stream",
     "text": [
      "[nltk_data] Downloading package punkt to /home/prabha/nltk_data...\n",
      "[nltk_data]   Package punkt is already up-to-date!\n",
      "[nltk_data] Downloading package wordnet to /home/prabha/nltk_data...\n",
      "[nltk_data]   Package wordnet is already up-to-date!\n"
     ]
    },
    {
     "name": "stdout",
     "output_type": "stream",
     "text": [
      "                                                body       categories  \\\n",
      "0  showers continued throughout week bahia cocoa ...  [1, 3, 0, 0, 0]   \n",
      "1  standard oil co bp north america inc said plan...  [0, 1, 0, 0, 0]   \n",
      "2  texas commerce bancshares incs texas commerce ...  [0, 1, 0, 0, 0]   \n",
      "3  bankamerica corp pressure act quickly proposed...  [0, 2, 0, 0, 0]   \n",
      "4  us agriculture department reported farmerowned...  [6, 1, 0, 0, 0]   \n",
      "\n",
      "   word_count  \n",
      "0         356  \n",
      "1          48  \n",
      "2          35  \n",
      "3         274  \n",
      "4         122  \n",
      "count    21000.000000\n",
      "mean        80.506429\n",
      "std         84.612772\n",
      "min          1.000000\n",
      "25%         33.000000\n",
      "50%         58.000000\n",
      "75%        100.000000\n",
      "max       1925.000000\n",
      "Name: word_count, dtype: float64\n"
     ]
    }
   ],
   "source": [
    "# data preprocessing\n",
    "import numpy as np\n",
    "\n",
    "nltk.download('punkt')\n",
    "nltk.download('wordnet')\n",
    "def create_x_matrix(document_X):\n",
    "    totalX = []\n",
    "    for i, doc in document_X.items():\n",
    "        totalX.append(cleanUpSentence(doc))\n",
    "    max_vocab_size = 200\n",
    "    input_tokenizer = Tokenizer(200)\n",
    "    input_tokenizer.fit_on_texts(totalX)\n",
    "    encoded_docs = input_tokenizer.texts_to_matrix(totalX, mode='count')\n",
    "    return totalX,encoded_docs\n",
    "\n",
    "totalX,encoded_docs=create_x_matrix(document_X)\n",
    "\n",
    "\n",
    "##dataset\n",
    "dataset['body'] = totalX\n",
    "dataset['categories'] = ranking\n",
    "dataset['word_count'] = dataset['body'].apply(lambda x: len(str(x).split(\" \")))\n",
    "print (dataset.head())\n",
    "print (dataset.word_count.describe())"
   ]
  },
  {
   "cell_type": "markdown",
   "metadata": {
    "colab_type": "text",
    "id": "YDTZGColJqDI"
   },
   "source": []
  },
  {
   "cell_type": "code",
   "execution_count": 79,
   "metadata": {
    "colab": {
     "base_uri": "https://localhost:8080/",
     "height": 382
    },
    "colab_type": "code",
    "id": "JIJGt2OVJWia",
    "outputId": "62fa8a22-ff4d-4741-d2f0-462258f2aeda"
   },
   "outputs": [
    {
     "data": {
      "text/plain": [
       "said       51915\n",
       "mln        24565\n",
       "dlrs       19993\n",
       "reuter     18449\n",
       "pct        16718\n",
       "vs         13651\n",
       "000        12661\n",
       "billion     9936\n",
       "year        9831\n",
       "would       9024\n",
       "us          8615\n",
       "cts         8384\n",
       "company     7993\n",
       "bank        6550\n",
       "new         6331\n",
       "inc         6312\n",
       "last        5758\n",
       "net         5710\n",
       "1986        5525\n",
       "corp        5453\n",
       "dtype: int64"
      ]
     },
     "execution_count": 79,
     "metadata": {},
     "output_type": "execute_result"
    }
   ],
   "source": [
    "#Identify common words\n",
    "freq = pd.Series(' '.join(dataset['body']).split()).value_counts()[:20]\n",
    "freq"
   ]
  },
  {
   "cell_type": "code",
   "execution_count": 80,
   "metadata": {
    "colab": {
     "base_uri": "https://localhost:8080/",
     "height": 382
    },
    "colab_type": "code",
    "id": "zG4JRo8lP7rF",
    "outputId": "adc0a9ca-c468-4f3a-b1c6-6c32488735bd"
   },
   "outputs": [
    {
     "data": {
      "text/plain": [
       "telkom                 1\n",
       "highprofile            1\n",
       "reissue                1\n",
       "confectionary          1\n",
       "663492                 1\n",
       "asamoah                1\n",
       "workgroup              1\n",
       "massbased              1\n",
       "bowaters               1\n",
       "7273                   1\n",
       "tattered               1\n",
       "effecitve              1\n",
       "europharmaceuticals    1\n",
       "amministrazioni        1\n",
       "agreemement            1\n",
       "ninetyseven            1\n",
       "12427                  1\n",
       "arroba                 1\n",
       "conrads                1\n",
       "bellport               1\n",
       "dtype: int64"
      ]
     },
     "execution_count": 80,
     "metadata": {},
     "output_type": "execute_result"
    }
   ],
   "source": [
    "#Identify uncommon words\n",
    "freq1 =  pd.Series(' '.join(dataset ['body']).split()).value_counts()[-20:]\n",
    "freq1"
   ]
  },
  {
   "cell_type": "code",
   "execution_count": 81,
   "metadata": {
    "colab": {},
    "colab_type": "code",
    "id": "qLbS5gmJQVb-"
   },
   "outputs": [],
   "source": [
    "from wordcloud import WordCloud, STOPWORDS, ImageColorGenerator\n",
    "import matplotlib.pyplot as plt\n",
    "% matplotlib inline"
   ]
  },
  {
   "cell_type": "code",
   "execution_count": 82,
   "metadata": {
    "colab": {
     "base_uri": "https://localhost:8080/",
     "height": 236
    },
    "colab_type": "code",
    "id": "VEdbCgXUQaGf",
    "outputId": "1e42b653-52de-4d78-88d9-e5211ef42ca1"
   },
   "outputs": [
    {
     "name": "stdout",
     "output_type": "stream",
     "text": [
      "<wordcloud.wordcloud.WordCloud object at 0x7f1b978f4048>\n"
     ]
    },
    {
     "data": {
      "image/png": "[encoded data removed]",
      "text/plain": [
       "<Figure size 432x288 with 1 Axes>"
      ]
     },
     "metadata": {},
     "output_type": "display_data"
    }
   ],
   "source": [
    "corpus = dataset.iloc[0]['body']\n",
    "stop_words = set(STOPWORDS) \n",
    "wordcloud = WordCloud(\n",
    "                          background_color='white',\n",
    "                          stopwords=stop_words,\n",
    "                          max_words=100,\n",
    "                          max_font_size=50, \n",
    "                          random_state=42\n",
    "                         ).generate(str(corpus))\n",
    "\n",
    "print(wordcloud)\n",
    "fig = plt.figure(1)\n",
    "plt.imshow(wordcloud)\n",
    "plt.axis('off')\n",
    "plt.show()\n",
    "fig.savefig(\"word1.png\", dpi=900)"
   ]
  },
  {
   "cell_type": "code",
   "execution_count": null,
   "metadata": {},
   "outputs": [],
   "source": [
    "# import math\n",
    "\n",
    "# def softmax(z):\n",
    "#     z_exp = [math.exp(i) for i in z]\n",
    "#     sum_z_exp = sum(z_exp)\n",
    "#     return [i / sum_z_exp for i in z_exp]"
   ]
  },
  {
   "cell_type": "markdown",
   "metadata": {
    "colab_type": "text",
    "id": "TT-KIBOgJWJL"
   },
   "source": []
  },
  {
   "cell_type": "code",
   "execution_count": null,
   "metadata": {
    "colab": {
     "base_uri": "https://localhost:8080/",
     "height": 89
    },
    "colab_type": "code",
    "id": "zKvRtyM-FHRS",
    "outputId": "8f4b286e-f207-4674-c55d-67a59759f2ee",
    "scrolled": true
   },
   "outputs": [
    {
     "name": "stdout",
     "output_type": "stream",
     "text": [
      "Train on 16800 samples, validate on 4200 samples\n",
      "Epoch 1/5\n",
      " 7720/16800 [============>.................] - ETA: 7s - loss: 1.6089 - acc: 0.5868"
     ]
    }
   ],
   "source": [
    "from keras.models import Sequential\n",
    "from keras.layers import Dense,Flatten, Dropout,Embedding\n",
    "max_vocab_size = 200\n",
    "nn = Sequential()\n",
    "nn.add(Embedding(1000, 20, input_length=max_vocab_size))\n",
    "nn.add(Dense(10, activation=\"relu\", input_shape=(max_vocab_size,)))\n",
    "nn.add(Dropout(0.15))\n",
    "nn.add(Flatten()) \n",
    "nn.add(Dense(5,activation=\"softmax\"))\n",
    "nn.compile(optimizer='adam', loss='categorical_crossentropy', metrics=['accuracy'])\n",
    "nn.fit(np.array(encoded_docs), np.array(ranking), batch_size=10, epochs=5,\n",
    "          verbose=1, validation_split=0.2)"
   ]
  },
  {
   "cell_type": "code",
   "execution_count": null,
   "metadata": {},
   "outputs": [],
   "source": [
    "# Iterate all files\n",
    "document_X={}\n",
    "document_Y={}\n",
    "for i in range(21,22):\n",
    "    if i < 10:\n",
    "        seq = '00' + str(i)\n",
    "    else:\n",
    "        seq = '0' + str(i)\n",
    "        \n",
    "    file_name = sgml_file_name_template.replace('NNN', seq)\n",
    "    print('Reading file: %s' % file_name)\n",
    "    #data_folder + file_name\n",
    "    with open(data_folder+file_name, 'rb') as file:\n",
    "        content = BeautifulSoup(file.read().lower(),'html.parser')\n",
    "\n",
    "        for newsline in content('reuters'):\n",
    "            document_categories = []\n",
    "\n",
    "            # News-line Id\n",
    "            document_id = newsline['newid']\n",
    "        #             print document_id,\n",
    "            train_test = newsline['lewissplit']\n",
    "            docid_traintest[document_id] = train_test\n",
    "        #             print \"train_test: \",train_test\n",
    "\n",
    "            # News-line text\n",
    "            document_body = strip_tags(str(newsline('text')[0].body)).replace('reuter\\n&#3;', '')\n",
    "            doc_categories=strip_tags(str(newsline('topics')[0].body))\n",
    "            doc_categories = unescape(doc_categories)\n",
    "\n",
    "            document_body = unescape(document_body)\n",
    "\n",
    "            # News-line categories\n",
    "            topics = newsline.topics.contents\n",
    "            places = newsline.places.contents\n",
    "            people = newsline.people.contents\n",
    "            orgs = newsline.orgs.contents\n",
    "            exchanges = newsline.exchanges.contents\n",
    "\n",
    "            for topic in topics:\n",
    "                document_categories.append('to_' + strip_tags(str(topic)))\n",
    "\n",
    "            for place in places:\n",
    "                document_categories.append('pl_' + strip_tags(str(place)))\n",
    "\n",
    "            for person in people:\n",
    "                document_categories.append('pe_' + strip_tags(str(person)))\n",
    "\n",
    "            for org in orgs:\n",
    "                document_categories.append('or_' + strip_tags(str(org)))\n",
    "\n",
    "            for exchange in exchanges:\n",
    "                document_categories.append('ex_' + strip_tags(str(exchange)))\n",
    "        #             print \"document_categories: \",document_categories\n",
    "            # Create new document    \n",
    "        #             update_frequencies(document_categories)\n",
    "\n",
    "            document_X[document_id] = document_body\n",
    "            document_Y[document_id] = document_categories\n"
   ]
  },
  {
   "cell_type": "code",
   "execution_count": null,
   "metadata": {},
   "outputs": [],
   "source": [
    "test_total_X,test_encoded_X=create_x_matrix(document_X)\n",
    "y=nn.predict(test_encoded_X)\n",
    "print(y)\n",
    "output=[]\n",
    "for i in y:\n",
    "    dict_temp={'Topics':i[0],'Places':i[1],'Peoples':i[2],'Exchanges':i[3],'Organizations':i[4]}\n",
    "    output.append(dict_temp)   \n",
    "    \n",
    "ranked_output=[]\n",
    "for i in output:\n",
    "    t={}\n",
    "    for key, value in sorted(i.items(), key=lambda item: item[1]):\n",
    "        t[key]=value\n",
    "    rank=0\n",
    "    for k in t.keys():\n",
    "        t[k]=rank\n",
    "        rank+=1\n",
    "    ranked_output.append(t)\n",
    "\n",
    "print(ranked_output)"
   ]
  },
  {
   "cell_type": "markdown",
   "metadata": {
    "colab_type": "text",
    "id": "zlkZ6Z9CHiBl"
   },
   "source": []
  }
 ],
 "metadata": {
  "colab": {
   "collapsed_sections": [],
   "name": "readFile.ipynb",
   "provenance": [],
   "version": "0.3.2"
  },
  "kernelspec": {
   "display_name": "Python 3",
   "language": "python",
   "name": "python3"
  }
 },
 "nbformat": 4,
 "nbformat_minor": 1
}
